{
  "nbformat": 4,
  "nbformat_minor": 5,
  "metadata": {
    "kernelspec": {
      "display_name": "Python 3",
      "language": "python",
      "name": "python3"
    },
    "language_info": {
      "codemirror_mode": {
        "name": "ipython",
        "version": 3
      },
      "file_extension": ".py",
      "mimetype": "text/x-python",
      "name": "python",
      "nbconvert_exporter": "python",
      "pygments_lexer": "ipython3",
      "version": "3.7.6"
    },
    "colab": {
      "name": "one-hot-encode.ipynb",
      "provenance": [],
      "include_colab_link": true
    }
  },
  "cells": [
    {
      "cell_type": "markdown",
      "metadata": {
        "id": "view-in-github",
        "colab_type": "text"
      },
      "source": [
        "<a href=\"https://colab.research.google.com/github/JSJeong-me/JBNU-2021/blob/main/Preprocessing/one_hot_encode.ipynb\" target=\"_parent\"><img src=\"https://colab.research.google.com/assets/colab-badge.svg\" alt=\"Open In Colab\"/></a>"
      ]
    },
    {
      "cell_type": "markdown",
      "metadata": {
        "id": "bearing-likelihood"
      },
      "source": [
        "### one hot encode\n",
        "\n",
        "For example, imagine we have a “color” variable with three categories (‘red‘, ‘green‘, and ‘blue‘). In this case, three binary variables are needed. A “1” value is placed in the binary variable for the color and “0” values for the other colors.\n",
        "\n",
        "red,\tgreen,\tblue\n",
        "1,\t\t0,\t\t0\n",
        "0,\t\t1,\t\t0\n",
        "0,\t\t0,\t\t1"
      ],
      "id": "bearing-likelihood"
    },
    {
      "cell_type": "code",
      "metadata": {
        "id": "established-extension"
      },
      "source": [
        "# one hot encode the breast cancer dataset\n",
        "from pandas import read_csv\n",
        "from sklearn.preprocessing import OneHotEncoder"
      ],
      "id": "established-extension",
      "execution_count": 1,
      "outputs": []
    },
    {
      "cell_type": "code",
      "metadata": {
        "id": "acceptable-aviation"
      },
      "source": [
        "# define the location of the dataset\n",
        "url = \"https://raw.githubusercontent.com/jbrownlee/Datasets/master/breast-cancer.csv\""
      ],
      "id": "acceptable-aviation",
      "execution_count": 2,
      "outputs": []
    },
    {
      "cell_type": "code",
      "metadata": {
        "id": "under-mailman"
      },
      "source": [
        "# load the dataset\n",
        "dataset = read_csv(url, header=None)"
      ],
      "id": "under-mailman",
      "execution_count": 3,
      "outputs": []
    },
    {
      "cell_type": "code",
      "metadata": {
        "id": "durable-ranking"
      },
      "source": [
        "\n"
      ],
      "id": "durable-ranking",
      "execution_count": null,
      "outputs": []
    },
    {
      "cell_type": "code",
      "metadata": {
        "id": "increasing-reverse"
      },
      "source": [
        "# retrieve the array of data\n",
        "data = dataset.values"
      ],
      "id": "increasing-reverse",
      "execution_count": 4,
      "outputs": []
    },
    {
      "cell_type": "code",
      "metadata": {
        "colab": {
          "base_uri": "https://localhost:8080/"
        },
        "id": "hydraulic-anderson",
        "outputId": "3315123f-2d1e-47a7-827f-4247898ae3ec"
      },
      "source": [
        "data.shape"
      ],
      "id": "hydraulic-anderson",
      "execution_count": 5,
      "outputs": [
        {
          "output_type": "execute_result",
          "data": {
            "text/plain": [
              "(286, 10)"
            ]
          },
          "metadata": {
            "tags": []
          },
          "execution_count": 5
        }
      ]
    },
    {
      "cell_type": "code",
      "metadata": {
        "id": "romance-router"
      },
      "source": [
        "# separate into input and output columns\n",
        "X = data[:, :-1].astype(str)\n",
        "y = data[:, -1].astype(str)"
      ],
      "id": "romance-router",
      "execution_count": 6,
      "outputs": []
    },
    {
      "cell_type": "code",
      "metadata": {
        "colab": {
          "base_uri": "https://localhost:8080/"
        },
        "id": "piano-casting",
        "outputId": "9f850399-d85d-46ef-8f26-6c248ca382ec"
      },
      "source": [
        "# summarize the raw data\n",
        "print(X[:3, :])"
      ],
      "id": "piano-casting",
      "execution_count": 7,
      "outputs": [
        {
          "output_type": "stream",
          "text": [
            "[[\"'40-49'\" \"'premeno'\" \"'15-19'\" \"'0-2'\" \"'yes'\" \"'3'\" \"'right'\"\n",
            "  \"'left_up'\" \"'no'\"]\n",
            " [\"'50-59'\" \"'ge40'\" \"'15-19'\" \"'0-2'\" \"'no'\" \"'1'\" \"'right'\" \"'central'\"\n",
            "  \"'no'\"]\n",
            " [\"'50-59'\" \"'ge40'\" \"'35-39'\" \"'0-2'\" \"'no'\" \"'2'\" \"'left'\" \"'left_low'\"\n",
            "  \"'no'\"]]\n"
          ],
          "name": "stdout"
        }
      ]
    },
    {
      "cell_type": "code",
      "metadata": {
        "colab": {
          "base_uri": "https://localhost:8080/"
        },
        "id": "regional-crowd",
        "outputId": "03b51884-45bf-4845-a733-c22b69c10fdc"
      },
      "source": [
        "X.shape"
      ],
      "id": "regional-crowd",
      "execution_count": 8,
      "outputs": [
        {
          "output_type": "execute_result",
          "data": {
            "text/plain": [
              "(286, 9)"
            ]
          },
          "metadata": {
            "tags": []
          },
          "execution_count": 8
        }
      ]
    },
    {
      "cell_type": "code",
      "metadata": {
        "id": "olive-modem"
      },
      "source": [
        ""
      ],
      "id": "olive-modem",
      "execution_count": null,
      "outputs": []
    },
    {
      "cell_type": "code",
      "metadata": {
        "id": "brazilian-street"
      },
      "source": [
        "# define the one hot encoding transform\n",
        "encoder = OneHotEncoder(sparse=False)"
      ],
      "id": "brazilian-street",
      "execution_count": 9,
      "outputs": []
    },
    {
      "cell_type": "code",
      "metadata": {
        "id": "pharmaceutical-filing",
        "outputId": "f8dde59d-a0ac-4017-a8fa-560109296245"
      },
      "source": [
        "encoder"
      ],
      "id": "pharmaceutical-filing",
      "execution_count": null,
      "outputs": [
        {
          "output_type": "execute_result",
          "data": {
            "text/plain": [
              "OneHotEncoder(sparse=False)"
            ]
          },
          "metadata": {
            "tags": []
          },
          "execution_count": 10
        }
      ]
    },
    {
      "cell_type": "code",
      "metadata": {
        "id": "moderate-vienna"
      },
      "source": [
        "# fit and apply the transform to the input data\n",
        "X_oe = encoder.fit_transform(X)"
      ],
      "id": "moderate-vienna",
      "execution_count": 10,
      "outputs": []
    },
    {
      "cell_type": "code",
      "metadata": {
        "colab": {
          "base_uri": "https://localhost:8080/"
        },
        "id": "recent-victory",
        "outputId": "50afa520-744e-45c2-a769-a56b0e74789d"
      },
      "source": [
        "X_oe.shape"
      ],
      "id": "recent-victory",
      "execution_count": 11,
      "outputs": [
        {
          "output_type": "execute_result",
          "data": {
            "text/plain": [
              "(286, 43)"
            ]
          },
          "metadata": {
            "tags": []
          },
          "execution_count": 11
        }
      ]
    },
    {
      "cell_type": "code",
      "metadata": {
        "id": "adolescent-yukon",
        "outputId": "f877bfea-95ee-4290-d94d-cf49afe3f060"
      },
      "source": [
        "# summarize tratransformed data\n",
        "print(X_oe[:3, :])"
      ],
      "id": "adolescent-yukon",
      "execution_count": null,
      "outputs": [
        {
          "output_type": "stream",
          "text": [
            "[[0. 0. 1. 0. 0. 0. 0. 0. 1. 0. 0. 1. 0. 0. 0. 0. 0. 0. 0. 0. 1. 0. 0. 0.\n",
            "  0. 0. 0. 0. 1. 0. 0. 0. 1. 0. 1. 0. 0. 1. 0. 0. 0. 1. 0.]\n",
            " [0. 0. 0. 1. 0. 0. 1. 0. 0. 0. 0. 1. 0. 0. 0. 0. 0. 0. 0. 0. 1. 0. 0. 0.\n",
            "  0. 0. 0. 1. 0. 0. 1. 0. 0. 0. 1. 1. 0. 0. 0. 0. 0. 1. 0.]\n",
            " [0. 0. 0. 1. 0. 0. 1. 0. 0. 0. 0. 0. 0. 0. 0. 1. 0. 0. 0. 0. 1. 0. 0. 0.\n",
            "  0. 0. 0. 1. 0. 0. 0. 1. 0. 1. 0. 0. 1. 0. 0. 0. 0. 1. 0.]]\n"
          ],
          "name": "stdout"
        }
      ]
    },
    {
      "cell_type": "code",
      "metadata": {
        "id": "latter-manner"
      },
      "source": [
        ""
      ],
      "id": "latter-manner",
      "execution_count": null,
      "outputs": []
    },
    {
      "cell_type": "code",
      "metadata": {
        "id": "complicated-explosion"
      },
      "source": [
        "encoder = OneHotEncoder() # OneHotEncoder(sparse=True)"
      ],
      "id": "complicated-explosion",
      "execution_count": null,
      "outputs": []
    },
    {
      "cell_type": "code",
      "metadata": {
        "id": "difficult-madison"
      },
      "source": [
        "# fit and apply the transform to the input data\n",
        "X_oe = encoder.fit_transform(X)"
      ],
      "id": "difficult-madison",
      "execution_count": null,
      "outputs": []
    },
    {
      "cell_type": "code",
      "metadata": {
        "id": "blocked-pontiac",
        "outputId": "fbe8cad4-2f37-459f-d1fd-6935a7d817c7"
      },
      "source": [
        "X_oe.shape"
      ],
      "id": "blocked-pontiac",
      "execution_count": null,
      "outputs": [
        {
          "output_type": "execute_result",
          "data": {
            "text/plain": [
              "(286, 43)"
            ]
          },
          "metadata": {
            "tags": []
          },
          "execution_count": 20
        }
      ]
    },
    {
      "cell_type": "code",
      "metadata": {
        "colab": {
          "base_uri": "https://localhost:8080/"
        },
        "id": "limiting-picture",
        "outputId": "940fc9c5-ca56-45ab-ed8e-d3a64d1bf031"
      },
      "source": [
        "# summarize tratransformed data\n",
        "print(X_oe[:1, :])"
      ],
      "id": "limiting-picture",
      "execution_count": 14,
      "outputs": [
        {
          "output_type": "stream",
          "text": [
            "[[0. 0. 1. 0. 0. 0. 0. 0. 1. 0. 0. 1. 0. 0. 0. 0. 0. 0. 0. 0. 1. 0. 0. 0.\n",
            "  0. 0. 0. 0. 1. 0. 0. 0. 1. 0. 1. 0. 0. 1. 0. 0. 0. 1. 0.]]\n"
          ],
          "name": "stdout"
        }
      ]
    },
    {
      "cell_type": "code",
      "metadata": {
        "id": "sufficient-treasury"
      },
      "source": [
        "# Label encoding"
      ],
      "id": "sufficient-treasury",
      "execution_count": null,
      "outputs": []
    },
    {
      "cell_type": "code",
      "metadata": {
        "id": "fleet-storage"
      },
      "source": [
        "import pandas as pd"
      ],
      "id": "fleet-storage",
      "execution_count": null,
      "outputs": []
    },
    {
      "cell_type": "code",
      "metadata": {
        "id": "suitable-progress",
        "outputId": "09115f5f-d4db-45f8-d04a-e6d9412d9086"
      },
      "source": [
        "fruit = pd.DataFrame({'name':['apple', 'banana', 'cherry', 'durian'],\n",
        "                      'color':['red', 'yellow', 'red', 'green']})   \n",
        "fruit"
      ],
      "id": "suitable-progress",
      "execution_count": null,
      "outputs": [
        {
          "output_type": "execute_result",
          "data": {
            "text/html": [
              "<div>\n",
              "<style scoped>\n",
              "    .dataframe tbody tr th:only-of-type {\n",
              "        vertical-align: middle;\n",
              "    }\n",
              "\n",
              "    .dataframe tbody tr th {\n",
              "        vertical-align: top;\n",
              "    }\n",
              "\n",
              "    .dataframe thead th {\n",
              "        text-align: right;\n",
              "    }\n",
              "</style>\n",
              "<table border=\"1\" class=\"dataframe\">\n",
              "  <thead>\n",
              "    <tr style=\"text-align: right;\">\n",
              "      <th></th>\n",
              "      <th>name</th>\n",
              "      <th>color</th>\n",
              "    </tr>\n",
              "  </thead>\n",
              "  <tbody>\n",
              "    <tr>\n",
              "      <th>0</th>\n",
              "      <td>apple</td>\n",
              "      <td>red</td>\n",
              "    </tr>\n",
              "    <tr>\n",
              "      <th>1</th>\n",
              "      <td>banana</td>\n",
              "      <td>yellow</td>\n",
              "    </tr>\n",
              "    <tr>\n",
              "      <th>2</th>\n",
              "      <td>cherry</td>\n",
              "      <td>red</td>\n",
              "    </tr>\n",
              "    <tr>\n",
              "      <th>3</th>\n",
              "      <td>durian</td>\n",
              "      <td>green</td>\n",
              "    </tr>\n",
              "  </tbody>\n",
              "</table>\n",
              "</div>"
            ],
            "text/plain": [
              "     name   color\n",
              "0   apple     red\n",
              "1  banana  yellow\n",
              "2  cherry     red\n",
              "3  durian   green"
            ]
          },
          "metadata": {
            "tags": []
          },
          "execution_count": 25
        }
      ]
    },
    {
      "cell_type": "code",
      "metadata": {
        "id": "studied-ribbon",
        "outputId": "1acb176b-2e62-4407-8038-6dd07dc363cc"
      },
      "source": [
        "from sklearn.preprocessing import LabelEncoder\n",
        "\n",
        "le = LabelEncoder()\n",
        "le.fit(fruit['name'])\n",
        "fruit['name'] = le.transform(fruit['name'])\n",
        "fruit"
      ],
      "id": "studied-ribbon",
      "execution_count": null,
      "outputs": [
        {
          "output_type": "execute_result",
          "data": {
            "text/html": [
              "<div>\n",
              "<style scoped>\n",
              "    .dataframe tbody tr th:only-of-type {\n",
              "        vertical-align: middle;\n",
              "    }\n",
              "\n",
              "    .dataframe tbody tr th {\n",
              "        vertical-align: top;\n",
              "    }\n",
              "\n",
              "    .dataframe thead th {\n",
              "        text-align: right;\n",
              "    }\n",
              "</style>\n",
              "<table border=\"1\" class=\"dataframe\">\n",
              "  <thead>\n",
              "    <tr style=\"text-align: right;\">\n",
              "      <th></th>\n",
              "      <th>name</th>\n",
              "      <th>color</th>\n",
              "    </tr>\n",
              "  </thead>\n",
              "  <tbody>\n",
              "    <tr>\n",
              "      <th>0</th>\n",
              "      <td>0</td>\n",
              "      <td>red</td>\n",
              "    </tr>\n",
              "    <tr>\n",
              "      <th>1</th>\n",
              "      <td>1</td>\n",
              "      <td>yellow</td>\n",
              "    </tr>\n",
              "    <tr>\n",
              "      <th>2</th>\n",
              "      <td>2</td>\n",
              "      <td>red</td>\n",
              "    </tr>\n",
              "    <tr>\n",
              "      <th>3</th>\n",
              "      <td>3</td>\n",
              "      <td>green</td>\n",
              "    </tr>\n",
              "  </tbody>\n",
              "</table>\n",
              "</div>"
            ],
            "text/plain": [
              "   name   color\n",
              "0     0     red\n",
              "1     1  yellow\n",
              "2     2     red\n",
              "3     3   green"
            ]
          },
          "metadata": {
            "tags": []
          },
          "execution_count": 26
        }
      ]
    },
    {
      "cell_type": "code",
      "metadata": {
        "id": "completed-murder"
      },
      "source": [
        ""
      ],
      "id": "completed-murder",
      "execution_count": null,
      "outputs": []
    }
  ]
}