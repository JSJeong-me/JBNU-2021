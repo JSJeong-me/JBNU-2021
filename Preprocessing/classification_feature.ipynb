{
  "nbformat": 4,
  "nbformat_minor": 5,
  "metadata": {
    "kernelspec": {
      "display_name": "Python 3",
      "language": "python",
      "name": "python3"
    },
    "language_info": {
      "codemirror_mode": {
        "name": "ipython",
        "version": 3
      },
      "file_extension": ".py",
      "mimetype": "text/x-python",
      "name": "python",
      "nbconvert_exporter": "python",
      "pygments_lexer": "ipython3",
      "version": "3.7.6"
    },
    "colab": {
      "name": "classification_feature.ipynb",
      "provenance": [],
      "include_colab_link": true
    }
  },
  "cells": [
    {
      "cell_type": "markdown",
      "metadata": {
        "id": "view-in-github",
        "colab_type": "text"
      },
      "source": [
        "<a href=\"https://colab.research.google.com/github/JSJeong-me/JBNU-2021/blob/main/Preprocessing/classification_feature.ipynb\" target=\"_parent\"><img src=\"https://colab.research.google.com/assets/colab-badge.svg\" alt=\"Open In Colab\"/></a>"
      ]
    },
    {
      "cell_type": "markdown",
      "metadata": {
        "id": "basic-nature"
      },
      "source": [
        "### Classification Feature Selection:\n",
        "(Numerical Input, Categorical Output)"
      ],
      "id": "basic-nature"
    },
    {
      "cell_type": "markdown",
      "metadata": {
        "id": "recorded-gregory"
      },
      "source": [
        "Feature selection is performed using ANOVA F measure via the f_classif() function."
      ],
      "id": "recorded-gregory"
    },
    {
      "cell_type": "code",
      "metadata": {
        "id": "chemical-minute"
      },
      "source": [
        "#@title 기본 제목 텍스트\n",
        "# ANOVA feature selection for numeric input and categorical output\n",
        "from sklearn.datasets import make_classification\n",
        "from sklearn.feature_selection import SelectKBest\n",
        "from sklearn.feature_selection import f_classif\n"
      ],
      "id": "chemical-minute",
      "execution_count": 1,
      "outputs": []
    },
    {
      "cell_type": "code",
      "metadata": {
        "colab": {
          "base_uri": "https://localhost:8080/"
        },
        "id": "t_z26i8-YQ4N",
        "outputId": "ddb07e6b-6b4c-47da-dc1e-ed566aaaf4c9"
      },
      "source": [
        "# generate dataset\n",
        "X, y = make_classification(n_samples=100, n_features=20, n_informative=2)\n",
        "# define feature selection\n",
        "fs = SelectKBest(score_func=f_classif, k=2)\n",
        "# apply feature selection\n",
        "X_selected = fs.fit_transform(X, y)\n",
        "print(X_selected.shape)"
      ],
      "id": "t_z26i8-YQ4N",
      "execution_count": 2,
      "outputs": [
        {
          "output_type": "stream",
          "text": [
            "(100, 2)\n"
          ],
          "name": "stdout"
        }
      ]
    },
    {
      "cell_type": "code",
      "metadata": {
        "id": "angry-angola"
      },
      "source": [
        ""
      ],
      "id": "angry-angola",
      "execution_count": null,
      "outputs": []
    }
  ]
}