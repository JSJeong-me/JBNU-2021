{
  "nbformat": 4,
  "nbformat_minor": 5,
  "metadata": {
    "kernelspec": {
      "display_name": "Python 3",
      "language": "python",
      "name": "python3"
    },
    "language_info": {
      "codemirror_mode": {
        "name": "ipython",
        "version": 3
      },
      "file_extension": ".py",
      "mimetype": "text/x-python",
      "name": "python",
      "nbconvert_exporter": "python",
      "pygments_lexer": "ipython3",
      "version": "3.7.6"
    },
    "colab": {
      "name": "minmax.ipynb",
      "provenance": [],
      "include_colab_link": true
    }
  },
  "cells": [
    {
      "cell_type": "markdown",
      "metadata": {
        "id": "view-in-github",
        "colab_type": "text"
      },
      "source": [
        "<a href=\"https://colab.research.google.com/github/JSJeong-me/JBNU-2021/blob/main/Preprocessing/minmax.ipynb\" target=\"_parent\"><img src=\"https://colab.research.google.com/assets/colab-badge.svg\" alt=\"Open In Colab\"/></a>"
      ]
    },
    {
      "cell_type": "markdown",
      "metadata": {
        "id": "offshore-ethics"
      },
      "source": [
        "### MinMaxScaler\n",
        "\n",
        "모든 feature 값이 0~1사이에 있도록 데이터를 재조정한다. 다만 이상치가 있는 경우 변환된 값이 매우 좁은 범위로 압축될 수 있다.\n",
        "\n",
        "즉, MinMaxScaler 역시 아웃라이어의 존재에 매우 민감하다."
      ],
      "id": "offshore-ethics"
    },
    {
      "cell_type": "markdown",
      "metadata": {
        "id": "annoying-unknown"
      },
      "source": [
        "### StandardScaler\n",
        "\n",
        "평균을 제거하고 데이터를 단위 분산으로 조정한다. 그러나 이상치가 있다면 평균과 표준편차에 영향을 미쳐 변환된 데이터의 확산은 매우 달라지게 된다.\n",
        "\n",
        "따라서 이상치가 있는 경우 균형 잡힌 척도를 보장할 수 없다."
      ],
      "id": "annoying-unknown"
    },
    {
      "cell_type": "markdown",
      "metadata": {
        "id": "faymLv4dP8u7"
      },
      "source": [
        "### https://scikit-learn.org/stable/modules/generated/sklearn.preprocessing.StandardScaler.html"
      ],
      "id": "faymLv4dP8u7"
    },
    {
      "cell_type": "code",
      "metadata": {
        "id": "integrated-marketing"
      },
      "source": [
        "# example of normalizing input data\n",
        "from sklearn.datasets import make_classification\n",
        "from sklearn.preprocessing import MinMaxScaler"
      ],
      "id": "integrated-marketing",
      "execution_count": 1,
      "outputs": []
    },
    {
      "cell_type": "code",
      "metadata": {
        "id": "logical-there"
      },
      "source": [
        "# define dataset\n",
        "X, y = make_classification(n_samples=1000, n_features=5, n_informative=5, n_redundant=0,\n",
        "random_state=1)"
      ],
      "id": "logical-there",
      "execution_count": 2,
      "outputs": []
    },
    {
      "cell_type": "code",
      "metadata": {
        "colab": {
          "base_uri": "https://localhost:8080/"
        },
        "id": "super-wealth",
        "outputId": "d0a168ff-4a1e-4aa0-8d93-0719e397ee43"
      },
      "source": [
        "X.shape"
      ],
      "id": "super-wealth",
      "execution_count": 3,
      "outputs": [
        {
          "output_type": "execute_result",
          "data": {
            "text/plain": [
              "(1000, 5)"
            ]
          },
          "metadata": {
            "tags": []
          },
          "execution_count": 3
        }
      ]
    },
    {
      "cell_type": "code",
      "metadata": {
        "colab": {
          "base_uri": "https://localhost:8080/"
        },
        "id": "right-defense",
        "outputId": "a2448ab0-ea56-46a7-f828-ad02be58960c"
      },
      "source": [
        "# summarize data before the transform\n",
        "print(X[:3, :])"
      ],
      "id": "right-defense",
      "execution_count": 4,
      "outputs": [
        {
          "output_type": "stream",
          "text": [
            "[[ 2.39324489 -5.77732048 -0.59062319 -2.08095322  1.04707034]\n",
            " [-0.45820294  1.94683482 -2.46471441  2.36590955 -0.73666725]\n",
            " [ 2.35162422 -1.00061698 -0.5946091   1.12531096 -0.65267587]]\n"
          ],
          "name": "stdout"
        }
      ]
    },
    {
      "cell_type": "code",
      "metadata": {
        "id": "suitable-camcorder"
      },
      "source": [
        "# define the scaler\n",
        "trans = MinMaxScaler()\n"
      ],
      "id": "suitable-camcorder",
      "execution_count": 5,
      "outputs": []
    },
    {
      "cell_type": "code",
      "metadata": {
        "id": "2a96GIcMLU2A"
      },
      "source": [
        "# transform the data\n",
        "X_norm = trans.fit_transform(X)\n",
        "\n"
      ],
      "id": "2a96GIcMLU2A",
      "execution_count": 6,
      "outputs": []
    },
    {
      "cell_type": "code",
      "metadata": {
        "colab": {
          "base_uri": "https://localhost:8080/"
        },
        "id": "funky-replacement",
        "outputId": "3c7f5564-dadd-4dea-8d83-bb31066283ca"
      },
      "source": [
        "# summarize data after the transform\n",
        "print(X_norm[:3, :])"
      ],
      "id": "funky-replacement",
      "execution_count": 7,
      "outputs": [
        {
          "output_type": "stream",
          "text": [
            "[[0.77608466 0.0239289  0.48251588 0.18352101 0.59830036]\n",
            " [0.40400165 0.79590304 0.27369632 0.6331332  0.42104156]\n",
            " [0.77065362 0.50132629 0.48207176 0.5076991  0.4293882 ]]\n"
          ],
          "name": "stdout"
        }
      ]
    },
    {
      "cell_type": "code",
      "metadata": {
        "id": "F94G-UXdLaxz"
      },
      "source": [
        "import pandas as pd"
      ],
      "id": "F94G-UXdLaxz",
      "execution_count": 8,
      "outputs": []
    },
    {
      "cell_type": "code",
      "metadata": {
        "id": "Hp13GhEkLg8v"
      },
      "source": [
        "df_X_norm = pd.DataFrame(X_norm)"
      ],
      "id": "Hp13GhEkLg8v",
      "execution_count": 9,
      "outputs": []
    },
    {
      "cell_type": "code",
      "metadata": {
        "id": "qVzB_fLpLtQG"
      },
      "source": [
        "df_X_norm.describe()"
      ],
      "id": "qVzB_fLpLtQG",
      "execution_count": null,
      "outputs": []
    },
    {
      "cell_type": "code",
      "metadata": {
        "id": "WfMfmZzEL1nE"
      },
      "source": [
        "from sklearn.preprocessing import StandardScaler"
      ],
      "id": "WfMfmZzEL1nE",
      "execution_count": 11,
      "outputs": []
    },
    {
      "cell_type": "code",
      "metadata": {
        "id": "OR6MXODEMN0B"
      },
      "source": [
        "data = [[0, 0], [0, 0], [1, 1], [1, 1]]\n"
      ],
      "id": "OR6MXODEMN0B",
      "execution_count": 12,
      "outputs": []
    },
    {
      "cell_type": "code",
      "metadata": {
        "id": "4wWW2xScMQ5t"
      },
      "source": [
        "scaler = StandardScaler(with_mean=True, with_std=True)\n",
        "print(scaler.fit(data))"
      ],
      "id": "4wWW2xScMQ5t",
      "execution_count": null,
      "outputs": []
    },
    {
      "cell_type": "code",
      "metadata": {
        "id": "u7dbUlAfNayY"
      },
      "source": [
        "scaler.scale_"
      ],
      "id": "u7dbUlAfNayY",
      "execution_count": null,
      "outputs": []
    },
    {
      "cell_type": "code",
      "metadata": {
        "id": "ncW3gJT7MUYn"
      },
      "source": [
        "print(scaler.mean_)"
      ],
      "id": "ncW3gJT7MUYn",
      "execution_count": null,
      "outputs": []
    },
    {
      "cell_type": "code",
      "metadata": {
        "id": "PjoTDIcqMcEm"
      },
      "source": [
        "print(scaler.transform(data))\n",
        "\n",
        "print(scaler.transform([[2, 2]]))"
      ],
      "id": "PjoTDIcqMcEm",
      "execution_count": null,
      "outputs": []
    },
    {
      "cell_type": "code",
      "metadata": {
        "id": "EiwnwGuPM0kI"
      },
      "source": [
        "scaler.scale_"
      ],
      "id": "EiwnwGuPM0kI",
      "execution_count": null,
      "outputs": []
    },
    {
      "cell_type": "code",
      "metadata": {
        "id": "B1e_MSEmOHxJ"
      },
      "source": [
        "data_standardization = scaler.transform(data)"
      ],
      "id": "B1e_MSEmOHxJ",
      "execution_count": 27,
      "outputs": []
    },
    {
      "cell_type": "code",
      "metadata": {
        "id": "f4uSzyOnOSSt"
      },
      "source": [
        "df_data_std = pd.DataFrame(data_standardization)"
      ],
      "id": "f4uSzyOnOSSt",
      "execution_count": 29,
      "outputs": []
    },
    {
      "cell_type": "code",
      "metadata": {
        "id": "L6xOTUM2OeLN"
      },
      "source": [
        "df_data_std.describe()"
      ],
      "id": "L6xOTUM2OeLN",
      "execution_count": null,
      "outputs": []
    },
    {
      "cell_type": "code",
      "metadata": {
        "id": "m9TdmafZO8wj"
      },
      "source": [
        ""
      ],
      "id": "m9TdmafZO8wj",
      "execution_count": null,
      "outputs": []
    },
    {
      "cell_type": "code",
      "metadata": {
        "id": "iasbl9zvO9VS"
      },
      "source": [
        "sc = StandardScaler()"
      ],
      "id": "iasbl9zvO9VS",
      "execution_count": 31,
      "outputs": []
    },
    {
      "cell_type": "code",
      "metadata": {
        "id": "l5dLhhLmPF5Z"
      },
      "source": [
        "sc_data = sc.fit_transform(data)"
      ],
      "id": "l5dLhhLmPF5Z",
      "execution_count": 32,
      "outputs": []
    },
    {
      "cell_type": "code",
      "metadata": {
        "colab": {
          "base_uri": "https://localhost:8080/"
        },
        "id": "XDZVLK-9PMzn",
        "outputId": "3cedabb6-4818-4800-bc07-6183e6561bc0"
      },
      "source": [
        "sc_data.mean()"
      ],
      "id": "XDZVLK-9PMzn",
      "execution_count": 33,
      "outputs": [
        {
          "output_type": "execute_result",
          "data": {
            "text/plain": [
              "0.0"
            ]
          },
          "metadata": {
            "tags": []
          },
          "execution_count": 33
        }
      ]
    },
    {
      "cell_type": "code",
      "metadata": {
        "colab": {
          "base_uri": "https://localhost:8080/"
        },
        "id": "r8h5LOfHPPwG",
        "outputId": "fe9c887e-9d6e-4a4e-9933-f8fc536ae697"
      },
      "source": [
        "sc_data.std()"
      ],
      "id": "r8h5LOfHPPwG",
      "execution_count": 34,
      "outputs": [
        {
          "output_type": "execute_result",
          "data": {
            "text/plain": [
              "1.0"
            ]
          },
          "metadata": {
            "tags": []
          },
          "execution_count": 34
        }
      ]
    }
  ]
}