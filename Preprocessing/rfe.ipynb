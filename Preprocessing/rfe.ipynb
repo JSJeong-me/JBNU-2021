{
  "nbformat": 4,
  "nbformat_minor": 5,
  "metadata": {
    "kernelspec": {
      "display_name": "Python 3",
      "language": "python",
      "name": "python3"
    },
    "language_info": {
      "codemirror_mode": {
        "name": "ipython",
        "version": 3
      },
      "file_extension": ".py",
      "mimetype": "text/x-python",
      "name": "python",
      "nbconvert_exporter": "python",
      "pygments_lexer": "ipython3",
      "version": "3.7.6"
    },
    "colab": {
      "name": "rfe.ipynb",
      "provenance": [],
      "include_colab_link": true
    }
  },
  "cells": [
    {
      "cell_type": "markdown",
      "metadata": {
        "id": "view-in-github",
        "colab_type": "text"
      },
      "source": [
        "<a href=\"https://colab.research.google.com/github/JSJeong-me/JBNU-2021/blob/main/Preprocessing/rfe.ipynb\" target=\"_parent\"><img src=\"https://colab.research.google.com/assets/colab-badge.svg\" alt=\"Open In Colab\"/></a>"
      ]
    },
    {
      "cell_type": "markdown",
      "metadata": {
        "id": "awful-boutique"
      },
      "source": [
        "### Recursive Feature Elimination"
      ],
      "id": "awful-boutique"
    },
    {
      "cell_type": "code",
      "metadata": {
        "id": "detailed-fifteen"
      },
      "source": [
        "# report which features were selected by RFE\n",
        "\n",
        "from sklearn.datasets import make_classification\n",
        "from sklearn.feature_selection import RFE\n",
        "from sklearn.tree import DecisionTreeClassifier"
      ],
      "id": "detailed-fifteen",
      "execution_count": 1,
      "outputs": []
    },
    {
      "cell_type": "code",
      "metadata": {
        "id": "running-fight"
      },
      "source": [
        "# define dataset\n",
        "X, y = make_classification(n_samples=1000, n_features=10, n_informative=5, n_redundant=5,\n",
        "random_state=1)"
      ],
      "id": "running-fight",
      "execution_count": 2,
      "outputs": []
    },
    {
      "cell_type": "code",
      "metadata": {
        "colab": {
          "base_uri": "https://localhost:8080/"
        },
        "id": "quality-modern",
        "outputId": "a38eb472-53fc-4c2d-a19b-abb97b5eb4c5"
      },
      "source": [
        "X.shape"
      ],
      "id": "quality-modern",
      "execution_count": 3,
      "outputs": [
        {
          "output_type": "execute_result",
          "data": {
            "text/plain": [
              "(1000, 10)"
            ]
          },
          "metadata": {
            "tags": []
          },
          "execution_count": 3
        }
      ]
    },
    {
      "cell_type": "code",
      "metadata": {
        "colab": {
          "base_uri": "https://localhost:8080/"
        },
        "id": "coordinate-demographic",
        "outputId": "04f4c932-7acc-450b-87e6-3494967c275d"
      },
      "source": [
        "y.shape"
      ],
      "id": "coordinate-demographic",
      "execution_count": 4,
      "outputs": [
        {
          "output_type": "execute_result",
          "data": {
            "text/plain": [
              "(1000,)"
            ]
          },
          "metadata": {
            "tags": []
          },
          "execution_count": 4
        }
      ]
    },
    {
      "cell_type": "code",
      "metadata": {
        "colab": {
          "base_uri": "https://localhost:8080/"
        },
        "id": "liked-grocery",
        "outputId": "130a0971-fa0e-492b-9876-1190ab3cc4c6"
      },
      "source": [
        "# define RFE\n",
        "rfe = RFE(estimator=DecisionTreeClassifier(), n_features_to_select=5)\n",
        "\n",
        "# fit RFE\n",
        "rfe.fit(X, y)"
      ],
      "id": "liked-grocery",
      "execution_count": 5,
      "outputs": [
        {
          "output_type": "execute_result",
          "data": {
            "text/plain": [
              "RFE(estimator=DecisionTreeClassifier(ccp_alpha=0.0, class_weight=None,\n",
              "                                     criterion='gini', max_depth=None,\n",
              "                                     max_features=None, max_leaf_nodes=None,\n",
              "                                     min_impurity_decrease=0.0,\n",
              "                                     min_impurity_split=None,\n",
              "                                     min_samples_leaf=1, min_samples_split=2,\n",
              "                                     min_weight_fraction_leaf=0.0,\n",
              "                                     presort='deprecated', random_state=None,\n",
              "                                     splitter='best'),\n",
              "    n_features_to_select=5, step=1, verbose=0)"
            ]
          },
          "metadata": {
            "tags": []
          },
          "execution_count": 5
        }
      ]
    },
    {
      "cell_type": "code",
      "metadata": {
        "colab": {
          "base_uri": "https://localhost:8080/"
        },
        "id": "radio-summit",
        "outputId": "4ec69625-c01b-49f8-fc7c-d3345ee1cbd1"
      },
      "source": [
        "X.shape"
      ],
      "id": "radio-summit",
      "execution_count": 6,
      "outputs": [
        {
          "output_type": "execute_result",
          "data": {
            "text/plain": [
              "(1000, 10)"
            ]
          },
          "metadata": {
            "tags": []
          },
          "execution_count": 6
        }
      ]
    },
    {
      "cell_type": "code",
      "metadata": {
        "colab": {
          "base_uri": "https://localhost:8080/"
        },
        "id": "union-equilibrium",
        "outputId": "0de2d21e-f591-4a48-df02-9acf76c4ba89"
      },
      "source": [
        "# summarize all features\n",
        "for i in range(X.shape[1]):\n",
        "  print('Column: %d, Selected=%s, Rank: %d' % (i, rfe.support_[i], rfe.ranking_[i]))"
      ],
      "id": "union-equilibrium",
      "execution_count": 7,
      "outputs": [
        {
          "output_type": "stream",
          "text": [
            "Column: 0, Selected=False, Rank: 4\n",
            "Column: 1, Selected=False, Rank: 6\n",
            "Column: 2, Selected=True, Rank: 1\n",
            "Column: 3, Selected=True, Rank: 1\n",
            "Column: 4, Selected=True, Rank: 1\n",
            "Column: 5, Selected=False, Rank: 5\n",
            "Column: 6, Selected=True, Rank: 1\n",
            "Column: 7, Selected=False, Rank: 2\n",
            "Column: 8, Selected=True, Rank: 1\n",
            "Column: 9, Selected=False, Rank: 3\n"
          ],
          "name": "stdout"
        }
      ]
    },
    {
      "cell_type": "code",
      "metadata": {
        "id": "pursuant-eugene"
      },
      "source": [
        ""
      ],
      "id": "pursuant-eugene",
      "execution_count": null,
      "outputs": []
    }
  ]
}