{
  "nbformat": 4,
  "nbformat_minor": 5,
  "metadata": {
    "kernelspec": {
      "display_name": "Python 3",
      "language": "python",
      "name": "python3"
    },
    "language_info": {
      "codemirror_mode": {
        "name": "ipython",
        "version": 3
      },
      "file_extension": ".py",
      "mimetype": "text/x-python",
      "name": "python",
      "nbconvert_exporter": "python",
      "pygments_lexer": "ipython3",
      "version": "3.7.6"
    },
    "colab": {
      "name": "chi-square.ipynb",
      "provenance": [],
      "include_colab_link": true
    }
  },
  "cells": [
    {
      "cell_type": "markdown",
      "metadata": {
        "id": "view-in-github",
        "colab_type": "text"
      },
      "source": [
        "<a href=\"https://colab.research.google.com/github/JSJeong-me/JBNU-2021/blob/main/Preprocessing/chi_square.ipynb\" target=\"_parent\"><img src=\"https://colab.research.google.com/assets/colab-badge.svg\" alt=\"Open In Colab\"/></a>"
      ]
    },
    {
      "cell_type": "markdown",
      "metadata": {
        "id": "proprietary-childhood"
      },
      "source": [
        "### the Chi-Squared Test for Machine Learning\n",
        "\n",
        "A common problem in applied machine learning is determining whether input features are relevant to the outcome to be predicted.\n",
        "\n",
        "This is the problem of feature selection.\n",
        "\n",
        "### The chi-squared test can compare an observed contingency table to an expected table and determine if the categorical variables are independent.\n",
        "\n",
        "https://machinelearningmastery.com/chi-squared-test-for-machine-learning/"
      ],
      "id": "proprietary-childhood"
    },
    {
      "cell_type": "markdown",
      "metadata": {
        "id": "clean-wyoming"
      },
      "source": [
        "### Contingency Table\n",
        "A categorical variable is a variable that may take on one of a set of labels.\n",
        "\n",
        "## Does an interest in math or science depend on gender, or are they independent?\n",
        "\n",
        "### Sex,\tInterest\n",
        "Male,\tArt\n",
        "Female,\tMath\n",
        "Male, \tScience\n",
        "Male,\tMath\n",
        "..."
      ],
      "id": "clean-wyoming"
    },
    {
      "cell_type": "markdown",
      "metadata": {
        "id": "minimal-azerbaijan"
      },
      "source": [
        "        Science,\tMath,\tArt\n",
        "Male         20,      30,    15\n",
        "Female       20,      15,    30"
      ],
      "id": "minimal-azerbaijan"
    },
    {
      "cell_type": "markdown",
      "metadata": {
        "id": "hearing-struggle"
      },
      "source": [
        "위의 성별 / 관심 사례가 주어지면 범주 (남성 및 여성)에 대한 관측치 수가 같을 수도 있고 같지 않을 수도 있습니다. \n",
        "그럼에도 불구하고 우리는 각 관심 그룹에서 예상되는 관측 빈도를 계산하고 성별에 따른 관심의 분할이 비슷한 빈도 또는 다른 빈도를 초래하는지 확인할 수 있습니다."
      ],
      "id": "hearing-struggle"
    },
    {
      "cell_type": "markdown",
      "metadata": {
        "id": "published-invalid"
      },
      "source": [
        "If Statistic >= Critical Value: significant result, reject null hypothesis (H0), dependent.\n",
        "If Statistic < Critical Value: not significant result, fail to reject null hypothesis (H0), independent."
      ],
      "id": "published-invalid"
    },
    {
      "cell_type": "markdown",
      "metadata": {
        "id": "voluntary-stylus"
      },
      "source": [
        "The degrees of freedom for the chi-squared distribution is calculated based on the size of the contingency table as:\n",
        "### degrees of freedom: (rows - 1) * (cols - 1)"
      ],
      "id": "voluntary-stylus"
    },
    {
      "cell_type": "markdown",
      "metadata": {
        "id": "changed-boards"
      },
      "source": [
        "In terms of a p-value and a chosen significance level (alpha), the test can be interpreted as follows:\n",
        "\n",
        "If p-value <= alpha: significant result, reject null hypothesis (H0), dependent.\n",
        "If p-value > alpha: not significant result, fail to reject null hypothesis (H0), independent."
      ],
      "id": "changed-boards"
    },
    {
      "cell_type": "code",
      "metadata": {
        "id": "approximate-brake"
      },
      "source": [
        "# chi-squared test with similar proportions\n",
        "from scipy.stats import chi2_contingency\n",
        "from scipy.stats import chi2"
      ],
      "id": "approximate-brake",
      "execution_count": 1,
      "outputs": []
    },
    {
      "cell_type": "code",
      "metadata": {
        "id": "UrgdgZPs9pb3"
      },
      "source": [
        "# CASE 1"
      ],
      "id": "UrgdgZPs9pb3",
      "execution_count": null,
      "outputs": []
    },
    {
      "cell_type": "code",
      "metadata": {
        "colab": {
          "base_uri": "https://localhost:8080/"
        },
        "id": "associate-tumor",
        "outputId": "7ab69ad7-f129-492d-e8da-6853041ce134"
      },
      "source": [
        "# contingency table\n",
        "table = [\t[10, 20, 30],\n",
        "\t\t\t[6,  9,  17]]\n",
        "print(table)"
      ],
      "id": "associate-tumor",
      "execution_count": 2,
      "outputs": [
        {
          "output_type": "stream",
          "text": [
            "[[10, 20, 30], [6, 9, 17]]\n"
          ],
          "name": "stdout"
        }
      ]
    },
    {
      "cell_type": "code",
      "metadata": {
        "id": "GCDXqpuC9skd"
      },
      "source": [
        "# CASE 2"
      ],
      "id": "GCDXqpuC9skd",
      "execution_count": null,
      "outputs": []
    },
    {
      "cell_type": "code",
      "metadata": {
        "colab": {
          "base_uri": "https://localhost:8080/"
        },
        "id": "JWDtUV1x9Wtu",
        "outputId": "04d67c48-cdf5-4cd2-e4c6-d505b2f5ea9e"
      },
      "source": [
        "# contingency table\n",
        "table = [\t[20, 30, 15],\n",
        "\t\t\t[20, 15, 30]]\n",
        "print(table)"
      ],
      "id": "JWDtUV1x9Wtu",
      "execution_count": 7,
      "outputs": [
        {
          "output_type": "stream",
          "text": [
            "[[20, 30, 15], [20, 15, 30]]\n"
          ],
          "name": "stdout"
        }
      ]
    },
    {
      "cell_type": "code",
      "metadata": {
        "colab": {
          "base_uri": "https://localhost:8080/"
        },
        "id": "available-review",
        "outputId": "912affbc-d948-4349-c5ff-2d05ab05076c"
      },
      "source": [
        "stat, p, dof, expected = chi2_contingency(table)\n",
        "print('dof=%d' % dof)\n",
        "print(expected)"
      ],
      "id": "available-review",
      "execution_count": 8,
      "outputs": [
        {
          "output_type": "stream",
          "text": [
            "dof=2\n",
            "[[20.  22.5 22.5]\n",
            " [20.  22.5 22.5]]\n"
          ],
          "name": "stdout"
        }
      ]
    },
    {
      "cell_type": "code",
      "metadata": {
        "colab": {
          "base_uri": "https://localhost:8080/"
        },
        "id": "growing-looking",
        "outputId": "d9b3a2f3-300b-43e0-9d3c-52857522f0e8"
      },
      "source": [
        "# interpret test-statistic\n",
        "prob = 0.95\n",
        "critical = chi2.ppf(prob, dof)\n",
        "print('probability=%.3f, critical=%.3f, stat=%.3f' % (prob, critical, stat))"
      ],
      "id": "growing-looking",
      "execution_count": 9,
      "outputs": [
        {
          "output_type": "stream",
          "text": [
            "probability=0.950, critical=5.991, stat=10.000\n"
          ],
          "name": "stdout"
        }
      ]
    },
    {
      "cell_type": "code",
      "metadata": {
        "colab": {
          "base_uri": "https://localhost:8080/"
        },
        "id": "absolute-ceiling",
        "outputId": "79d8d026-1543-4c2c-c04a-fee44fa52c57"
      },
      "source": [
        "if abs(stat) >= critical:\n",
        "\tprint('Dependent (reject H0)')\n",
        "else:\n",
        "\tprint('Independent (fail to reject H0)')"
      ],
      "id": "absolute-ceiling",
      "execution_count": 10,
      "outputs": [
        {
          "output_type": "stream",
          "text": [
            "Dependent (reject H0)\n"
          ],
          "name": "stdout"
        }
      ]
    },
    {
      "cell_type": "code",
      "metadata": {
        "colab": {
          "base_uri": "https://localhost:8080/"
        },
        "id": "innovative-spain",
        "outputId": "e01fdc0f-d637-44fb-c01f-fba9dde95fd7"
      },
      "source": [
        "# interpret p-value\n",
        "alpha = 1.0 - prob\n",
        "print('significance=%.3f, p=%.3f' % (alpha, p))\n",
        "if p <= alpha:\n",
        "\tprint('Dependent (reject H0)')\n",
        "else:\n",
        "\tprint('Independent (fail to reject H0)')"
      ],
      "id": "innovative-spain",
      "execution_count": 11,
      "outputs": [
        {
          "output_type": "stream",
          "text": [
            "significance=0.050, p=0.007\n",
            "Dependent (reject H0)\n"
          ],
          "name": "stdout"
        }
      ]
    },
    {
      "cell_type": "markdown",
      "metadata": {
        "id": "actual-drinking"
      },
      "source": [
        "### 결과 해설"
      ],
      "id": "actual-drinking"
    },
    {
      "cell_type": "markdown",
      "metadata": {
        "id": "employed-married"
      },
      "source": [
        "Running the example first prints the contingency table. \n",
        "The test is calculated and the degrees of freedom (dof) is reported as 2, which makes sense given:\n",
        "\n",
        "degrees of freedom: (rows - 1) * (cols - 1)\n",
        "degrees of freedom: (2 - 1) * (3 - 1)\n",
        "degrees of freedom: 1 * 2\n",
        "degrees of freedom: 2"
      ],
      "id": "employed-married"
    },
    {
      "cell_type": "markdown",
      "metadata": {
        "id": "incident-exploration"
      },
      "source": [
        "[[10, 20, 30], [6, 9, 17]]\n",
        "\n",
        "dof=2\n",
        "\n",
        "[[10.43478261 18.91304348 30.65217391]\n",
        " [ 5.56521739 10.08695652 16.34782609]]\n",
        "\n",
        "probability=0.950, critical=5.991, stat=0.272\n",
        "Independent (fail to reject H0)\n",
        "\n",
        "significance=0.050, p=0.873\n",
        "Independent (fail to reject H0)"
      ],
      "id": "incident-exploration"
    },
    {
      "cell_type": "code",
      "metadata": {
        "id": "professional-warrior"
      },
      "source": [
        ""
      ],
      "id": "professional-warrior",
      "execution_count": null,
      "outputs": []
    }
  ]
}