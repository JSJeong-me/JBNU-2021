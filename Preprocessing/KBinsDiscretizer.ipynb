{
  "nbformat": 4,
  "nbformat_minor": 5,
  "metadata": {
    "kernelspec": {
      "display_name": "Python 3",
      "language": "python",
      "name": "python3"
    },
    "language_info": {
      "codemirror_mode": {
        "name": "ipython",
        "version": 3
      },
      "file_extension": ".py",
      "mimetype": "text/x-python",
      "name": "python",
      "nbconvert_exporter": "python",
      "pygments_lexer": "ipython3",
      "version": "3.7.6"
    },
    "colab": {
      "name": "KBinsDiscretizer.ipynb",
      "provenance": [],
      "include_colab_link": true
    }
  },
  "cells": [
    {
      "cell_type": "markdown",
      "metadata": {
        "id": "view-in-github",
        "colab_type": "text"
      },
      "source": [
        "<a href=\"https://colab.research.google.com/github/JSJeong-me/JBNU-2021/blob/main/Preprocessing/KBinsDiscretizer.ipynb\" target=\"_parent\"><img src=\"https://colab.research.google.com/assets/colab-badge.svg\" alt=\"Open In Colab\"/></a>"
      ]
    },
    {
      "cell_type": "markdown",
      "metadata": {
        "id": "peaceful-means"
      },
      "source": [
        "### KBinsDiscretizer"
      ],
      "id": "peaceful-means"
    },
    {
      "cell_type": "code",
      "metadata": {
        "id": "authorized-healing"
      },
      "source": [
        "# discretize numeric input variables\n",
        "from sklearn.datasets import make_classification\n",
        "from sklearn.preprocessing import KBinsDiscretizer"
      ],
      "id": "authorized-healing",
      "execution_count": 1,
      "outputs": []
    },
    {
      "cell_type": "code",
      "metadata": {
        "id": "sound-sustainability"
      },
      "source": [
        "# define dataset\n",
        "X, y = make_classification(n_samples=1000, n_features=5, n_informative=5, n_redundant=0,\n",
        "random_state=1)\n",
        "\n",
        "# summarize data before the transform\n",
        "print(X[:3, :])"
      ],
      "id": "sound-sustainability",
      "execution_count": null,
      "outputs": []
    },
    {
      "cell_type": "code",
      "metadata": {
        "id": "exceptional-policy"
      },
      "source": [
        "# define the transform\n",
        "trans = KBinsDiscretizer(n_bins=10, encode='ordinal', strategy='uniform')"
      ],
      "id": "exceptional-policy",
      "execution_count": 17,
      "outputs": []
    },
    {
      "cell_type": "code",
      "metadata": {
        "id": "agreed-nursery"
      },
      "source": [
        "# transform the data\n",
        "X_discrete = trans.fit_transform(X)"
      ],
      "id": "agreed-nursery",
      "execution_count": 18,
      "outputs": []
    },
    {
      "cell_type": "code",
      "metadata": {
        "id": "large-swedish"
      },
      "source": [
        "# summarize data after the transform\n",
        "print(X_discrete[:3, :])"
      ],
      "id": "large-swedish",
      "execution_count": null,
      "outputs": []
    },
    {
      "cell_type": "code",
      "metadata": {
        "id": "7X1uBy0lYZIu"
      },
      "source": [
        "import pandas as pd"
      ],
      "id": "7X1uBy0lYZIu",
      "execution_count": 13,
      "outputs": []
    },
    {
      "cell_type": "code",
      "metadata": {
        "id": "Pt-X3FUrYV_t"
      },
      "source": [
        "df_X_discrete = pd.DataFrame(X_discrete)"
      ],
      "id": "Pt-X3FUrYV_t",
      "execution_count": 20,
      "outputs": []
    },
    {
      "cell_type": "code",
      "metadata": {
        "id": "7M_GQ2GcYgCH"
      },
      "source": [
        "df_X_discrete.describe()"
      ],
      "id": "7M_GQ2GcYgCH",
      "execution_count": null,
      "outputs": []
    },
    {
      "cell_type": "code",
      "metadata": {
        "id": "Av8rjOOabr1s"
      },
      "source": [
        "df_X_discrete[0].min()"
      ],
      "id": "Av8rjOOabr1s",
      "execution_count": null,
      "outputs": []
    },
    {
      "cell_type": "code",
      "metadata": {
        "id": "oYaEeUxMb2gy"
      },
      "source": [
        "df_X_discrete.groupby([0]).size()"
      ],
      "id": "oYaEeUxMb2gy",
      "execution_count": null,
      "outputs": []
    },
    {
      "cell_type": "code",
      "metadata": {
        "id": "RSIeisuJdsWY"
      },
      "source": [
        "df_X_discrete.groupby([1]).size()"
      ],
      "id": "RSIeisuJdsWY",
      "execution_count": null,
      "outputs": []
    },
    {
      "cell_type": "code",
      "metadata": {
        "id": "DsIBAvKhd1Kn"
      },
      "source": [
        ""
      ],
      "id": "DsIBAvKhd1Kn",
      "execution_count": null,
      "outputs": []
    },
    {
      "cell_type": "code",
      "metadata": {
        "colab": {
          "base_uri": "https://localhost:8080/"
        },
        "id": "u-GDNdQodCtH",
        "outputId": "74377cf0-7312-47da-a54e-05a7611b0dd6"
      },
      "source": [
        ""
      ],
      "id": "u-GDNdQodCtH",
      "execution_count": 40,
      "outputs": [
        {
          "output_type": "execute_result",
          "data": {
            "text/plain": [
              "<pandas.core.groupby.generic.DataFrameGroupBy object at 0x7f8df3b10e90>"
            ]
          },
          "metadata": {
            "tags": []
          },
          "execution_count": 40
        }
      ]
    }
  ]
}