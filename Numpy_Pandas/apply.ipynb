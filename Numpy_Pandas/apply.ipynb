{
 "cells": [
  {
   "cell_type": "markdown",
   "id": "planned-right",
   "metadata": {},
   "source": [
    "### map apply mapapply"
   ]
  },
  {
   "cell_type": "code",
   "execution_count": null,
   "id": "capable-basin",
   "metadata": {},
   "outputs": [],
   "source": [
    "import pandas as pd\n",
    "import numpy as np"
   ]
  },
  {
   "cell_type": "code",
   "execution_count": null,
   "id": "vocal-employee",
   "metadata": {},
   "outputs": [],
   "source": [
    "df1 = pd.DataFrame({'a':[1,3,7,4],'b':[17,86,52,68],'c':[134,874,592,246]})"
   ]
  },
  {
   "cell_type": "code",
   "execution_count": null,
   "id": "short-victory",
   "metadata": {},
   "outputs": [],
   "source": [
    "df1"
   ]
  },
  {
   "cell_type": "markdown",
   "id": "promising-lincoln",
   "metadata": {},
   "source": [
    "  - data.apply(func, axis)\n",
    "\n",
    "  - 2차원(DataFrame)의 행별(axis=0), 열별(axis=1) 적용 \n",
    "\n",
    "  - 주로 그룹함수와 함께 사용\n",
    "\n",
    "  - Return to Series"
   ]
  },
  {
   "cell_type": "code",
   "execution_count": null,
   "id": "studied-superior",
   "metadata": {},
   "outputs": [],
   "source": [
    "f2 = lambda x : x.max() - x.min()"
   ]
  },
  {
   "cell_type": "code",
   "execution_count": null,
   "id": "blessed-description",
   "metadata": {},
   "outputs": [],
   "source": [
    "df1.apply(f2)"
   ]
  },
  {
   "cell_type": "code",
   "execution_count": null,
   "id": "soviet-window",
   "metadata": {},
   "outputs": [],
   "source": [
    "df1.apply(f2, axis=1)"
   ]
  },
  {
   "cell_type": "code",
   "execution_count": null,
   "id": "caring-framing",
   "metadata": {},
   "outputs": [],
   "source": [
    "df1.apply(sum,1)"
   ]
  },
  {
   "cell_type": "code",
   "execution_count": null,
   "id": "popular-spouse",
   "metadata": {},
   "outputs": [],
   "source": [
    "round(df1.apply(np.mean,1),2)"
   ]
  },
  {
   "cell_type": "markdown",
   "id": "comic-dutch",
   "metadata": {},
   "source": [
    "  - data.applymap(func, **iterable)\n",
    "\n",
    "  - 2차원 원소별 적용 가능\n",
    "\n",
    "  - 출력 결과 DataFrame"
   ]
  },
  {
   "cell_type": "code",
   "execution_count": null,
   "id": "complete-ebony",
   "metadata": {},
   "outputs": [],
   "source": [
    "# 2차원(DataFrame) 데이터 구조의 원소별 적용\n",
    "\n",
    "f4 = lambda x : '%03d'%x  \n",
    "\n",
    "df1.applymap(f4)"
   ]
  },
  {
   "cell_type": "code",
   "execution_count": null,
   "id": "identical-treat",
   "metadata": {},
   "outputs": [],
   "source": []
  }
 ],
 "metadata": {
  "kernelspec": {
   "display_name": "Python 3",
   "language": "python",
   "name": "python3"
  },
  "language_info": {
   "codemirror_mode": {
    "name": "ipython",
    "version": 3
   },
   "file_extension": ".py",
   "mimetype": "text/x-python",
   "name": "python",
   "nbconvert_exporter": "python",
   "pygments_lexer": "ipython3",
   "version": "3.7.6"
  }
 },
 "nbformat": 4,
 "nbformat_minor": 5
}
