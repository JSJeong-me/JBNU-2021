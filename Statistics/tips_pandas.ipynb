{
  "nbformat": 4,
  "nbformat_minor": 5,
  "metadata": {
    "kernelspec": {
      "display_name": "Python Multi",
      "language": "python",
      "name": "multi"
    },
    "language_info": {
      "codemirror_mode": {
        "name": "ipython",
        "version": 3
      },
      "file_extension": ".py",
      "mimetype": "text/x-python",
      "name": "python",
      "nbconvert_exporter": "python",
      "pygments_lexer": "ipython3",
      "version": "3.7.6"
    },
    "colab": {
      "name": "tips_pandas.ipynb",
      "provenance": [],
      "include_colab_link": true
    }
  },
  "cells": [
    {
      "cell_type": "markdown",
      "metadata": {
        "id": "view-in-github",
        "colab_type": "text"
      },
      "source": [
        "<a href=\"https://colab.research.google.com/github/JSJeong-me/JBNU-2021/blob/main/Statistics/tips_pandas.ipynb\" target=\"_parent\"><img src=\"https://colab.research.google.com/assets/colab-badge.svg\" alt=\"Open In Colab\"/></a>"
      ]
    },
    {
      "cell_type": "code",
      "metadata": {
        "id": "viFgoBQ_AL2D"
      },
      "source": [
        "!pip install pandas-profiling"
      ],
      "id": "viFgoBQ_AL2D",
      "execution_count": null,
      "outputs": []
    },
    {
      "cell_type": "code",
      "metadata": {
        "colab": {
          "base_uri": "https://localhost:8080/"
        },
        "id": "7f2152f1-2e57-4ec8-92e6-f1c37062a913",
        "outputId": "1881832c-68b3-4e44-a1f6-f57a8b30fed1"
      },
      "source": [
        "!pwd"
      ],
      "id": "7f2152f1-2e57-4ec8-92e6-f1c37062a913",
      "execution_count": 12,
      "outputs": [
        {
          "output_type": "stream",
          "text": [
            "/content\n"
          ],
          "name": "stdout"
        }
      ]
    },
    {
      "cell_type": "code",
      "metadata": {
        "id": "33a29d6a-821f-4712-97fe-bcf629e0ce56"
      },
      "source": [
        "import pandas as pd\n",
        "import matplotlib.pyplot as plt\n",
        "import numpy as np"
      ],
      "id": "33a29d6a-821f-4712-97fe-bcf629e0ce56",
      "execution_count": 3,
      "outputs": []
    },
    {
      "cell_type": "code",
      "metadata": {
        "id": "e2bead06-a46b-464e-a7b1-67e720a2ba18"
      },
      "source": [
        "tips = pd.read_csv('./tips.csv')"
      ],
      "id": "e2bead06-a46b-464e-a7b1-67e720a2ba18",
      "execution_count": 5,
      "outputs": []
    },
    {
      "cell_type": "code",
      "metadata": {
        "id": "99bbd7ba-1b89-42d5-a9b0-f0d6fbaf6c38"
      },
      "source": [
        "tips.head()"
      ],
      "id": "99bbd7ba-1b89-42d5-a9b0-f0d6fbaf6c38",
      "execution_count": null,
      "outputs": []
    },
    {
      "cell_type": "code",
      "metadata": {
        "id": "46746340-db84-48ad-853d-81fe31f774e4"
      },
      "source": [
        "t_bill = tips.total_bill"
      ],
      "id": "46746340-db84-48ad-853d-81fe31f774e4",
      "execution_count": 7,
      "outputs": []
    },
    {
      "cell_type": "code",
      "metadata": {
        "id": "3af7d9f1-70e8-4460-b11c-192b82f91e26"
      },
      "source": [
        "plt.boxplot(t_bill, labels=['total_bill'])\n",
        "plt.show()"
      ],
      "id": "3af7d9f1-70e8-4460-b11c-192b82f91e26",
      "execution_count": null,
      "outputs": []
    },
    {
      "cell_type": "code",
      "metadata": {
        "id": "ec1d3a3e-54ac-47e0-a14f-d1da099aeaf4"
      },
      "source": [
        "import seaborn as sns"
      ],
      "id": "ec1d3a3e-54ac-47e0-a14f-d1da099aeaf4",
      "execution_count": 9,
      "outputs": []
    },
    {
      "cell_type": "code",
      "metadata": {
        "id": "db9a9cb7-066f-49f1-bbd4-8d657ab74d78"
      },
      "source": [
        "t_sns_bill = sns.boxplot(x='total_bill', data=tips)\n"
      ],
      "id": "db9a9cb7-066f-49f1-bbd4-8d657ab74d78",
      "execution_count": null,
      "outputs": []
    },
    {
      "cell_type": "code",
      "metadata": {
        "id": "d8760ff1-52b6-49ef-a64e-169c9dc4157e"
      },
      "source": [
        "t_tips = tips.tip"
      ],
      "id": "d8760ff1-52b6-49ef-a64e-169c9dc4157e",
      "execution_count": null,
      "outputs": []
    },
    {
      "cell_type": "code",
      "metadata": {
        "id": "766f37ae-2cd7-49b0-9226-fe195fcb02e3"
      },
      "source": [
        "plt.boxplot(t_tips, labels=['tip'])\n",
        "plt.show()"
      ],
      "id": "766f37ae-2cd7-49b0-9226-fe195fcb02e3",
      "execution_count": null,
      "outputs": []
    },
    {
      "cell_type": "code",
      "metadata": {
        "id": "dd071245-1985-40f5-bc3f-ab13676a5a75"
      },
      "source": [
        "t_bill.describe()"
      ],
      "id": "dd071245-1985-40f5-bc3f-ab13676a5a75",
      "execution_count": null,
      "outputs": []
    },
    {
      "cell_type": "code",
      "metadata": {
        "id": "c2aaeaa5-75f9-4df6-bc7b-ac84ab12ce98"
      },
      "source": [
        "sns.regplot(x=\"size\", y=\"tip\", data= tips)"
      ],
      "id": "c2aaeaa5-75f9-4df6-bc7b-ac84ab12ce98",
      "execution_count": null,
      "outputs": []
    },
    {
      "cell_type": "code",
      "metadata": {
        "id": "b83df483-294e-4333-8db8-0ffe3749b8b7"
      },
      "source": [
        "sns.regplot(x=\"size\", y=\"tip\", data= tips)"
      ],
      "id": "b83df483-294e-4333-8db8-0ffe3749b8b7",
      "execution_count": null,
      "outputs": []
    },
    {
      "cell_type": "code",
      "metadata": {
        "id": "1d292573-d661-4edb-b729-c9f5e47a517a"
      },
      "source": [
        "tips.total_bill.describe()"
      ],
      "id": "1d292573-d661-4edb-b729-c9f5e47a517a",
      "execution_count": null,
      "outputs": []
    },
    {
      "cell_type": "code",
      "metadata": {
        "id": "79cbbd50-acab-49cb-a115-a11ada7e3933",
        "outputId": "cd5068a5-dad5-4d21-f968-03cd41d064ca"
      },
      "source": [
        "tips.total_bill.hist()"
      ],
      "id": "79cbbd50-acab-49cb-a115-a11ada7e3933",
      "execution_count": null,
      "outputs": [
        {
          "output_type": "execute_result",
          "data": {
            "text/plain": [
              "<AxesSubplot:>"
            ]
          },
          "metadata": {
            "tags": []
          },
          "execution_count": 27
        },
        {
          "output_type": "display_data",
          "data": {
            "image/png": "[encoded data removed]",
            "text/plain": [
              "<Figure size 432x288 with 1 Axes>"
            ]
          },
          "metadata": {
            "tags": [],
            "needs_background": "light"
          }
        }
      ]
    },
    {
      "cell_type": "code",
      "metadata": {
        "id": "586ee81c-d0a7-4832-a7b7-75d25de68c6c"
      },
      "source": [
        "sns.distplot(x=t_bill, bins=50)"
      ],
      "id": "586ee81c-d0a7-4832-a7b7-75d25de68c6c",
      "execution_count": null,
      "outputs": []
    },
    {
      "cell_type": "code",
      "metadata": {
        "id": "b21373b6-9b6d-4057-8ce8-b34bdf4f1704"
      },
      "source": [
        "sns.displot(x=t_bill, bins=50)"
      ],
      "id": "b21373b6-9b6d-4057-8ce8-b34bdf4f1704",
      "execution_count": null,
      "outputs": []
    },
    {
      "cell_type": "code",
      "metadata": {
        "id": "5370f692-c7ac-42f0-8fc1-6fdb0922af5e"
      },
      "source": [
        "sns.distplot(x=t_bill, bins=20)"
      ],
      "id": "5370f692-c7ac-42f0-8fc1-6fdb0922af5e",
      "execution_count": null,
      "outputs": []
    },
    {
      "cell_type": "code",
      "metadata": {
        "id": "ec2fb689-0901-4a20-b6c9-ee452dbd89fb"
      },
      "source": [
        "sns.distplot(x=t_tips, bins=20)"
      ],
      "id": "ec2fb689-0901-4a20-b6c9-ee452dbd89fb",
      "execution_count": null,
      "outputs": []
    },
    {
      "cell_type": "code",
      "metadata": {
        "id": "282fc7cc-8c44-4162-9132-f974d0f6fc1a"
      },
      "source": [
        "sns.displot(x=t_tips, bins=50)"
      ],
      "id": "282fc7cc-8c44-4162-9132-f974d0f6fc1a",
      "execution_count": null,
      "outputs": []
    },
    {
      "cell_type": "code",
      "metadata": {
        "id": "b2133211-9e96-497a-a9c3-6868cddd7e56"
      },
      "source": [
        "tips.info()"
      ],
      "id": "b2133211-9e96-497a-a9c3-6868cddd7e56",
      "execution_count": null,
      "outputs": []
    },
    {
      "cell_type": "code",
      "metadata": {
        "id": "6b69baf0-90d0-4551-b576-3562cf433a33"
      },
      "source": [
        "pd.crosstab(index=tips['size'], columns='count')"
      ],
      "id": "6b69baf0-90d0-4551-b576-3562cf433a33",
      "execution_count": null,
      "outputs": []
    },
    {
      "cell_type": "code",
      "metadata": {
        "id": "fca506d4-ed51-4847-9bc1-af772ff56464"
      },
      "source": [
        ""
      ],
      "id": "fca506d4-ed51-4847-9bc1-af772ff56464",
      "execution_count": null,
      "outputs": []
    },
    {
      "cell_type": "code",
      "metadata": {
        "id": "4bfc2841-7cde-4d4f-806c-08bafe2086ce"
      },
      "source": [
        "size = pd.crosstab(index=tips['size'],columns='count')"
      ],
      "id": "4bfc2841-7cde-4d4f-806c-08bafe2086ce",
      "execution_count": null,
      "outputs": []
    },
    {
      "cell_type": "code",
      "metadata": {
        "id": "76c4509e-b6ea-480b-a752-97eb9237329e"
      },
      "source": [
        "size."
      ],
      "id": "76c4509e-b6ea-480b-a752-97eb9237329e",
      "execution_count": null,
      "outputs": []
    },
    {
      "cell_type": "code",
      "metadata": {
        "id": "6829bbc4-e721-46cb-92bc-7993e4b2ce93"
      },
      "source": [
        "size.plot.bar()"
      ],
      "id": "6829bbc4-e721-46cb-92bc-7993e4b2ce93",
      "execution_count": null,
      "outputs": []
    },
    {
      "cell_type": "code",
      "metadata": {
        "id": "2891f3e8-6a96-4827-862b-af69c7e329b1"
      },
      "source": [
        "size_tip=pd.crosstab(index=tips['size'], columns=tips['tip'])"
      ],
      "id": "2891f3e8-6a96-4827-862b-af69c7e329b1",
      "execution_count": null,
      "outputs": []
    },
    {
      "cell_type": "code",
      "metadata": {
        "id": "f5e3227d-9983-46f1-bebe-c6971a0ef9f3"
      },
      "source": [
        "size_tip.plot.bar()"
      ],
      "id": "f5e3227d-9983-46f1-bebe-c6971a0ef9f3",
      "execution_count": null,
      "outputs": []
    },
    {
      "cell_type": "code",
      "metadata": {
        "id": "a6a400bb-e085-4193-a799-10624dc8062b"
      },
      "source": [
        "size_t_bill=pd.crosstab(index=tips['size'], columns=tips['total_bill'])"
      ],
      "id": "a6a400bb-e085-4193-a799-10624dc8062b",
      "execution_count": null,
      "outputs": []
    },
    {
      "cell_type": "code",
      "metadata": {
        "id": "1c13217e-14f6-4e1d-87c2-05077342468e"
      },
      "source": [
        "size_t_bill"
      ],
      "id": "1c13217e-14f6-4e1d-87c2-05077342468e",
      "execution_count": null,
      "outputs": []
    },
    {
      "cell_type": "code",
      "metadata": {
        "id": "a46ffe24-c5a3-4393-a9b9-56bd580d870f"
      },
      "source": [
        "#size_t_bill.plot.bar()"
      ],
      "id": "a46ffe24-c5a3-4393-a9b9-56bd580d870f",
      "execution_count": null,
      "outputs": []
    },
    {
      "cell_type": "code",
      "metadata": {
        "id": "afc8ea4f-62e4-4730-b34c-af842624547e"
      },
      "source": [
        "tip_rate=tips[\"tip\"] / tips[\"total_bill\"]"
      ],
      "id": "afc8ea4f-62e4-4730-b34c-af842624547e",
      "execution_count": null,
      "outputs": []
    },
    {
      "cell_type": "code",
      "metadata": {
        "id": "d223e27e-0178-4238-bd53-3e546cf4562d"
      },
      "source": [
        "tips.info()"
      ],
      "id": "d223e27e-0178-4238-bd53-3e546cf4562d",
      "execution_count": null,
      "outputs": []
    },
    {
      "cell_type": "code",
      "metadata": {
        "id": "94ddf0bf-1596-4c49-970d-26f5eb2246a4"
      },
      "source": [
        "tips['tip_rate']=(tips[\"tip\"] / tips[\"total_bill\"])"
      ],
      "id": "94ddf0bf-1596-4c49-970d-26f5eb2246a4",
      "execution_count": null,
      "outputs": []
    },
    {
      "cell_type": "code",
      "metadata": {
        "id": "c22f5020-6257-4bb2-b066-2df90cb474de"
      },
      "source": [
        "tips.describe()"
      ],
      "id": "c22f5020-6257-4bb2-b066-2df90cb474de",
      "execution_count": null,
      "outputs": []
    },
    {
      "cell_type": "code",
      "metadata": {
        "id": "6ff04a0e-829e-4a8e-bc05-db60c9b4bcb6"
      },
      "source": [
        "import pandas_profiling"
      ],
      "id": "6ff04a0e-829e-4a8e-bc05-db60c9b4bcb6",
      "execution_count": null,
      "outputs": []
    },
    {
      "cell_type": "code",
      "metadata": {
        "id": "067ba210-1987-451a-abd1-9e3f4910ab8f"
      },
      "source": [
        "tips.profile_report()"
      ],
      "id": "067ba210-1987-451a-abd1-9e3f4910ab8f",
      "execution_count": null,
      "outputs": []
    },
    {
      "cell_type": "code",
      "metadata": {
        "id": "cb650603-b062-4518-8d92-ab908f0918b5"
      },
      "source": [
        "tips.corr()"
      ],
      "id": "cb650603-b062-4518-8d92-ab908f0918b5",
      "execution_count": null,
      "outputs": []
    },
    {
      "cell_type": "code",
      "metadata": {
        "id": "f5d8b776-57d9-4e6a-b090-f9a9d32cdd00"
      },
      "source": [
        ""
      ],
      "id": "f5d8b776-57d9-4e6a-b090-f9a9d32cdd00",
      "execution_count": null,
      "outputs": []
    },
    {
      "cell_type": "code",
      "metadata": {
        "id": "29280749-2f7a-4f8f-a6a2-a92a74d6a438"
      },
      "source": [
        "tips.head(3)"
      ],
      "id": "29280749-2f7a-4f8f-a6a2-a92a74d6a438",
      "execution_count": null,
      "outputs": []
    },
    {
      "cell_type": "code",
      "metadata": {
        "id": "4e3a3ab6-22ba-456c-888e-e7fdd610d4e5"
      },
      "source": [
        "tips['day'].unique()"
      ],
      "id": "4e3a3ab6-22ba-456c-888e-e7fdd610d4e5",
      "execution_count": null,
      "outputs": []
    },
    {
      "cell_type": "code",
      "metadata": {
        "id": "97e71bf1-bcc6-46fb-be89-2d7d9493364b"
      },
      "source": [
        "tips['time'].unique()"
      ],
      "id": "97e71bf1-bcc6-46fb-be89-2d7d9493364b",
      "execution_count": null,
      "outputs": []
    },
    {
      "cell_type": "code",
      "metadata": {
        "id": "578925ed-aead-4a8d-b883-61e37bc7765a"
      },
      "source": [
        "tips['sex']=tips['sex'].replace({'Female': 0, 'Male':1})"
      ],
      "id": "578925ed-aead-4a8d-b883-61e37bc7765a",
      "execution_count": null,
      "outputs": []
    },
    {
      "cell_type": "code",
      "metadata": {
        "id": "e9c0c72a-6c65-4454-a788-a3f756d26bee"
      },
      "source": [
        "tips['smoker']=tips['smoker'].replace({'No': 0, 'Yes':1})"
      ],
      "id": "e9c0c72a-6c65-4454-a788-a3f756d26bee",
      "execution_count": null,
      "outputs": []
    },
    {
      "cell_type": "code",
      "metadata": {
        "id": "a05653cd-5dcf-47b9-9086-9accf0372d11"
      },
      "source": [
        "tips['day']=tips['day'].replace({'Thur': 0, 'Fri':1, 'Sat': 2, 'Sun': 3})"
      ],
      "id": "a05653cd-5dcf-47b9-9086-9accf0372d11",
      "execution_count": null,
      "outputs": []
    },
    {
      "cell_type": "code",
      "metadata": {
        "id": "a331df61-c06a-4bba-81eb-dc6a7031fd8d"
      },
      "source": [
        "tips['time']=tips['time'].replace({'Lunch': 0, 'Dinner':1})"
      ],
      "id": "a331df61-c06a-4bba-81eb-dc6a7031fd8d",
      "execution_count": null,
      "outputs": []
    },
    {
      "cell_type": "code",
      "metadata": {
        "id": "5525c11f-483c-44bd-baaa-009468097a1c"
      },
      "source": [
        "tips.head(3)"
      ],
      "id": "5525c11f-483c-44bd-baaa-009468097a1c",
      "execution_count": null,
      "outputs": []
    },
    {
      "cell_type": "code",
      "metadata": {
        "id": "37f2e18e-0bca-4194-8a88-8bbb422fe79b"
      },
      "source": [
        "tips.profile_report()"
      ],
      "id": "37f2e18e-0bca-4194-8a88-8bbb422fe79b",
      "execution_count": null,
      "outputs": []
    },
    {
      "cell_type": "code",
      "metadata": {
        "id": "bc61a226-d560-46d7-85d0-015791361687"
      },
      "source": [
        ""
      ],
      "id": "bc61a226-d560-46d7-85d0-015791361687",
      "execution_count": null,
      "outputs": []
    },
    {
      "cell_type": "code",
      "metadata": {
        "id": "5ad59a8f-8231-4c91-9797-ae4067d29bc0"
      },
      "source": [
        "import numpy as np"
      ],
      "id": "5ad59a8f-8231-4c91-9797-ae4067d29bc0",
      "execution_count": null,
      "outputs": []
    },
    {
      "cell_type": "code",
      "metadata": {
        "id": "653c767e-4587-4ff8-95a4-d7d473ef0e4e"
      },
      "source": [
        "#tip_rate"
      ],
      "id": "653c767e-4587-4ff8-95a4-d7d473ef0e4e",
      "execution_count": null,
      "outputs": []
    },
    {
      "cell_type": "code",
      "metadata": {
        "id": "5922d447-b29a-473c-8d63-1b3c60fe6efc"
      },
      "source": [
        "tips.assign(tip_rate=tips[\"tip\"] / tips[\"total_bill\"]).head()"
      ],
      "id": "5922d447-b29a-473c-8d63-1b3c60fe6efc",
      "execution_count": null,
      "outputs": []
    },
    {
      "cell_type": "code",
      "metadata": {
        "id": "1b7a49d6-e083-4419-962a-da530d63ee83"
      },
      "source": [
        "tips[tips[\"time\"] == \"Dinner\"].head()"
      ],
      "id": "1b7a49d6-e083-4419-962a-da530d63ee83",
      "execution_count": null,
      "outputs": []
    },
    {
      "cell_type": "code",
      "metadata": {
        "id": "c140c0be-04f5-4623-86cb-00e37c1c26a4"
      },
      "source": [
        "tips[tips[\"time\"] == \"Lunch\"].total_bill.count()"
      ],
      "id": "c140c0be-04f5-4623-86cb-00e37c1c26a4",
      "execution_count": null,
      "outputs": []
    },
    {
      "cell_type": "code",
      "metadata": {
        "id": "245ae07c-3a0c-49d8-8169-9ccc4a650acf"
      },
      "source": [
        "tips[tips[\"time\"] == \"Lunch\"].total_bill.describe()"
      ],
      "id": "245ae07c-3a0c-49d8-8169-9ccc4a650acf",
      "execution_count": null,
      "outputs": []
    },
    {
      "cell_type": "code",
      "metadata": {
        "id": "ec998477-c281-4671-9659-a91597f57544"
      },
      "source": [
        "tips[tips[\"time\"] == \"Lunch\"].total_bill.hist()"
      ],
      "id": "ec998477-c281-4671-9659-a91597f57544",
      "execution_count": null,
      "outputs": []
    },
    {
      "cell_type": "code",
      "metadata": {
        "id": "f027c0ba-7dbb-4fff-a81f-89c8babcdd4c"
      },
      "source": [
        "tips[tips[\"time\"] == \"Dinner\"].total_bill.count()"
      ],
      "id": "f027c0ba-7dbb-4fff-a81f-89c8babcdd4c",
      "execution_count": null,
      "outputs": []
    },
    {
      "cell_type": "code",
      "metadata": {
        "id": "0d8845f1-bcae-4b6b-a38c-699fe2fb65b8"
      },
      "source": [
        "tips[tips[\"time\"] == \"Dinner\"].total_bill.describe()"
      ],
      "id": "0d8845f1-bcae-4b6b-a38c-699fe2fb65b8",
      "execution_count": null,
      "outputs": []
    },
    {
      "cell_type": "code",
      "metadata": {
        "id": "3292ad5c-763a-4f7a-b134-2084992c6706"
      },
      "source": [
        "tips[tips[\"time\"] == \"Dinner\"].total_bill.max()"
      ],
      "id": "3292ad5c-763a-4f7a-b134-2084992c6706",
      "execution_count": null,
      "outputs": []
    },
    {
      "cell_type": "code",
      "metadata": {
        "id": "97146376-3f74-4a5f-bbb3-b147ad71f6bb"
      },
      "source": [
        "tips[tips[\"time\"] == \"Dinner\"].total_bill.hist()"
      ],
      "id": "97146376-3f74-4a5f-bbb3-b147ad71f6bb",
      "execution_count": null,
      "outputs": []
    },
    {
      "cell_type": "code",
      "metadata": {
        "id": "191f9206-30ff-4edd-ab3a-844333f6abc5"
      },
      "source": [
        "tips[\"time\"].head()"
      ],
      "id": "191f9206-30ff-4edd-ab3a-844333f6abc5",
      "execution_count": null,
      "outputs": []
    },
    {
      "cell_type": "code",
      "metadata": {
        "id": "4034d94a-b5e7-454a-8ade-1bf6f8ebcb6d"
      },
      "source": [
        "is_dinner = tips[\"time\"] == \"Dinner\""
      ],
      "id": "4034d94a-b5e7-454a-8ade-1bf6f8ebcb6d",
      "execution_count": null,
      "outputs": []
    },
    {
      "cell_type": "code",
      "metadata": {
        "id": "a1ced6d4-7bba-4954-a244-1a08cc872252"
      },
      "source": [
        "is_dinner"
      ],
      "id": "a1ced6d4-7bba-4954-a244-1a08cc872252",
      "execution_count": null,
      "outputs": []
    },
    {
      "cell_type": "code",
      "metadata": {
        "id": "5af8e9a4-4171-452d-8bae-37118ea0fc4f"
      },
      "source": [
        "tips[tips[\"time\"] == \"Dinner\"].count()"
      ],
      "id": "5af8e9a4-4171-452d-8bae-37118ea0fc4f",
      "execution_count": null,
      "outputs": []
    },
    {
      "cell_type": "code",
      "metadata": {
        "id": "61398103-4b8d-4ebe-a2ef-1e7b1a50f3bb"
      },
      "source": [
        "tips[is_dinner].count()"
      ],
      "id": "61398103-4b8d-4ebe-a2ef-1e7b1a50f3bb",
      "execution_count": null,
      "outputs": []
    },
    {
      "cell_type": "code",
      "metadata": {
        "id": "98249e11-7f77-4fe3-a2e4-08f62e1c5d1b"
      },
      "source": [
        "tips[is_dinner & (tips[\"tip\"] >5)]"
      ],
      "id": "98249e11-7f77-4fe3-a2e4-08f62e1c5d1b",
      "execution_count": null,
      "outputs": []
    },
    {
      "cell_type": "code",
      "metadata": {
        "id": "d091ebab-4a17-4efa-a69f-00a2ec142226"
      },
      "source": [
        "tips[(tips[\"size\"] >= 5) | (tips[\"total_bill\"] > 45)].count()"
      ],
      "id": "d091ebab-4a17-4efa-a69f-00a2ec142226",
      "execution_count": null,
      "outputs": []
    },
    {
      "cell_type": "code",
      "metadata": {
        "id": "335fd3ee-d00f-4d06-adc3-fe929e193f92"
      },
      "source": [
        "frame = pd.DataFrame(\n",
        "      {\"col1\": [\"A\", \"B\", np.NaN, \"C\", \"D\"], \"col2\": [\"F\", np.NaN, \"G\", \"H\", \"I\"]}\n",
        "  )"
      ],
      "id": "335fd3ee-d00f-4d06-adc3-fe929e193f92",
      "execution_count": null,
      "outputs": []
    },
    {
      "cell_type": "code",
      "metadata": {
        "id": "80c54241-c45e-495a-b412-36dba74c6a5e"
      },
      "source": [
        "frame"
      ],
      "id": "80c54241-c45e-495a-b412-36dba74c6a5e",
      "execution_count": null,
      "outputs": []
    },
    {
      "cell_type": "code",
      "metadata": {
        "id": "d600d470-af11-4d68-8a0c-3537d6842144"
      },
      "source": [
        "frame[frame[\"col2\"].isna()]"
      ],
      "id": "d600d470-af11-4d68-8a0c-3537d6842144",
      "execution_count": null,
      "outputs": []
    },
    {
      "cell_type": "code",
      "metadata": {
        "id": "b0366a62-0495-4fbf-af56-dd25f7c7e57a"
      },
      "source": [
        "frame.iloc[1,:]"
      ],
      "id": "b0366a62-0495-4fbf-af56-dd25f7c7e57a",
      "execution_count": null,
      "outputs": []
    },
    {
      "cell_type": "code",
      "metadata": {
        "id": "baf9bf83-1943-4ee1-890a-59a162335ea7"
      },
      "source": [
        "tips.groupby(\"day\").count()"
      ],
      "id": "baf9bf83-1943-4ee1-890a-59a162335ea7",
      "execution_count": null,
      "outputs": []
    },
    {
      "cell_type": "code",
      "metadata": {
        "id": "1012ed72-db0d-40fc-be54-dbc81954a558"
      },
      "source": [
        "group = tips.groupby(\"day\")"
      ],
      "id": "1012ed72-db0d-40fc-be54-dbc81954a558",
      "execution_count": null,
      "outputs": []
    },
    {
      "cell_type": "code",
      "metadata": {
        "id": "dc243505-70fb-4b06-bed2-041f0f8720fd"
      },
      "source": [
        "df1 = group.count()"
      ],
      "id": "dc243505-70fb-4b06-bed2-041f0f8720fd",
      "execution_count": null,
      "outputs": []
    },
    {
      "cell_type": "code",
      "metadata": {
        "id": "128ae6e7-1b3e-4a1a-a075-a6516445a8ae"
      },
      "source": [
        "df1[\"size\"]"
      ],
      "id": "128ae6e7-1b3e-4a1a-a075-a6516445a8ae",
      "execution_count": null,
      "outputs": []
    },
    {
      "cell_type": "code",
      "metadata": {
        "id": "5d0ee688-c14e-4d20-8422-ea00497a6d37"
      },
      "source": [
        "df1.describe()"
      ],
      "id": "5d0ee688-c14e-4d20-8422-ea00497a6d37",
      "execution_count": null,
      "outputs": []
    },
    {
      "cell_type": "code",
      "metadata": {
        "id": "3f66cbe0-75d7-446a-bcb4-833c10d82df3"
      },
      "source": [
        "week = tips.groupby(\"day\").agg({\"tip\": np.mean, \"day\": np.size})"
      ],
      "id": "3f66cbe0-75d7-446a-bcb4-833c10d82df3",
      "execution_count": null,
      "outputs": []
    },
    {
      "cell_type": "code",
      "metadata": {
        "id": "ecdaeaf8-b39d-4bbf-8811-bbb54cdad4d9"
      },
      "source": [
        "week"
      ],
      "id": "ecdaeaf8-b39d-4bbf-8811-bbb54cdad4d9",
      "execution_count": null,
      "outputs": []
    },
    {
      "cell_type": "code",
      "metadata": {
        "id": "6bc95a32-95d6-4235-8840-324171402ba8"
      },
      "source": [
        "week.tip.mean()"
      ],
      "id": "6bc95a32-95d6-4235-8840-324171402ba8",
      "execution_count": null,
      "outputs": []
    },
    {
      "cell_type": "code",
      "metadata": {
        "id": "63a8bf29-4157-4123-b8c4-b2b946a795ef"
      },
      "source": [
        "week.iloc[0,:]"
      ],
      "id": "63a8bf29-4157-4123-b8c4-b2b946a795ef",
      "execution_count": null,
      "outputs": []
    },
    {
      "cell_type": "code",
      "metadata": {
        "id": "85f2e6d3-d4a1-47f3-8b08-2c7e4a5450e5"
      },
      "source": [
        "week.loc[\"Fri\",:]"
      ],
      "id": "85f2e6d3-d4a1-47f3-8b08-2c7e4a5450e5",
      "execution_count": null,
      "outputs": []
    },
    {
      "cell_type": "code",
      "metadata": {
        "id": "275b677a-2fa7-4dad-b40f-b6d2a5cb3f28"
      },
      "source": [
        "smoker0 = tips.groupby([\"smoker\", \"day\"]).agg({\"tip\": [np.size, np.mean]})"
      ],
      "id": "275b677a-2fa7-4dad-b40f-b6d2a5cb3f28",
      "execution_count": null,
      "outputs": []
    },
    {
      "cell_type": "code",
      "metadata": {
        "id": "dbc22cfb-44af-437a-850d-60dc2c147741"
      },
      "source": [
        "type(smoker0)"
      ],
      "id": "dbc22cfb-44af-437a-850d-60dc2c147741",
      "execution_count": null,
      "outputs": []
    },
    {
      "cell_type": "code",
      "metadata": {
        "id": "e207fd96-3334-43af-b363-a6df3751c7b2"
      },
      "source": [
        "smoker0"
      ],
      "id": "e207fd96-3334-43af-b363-a6df3751c7b2",
      "execution_count": null,
      "outputs": []
    },
    {
      "cell_type": "code",
      "metadata": {
        "id": "669b8477-8300-49ba-92f5-5a270278151e"
      },
      "source": [
        "smoker0.info()"
      ],
      "id": "669b8477-8300-49ba-92f5-5a270278151e",
      "execution_count": null,
      "outputs": []
    },
    {
      "cell_type": "code",
      "metadata": {
        "id": "38e891bf-439c-40f0-b76a-14f467626691"
      },
      "source": [
        "smoker0.iloc[7,:]"
      ],
      "id": "38e891bf-439c-40f0-b76a-14f467626691",
      "execution_count": null,
      "outputs": []
    },
    {
      "cell_type": "code",
      "metadata": {
        "id": "c27637de-962d-4dce-b81d-35bd3f7de34e"
      },
      "source": [
        "smoker0.iloc[:,1]"
      ],
      "id": "c27637de-962d-4dce-b81d-35bd3f7de34e",
      "execution_count": null,
      "outputs": []
    },
    {
      "cell_type": "code",
      "metadata": {
        "id": "7e89ce0d-c097-4a47-b1f7-9c782b724df9"
      },
      "source": [
        ""
      ],
      "id": "7e89ce0d-c097-4a47-b1f7-9c782b724df9",
      "execution_count": null,
      "outputs": []
    }
  ]
}