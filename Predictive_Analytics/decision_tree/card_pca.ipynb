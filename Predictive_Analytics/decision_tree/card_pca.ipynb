{
  "nbformat": 4,
  "nbformat_minor": 0,
  "metadata": {
    "kernelspec": {
      "language": "python",
      "display_name": "Python 3",
      "name": "python3"
    },
    "language_info": {
      "pygments_lexer": "ipython3",
      "nbconvert_exporter": "python",
      "version": "3.6.4",
      "file_extension": ".py",
      "codemirror_mode": {
        "name": "ipython",
        "version": 3
      },
      "name": "python",
      "mimetype": "text/x-python"
    },
    "colab": {
      "name": "card-pca.ipynb",
      "provenance": [],
      "include_colab_link": true
    }
  },
  "cells": [
    {
      "cell_type": "markdown",
      "metadata": {
        "id": "view-in-github",
        "colab_type": "text"
      },
      "source": [
        "<a href=\"https://colab.research.google.com/github/JSJeong-me/JBNU-2021/blob/main/Predictive_Analytics/decision_tree/card_pca.ipynb\" target=\"_parent\"><img src=\"https://colab.research.google.com/assets/colab-badge.svg\" alt=\"Open In Colab\"/></a>"
      ]
    },
    {
      "cell_type": "code",
      "metadata": {
        "execution": {
          "iopub.status.busy": "2021-06-07T14:37:45.58111Z",
          "iopub.execute_input": "2021-06-07T14:37:45.581475Z",
          "iopub.status.idle": "2021-06-07T14:37:45.585508Z",
          "shell.execute_reply.started": "2021-06-07T14:37:45.581445Z",
          "shell.execute_reply": "2021-06-07T14:37:45.584462Z"
        },
        "trusted": true,
        "id": "RCNJcaoCDyKC"
      },
      "source": [
        "import numpy as np\n",
        "import pandas as pd"
      ],
      "execution_count": 1,
      "outputs": []
    },
    {
      "cell_type": "code",
      "metadata": {
        "execution": {
          "iopub.status.busy": "2021-06-07T14:37:46.328189Z",
          "iopub.execute_input": "2021-06-07T14:37:46.328548Z",
          "iopub.status.idle": "2021-06-07T14:37:46.367564Z",
          "shell.execute_reply.started": "2021-06-07T14:37:46.328512Z",
          "shell.execute_reply": "2021-06-07T14:37:46.362807Z"
        },
        "trusted": true,
        "id": "50NJFDgSDyKJ"
      },
      "source": [
        "df = pd.read_csv('./credit_cards_dataset.csv')          # OR #  df = pd.read_csv('C:\\\\Users\\\\hossein')"
      ],
      "execution_count": 2,
      "outputs": []
    },
    {
      "cell_type": "code",
      "metadata": {
        "execution": {
          "iopub.status.busy": "2021-06-07T14:37:46.368709Z",
          "iopub.status.idle": "2021-06-07T14:37:46.369133Z"
        },
        "trusted": true,
        "id": "RrnqTzGeDyKK"
      },
      "source": [
        "df.head()"
      ],
      "execution_count": null,
      "outputs": []
    },
    {
      "cell_type": "code",
      "metadata": {
        "execution": {
          "iopub.status.busy": "2021-06-07T14:37:46.369958Z",
          "iopub.status.idle": "2021-06-07T14:37:46.370326Z"
        },
        "trusted": true,
        "id": "vFdHEV0lDyKK"
      },
      "source": [
        "df.info()"
      ],
      "execution_count": null,
      "outputs": []
    },
    {
      "cell_type": "code",
      "metadata": {
        "execution": {
          "iopub.status.busy": "2021-06-07T14:37:46.371332Z",
          "iopub.status.idle": "2021-06-07T14:37:46.371722Z"
        },
        "trusted": true,
        "id": "MAadF4bhDyKL"
      },
      "source": [
        "df.shape"
      ],
      "execution_count": null,
      "outputs": []
    },
    {
      "cell_type": "markdown",
      "metadata": {
        "id": "8Eoyo3JgDyKM"
      },
      "source": [
        "df.columns"
      ]
    },
    {
      "cell_type": "code",
      "metadata": {
        "execution": {
          "iopub.status.busy": "2021-06-07T14:37:46.372616Z",
          "iopub.status.idle": "2021-06-07T14:37:46.372993Z"
        },
        "trusted": true,
        "id": "0RefyV-DDyKN"
      },
      "source": [
        "df.columns"
      ],
      "execution_count": null,
      "outputs": []
    },
    {
      "cell_type": "code",
      "metadata": {
        "execution": {
          "iopub.status.busy": "2021-06-07T14:37:46.382951Z",
          "iopub.status.idle": "2021-06-07T14:37:46.383347Z"
        },
        "trusted": true,
        "id": "si29mqDlDyKS"
      },
      "source": [
        "df[['PAY_0', 'PAY_2', 'PAY_3', 'PAY_4', 'PAY_5', 'PAY_6']]"
      ],
      "execution_count": null,
      "outputs": []
    },
    {
      "cell_type": "code",
      "metadata": {
        "execution": {
          "iopub.status.busy": "2021-06-07T14:37:46.384141Z",
          "iopub.status.idle": "2021-06-07T14:37:46.384555Z"
        },
        "trusted": true,
        "id": "J7HWGfXwDyKS"
      },
      "source": [
        "df['PAY_AVR'] = (df['PAY_0'] + df['PAY_2'] + df['PAY_3'] + df['PAY_4'] + df['PAY_5'] + df['PAY_6'])/6"
      ],
      "execution_count": 9,
      "outputs": []
    },
    {
      "cell_type": "code",
      "metadata": {
        "execution": {
          "iopub.status.busy": "2021-06-07T14:37:46.385428Z",
          "iopub.status.idle": "2021-06-07T14:37:46.385787Z"
        },
        "trusted": true,
        "id": "WTVhan9UDyKT"
      },
      "source": [
        "df['PAY_AVR']"
      ],
      "execution_count": null,
      "outputs": []
    },
    {
      "cell_type": "code",
      "metadata": {
        "execution": {
          "iopub.status.busy": "2021-06-07T14:37:46.386532Z",
          "iopub.status.idle": "2021-06-07T14:37:46.386905Z"
        },
        "trusted": true,
        "id": "Q1vPdL4LDyKT"
      },
      "source": [
        "df['PAY_AVR'] = np.round(df['PAY_AVR'],2)"
      ],
      "execution_count": 13,
      "outputs": []
    },
    {
      "cell_type": "code",
      "metadata": {
        "execution": {
          "iopub.status.busy": "2021-06-07T14:37:46.387705Z",
          "iopub.status.idle": "2021-06-07T14:37:46.38811Z"
        },
        "trusted": true,
        "id": "Bf5Oj1kzDyKT"
      },
      "source": [
        "df['PAY_AVR']"
      ],
      "execution_count": null,
      "outputs": []
    },
    {
      "cell_type": "code",
      "metadata": {
        "execution": {
          "iopub.status.busy": "2021-06-07T14:37:46.388901Z",
          "iopub.status.idle": "2021-06-07T14:37:46.389309Z"
        },
        "trusted": true,
        "id": "k2JQN1t_DyKU"
      },
      "source": [
        "df.drop(['PAY_0', 'PAY_2', 'PAY_3', 'PAY_4', 'PAY_5', 'PAY_6'], axis=1, inplace=True)"
      ],
      "execution_count": 16,
      "outputs": []
    },
    {
      "cell_type": "code",
      "metadata": {
        "execution": {
          "iopub.status.busy": "2021-06-07T14:37:46.390246Z",
          "iopub.status.idle": "2021-06-07T14:37:46.39066Z"
        },
        "trusted": true,
        "id": "qJWVtoICDyKU"
      },
      "source": [
        "df.head()"
      ],
      "execution_count": null,
      "outputs": []
    },
    {
      "cell_type": "code",
      "metadata": {
        "execution": {
          "iopub.status.busy": "2021-06-07T14:37:46.394129Z",
          "iopub.status.idle": "2021-06-07T14:37:46.394549Z"
        },
        "trusted": true,
        "id": "iuBKPFPPDyKW"
      },
      "source": [
        "#df = df.set_index('Payment ID')"
      ],
      "execution_count": null,
      "outputs": []
    },
    {
      "cell_type": "code",
      "metadata": {
        "id": "DB5uc8yzHbh7"
      },
      "source": [
        "cols = df.columns.tolist()"
      ],
      "execution_count": 19,
      "outputs": []
    },
    {
      "cell_type": "code",
      "metadata": {
        "execution": {
          "iopub.status.busy": "2021-06-07T14:37:46.395443Z",
          "iopub.status.idle": "2021-06-07T14:37:46.395841Z"
        },
        "trusted": true,
        "id": "AUSAfsskDyKW"
      },
      "source": [
        "cols = cols[-1:] + cols[:-1]"
      ],
      "execution_count": 20,
      "outputs": []
    },
    {
      "cell_type": "code",
      "metadata": {
        "id": "TC_Ed6wqDyKX"
      },
      "source": [
        "cols"
      ],
      "execution_count": null,
      "outputs": []
    },
    {
      "cell_type": "code",
      "metadata": {
        "id": "s3xZIYUcHrux"
      },
      "source": [
        "df = df[cols]"
      ],
      "execution_count": 22,
      "outputs": []
    },
    {
      "cell_type": "code",
      "metadata": {
        "execution": {
          "iopub.status.busy": "2021-06-07T14:37:46.40343Z",
          "iopub.status.idle": "2021-06-07T14:37:46.403856Z"
        },
        "trusted": true,
        "id": "YJCjiCaFDyKZ"
      },
      "source": [
        "df.head()"
      ],
      "execution_count": null,
      "outputs": []
    },
    {
      "cell_type": "code",
      "metadata": {
        "id": "JDVXfW9TH6KH"
      },
      "source": [
        ""
      ],
      "execution_count": null,
      "outputs": []
    },
    {
      "cell_type": "code",
      "metadata": {
        "execution": {
          "iopub.status.busy": "2021-06-07T14:37:46.404822Z",
          "iopub.status.idle": "2021-06-07T14:37:46.405223Z"
        },
        "trusted": true,
        "id": "D4Jsjv9xDyKZ"
      },
      "source": [
        "df[df['total_bill']>30]"
      ],
      "execution_count": null,
      "outputs": []
    },
    {
      "cell_type": "code",
      "metadata": {
        "execution": {
          "iopub.status.busy": "2021-06-07T14:37:46.406108Z",
          "iopub.status.idle": "2021-06-07T14:37:46.406536Z"
        },
        "trusted": true,
        "id": "9i7m_nOQDyKa"
      },
      "source": [
        "df[df['sex']=='Male']"
      ],
      "execution_count": null,
      "outputs": []
    },
    {
      "cell_type": "code",
      "metadata": {
        "execution": {
          "iopub.status.busy": "2021-06-07T14:37:46.409083Z",
          "iopub.status.idle": "2021-06-07T14:37:46.40951Z"
        },
        "trusted": true,
        "id": "iMsVIxwTDyKa"
      },
      "source": [
        "df[(df['total_bill']>30) & (df['sex']=='Male')]"
      ],
      "execution_count": null,
      "outputs": []
    },
    {
      "cell_type": "code",
      "metadata": {
        "execution": {
          "iopub.status.busy": "2021-06-07T14:37:46.410338Z",
          "iopub.status.idle": "2021-06-07T14:37:46.410754Z"
        },
        "trusted": true,
        "id": "RxnHUdpADyKa"
      },
      "source": [
        "df[(df['total_bill']>30) | (df['sex']=='Male')]"
      ],
      "execution_count": null,
      "outputs": []
    },
    {
      "cell_type": "code",
      "metadata": {
        "execution": {
          "iopub.status.busy": "2021-06-07T14:37:46.411598Z",
          "iopub.status.idle": "2021-06-07T14:37:46.411987Z"
        },
        "trusted": true,
        "id": "7n1GD1jcDyKb"
      },
      "source": [
        "df.head()"
      ],
      "execution_count": null,
      "outputs": []
    },
    {
      "cell_type": "code",
      "metadata": {
        "execution": {
          "iopub.status.busy": "2021-06-07T14:37:46.412847Z",
          "iopub.status.idle": "2021-06-07T14:37:46.413236Z"
        },
        "trusted": true,
        "id": "gKahztrSDyKb"
      },
      "source": [
        "def last_four(num):\n",
        "    return str(num)[-4:]"
      ],
      "execution_count": null,
      "outputs": []
    },
    {
      "cell_type": "code",
      "metadata": {
        "execution": {
          "iopub.status.busy": "2021-06-07T14:37:46.41412Z",
          "iopub.status.idle": "2021-06-07T14:37:46.414529Z"
        },
        "trusted": true,
        "id": "xORv_lnSDyKc"
      },
      "source": [
        "df.iloc[0]"
      ],
      "execution_count": null,
      "outputs": []
    },
    {
      "cell_type": "code",
      "metadata": {
        "execution": {
          "iopub.status.busy": "2021-06-07T14:37:46.415437Z",
          "iopub.status.idle": "2021-06-07T14:37:46.415821Z"
        },
        "trusted": true,
        "id": "40myY1ZNDyKc"
      },
      "source": [
        "last_four(3560325168603410)"
      ],
      "execution_count": null,
      "outputs": []
    },
    {
      "cell_type": "code",
      "metadata": {
        "execution": {
          "iopub.status.busy": "2021-06-07T14:37:46.416755Z",
          "iopub.status.idle": "2021-06-07T14:37:46.417144Z"
        },
        "trusted": true,
        "id": "ztJjSPYWDyKd"
      },
      "source": [
        "df['last_four'] = df['CC Number'].apply(last_four)"
      ],
      "execution_count": null,
      "outputs": []
    },
    {
      "cell_type": "code",
      "metadata": {
        "execution": {
          "iopub.status.busy": "2021-06-07T14:37:46.417941Z",
          "iopub.status.idle": "2021-06-07T14:37:46.418373Z"
        },
        "trusted": true,
        "id": "Hs8DfzwCDyKd"
      },
      "source": [
        "df.head()"
      ],
      "execution_count": null,
      "outputs": []
    },
    {
      "cell_type": "code",
      "metadata": {
        "execution": {
          "iopub.status.busy": "2021-06-07T14:37:46.41925Z",
          "iopub.status.idle": "2021-06-07T14:37:46.419686Z"
        },
        "trusted": true,
        "id": "egKZvJVpDyKd"
      },
      "source": [
        "df.sort_values('tip')       # sort from MIN to MAX"
      ],
      "execution_count": null,
      "outputs": []
    },
    {
      "cell_type": "code",
      "metadata": {
        "execution": {
          "iopub.status.busy": "2021-06-07T14:37:46.420577Z",
          "iopub.status.idle": "2021-06-07T14:37:46.420985Z"
        },
        "trusted": true,
        "id": "CbflCD04DyKe"
      },
      "source": [
        "df.sort_values('tip',ascending=False)    # sort from MAX to MIN"
      ],
      "execution_count": null,
      "outputs": []
    },
    {
      "cell_type": "code",
      "metadata": {
        "execution": {
          "iopub.status.busy": "2021-06-07T14:37:46.42184Z",
          "iopub.status.idle": "2021-06-07T14:37:46.422231Z"
        },
        "trusted": true,
        "id": "8KyRQZcXDyKe"
      },
      "source": [
        "df.sort_values(['tip','size'])"
      ],
      "execution_count": null,
      "outputs": []
    },
    {
      "cell_type": "code",
      "metadata": {
        "execution": {
          "iopub.status.busy": "2021-06-07T14:37:46.423103Z",
          "iopub.status.idle": "2021-06-07T14:37:46.423538Z"
        },
        "trusted": true,
        "id": "nRMUjx5CDyKf"
      },
      "source": [
        "df.corr()"
      ],
      "execution_count": null,
      "outputs": []
    },
    {
      "cell_type": "code",
      "metadata": {
        "execution": {
          "iopub.status.busy": "2021-06-07T14:37:46.424459Z",
          "iopub.status.idle": "2021-06-07T14:37:46.424863Z"
        },
        "trusted": true,
        "id": "1Uc4Y8yHDyKf"
      },
      "source": [
        "df['total_bill'].max()"
      ],
      "execution_count": null,
      "outputs": []
    },
    {
      "cell_type": "code",
      "metadata": {
        "execution": {
          "iopub.status.busy": "2021-06-07T14:37:46.425724Z",
          "iopub.status.idle": "2021-06-07T14:37:46.42613Z"
        },
        "trusted": true,
        "id": "_87obPrCDyKf"
      },
      "source": [
        "df['total_bill'].idxmax()"
      ],
      "execution_count": null,
      "outputs": []
    },
    {
      "cell_type": "code",
      "metadata": {
        "execution": {
          "iopub.status.busy": "2021-06-07T14:37:46.426939Z",
          "iopub.status.idle": "2021-06-07T14:37:46.427372Z"
        },
        "trusted": true,
        "id": "2eGSjgKlDyKg"
      },
      "source": [
        "df.iloc[170]"
      ],
      "execution_count": null,
      "outputs": []
    },
    {
      "cell_type": "code",
      "metadata": {
        "execution": {
          "iopub.status.busy": "2021-06-07T14:37:46.428329Z",
          "iopub.status.idle": "2021-06-07T14:37:46.428746Z"
        },
        "trusted": true,
        "id": "0QSDvSeWDyKg"
      },
      "source": [
        "df['total_bill'].min()"
      ],
      "execution_count": null,
      "outputs": []
    },
    {
      "cell_type": "code",
      "metadata": {
        "execution": {
          "iopub.status.busy": "2021-06-07T14:37:46.429651Z",
          "iopub.status.idle": "2021-06-07T14:37:46.430043Z"
        },
        "trusted": true,
        "id": "Axts0J_WDyKg"
      },
      "source": [
        "df['total_bill'].idxmin()"
      ],
      "execution_count": null,
      "outputs": []
    },
    {
      "cell_type": "code",
      "metadata": {
        "execution": {
          "iopub.status.busy": "2021-06-07T14:37:46.43083Z",
          "iopub.status.idle": "2021-06-07T14:37:46.431213Z"
        },
        "trusted": true,
        "id": "mxTkUYcZDyKh"
      },
      "source": [
        "df['sex'].value_counts()"
      ],
      "execution_count": null,
      "outputs": []
    },
    {
      "cell_type": "code",
      "metadata": {
        "execution": {
          "iopub.status.busy": "2021-06-07T14:37:46.432097Z",
          "iopub.status.idle": "2021-06-07T14:37:46.432503Z"
        },
        "trusted": true,
        "id": "ORhx2QT-DyKh"
      },
      "source": [
        "df['day'].value_counts()"
      ],
      "execution_count": null,
      "outputs": []
    },
    {
      "cell_type": "code",
      "metadata": {
        "execution": {
          "iopub.status.busy": "2021-06-07T14:37:46.433239Z",
          "iopub.status.idle": "2021-06-07T14:37:46.433657Z"
        },
        "trusted": true,
        "id": "akmGcpRaDyKi"
      },
      "source": [
        "df['sex'].unique()"
      ],
      "execution_count": null,
      "outputs": []
    },
    {
      "cell_type": "code",
      "metadata": {
        "execution": {
          "iopub.status.busy": "2021-06-07T14:37:46.434455Z",
          "iopub.status.idle": "2021-06-07T14:37:46.434842Z"
        },
        "trusted": true,
        "id": "Dfo_0L5ODyKi"
      },
      "source": [
        "df['sex'].nunique()"
      ],
      "execution_count": null,
      "outputs": []
    },
    {
      "cell_type": "code",
      "metadata": {
        "execution": {
          "iopub.status.busy": "2021-06-07T14:37:46.435746Z",
          "iopub.status.idle": "2021-06-07T14:37:46.436137Z"
        },
        "trusted": true,
        "id": "e1dGOChoDyKj"
      },
      "source": [
        "df['day'].unique()"
      ],
      "execution_count": null,
      "outputs": []
    },
    {
      "cell_type": "code",
      "metadata": {
        "execution": {
          "iopub.status.busy": "2021-06-07T14:37:46.437022Z",
          "iopub.status.idle": "2021-06-07T14:37:46.437434Z"
        },
        "trusted": true,
        "id": "CcmYo-jcDyKj"
      },
      "source": [
        "df['day'].nunique()"
      ],
      "execution_count": null,
      "outputs": []
    },
    {
      "cell_type": "code",
      "metadata": {
        "execution": {
          "iopub.status.busy": "2021-06-07T14:37:46.438327Z",
          "iopub.status.idle": "2021-06-07T14:37:46.438737Z"
        },
        "trusted": true,
        "id": "VsxCdIL1DyKj"
      },
      "source": [
        "df['day'].value_counts()"
      ],
      "execution_count": null,
      "outputs": []
    },
    {
      "cell_type": "code",
      "metadata": {
        "execution": {
          "iopub.status.busy": "2021-06-07T14:37:46.439665Z",
          "iopub.status.idle": "2021-06-07T14:37:46.440155Z"
        },
        "trusted": true,
        "id": "qBNPP3XDDyKk"
      },
      "source": [
        "df.groupby('sex').mean()"
      ],
      "execution_count": null,
      "outputs": []
    },
    {
      "cell_type": "code",
      "metadata": {
        "execution": {
          "iopub.status.busy": "2021-06-07T14:37:46.441036Z",
          "iopub.status.idle": "2021-06-07T14:37:46.44156Z"
        },
        "trusted": true,
        "id": "KcDQrD9UDyKk"
      },
      "source": [
        "df.groupby('day').mean()"
      ],
      "execution_count": null,
      "outputs": []
    },
    {
      "cell_type": "code",
      "metadata": {
        "execution": {
          "iopub.status.busy": "2021-06-07T14:37:46.442489Z",
          "iopub.status.idle": "2021-06-07T14:37:46.442933Z"
        },
        "trusted": true,
        "id": "p1ejH4cgDyKl"
      },
      "source": [
        "df.groupby('day').describe()"
      ],
      "execution_count": null,
      "outputs": []
    },
    {
      "cell_type": "code",
      "metadata": {
        "id": "FczmABo4DyKl"
      },
      "source": [
        ""
      ],
      "execution_count": null,
      "outputs": []
    }
  ]
}