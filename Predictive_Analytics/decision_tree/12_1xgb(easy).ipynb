{
  "nbformat": 4,
  "nbformat_minor": 0,
  "metadata": {
    "kernelspec": {
      "display_name": "Python 3",
      "language": "python",
      "name": "python3"
    },
    "language_info": {
      "codemirror_mode": {
        "name": "ipython",
        "version": 3
      },
      "file_extension": ".py",
      "mimetype": "text/x-python",
      "name": "python",
      "nbconvert_exporter": "python",
      "pygments_lexer": "ipython3",
      "version": "3.7.6"
    },
    "colab": {
      "name": "12-1xgb(easy).ipynb",
      "provenance": [],
      "include_colab_link": true
    },
    "accelerator": "GPU"
  },
  "cells": [
    {
      "cell_type": "markdown",
      "metadata": {
        "id": "view-in-github",
        "colab_type": "text"
      },
      "source": [
        "<a href=\"https://colab.research.google.com/github/JSJeong-me/JBNU-2021/blob/main/Predictive_Analytics/decision_tree/12_1xgb(easy).ipynb\" target=\"_parent\"><img src=\"https://colab.research.google.com/assets/colab-badge.svg\" alt=\"Open In Colab\"/></a>"
      ]
    },
    {
      "cell_type": "markdown",
      "metadata": {
        "id": "Cyup1mbzquA_"
      },
      "source": [
        "### XGBoosting Easy version"
      ]
    },
    {
      "cell_type": "code",
      "metadata": {
        "id": "m1g_sSE1quBA"
      },
      "source": [
        "import numpy as np                   # array, vector, matrix calculations\n",
        "import pandas as pd                  # DataFrame handling\n",
        "#import shap                          # for consistent, signed variable importance measurements\n",
        "import xgboost as xgb                # gradient boosting machines (GBMs)\n",
        "import math\n",
        "\n",
        "import matplotlib.pyplot as plt      # plotting\n",
        "pd.options.display.max_columns = 999 # enable display of all columns in notebook\n",
        "\n",
        "# enables display of plots in notebook\n",
        "%matplotlib inline\n",
        "\n",
        "np.random.seed(42)                # set random seed for reproducibility"
      ],
      "execution_count": 1,
      "outputs": []
    },
    {
      "cell_type": "code",
      "metadata": {
        "id": "uHyYIc4UquBC"
      },
      "source": [
        "# import XLS file\n",
        "path = \"./credit_cards_dataset.csv\"\n",
        "#data = pd.read_excel(path, skiprows=1) # skip the first row of the spreadsheet\n",
        "\n",
        "#path = 'C:\\\\Users\\\\User\\\\Desktop\\\\data\\\\original_data.csv'\n",
        "#data = pd.read_csv(path, skiprows=1) # skip the first row of the spreadsheet\n",
        "data = pd.read_csv(path) # skip the first row of the spreadsheet\n",
        "\n",
        "# remove spaces from target column name \n",
        "data = data.rename(columns={'default payment next month': 'DEFAULT_NEXT_MONTH'})"
      ],
      "execution_count": 2,
      "outputs": []
    },
    {
      "cell_type": "code",
      "metadata": {
        "id": "8L2bKXdvquBD"
      },
      "source": [
        "# assign target and inputs for GBM\n",
        "#y = 'DEFAULT_NEXT_MONTH'\n",
        "y='default.payment.next.month'\n",
        "X = [name for name in data.columns if name not in [y, 'ID', 'Y_Value']]\n",
        "print('y =', y)\n",
        "print('X =', X)"
      ],
      "execution_count": null,
      "outputs": []
    },
    {
      "cell_type": "code",
      "metadata": {
        "colab": {
          "base_uri": "https://localhost:8080/"
        },
        "id": "xgHQvf0cquBG",
        "outputId": "97cf7434-25d6-4e87-e6b1-0ea023a90f9a"
      },
      "source": [
        "split_ratio=0.7\n",
        "\n",
        "# execute split\n",
        "split = np.random.rand(len(data)) < split_ratio\n",
        "train=data[split]\n",
        "test=data[~split]\n",
        "\n",
        "print('Train data rows = %d. columns = %d' % (train.shape[0], train.shape[1]))\n",
        "print('Test data rows = %d. columns = %d' % (test.shape[0], test.shape[1]))"
      ],
      "execution_count": 4,
      "outputs": [
        {
          "output_type": "stream",
          "text": [
            "Train data rows = 21087. columns = 25\n",
            "Test data rows = 8913. columns = 25\n"
          ],
          "name": "stdout"
        }
      ]
    },
    {
      "cell_type": "code",
      "metadata": {
        "id": "et6Lv1eHquBH"
      },
      "source": [
        "# XGBoost uses SVMLight data structure, not Numpy arrays or Pandas DataFrames \n",
        "\n",
        "mod = xgb.XGBRegressor(\n",
        "    gamma=1,                 \n",
        "    learning_rate=0.01,\n",
        "    max_depth=3,\n",
        "    n_estimators=10000,                                                                    \n",
        "    subsample=0.8,\n",
        "    random_state=42,\n",
        "    verbosity=1\n",
        ")"
      ],
      "execution_count": 5,
      "outputs": []
    },
    {
      "cell_type": "code",
      "metadata": {
        "id": "MT6WJFi7quBI"
      },
      "source": [
        "mod.fit(train[X], train[y])"
      ],
      "execution_count": null,
      "outputs": []
    },
    {
      "cell_type": "code",
      "metadata": {
        "id": "JHEaQ_T8quBJ"
      },
      "source": [
        "predictions = mod.predict(test[X])"
      ],
      "execution_count": 7,
      "outputs": []
    },
    {
      "cell_type": "code",
      "metadata": {
        "id": "QQKHu5dkquBK"
      },
      "source": [
        "from sklearn.metrics import mean_squared_error"
      ],
      "execution_count": 8,
      "outputs": []
    },
    {
      "cell_type": "code",
      "metadata": {
        "id": "XAkUNEvbquBY"
      },
      "source": [
        "test[y]"
      ],
      "execution_count": null,
      "outputs": []
    },
    {
      "cell_type": "code",
      "metadata": {
        "id": "5F6PDlmCquBZ"
      },
      "source": [
        "rmse = math.sqrt(mean_squared_error(test[y], predictions))\n",
        "print(rmse)\n",
        "#print(\"score: {0:,.0f}\".format(rmse))"
      ],
      "execution_count": null,
      "outputs": []
    },
    {
      "cell_type": "code",
      "metadata": {
        "id": "N2GMZDMlquBa"
      },
      "source": [
        "predictions=np.rint(predictions)"
      ],
      "execution_count": 10,
      "outputs": []
    },
    {
      "cell_type": "code",
      "metadata": {
        "id": "lQwHf3emquBa"
      },
      "source": [
        "predictions"
      ],
      "execution_count": null,
      "outputs": []
    },
    {
      "cell_type": "code",
      "metadata": {
        "id": "J9iVto6XquBb"
      },
      "source": [
        ""
      ],
      "execution_count": null,
      "outputs": []
    },
    {
      "cell_type": "code",
      "metadata": {
        "id": "KXkJ-PMkquBb"
      },
      "source": [
        "from sklearn.model_selection import train_test_split\n",
        "from sklearn.metrics import accuracy_score\n",
        "from sklearn.metrics import confusion_matrix\n",
        "from sklearn.metrics import precision_score\n",
        "from sklearn.metrics import recall_score\n",
        "from sklearn import metrics\n",
        "from sklearn.model_selection import GridSearchCV\n",
        "\n",
        "accuracy = accuracy_score(test[y], predictions)\n",
        "cm = confusion_matrix(test[y], predictions)\n",
        "precision = precision_score(test[y], predictions)\n",
        "recall = recall_score(test[y], predictions)"
      ],
      "execution_count": 11,
      "outputs": []
    },
    {
      "cell_type": "code",
      "metadata": {
        "id": "nVVodFHSquBc"
      },
      "source": [
        "print(accuracy)\n",
        "print(cm)\n",
        "print(precision)\n",
        "print(recall)"
      ],
      "execution_count": null,
      "outputs": []
    },
    {
      "cell_type": "code",
      "metadata": {
        "id": "AjCucydzquBc"
      },
      "source": [
        "import matplotlib\n",
        "import matplotlib.pyplot as plt\n",
        "%matplotlib inline\n",
        "import itertools\n",
        "\n",
        "def plot_confusion_matrix(cm, classes,\n",
        "                          normalize=False,\n",
        "                          title='Confusion matrix',\n",
        "                          cmap=plt.cm.Blues):\n",
        "    if normalize:\n",
        "        cm = cm.astype('float') / cm.sum(axis=1)[:, np.newaxis]\n",
        "        print(\"Normalized confusion matrix\")\n",
        "    else:\n",
        "        print('Confusion matrix, without normalization')\n",
        "\n",
        "    print(cm)\n",
        "    \n",
        "    plt.imshow(cm, interpolation='nearest', cmap=cmap)\n",
        "    plt.title(title)\n",
        "    plt.colorbar()\n",
        "    tick_marks = np.arange(len(classes))\n",
        "    plt.xticks(tick_marks, classes, rotation=45)\n",
        "    plt.yticks(tick_marks, classes)\n",
        "\n",
        "    fmt = '.2f' if normalize else 'd'\n",
        "    thresh = cm.max() / 2.\n",
        "    for i, j in itertools.product(range(cm.shape[0]), range(cm.shape[1])):\n",
        "        plt.text(j, i, format(cm[i, j], fmt),\n",
        "                 horizontalalignment=\"center\",\n",
        "                 color=\"white\" if cm[i, j] > thresh else \"black\")"
      ],
      "execution_count": 13,
      "outputs": []
    },
    {
      "cell_type": "code",
      "metadata": {
        "id": "sCHQmexlquBd"
      },
      "source": [
        "plt.figure()\n",
        "plot_confusion_matrix(cm, classes=['Non_Default','Default'], normalize=False,\n",
        "                      title='Non Normalized confusion matrix')"
      ],
      "execution_count": null,
      "outputs": []
    },
    {
      "cell_type": "code",
      "metadata": {
        "id": "qs8jOa-iquBe"
      },
      "source": [
        ""
      ],
      "execution_count": null,
      "outputs": []
    }
  ]
}