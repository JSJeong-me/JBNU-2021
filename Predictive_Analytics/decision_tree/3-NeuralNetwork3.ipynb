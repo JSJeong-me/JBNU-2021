{
 "cells": [
  {
   "cell_type": "code",
   "execution_count": 1,
   "metadata": {},
   "outputs": [
    {
     "name": "stderr",
     "output_type": "stream",
     "text": [
      "Using TensorFlow backend.\n",
      "C:\\Users\\heine\\anaconda3\\lib\\site-packages\\tensorflow\\python\\framework\\dtypes.py:516: FutureWarning: Passing (type, 1) or '1type' as a synonym of type is deprecated; in a future version of numpy, it will be understood as (type, (1,)) / '(1,)type'.\n",
      "  _np_qint8 = np.dtype([(\"qint8\", np.int8, 1)])\n",
      "C:\\Users\\heine\\anaconda3\\lib\\site-packages\\tensorflow\\python\\framework\\dtypes.py:517: FutureWarning: Passing (type, 1) or '1type' as a synonym of type is deprecated; in a future version of numpy, it will be understood as (type, (1,)) / '(1,)type'.\n",
      "  _np_quint8 = np.dtype([(\"quint8\", np.uint8, 1)])\n",
      "C:\\Users\\heine\\anaconda3\\lib\\site-packages\\tensorflow\\python\\framework\\dtypes.py:518: FutureWarning: Passing (type, 1) or '1type' as a synonym of type is deprecated; in a future version of numpy, it will be understood as (type, (1,)) / '(1,)type'.\n",
      "  _np_qint16 = np.dtype([(\"qint16\", np.int16, 1)])\n",
      "C:\\Users\\heine\\anaconda3\\lib\\site-packages\\tensorflow\\python\\framework\\dtypes.py:519: FutureWarning: Passing (type, 1) or '1type' as a synonym of type is deprecated; in a future version of numpy, it will be understood as (type, (1,)) / '(1,)type'.\n",
      "  _np_quint16 = np.dtype([(\"quint16\", np.uint16, 1)])\n",
      "C:\\Users\\heine\\anaconda3\\lib\\site-packages\\tensorflow\\python\\framework\\dtypes.py:520: FutureWarning: Passing (type, 1) or '1type' as a synonym of type is deprecated; in a future version of numpy, it will be understood as (type, (1,)) / '(1,)type'.\n",
      "  _np_qint32 = np.dtype([(\"qint32\", np.int32, 1)])\n",
      "C:\\Users\\heine\\anaconda3\\lib\\site-packages\\tensorflow\\python\\framework\\dtypes.py:525: FutureWarning: Passing (type, 1) or '1type' as a synonym of type is deprecated; in a future version of numpy, it will be understood as (type, (1,)) / '(1,)type'.\n",
      "  np_resource = np.dtype([(\"resource\", np.ubyte, 1)])\n",
      "C:\\Users\\heine\\anaconda3\\lib\\site-packages\\tensorboard\\compat\\tensorflow_stub\\dtypes.py:541: FutureWarning: Passing (type, 1) or '1type' as a synonym of type is deprecated; in a future version of numpy, it will be understood as (type, (1,)) / '(1,)type'.\n",
      "  _np_qint8 = np.dtype([(\"qint8\", np.int8, 1)])\n",
      "C:\\Users\\heine\\anaconda3\\lib\\site-packages\\tensorboard\\compat\\tensorflow_stub\\dtypes.py:542: FutureWarning: Passing (type, 1) or '1type' as a synonym of type is deprecated; in a future version of numpy, it will be understood as (type, (1,)) / '(1,)type'.\n",
      "  _np_quint8 = np.dtype([(\"quint8\", np.uint8, 1)])\n",
      "C:\\Users\\heine\\anaconda3\\lib\\site-packages\\tensorboard\\compat\\tensorflow_stub\\dtypes.py:543: FutureWarning: Passing (type, 1) or '1type' as a synonym of type is deprecated; in a future version of numpy, it will be understood as (type, (1,)) / '(1,)type'.\n",
      "  _np_qint16 = np.dtype([(\"qint16\", np.int16, 1)])\n",
      "C:\\Users\\heine\\anaconda3\\lib\\site-packages\\tensorboard\\compat\\tensorflow_stub\\dtypes.py:544: FutureWarning: Passing (type, 1) or '1type' as a synonym of type is deprecated; in a future version of numpy, it will be understood as (type, (1,)) / '(1,)type'.\n",
      "  _np_quint16 = np.dtype([(\"quint16\", np.uint16, 1)])\n",
      "C:\\Users\\heine\\anaconda3\\lib\\site-packages\\tensorboard\\compat\\tensorflow_stub\\dtypes.py:545: FutureWarning: Passing (type, 1) or '1type' as a synonym of type is deprecated; in a future version of numpy, it will be understood as (type, (1,)) / '(1,)type'.\n",
      "  _np_qint32 = np.dtype([(\"qint32\", np.int32, 1)])\n",
      "C:\\Users\\heine\\anaconda3\\lib\\site-packages\\tensorboard\\compat\\tensorflow_stub\\dtypes.py:550: FutureWarning: Passing (type, 1) or '1type' as a synonym of type is deprecated; in a future version of numpy, it will be understood as (type, (1,)) / '(1,)type'.\n",
      "  np_resource = np.dtype([(\"resource\", np.ubyte, 1)])\n"
     ]
    }
   ],
   "source": [
    "from sklearn.model_selection import train_test_split\n",
    "import pandas as pd\n",
    "import numpy as np\n",
    "from sklearn.preprocessing import StandardScaler\n",
    "from keras.utils import to_categorical\n",
    "from keras.models import Sequential\n",
    "from keras.layers import Dense"
   ]
  },
  {
   "cell_type": "code",
   "execution_count": 2,
   "metadata": {},
   "outputs": [],
   "source": [
    "#df = pd.read_csv(\".\\\\Data_USD.csv\", header=None,skiprows=1)\n",
    "df = pd.read_csv(\".\\\\Data_USD.csv\")\n",
    "df.head().to_csv(\".\\\\test.csv\")"
   ]
  },
  {
   "cell_type": "code",
   "execution_count": 3,
   "metadata": {},
   "outputs": [],
   "source": [
    "T=df.groupby(\"SEX\") "
   ]
  },
  {
   "cell_type": "code",
   "execution_count": 4,
   "metadata": {},
   "outputs": [
    {
     "data": {
      "text/html": [
       "<div>\n",
       "<style scoped>\n",
       "    .dataframe tbody tr th:only-of-type {\n",
       "        vertical-align: middle;\n",
       "    }\n",
       "\n",
       "    .dataframe tbody tr th {\n",
       "        vertical-align: top;\n",
       "    }\n",
       "\n",
       "    .dataframe thead tr th {\n",
       "        text-align: left;\n",
       "    }\n",
       "\n",
       "    .dataframe thead tr:last-of-type th {\n",
       "        text-align: right;\n",
       "    }\n",
       "</style>\n",
       "<table border=\"1\" class=\"dataframe\">\n",
       "  <thead>\n",
       "    <tr>\n",
       "      <th></th>\n",
       "      <th colspan=\"8\" halign=\"left\">LIMIT_BAL_US</th>\n",
       "      <th colspan=\"2\" halign=\"left\">EDUCATION</th>\n",
       "      <th>...</th>\n",
       "      <th colspan=\"2\" halign=\"left\">CREDIT_UTILIZATION</th>\n",
       "      <th colspan=\"8\" halign=\"left\">DEFAULT_PAYMENT_NEXT_MO</th>\n",
       "    </tr>\n",
       "    <tr>\n",
       "      <th></th>\n",
       "      <th>count</th>\n",
       "      <th>mean</th>\n",
       "      <th>std</th>\n",
       "      <th>min</th>\n",
       "      <th>25%</th>\n",
       "      <th>50%</th>\n",
       "      <th>75%</th>\n",
       "      <th>max</th>\n",
       "      <th>count</th>\n",
       "      <th>mean</th>\n",
       "      <th>...</th>\n",
       "      <th>75%</th>\n",
       "      <th>max</th>\n",
       "      <th>count</th>\n",
       "      <th>mean</th>\n",
       "      <th>std</th>\n",
       "      <th>min</th>\n",
       "      <th>25%</th>\n",
       "      <th>50%</th>\n",
       "      <th>75%</th>\n",
       "      <th>max</th>\n",
       "    </tr>\n",
       "    <tr>\n",
       "      <th>SEX</th>\n",
       "      <th></th>\n",
       "      <th></th>\n",
       "      <th></th>\n",
       "      <th></th>\n",
       "      <th></th>\n",
       "      <th></th>\n",
       "      <th></th>\n",
       "      <th></th>\n",
       "      <th></th>\n",
       "      <th></th>\n",
       "      <th></th>\n",
       "      <th></th>\n",
       "      <th></th>\n",
       "      <th></th>\n",
       "      <th></th>\n",
       "      <th></th>\n",
       "      <th></th>\n",
       "      <th></th>\n",
       "      <th></th>\n",
       "      <th></th>\n",
       "      <th></th>\n",
       "    </tr>\n",
       "  </thead>\n",
       "  <tbody>\n",
       "    <tr>\n",
       "      <th>1</th>\n",
       "      <td>11888.0</td>\n",
       "      <td>5933.433651</td>\n",
       "      <td>4943.946037</td>\n",
       "      <td>362.857143</td>\n",
       "      <td>1814.285714</td>\n",
       "      <td>4717.142857</td>\n",
       "      <td>8708.571429</td>\n",
       "      <td>29028.57143</td>\n",
       "      <td>11888.0</td>\n",
       "      <td>1.839250</td>\n",
       "      <td>...</td>\n",
       "      <td>0.867975</td>\n",
       "      <td>4.1406</td>\n",
       "      <td>11888.0</td>\n",
       "      <td>0.241672</td>\n",
       "      <td>0.428115</td>\n",
       "      <td>0.0</td>\n",
       "      <td>0.0</td>\n",
       "      <td>0.0</td>\n",
       "      <td>0.0</td>\n",
       "      <td>1.0</td>\n",
       "    </tr>\n",
       "    <tr>\n",
       "      <th>2</th>\n",
       "      <td>18112.0</td>\n",
       "      <td>6171.708764</td>\n",
       "      <td>4544.124514</td>\n",
       "      <td>362.857143</td>\n",
       "      <td>2540.000000</td>\n",
       "      <td>5442.857143</td>\n",
       "      <td>8708.571429</td>\n",
       "      <td>36285.71429</td>\n",
       "      <td>18112.0</td>\n",
       "      <td>1.862246</td>\n",
       "      <td>...</td>\n",
       "      <td>0.792862</td>\n",
       "      <td>6.4553</td>\n",
       "      <td>18112.0</td>\n",
       "      <td>0.207763</td>\n",
       "      <td>0.405717</td>\n",
       "      <td>0.0</td>\n",
       "      <td>0.0</td>\n",
       "      <td>0.0</td>\n",
       "      <td>0.0</td>\n",
       "      <td>1.0</td>\n",
       "    </tr>\n",
       "  </tbody>\n",
       "</table>\n",
       "<p>2 rows × 80 columns</p>\n",
       "</div>"
      ],
      "text/plain": [
       "    LIMIT_BAL_US                                                     \\\n",
       "           count         mean          std         min          25%   \n",
       "SEX                                                                   \n",
       "1        11888.0  5933.433651  4943.946037  362.857143  1814.285714   \n",
       "2        18112.0  6171.708764  4544.124514  362.857143  2540.000000   \n",
       "\n",
       "                                           EDUCATION            ...  \\\n",
       "             50%          75%          max     count      mean  ...   \n",
       "SEX                                                             ...   \n",
       "1    4717.142857  8708.571429  29028.57143   11888.0  1.839250  ...   \n",
       "2    5442.857143  8708.571429  36285.71429   18112.0  1.862246  ...   \n",
       "\n",
       "    CREDIT_UTILIZATION         DEFAULT_PAYMENT_NEXT_MO                      \\\n",
       "                   75%     max                   count      mean       std   \n",
       "SEX                                                                          \n",
       "1             0.867975  4.1406                 11888.0  0.241672  0.428115   \n",
       "2             0.792862  6.4553                 18112.0  0.207763  0.405717   \n",
       "\n",
       "                              \n",
       "     min  25%  50%  75%  max  \n",
       "SEX                           \n",
       "1    0.0  0.0  0.0  0.0  1.0  \n",
       "2    0.0  0.0  0.0  0.0  1.0  \n",
       "\n",
       "[2 rows x 80 columns]"
      ]
     },
     "execution_count": 4,
     "metadata": {},
     "output_type": "execute_result"
    }
   ],
   "source": [
    "T.describe()"
   ]
  },
  {
   "cell_type": "code",
   "execution_count": 5,
   "metadata": {},
   "outputs": [
    {
     "data": {
      "text/html": [
       "<div>\n",
       "<style scoped>\n",
       "    .dataframe tbody tr th:only-of-type {\n",
       "        vertical-align: middle;\n",
       "    }\n",
       "\n",
       "    .dataframe tbody tr th {\n",
       "        vertical-align: top;\n",
       "    }\n",
       "\n",
       "    .dataframe thead th {\n",
       "        text-align: right;\n",
       "    }\n",
       "</style>\n",
       "<table border=\"1\" class=\"dataframe\">\n",
       "  <thead>\n",
       "    <tr style=\"text-align: right;\">\n",
       "      <th></th>\n",
       "      <th>LIMIT_BAL_US</th>\n",
       "      <th>SEX</th>\n",
       "      <th>EDUCATION</th>\n",
       "      <th>MARRIAGE</th>\n",
       "      <th>AGE</th>\n",
       "      <th>PAY_SCORE_AVG</th>\n",
       "      <th>BILL_AVG_US</th>\n",
       "      <th>PAY_AMT_AVG_US</th>\n",
       "      <th>PAY_TO_BILL</th>\n",
       "      <th>CREDIT_UTILIZATION</th>\n",
       "      <th>DEFAULT_PAYMENT_NEXT_MO</th>\n",
       "    </tr>\n",
       "  </thead>\n",
       "  <tbody>\n",
       "    <tr>\n",
       "      <th>29995</th>\n",
       "      <td>7982.857143</td>\n",
       "      <td>1</td>\n",
       "      <td>3</td>\n",
       "      <td>1</td>\n",
       "      <td>39</td>\n",
       "      <td>0.00</td>\n",
       "      <td>4386.634429</td>\n",
       "      <td>257.326190</td>\n",
       "      <td>0.06</td>\n",
       "      <td>0.858855</td>\n",
       "      <td>0</td>\n",
       "    </tr>\n",
       "    <tr>\n",
       "      <th>29996</th>\n",
       "      <td>5442.857143</td>\n",
       "      <td>1</td>\n",
       "      <td>3</td>\n",
       "      <td>2</td>\n",
       "      <td>43</td>\n",
       "      <td>-0.67</td>\n",
       "      <td>128.100667</td>\n",
       "      <td>87.630000</td>\n",
       "      <td>0.68</td>\n",
       "      <td>0.011220</td>\n",
       "      <td>0</td>\n",
       "    </tr>\n",
       "    <tr>\n",
       "      <th>29997</th>\n",
       "      <td>1088.571429</td>\n",
       "      <td>1</td>\n",
       "      <td>2</td>\n",
       "      <td>2</td>\n",
       "      <td>37</td>\n",
       "      <td>1.33</td>\n",
       "      <td>426.332952</td>\n",
       "      <td>189.290476</td>\n",
       "      <td>0.44</td>\n",
       "      <td>0.118833</td>\n",
       "      <td>1</td>\n",
       "    </tr>\n",
       "    <tr>\n",
       "      <th>29998</th>\n",
       "      <td>2902.857143</td>\n",
       "      <td>1</td>\n",
       "      <td>3</td>\n",
       "      <td>1</td>\n",
       "      <td>41</td>\n",
       "      <td>-0.17</td>\n",
       "      <td>1612.361762</td>\n",
       "      <td>890.094619</td>\n",
       "      <td>0.55</td>\n",
       "      <td>-0.020563</td>\n",
       "      <td>1</td>\n",
       "    </tr>\n",
       "    <tr>\n",
       "      <th>29999</th>\n",
       "      <td>1814.285714</td>\n",
       "      <td>1</td>\n",
       "      <td>2</td>\n",
       "      <td>1</td>\n",
       "      <td>46</td>\n",
       "      <td>0.00</td>\n",
       "      <td>1396.238000</td>\n",
       "      <td>50.243619</td>\n",
       "      <td>0.04</td>\n",
       "      <td>0.958580</td>\n",
       "      <td>1</td>\n",
       "    </tr>\n",
       "  </tbody>\n",
       "</table>\n",
       "</div>"
      ],
      "text/plain": [
       "       LIMIT_BAL_US  SEX  EDUCATION  MARRIAGE  AGE  PAY_SCORE_AVG  \\\n",
       "29995   7982.857143    1          3         1   39           0.00   \n",
       "29996   5442.857143    1          3         2   43          -0.67   \n",
       "29997   1088.571429    1          2         2   37           1.33   \n",
       "29998   2902.857143    1          3         1   41          -0.17   \n",
       "29999   1814.285714    1          2         1   46           0.00   \n",
       "\n",
       "       BILL_AVG_US  PAY_AMT_AVG_US  PAY_TO_BILL  CREDIT_UTILIZATION  \\\n",
       "29995  4386.634429      257.326190         0.06            0.858855   \n",
       "29996   128.100667       87.630000         0.68            0.011220   \n",
       "29997   426.332952      189.290476         0.44            0.118833   \n",
       "29998  1612.361762      890.094619         0.55           -0.020563   \n",
       "29999  1396.238000       50.243619         0.04            0.958580   \n",
       "\n",
       "       DEFAULT_PAYMENT_NEXT_MO  \n",
       "29995                        0  \n",
       "29996                        0  \n",
       "29997                        1  \n",
       "29998                        1  \n",
       "29999                        1  "
      ]
     },
     "execution_count": 5,
     "metadata": {},
     "output_type": "execute_result"
    }
   ],
   "source": [
    "df.tail()"
   ]
  },
  {
   "cell_type": "code",
   "execution_count": 6,
   "metadata": {},
   "outputs": [
    {
     "data": {
      "text/plain": [
       "1814.285714"
      ]
     },
     "execution_count": 6,
     "metadata": {},
     "output_type": "execute_result"
    }
   ],
   "source": [
    "# X = df.drop('Y_Value',axis =1).values\n",
    "# y = df['Y_Value'].values\n",
    "X = df.drop('DEFAULT_PAYMENT_NEXT_MO',axis =1).values\n",
    "X[2999,0]"
   ]
  },
  {
   "cell_type": "code",
   "execution_count": 7,
   "metadata": {},
   "outputs": [
    {
     "data": {
      "text/plain": [
       "(30000, 10)"
      ]
     },
     "execution_count": 7,
     "metadata": {},
     "output_type": "execute_result"
    }
   ],
   "source": [
    "X.shape"
   ]
  },
  {
   "cell_type": "code",
   "execution_count": 8,
   "metadata": {},
   "outputs": [],
   "source": [
    "y = df['DEFAULT_PAYMENT_NEXT_MO'].values\n",
    "#y.reshape(-1,1)"
   ]
  },
  {
   "cell_type": "code",
   "execution_count": 9,
   "metadata": {},
   "outputs": [
    {
     "data": {
      "text/plain": [
       "(30000, 10)"
      ]
     },
     "execution_count": 9,
     "metadata": {},
     "output_type": "execute_result"
    }
   ],
   "source": [
    "#print(X.shape)\n",
    "X.shape"
   ]
  },
  {
   "cell_type": "code",
   "execution_count": 10,
   "metadata": {},
   "outputs": [
    {
     "data": {
      "text/plain": [
       "(30000,)"
      ]
     },
     "execution_count": 10,
     "metadata": {},
     "output_type": "execute_result"
    }
   ],
   "source": [
    "#print(y.shape)\n",
    "y.shape"
   ]
  },
  {
   "cell_type": "code",
   "execution_count": 11,
   "metadata": {},
   "outputs": [],
   "source": [
    "X_train, X_test, y_train, y_test = train_test_split (X,y,test_size=0.3, random_state=42)"
   ]
  },
  {
   "cell_type": "code",
   "execution_count": 12,
   "metadata": {},
   "outputs": [
    {
     "data": {
      "text/plain": [
       "array([0, 0, 0, ..., 0, 0, 0], dtype=int64)"
      ]
     },
     "execution_count": 12,
     "metadata": {},
     "output_type": "execute_result"
    }
   ],
   "source": [
    "y_test.T"
   ]
  },
  {
   "cell_type": "code",
   "execution_count": 13,
   "metadata": {},
   "outputs": [
    {
     "data": {
      "text/plain": [
       "(9000, 10)"
      ]
     },
     "execution_count": 13,
     "metadata": {},
     "output_type": "execute_result"
    }
   ],
   "source": [
    "X_test.shape"
   ]
  },
  {
   "cell_type": "code",
   "execution_count": 14,
   "metadata": {},
   "outputs": [],
   "source": [
    "from sklearn.preprocessing import StandardScaler\n",
    "\n",
    "X_scaler = StandardScaler().fit(X_train)"
   ]
  },
  {
   "cell_type": "code",
   "execution_count": 15,
   "metadata": {},
   "outputs": [
    {
     "data": {
      "text/plain": [
       "StandardScaler(copy=True, with_mean=True, with_std=True)"
      ]
     },
     "execution_count": 15,
     "metadata": {},
     "output_type": "execute_result"
    }
   ],
   "source": [
    "X_scaler"
   ]
  },
  {
   "cell_type": "code",
   "execution_count": 16,
   "metadata": {},
   "outputs": [],
   "source": [
    "X_train_scaled = X_scaler.transform(X_train)\n",
    "X_test_scaled = X_scaler.transform(X_test)"
   ]
  },
  {
   "cell_type": "code",
   "execution_count": 17,
   "metadata": {},
   "outputs": [
    {
     "data": {
      "text/plain": [
       "array([[ 0.56391448,  0.80648893, -1.07681763, ..., -0.49741723,\n",
       "         0.09035743, -1.02549459],\n",
       "       [-0.90610925,  0.80648893, -1.07681763, ..., -0.13590122,\n",
       "         0.08737206, -0.85894506],\n",
       "       [-0.90610925,  0.80648893,  0.18648797, ..., -0.33785543,\n",
       "        -0.05294013,  1.2179713 ],\n",
       "       ...,\n",
       "       [-0.90610925, -1.23994262, -1.07681763, ..., -0.49741723,\n",
       "         0.09035743, -1.02549459],\n",
       "       [-0.75136991,  0.80648893,  0.18648797, ..., -0.31133477,\n",
       "        -0.05294013,  1.53895893],\n",
       "       [-0.05504288,  0.80648893,  0.18648797, ..., -0.11985747,\n",
       "         0.10229889, -1.02579807]])"
      ]
     },
     "execution_count": 17,
     "metadata": {},
     "output_type": "execute_result"
    }
   ],
   "source": [
    "X_train_scaled"
   ]
  },
  {
   "cell_type": "code",
   "execution_count": 18,
   "metadata": {},
   "outputs": [],
   "source": [
    "y_train_categorical = to_categorical(y_train)\n",
    "y_test_categorical = to_categorical(y_test)"
   ]
  },
  {
   "cell_type": "code",
   "execution_count": 19,
   "metadata": {},
   "outputs": [],
   "source": [
    "from keras.models import Sequential\n",
    "\n",
    "#instantiate\n",
    "model = Sequential()"
   ]
  },
  {
   "cell_type": "code",
   "execution_count": 20,
   "metadata": {},
   "outputs": [],
   "source": [
    "from keras.layers import Dense\n",
    "\n",
    "number_inputs = 10\n",
    "number_hidden = 30\n",
    "\n",
    "model.add(Dense(units = number_hidden, activation ='relu', input_dim=number_inputs))\n",
    "model.add(Dense(units = 35, activation ='relu')) #second hidden layer\n",
    "model.add(Dense(units = 25, activation ='relu')) #second hidden layer\n",
    "model.add(Dense(units = 15, activation ='relu')) #second hidden layer\n",
    "model.add(Dense(units = 5, activation ='relu')) #third hidden layer"
   ]
  },
  {
   "cell_type": "code",
   "execution_count": 21,
   "metadata": {},
   "outputs": [],
   "source": [
    "number_classes =2 ## yes or no\n",
    "model.add(Dense(units = number_classes, activation = 'sigmoid'))"
   ]
  },
  {
   "cell_type": "code",
   "execution_count": 22,
   "metadata": {},
   "outputs": [
    {
     "name": "stdout",
     "output_type": "stream",
     "text": [
      "Model: \"sequential_1\"\n",
      "_________________________________________________________________\n",
      "Layer (type)                 Output Shape              Param #   \n",
      "=================================================================\n",
      "dense_1 (Dense)              (None, 30)                330       \n",
      "_________________________________________________________________\n",
      "dense_2 (Dense)              (None, 35)                1085      \n",
      "_________________________________________________________________\n",
      "dense_3 (Dense)              (None, 25)                900       \n",
      "_________________________________________________________________\n",
      "dense_4 (Dense)              (None, 15)                390       \n",
      "_________________________________________________________________\n",
      "dense_5 (Dense)              (None, 5)                 80        \n",
      "_________________________________________________________________\n",
      "dense_6 (Dense)              (None, 2)                 12        \n",
      "=================================================================\n",
      "Total params: 2,797\n",
      "Trainable params: 2,797\n",
      "Non-trainable params: 0\n",
      "_________________________________________________________________\n"
     ]
    }
   ],
   "source": [
    "model.summary()"
   ]
  },
  {
   "cell_type": "code",
   "execution_count": 23,
   "metadata": {},
   "outputs": [],
   "source": [
    "#compile the model\n",
    "model.compile(optimizer = 'sgd' ,\n",
    "             loss = 'categorical_crossentropy',\n",
    "             metrics =['accuracy'])"
   ]
  },
  {
   "cell_type": "code",
   "execution_count": 24,
   "metadata": {},
   "outputs": [
    {
     "name": "stdout",
     "output_type": "stream",
     "text": [
      "WARNING:tensorflow:From C:\\Users\\heine\\anaconda3\\lib\\site-packages\\tensorflow\\python\\ops\\math_grad.py:1250: add_dispatch_support.<locals>.wrapper (from tensorflow.python.ops.array_ops) is deprecated and will be removed in a future version.\n",
      "Instructions for updating:\n",
      "Use tf.where in 2.0, which has the same broadcast rule as np.where\n",
      "WARNING:tensorflow:From C:\\Users\\heine\\anaconda3\\lib\\site-packages\\keras\\backend\\tensorflow_backend.py:422: The name tf.global_variables is deprecated. Please use tf.compat.v1.global_variables instead.\n",
      "\n",
      "Epoch 1/100\n",
      " - 2s - loss: 0.5574 - accuracy: 0.7772\n",
      "Epoch 2/100\n",
      " - 2s - loss: 0.4947 - accuracy: 0.7773\n",
      "Epoch 3/100\n",
      " - 1s - loss: 0.4786 - accuracy: 0.7773\n",
      "Epoch 4/100\n",
      " - 1s - loss: 0.4706 - accuracy: 0.7773\n",
      "Epoch 5/100\n",
      " - 1s - loss: 0.4653 - accuracy: 0.7773\n",
      "Epoch 6/100\n",
      " - 1s - loss: 0.4621 - accuracy: 0.7773\n",
      "Epoch 7/100\n",
      " - 1s - loss: 0.4597 - accuracy: 0.7806\n",
      "Epoch 8/100\n",
      " - 1s - loss: 0.4578 - accuracy: 0.8049\n",
      "Epoch 9/100\n",
      " - 1s - loss: 0.4565 - accuracy: 0.8059\n",
      "Epoch 10/100\n",
      " - 1s - loss: 0.4551 - accuracy: 0.8063\n",
      "Epoch 11/100\n",
      " - 1s - loss: 0.4541 - accuracy: 0.8069\n",
      "Epoch 12/100\n",
      " - 1s - loss: 0.4531 - accuracy: 0.8057\n",
      "Epoch 13/100\n",
      " - 2s - loss: 0.4522 - accuracy: 0.8062\n",
      "Epoch 14/100\n",
      " - 1s - loss: 0.4514 - accuracy: 0.8064\n",
      "Epoch 15/100\n",
      " - 1s - loss: 0.4507 - accuracy: 0.8072\n",
      "Epoch 16/100\n",
      " - 1s - loss: 0.4500 - accuracy: 0.8065\n",
      "Epoch 17/100\n",
      " - 1s - loss: 0.4495 - accuracy: 0.8068\n",
      "Epoch 18/100\n",
      " - 1s - loss: 0.4491 - accuracy: 0.8060\n",
      "Epoch 19/100\n",
      " - 1s - loss: 0.4485 - accuracy: 0.8066\n",
      "Epoch 20/100\n",
      " - 1s - loss: 0.4479 - accuracy: 0.8067\n",
      "Epoch 21/100\n",
      " - 1s - loss: 0.4479 - accuracy: 0.8065\n",
      "Epoch 22/100\n",
      " - 1s - loss: 0.4474 - accuracy: 0.8062\n",
      "Epoch 23/100\n",
      " - 1s - loss: 0.4468 - accuracy: 0.8066\n",
      "Epoch 24/100\n",
      " - 1s - loss: 0.4465 - accuracy: 0.8059\n",
      "Epoch 25/100\n",
      " - 2s - loss: 0.4456 - accuracy: 0.8064\n",
      "Epoch 26/100\n",
      " - 1s - loss: 0.4457 - accuracy: 0.8063\n",
      "Epoch 27/100\n",
      " - 1s - loss: 0.4455 - accuracy: 0.8070\n",
      "Epoch 28/100\n",
      " - 1s - loss: 0.4450 - accuracy: 0.8075\n",
      "Epoch 29/100\n",
      " - 1s - loss: 0.4448 - accuracy: 0.8064\n",
      "Epoch 30/100\n",
      " - 1s - loss: 0.4446 - accuracy: 0.8077\n",
      "Epoch 31/100\n",
      " - 1s - loss: 0.4440 - accuracy: 0.8065\n",
      "Epoch 32/100\n",
      " - 1s - loss: 0.4437 - accuracy: 0.8080\n",
      "Epoch 33/100\n",
      " - 1s - loss: 0.4434 - accuracy: 0.8079\n",
      "Epoch 34/100\n",
      " - 1s - loss: 0.4431 - accuracy: 0.8074\n",
      "Epoch 35/100\n",
      " - 1s - loss: 0.4433 - accuracy: 0.8076\n",
      "Epoch 36/100\n",
      " - 1s - loss: 0.4424 - accuracy: 0.8077\n",
      "Epoch 37/100\n",
      " - 2s - loss: 0.4422 - accuracy: 0.8076\n",
      "Epoch 38/100\n",
      " - 2s - loss: 0.4419 - accuracy: 0.8080\n",
      "Epoch 39/100\n",
      " - 1s - loss: 0.4417 - accuracy: 0.8073\n",
      "Epoch 40/100\n",
      " - 1s - loss: 0.4415 - accuracy: 0.8076\n",
      "Epoch 41/100\n",
      " - 1s - loss: 0.4413 - accuracy: 0.8080\n",
      "Epoch 42/100\n",
      " - 1s - loss: 0.4408 - accuracy: 0.8075\n",
      "Epoch 43/100\n",
      " - 1s - loss: 0.4409 - accuracy: 0.8083\n",
      "Epoch 44/100\n",
      " - 1s - loss: 0.4407 - accuracy: 0.8078\n",
      "Epoch 45/100\n",
      " - 1s - loss: 0.4401 - accuracy: 0.8076\n",
      "Epoch 46/100\n",
      " - 1s - loss: 0.4402 - accuracy: 0.8077\n",
      "Epoch 47/100\n",
      " - 1s - loss: 0.4396 - accuracy: 0.8079\n",
      "Epoch 48/100\n",
      " - 2s - loss: 0.4395 - accuracy: 0.8077\n",
      "Epoch 49/100\n",
      " - 1s - loss: 0.4394 - accuracy: 0.8076\n",
      "Epoch 50/100\n",
      " - 1s - loss: 0.4396 - accuracy: 0.8078\n",
      "Epoch 51/100\n",
      " - 1s - loss: 0.4389 - accuracy: 0.8085\n",
      "Epoch 52/100\n",
      " - 1s - loss: 0.4388 - accuracy: 0.8079\n",
      "Epoch 53/100\n",
      " - 1s - loss: 0.4386 - accuracy: 0.8082\n",
      "Epoch 54/100\n",
      " - 1s - loss: 0.4382 - accuracy: 0.8083\n",
      "Epoch 55/100\n",
      " - 1s - loss: 0.4385 - accuracy: 0.8082\n",
      "Epoch 56/100\n",
      " - 1s - loss: 0.4378 - accuracy: 0.8078\n",
      "Epoch 57/100\n",
      " - 1s - loss: 0.4374 - accuracy: 0.8076\n",
      "Epoch 58/100\n",
      " - 2s - loss: 0.4375 - accuracy: 0.8081\n",
      "Epoch 59/100\n",
      " - 2s - loss: 0.4375 - accuracy: 0.8076\n",
      "Epoch 60/100\n",
      " - 2s - loss: 0.4372 - accuracy: 0.8090\n",
      "Epoch 61/100\n",
      " - 2s - loss: 0.4372 - accuracy: 0.8081\n",
      "Epoch 62/100\n",
      " - 1s - loss: 0.4372 - accuracy: 0.8080\n",
      "Epoch 63/100\n",
      " - 1s - loss: 0.4368 - accuracy: 0.8072\n",
      "Epoch 64/100\n",
      " - 1s - loss: 0.4365 - accuracy: 0.8078\n",
      "Epoch 65/100\n",
      " - 1s - loss: 0.4360 - accuracy: 0.8081\n",
      "Epoch 66/100\n",
      " - 1s - loss: 0.4361 - accuracy: 0.8088\n",
      "Epoch 67/100\n",
      " - 1s - loss: 0.4359 - accuracy: 0.8080\n",
      "Epoch 68/100\n",
      " - 1s - loss: 0.4355 - accuracy: 0.8081\n",
      "Epoch 69/100\n",
      " - 1s - loss: 0.4355 - accuracy: 0.8085\n",
      "Epoch 70/100\n",
      " - 1s - loss: 0.4352 - accuracy: 0.8089\n",
      "Epoch 71/100\n",
      " - 2s - loss: 0.4353 - accuracy: 0.8086\n",
      "Epoch 72/100\n",
      " - 2s - loss: 0.4348 - accuracy: 0.8096\n",
      "Epoch 73/100\n",
      " - 1s - loss: 0.4350 - accuracy: 0.8079\n",
      "Epoch 74/100\n",
      " - 1s - loss: 0.4346 - accuracy: 0.8086\n",
      "Epoch 75/100\n",
      " - 1s - loss: 0.4344 - accuracy: 0.8083\n",
      "Epoch 76/100\n",
      " - 1s - loss: 0.4341 - accuracy: 0.8087\n",
      "Epoch 77/100\n",
      " - 1s - loss: 0.4337 - accuracy: 0.8085\n",
      "Epoch 78/100\n",
      " - 1s - loss: 0.4339 - accuracy: 0.8094\n",
      "Epoch 79/100\n",
      " - 1s - loss: 0.4335 - accuracy: 0.8088\n",
      "Epoch 80/100\n",
      " - 1s - loss: 0.4334 - accuracy: 0.8095\n",
      "Epoch 81/100\n",
      " - 1s - loss: 0.4331 - accuracy: 0.8088\n",
      "Epoch 82/100\n",
      " - 1s - loss: 0.4334 - accuracy: 0.8089\n",
      "Epoch 83/100\n",
      " - 2s - loss: 0.4330 - accuracy: 0.8077\n",
      "Epoch 84/100\n",
      " - 1s - loss: 0.4329 - accuracy: 0.8092\n",
      "Epoch 85/100\n",
      " - 1s - loss: 0.4327 - accuracy: 0.8092\n",
      "Epoch 86/100\n",
      " - 1s - loss: 0.4324 - accuracy: 0.8094\n",
      "Epoch 87/100\n",
      " - 1s - loss: 0.4317 - accuracy: 0.8090\n",
      "Epoch 88/100\n",
      " - 2s - loss: 0.4325 - accuracy: 0.8075\n",
      "Epoch 89/100\n",
      " - 2s - loss: 0.4321 - accuracy: 0.8089\n",
      "Epoch 90/100\n",
      " - 1s - loss: 0.4319 - accuracy: 0.8083\n",
      "Epoch 91/100\n",
      " - 1s - loss: 0.4315 - accuracy: 0.8093\n",
      "Epoch 92/100\n",
      " - 1s - loss: 0.4313 - accuracy: 0.8082\n",
      "Epoch 93/100\n",
      " - 1s - loss: 0.4311 - accuracy: 0.8088\n",
      "Epoch 94/100\n",
      " - 2s - loss: 0.4314 - accuracy: 0.8078\n",
      "Epoch 95/100\n",
      " - 1s - loss: 0.4307 - accuracy: 0.8088\n",
      "Epoch 96/100\n",
      " - 1s - loss: 0.4311 - accuracy: 0.8090\n",
      "Epoch 97/100\n",
      " - 1s - loss: 0.4307 - accuracy: 0.8083\n",
      "Epoch 98/100\n",
      " - 1s - loss: 0.4306 - accuracy: 0.8092\n",
      "Epoch 99/100\n",
      " - 1s - loss: 0.4304 - accuracy: 0.8091\n",
      "Epoch 100/100\n",
      " - 1s - loss: 0.4299 - accuracy: 0.8102\n"
     ]
    },
    {
     "data": {
      "text/plain": [
       "<keras.callbacks.callbacks.History at 0x2281313eec8>"
      ]
     },
     "execution_count": 24,
     "metadata": {},
     "output_type": "execute_result"
    }
   ],
   "source": [
    "#train the model\n",
    "\n",
    "model.fit(X_train_scaled, y_train_categorical, epochs=100,shuffle = True,verbose =2)"
   ]
  },
  {
   "cell_type": "code",
   "execution_count": 25,
   "metadata": {},
   "outputs": [],
   "source": [
    "model.save(\"ccneuralnetwork.h5\")"
   ]
  },
  {
   "cell_type": "code",
   "execution_count": 26,
   "metadata": {},
   "outputs": [
    {
     "name": "stdout",
     "output_type": "stream",
     "text": [
      "0.4525599082840814\n",
      "0.8051111102104187\n"
     ]
    }
   ],
   "source": [
    "#quantify the model\n",
    "model_loss, model_accuracy = model.evaluate(X_test_scaled,y_test_categorical,verbose =2)\n",
    "print( model_loss )\n",
    "print (model_accuracy)"
   ]
  },
  {
   "cell_type": "markdown",
   "metadata": {},
   "source": [
    "F1, Precision Recall, and Confusion Matrix"
   ]
  },
  {
   "cell_type": "code",
   "execution_count": 27,
   "metadata": {},
   "outputs": [],
   "source": [
    "from sklearn.metrics import precision_recall_fscore_support\n",
    "from sklearn.metrics import recall_score\n",
    "from sklearn.metrics import classification_report"
   ]
  },
  {
   "cell_type": "code",
   "execution_count": 28,
   "metadata": {},
   "outputs": [],
   "source": [
    "y_prediction = model.predict_classes(X_test)"
   ]
  },
  {
   "cell_type": "code",
   "execution_count": 29,
   "metadata": {},
   "outputs": [
    {
     "data": {
      "text/plain": [
       "array([[0],\n",
       "       [0],\n",
       "       [0],\n",
       "       ...,\n",
       "       [0],\n",
       "       [0],\n",
       "       [0]], dtype=int64)"
      ]
     },
     "execution_count": 29,
     "metadata": {},
     "output_type": "execute_result"
    }
   ],
   "source": [
    "y_prediction.reshape(-1,1)"
   ]
  },
  {
   "cell_type": "code",
   "execution_count": 30,
   "metadata": {},
   "outputs": [
    {
     "name": "stdout",
     "output_type": "stream",
     "text": [
      "Recall score:0.006122448979591836\n"
     ]
    }
   ],
   "source": [
    "print(\"Recall score:\"+ str(recall_score(y_test, y_prediction)))"
   ]
  },
  {
   "cell_type": "code",
   "execution_count": 31,
   "metadata": {},
   "outputs": [
    {
     "name": "stdout",
     "output_type": "stream",
     "text": [
      "              precision    recall  f1-score   support\n",
      "\n",
      "     default       0.78      1.00      0.88      7040\n",
      " non_default       0.35      0.01      0.01      1960\n",
      "\n",
      "    accuracy                           0.78      9000\n",
      "   macro avg       0.57      0.50      0.44      9000\n",
      "weighted avg       0.69      0.78      0.69      9000\n",
      "\n"
     ]
    }
   ],
   "source": [
    "print(classification_report(y_test, y_prediction,\n",
    "                            target_names=[\"default\", \"non_default\"]))"
   ]
  },
  {
   "cell_type": "code",
   "execution_count": 32,
   "metadata": {},
   "outputs": [],
   "source": [
    "import itertools\n",
    "import matplotlib.pyplot as plt\n",
    "from sklearn.metrics import confusion_matrix"
   ]
  },
  {
   "cell_type": "code",
   "execution_count": 33,
   "metadata": {},
   "outputs": [
    {
     "name": "stdout",
     "output_type": "stream",
     "text": [
      "Confusion matrix, without normalization\n",
      "[[7018   22]\n",
      " [1948   12]]\n",
      "Normalized confusion matrix\n",
      "[[1.   0.  ]\n",
      " [0.99 0.01]]\n"
     ]
    },
    {
     "data": {
      "image/png": "[encoded data removed]",
      "text/plain": [
       "<Figure size 432x288 with 2 Axes>"
      ]
     },
     "metadata": {
      "needs_background": "light"
     },
     "output_type": "display_data"
    },
    {
     "data": {
      "image/png": "[encoded data removed]",
      "text/plain": [
       "<Figure size 432x288 with 2 Axes>"
      ]
     },
     "metadata": {
      "needs_background": "light"
     },
     "output_type": "display_data"
    }
   ],
   "source": [
    "def plot_confusion_matrix(cm, classes,\n",
    "                          normalize=False,\n",
    "                          title='Confusion matrix',\n",
    "                          cmap=plt.cm.Blues):\n",
    "    \"\"\"\n",
    "    This function prints and plots the confusion matrix.\n",
    "    Normalization can be applied by setting `normalize=True`.\n",
    "    \"\"\"\n",
    "    if normalize:\n",
    "        cm = cm.astype('float') / cm.sum(axis=1)[:, np.newaxis]\n",
    "        print(\"Normalized confusion matrix\")\n",
    "    else:\n",
    "        print('Confusion matrix, without normalization')\n",
    "\n",
    "    print(cm)\n",
    "\n",
    "    plt.imshow(cm, interpolation='nearest', cmap=cmap)\n",
    "    plt.title(title)\n",
    "    plt.colorbar()\n",
    "    tick_marks = np.arange(len(classes))\n",
    "    plt.xticks(tick_marks, classes, rotation=45)\n",
    "    plt.yticks(tick_marks, classes)\n",
    "\n",
    "    fmt = '.2f' if normalize else 'd'\n",
    "    thresh = cm.max() / 2.\n",
    "    for i, j in itertools.product(range(cm.shape[0]), range(cm.shape[1])):\n",
    "        plt.text(j, i, format(cm[i, j], fmt),\n",
    "                 horizontalalignment=\"center\",\n",
    "                 color=\"red\" if cm[i, j] > thresh else \"black\")\n",
    "\n",
    "    plt.tight_layout()\n",
    "    plt.ylabel('True label')\n",
    "    plt.xlabel('Predicted label')\n",
    "\n",
    "# Compute confusion matrix\n",
    "cnf_matrix = confusion_matrix(y_test, y_prediction)\n",
    "np.set_printoptions(precision=2)\n",
    "\n",
    "# Plot non-normalized confusion matrix\n",
    "plt.figure()\n",
    "plot_confusion_matrix(cnf_matrix, classes=['Defualt', 'Non_default'],\n",
    "                      title='Confusion matrix, without normalization')\n",
    "\n",
    "# Plot normalized confusion matrix\n",
    "plt.figure()\n",
    "plot_confusion_matrix(cnf_matrix, classes=['Defualt', 'Non_default'], normalize=True,\n",
    "                      title='Normalized confusion matrix')\n",
    "\n",
    "plt.show()"
   ]
  },
  {
   "cell_type": "code",
   "execution_count": null,
   "metadata": {
    "collapsed": true,
    "jupyter": {
     "outputs_hidden": true
    }
   },
   "outputs": [],
   "source": []
  }
 ],
 "metadata": {
  "kernelspec": {
   "display_name": "Python 3",
   "language": "python",
   "name": "python3"
  },
  "language_info": {
   "codemirror_mode": {
    "name": "ipython",
    "version": 3
   },
   "file_extension": ".py",
   "mimetype": "text/x-python",
   "name": "python",
   "nbconvert_exporter": "python",
   "pygments_lexer": "ipython3",
   "version": "3.7.6"
  }
 },
 "nbformat": 4,
 "nbformat_minor": 4
}
