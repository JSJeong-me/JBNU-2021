{
  "nbformat": 4,
  "nbformat_minor": 0,
  "metadata": {
    "kernelspec": {
      "display_name": "Python 3",
      "language": "python",
      "name": "python3"
    },
    "language_info": {
      "codemirror_mode": {
        "name": "ipython",
        "version": 3
      },
      "file_extension": ".py",
      "mimetype": "text/x-python",
      "name": "python",
      "nbconvert_exporter": "python",
      "pygments_lexer": "ipython3",
      "version": "3.7.6"
    },
    "colab": {
      "name": "4-LinearRegressionModel.ipynb",
      "provenance": [],
      "include_colab_link": true
    }
  },
  "cells": [
    {
      "cell_type": "markdown",
      "metadata": {
        "id": "view-in-github",
        "colab_type": "text"
      },
      "source": [
        "<a href=\"https://colab.research.google.com/github/JSJeong-me/JBNU-2021/blob/main/Predictive_Analytics/decision_tree/4_LinearRegressionModel.ipynb\" target=\"_parent\"><img src=\"https://colab.research.google.com/assets/colab-badge.svg\" alt=\"Open In Colab\"/></a>"
      ]
    },
    {
      "cell_type": "code",
      "metadata": {
        "id": "F_5L4vqshSi6"
      },
      "source": [
        "%matplotlib inline\n",
        "import matplotlib.pyplot as plt\n",
        "from sklearn.linear_model import LinearRegression\n",
        "from sklearn.model_selection import train_test_split\n",
        "from sklearn.preprocessing import StandardScaler\n",
        "import pandas as pd\n",
        "import numpy as np"
      ],
      "execution_count": 1,
      "outputs": []
    },
    {
      "cell_type": "code",
      "metadata": {
        "id": "tWzYpdgPhSi7"
      },
      "source": [
        "#importing data\n",
        "df = pd.read_csv(\"./Data_USD.csv\")"
      ],
      "execution_count": 2,
      "outputs": []
    },
    {
      "cell_type": "code",
      "metadata": {
        "id": "Fsg_EEnAhSi8"
      },
      "source": [
        "df.head()"
      ],
      "execution_count": null,
      "outputs": []
    },
    {
      "cell_type": "code",
      "metadata": {
        "id": "hkJLjWAKhSi9"
      },
      "source": [
        "df_features=df[['PAY_SCORE_AVG','PAY_AMT_AVG_US','CREDIT_UTILIZATION','BILL_AVG_US','AGE','DEFAULT_PAYMENT_NEXT_MO']]\n",
        "df_features.head()"
      ],
      "execution_count": null,
      "outputs": []
    },
    {
      "cell_type": "code",
      "metadata": {
        "id": "jX9-SDmQhSi9"
      },
      "source": [
        "#assigning data\n",
        "X = df_features.drop('DEFAULT_PAYMENT_NEXT_MO',axis =1).values\n",
        "y = df_features['DEFAULT_PAYMENT_NEXT_MO'].values.reshape(-1, 1)\n",
        "print(X.shape)\n",
        "print(y.shape)"
      ],
      "execution_count": null,
      "outputs": []
    },
    {
      "cell_type": "code",
      "metadata": {
        "id": "eSdrIGjXhSi-"
      },
      "source": [
        "#splitting data\n",
        "X_train, X_test, y_train, y_test = train_test_split(X, y, random_state=42,test_size=0.30)"
      ],
      "execution_count": 5,
      "outputs": []
    },
    {
      "cell_type": "code",
      "metadata": {
        "id": "Fd3fJmwShSi-"
      },
      "source": [
        "#processing data with StandardScaler\n",
        "X_scaler = StandardScaler().fit(X_train)\n",
        "y_scaler = StandardScaler().fit(y_train)\n",
        "\n",
        "X_train_scaled = X_scaler.transform(X_train)\n",
        "X_test_scaled = X_scaler.transform(X_test)\n",
        "y_train_scaled = y_scaler.transform(y_train)\n",
        "y_test_scaled = y_scaler.transform(y_test)"
      ],
      "execution_count": 6,
      "outputs": []
    },
    {
      "cell_type": "code",
      "metadata": {
        "id": "osVYNVjVhSi_"
      },
      "source": [
        "#creating model\n",
        "model=LinearRegression()"
      ],
      "execution_count": 7,
      "outputs": []
    },
    {
      "cell_type": "code",
      "metadata": {
        "id": "e5FocfShhSi_"
      },
      "source": [
        "#fit the model to training data\n",
        "model.fit(X_train_scaled,y_train_scaled)"
      ],
      "execution_count": null,
      "outputs": []
    },
    {
      "cell_type": "code",
      "metadata": {
        "id": "JoKcSFbihSjA"
      },
      "source": [
        "#Checking training and testing scores\n",
        "train=model.score(X_train_scaled,y_train_scaled)\n",
        "test=model.score(X_test_scaled,y_test_scaled)\n",
        "\n",
        "print('Testing Score is:', test)\n",
        "print('Training Score is:', train) \n",
        "##hmm, the scores are awfully low...."
      ],
      "execution_count": null,
      "outputs": []
    },
    {
      "cell_type": "code",
      "metadata": {
        "colab": {
          "base_uri": "https://localhost:8080/"
        },
        "id": "qo0jL-k9hSjA",
        "outputId": "2efb427a-225c-4a4a-beba-869101e64687"
      },
      "source": [
        "from yellowbrick.regressor import ResidualsPlot\n",
        "from sklearn.linear_model import Ridge"
      ],
      "execution_count": 10,
      "outputs": [
        {
          "output_type": "stream",
          "text": [
            "/usr/local/lib/python3.7/dist-packages/sklearn/utils/deprecation.py:144: FutureWarning: The sklearn.metrics.classification module is  deprecated in version 0.22 and will be removed in version 0.24. The corresponding classes / functions should instead be imported from sklearn.metrics. Anything that cannot be imported from sklearn.metrics is now part of the private API.\n",
            "  warnings.warn(message, FutureWarning)\n"
          ],
          "name": "stderr"
        }
      ]
    },
    {
      "cell_type": "code",
      "metadata": {
        "colab": {
          "base_uri": "https://localhost:8080/",
          "height": 376
        },
        "id": "TY5q4FBZhSjB",
        "outputId": "79b5f0f5-a69a-4906-a7d4-629617201193"
      },
      "source": [
        "ridge = Ridge()\n",
        "visualizer = ResidualsPlot(ridge)\n",
        "\n",
        "visualizer.fit(X_train_scaled, y_train_scaled)  # Fit the training data to the visualizer\n",
        "visualizer.score(X_test_scaled, y_test_scaled)  # Evaluate the model on the test data\n",
        "g = visualizer.poof()             # Draw/show/poof the data"
      ],
      "execution_count": 11,
      "outputs": [
        {
          "output_type": "display_data",
          "data": {
            "image/png": "[encoded data removed]",
            "text/plain": [
              "<Figure size 576x396 with 2 Axes>"
            ]
          },
          "metadata": {
            "tags": []
          }
        }
      ]
    },
    {
      "cell_type": "code",
      "metadata": {
        "colab": {
          "base_uri": "https://localhost:8080/"
        },
        "id": "pSehJ1vAhSjB",
        "outputId": "b37742cc-7f90-445c-c7a3-d6c449256f51"
      },
      "source": [
        "from sklearn.metrics import mean_squared_error\n",
        "\n",
        "predictions = model.predict(X_test_scaled)\n",
        "MSE = mean_squared_error(y_test_scaled, predictions)\n",
        "r2 = model.score(X_test_scaled, y_test_scaled)\n",
        "\n",
        "print(f\"MSE: {MSE}, R2: {r2}\")"
      ],
      "execution_count": 12,
      "outputs": [
        {
          "output_type": "stream",
          "text": [
            "MSE: 0.9002314909040248, R2: 0.0853119855366874\n"
          ],
          "name": "stdout"
        }
      ]
    },
    {
      "cell_type": "code",
      "metadata": {
        "colab": {
          "base_uri": "https://localhost:8080/"
        },
        "id": "nGnHdTDBhSjB",
        "outputId": "d194731b-a5c5-4e53-c821-383ccdd36046"
      },
      "source": [
        "predictions"
      ],
      "execution_count": 13,
      "outputs": [
        {
          "output_type": "execute_result",
          "data": {
            "text/plain": [
              "array([[ 0.07732253],\n",
              "       [-0.07386883],\n",
              "       [-0.00271501],\n",
              "       ...,\n",
              "       [ 0.03037143],\n",
              "       [-0.07425247],\n",
              "       [-0.51224255]])"
            ]
          },
          "metadata": {
            "tags": []
          },
          "execution_count": 13
        }
      ]
    },
    {
      "cell_type": "code",
      "metadata": {
        "id": "Kp8EqcSIhSjC"
      },
      "source": [
        "import numpy as np\n",
        "\n",
        "predictions=np.rint(predictions)\n",
        "predictions.reshape(-1,1)"
      ],
      "execution_count": null,
      "outputs": []
    },
    {
      "cell_type": "code",
      "metadata": {
        "id": "pz6O4kIrhSjC"
      },
      "source": [
        "#np.round(arr)"
      ],
      "execution_count": null,
      "outputs": []
    },
    {
      "cell_type": "code",
      "metadata": {
        "id": "VbaHci6AhSjC"
      },
      "source": [
        "predictions = np.array([np.round(np.absolute(value)) for value in predictions])"
      ],
      "execution_count": 15,
      "outputs": []
    },
    {
      "cell_type": "code",
      "metadata": {
        "id": "hGpwncvChSjD"
      },
      "source": [
        "from sklearn.metrics import recall_score"
      ],
      "execution_count": 16,
      "outputs": []
    },
    {
      "cell_type": "code",
      "metadata": {
        "colab": {
          "base_uri": "https://localhost:8080/"
        },
        "id": "UUNKPQRDhSjD",
        "outputId": "5eba5489-499d-4944-8998-6998372d0f19"
      },
      "source": [
        "print(\"Recall score:\"+ str(recall_score(y_test, predictions, average='micro')))"
      ],
      "execution_count": 23,
      "outputs": [
        {
          "output_type": "stream",
          "text": [
            "Recall score:0.7591111111111111\n"
          ],
          "name": "stdout"
        }
      ]
    },
    {
      "cell_type": "code",
      "metadata": {
        "id": "zdRT0-FkhSjD"
      },
      "source": [
        ""
      ],
      "execution_count": null,
      "outputs": []
    }
  ]
}