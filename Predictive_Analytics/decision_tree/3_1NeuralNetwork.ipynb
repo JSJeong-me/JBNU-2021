{
  "nbformat": 4,
  "nbformat_minor": 0,
  "metadata": {
    "kernelspec": {
      "display_name": "Python 3",
      "language": "python",
      "name": "python3"
    },
    "language_info": {
      "codemirror_mode": {
        "name": "ipython",
        "version": 3
      },
      "file_extension": ".py",
      "mimetype": "text/x-python",
      "name": "python",
      "nbconvert_exporter": "python",
      "pygments_lexer": "ipython3",
      "version": "3.7.6"
    },
    "colab": {
      "name": "3-1NeuralNetwork.ipynb",
      "provenance": [],
      "include_colab_link": true
    },
    "accelerator": "GPU"
  },
  "cells": [
    {
      "cell_type": "markdown",
      "metadata": {
        "id": "view-in-github",
        "colab_type": "text"
      },
      "source": [
        "<a href=\"https://colab.research.google.com/github/JSJeong-me/JBNU-2021/blob/main/Predictive_Analytics/decision_tree/3_1NeuralNetwork.ipynb\" target=\"_parent\"><img src=\"https://colab.research.google.com/assets/colab-badge.svg\" alt=\"Open In Colab\"/></a>"
      ]
    },
    {
      "cell_type": "code",
      "metadata": {
        "id": "UtWzU8mcd5Eh"
      },
      "source": [
        "from sklearn.model_selection import train_test_split\n",
        "import pandas as pd\n",
        "import numpy as np\n",
        "from sklearn.preprocessing import StandardScaler\n",
        "#from keras.utils import to_categorical\n",
        "from tensorflow.keras.utils import to_categorical\n",
        "from keras.models import Sequential\n",
        "from keras.layers import Dense"
      ],
      "execution_count": 13,
      "outputs": []
    },
    {
      "cell_type": "code",
      "metadata": {
        "id": "Rf6Ur33Kd5Ev"
      },
      "source": [
        "#df = pd.read_csv(\".\\\\Data_USD.csv\", header=None,skiprows=1)\n",
        "df = pd.read_csv(\"./Data_USD.csv\")\n",
        "#df.head().to_csv(\".\\\\test.csv\")"
      ],
      "execution_count": 14,
      "outputs": []
    },
    {
      "cell_type": "code",
      "metadata": {
        "id": "0d_IuiQWd5Ex"
      },
      "source": [
        "#T=df.groupby(\"SEX\") "
      ],
      "execution_count": null,
      "outputs": []
    },
    {
      "cell_type": "code",
      "metadata": {
        "id": "1YzcISh2d5Ez"
      },
      "source": [
        "#T.describe()"
      ],
      "execution_count": null,
      "outputs": []
    },
    {
      "cell_type": "code",
      "metadata": {
        "id": "FHtpPW5ad5E2",
        "outputId": "049f6391-5743-4643-c1e4-8df5861c7aa4"
      },
      "source": [
        "df.columns"
      ],
      "execution_count": null,
      "outputs": [
        {
          "output_type": "execute_result",
          "data": {
            "text/plain": [
              "Index(['LIMIT_BAL_US', 'SEX', 'EDUCATION', 'MARRIAGE', 'AGE', 'PAY_SCORE_AVG',\n",
              "       'BILL_AVG_US', 'PAY_AMT_AVG_US', 'PAY_TO_BILL', 'CREDIT_UTILIZATION',\n",
              "       'DEFAULT_PAYMENT_NEXT_MO'],\n",
              "      dtype='object')"
            ]
          },
          "metadata": {
            "tags": []
          },
          "execution_count": 5
        }
      ]
    },
    {
      "cell_type": "code",
      "metadata": {
        "id": "FvuGiBlLd5E4",
        "outputId": "f99d6770-62cd-497a-c9e3-ebabeb84690c"
      },
      "source": [
        "df.tail()"
      ],
      "execution_count": null,
      "outputs": [
        {
          "output_type": "execute_result",
          "data": {
            "text/html": [
              "<div>\n",
              "<style scoped>\n",
              "    .dataframe tbody tr th:only-of-type {\n",
              "        vertical-align: middle;\n",
              "    }\n",
              "\n",
              "    .dataframe tbody tr th {\n",
              "        vertical-align: top;\n",
              "    }\n",
              "\n",
              "    .dataframe thead th {\n",
              "        text-align: right;\n",
              "    }\n",
              "</style>\n",
              "<table border=\"1\" class=\"dataframe\">\n",
              "  <thead>\n",
              "    <tr style=\"text-align: right;\">\n",
              "      <th></th>\n",
              "      <th>LIMIT_BAL_US</th>\n",
              "      <th>SEX</th>\n",
              "      <th>EDUCATION</th>\n",
              "      <th>MARRIAGE</th>\n",
              "      <th>AGE</th>\n",
              "      <th>PAY_SCORE_AVG</th>\n",
              "      <th>BILL_AVG_US</th>\n",
              "      <th>PAY_AMT_AVG_US</th>\n",
              "      <th>PAY_TO_BILL</th>\n",
              "      <th>CREDIT_UTILIZATION</th>\n",
              "      <th>DEFAULT_PAYMENT_NEXT_MO</th>\n",
              "    </tr>\n",
              "  </thead>\n",
              "  <tbody>\n",
              "    <tr>\n",
              "      <th>29995</th>\n",
              "      <td>7982.857143</td>\n",
              "      <td>1</td>\n",
              "      <td>3</td>\n",
              "      <td>1</td>\n",
              "      <td>39</td>\n",
              "      <td>0.00</td>\n",
              "      <td>4386.634429</td>\n",
              "      <td>257.326190</td>\n",
              "      <td>0.06</td>\n",
              "      <td>0.858855</td>\n",
              "      <td>0</td>\n",
              "    </tr>\n",
              "    <tr>\n",
              "      <th>29996</th>\n",
              "      <td>5442.857143</td>\n",
              "      <td>1</td>\n",
              "      <td>3</td>\n",
              "      <td>2</td>\n",
              "      <td>43</td>\n",
              "      <td>-0.67</td>\n",
              "      <td>128.100667</td>\n",
              "      <td>87.630000</td>\n",
              "      <td>0.68</td>\n",
              "      <td>0.011220</td>\n",
              "      <td>0</td>\n",
              "    </tr>\n",
              "    <tr>\n",
              "      <th>29997</th>\n",
              "      <td>1088.571429</td>\n",
              "      <td>1</td>\n",
              "      <td>2</td>\n",
              "      <td>2</td>\n",
              "      <td>37</td>\n",
              "      <td>1.33</td>\n",
              "      <td>426.332952</td>\n",
              "      <td>189.290476</td>\n",
              "      <td>0.44</td>\n",
              "      <td>0.118833</td>\n",
              "      <td>1</td>\n",
              "    </tr>\n",
              "    <tr>\n",
              "      <th>29998</th>\n",
              "      <td>2902.857143</td>\n",
              "      <td>1</td>\n",
              "      <td>3</td>\n",
              "      <td>1</td>\n",
              "      <td>41</td>\n",
              "      <td>-0.17</td>\n",
              "      <td>1612.361762</td>\n",
              "      <td>890.094619</td>\n",
              "      <td>0.55</td>\n",
              "      <td>-0.020563</td>\n",
              "      <td>1</td>\n",
              "    </tr>\n",
              "    <tr>\n",
              "      <th>29999</th>\n",
              "      <td>1814.285714</td>\n",
              "      <td>1</td>\n",
              "      <td>2</td>\n",
              "      <td>1</td>\n",
              "      <td>46</td>\n",
              "      <td>0.00</td>\n",
              "      <td>1396.238000</td>\n",
              "      <td>50.243619</td>\n",
              "      <td>0.04</td>\n",
              "      <td>0.958580</td>\n",
              "      <td>1</td>\n",
              "    </tr>\n",
              "  </tbody>\n",
              "</table>\n",
              "</div>"
            ],
            "text/plain": [
              "       LIMIT_BAL_US  SEX  EDUCATION  MARRIAGE  AGE  PAY_SCORE_AVG  \\\n",
              "29995   7982.857143    1          3         1   39           0.00   \n",
              "29996   5442.857143    1          3         2   43          -0.67   \n",
              "29997   1088.571429    1          2         2   37           1.33   \n",
              "29998   2902.857143    1          3         1   41          -0.17   \n",
              "29999   1814.285714    1          2         1   46           0.00   \n",
              "\n",
              "       BILL_AVG_US  PAY_AMT_AVG_US  PAY_TO_BILL  CREDIT_UTILIZATION  \\\n",
              "29995  4386.634429      257.326190         0.06            0.858855   \n",
              "29996   128.100667       87.630000         0.68            0.011220   \n",
              "29997   426.332952      189.290476         0.44            0.118833   \n",
              "29998  1612.361762      890.094619         0.55           -0.020563   \n",
              "29999  1396.238000       50.243619         0.04            0.958580   \n",
              "\n",
              "       DEFAULT_PAYMENT_NEXT_MO  \n",
              "29995                        0  \n",
              "29996                        0  \n",
              "29997                        1  \n",
              "29998                        1  \n",
              "29999                        1  "
            ]
          },
          "metadata": {
            "tags": []
          },
          "execution_count": 6
        }
      ]
    },
    {
      "cell_type": "code",
      "metadata": {
        "id": "BHZsqIVod5E6"
      },
      "source": [
        "# X = df.drop('Y_Value',axis =1).values\n",
        "# y = df['Y_Value'].values\n",
        "X = df.drop('DEFAULT_PAYMENT_NEXT_MO',axis =1).values\n",
        "#X[2999,0]"
      ],
      "execution_count": 5,
      "outputs": []
    },
    {
      "cell_type": "code",
      "metadata": {
        "id": "eMOD7lKjd5E8",
        "outputId": "5760bf2e-6d25-4aab-be0d-16251c2fbe36"
      },
      "source": [
        "X.shape"
      ],
      "execution_count": null,
      "outputs": [
        {
          "output_type": "execute_result",
          "data": {
            "text/plain": [
              "(30000, 10)"
            ]
          },
          "metadata": {
            "tags": []
          },
          "execution_count": 8
        }
      ]
    },
    {
      "cell_type": "code",
      "metadata": {
        "id": "NKROuw5ud5E-"
      },
      "source": [
        "y = df['DEFAULT_PAYMENT_NEXT_MO'].values\n",
        "#y.reshape(-1,1)"
      ],
      "execution_count": 6,
      "outputs": []
    },
    {
      "cell_type": "code",
      "metadata": {
        "id": "1vYYtvxOd5E_",
        "outputId": "2ed16e14-7ca0-4a23-f44f-0fd9992dfda7"
      },
      "source": [
        "#print(X.shape)\n",
        "X.shape"
      ],
      "execution_count": null,
      "outputs": [
        {
          "output_type": "execute_result",
          "data": {
            "text/plain": [
              "(30000, 10)"
            ]
          },
          "metadata": {
            "tags": []
          },
          "execution_count": 10
        }
      ]
    },
    {
      "cell_type": "code",
      "metadata": {
        "id": "K9L-sdDDd5FB",
        "outputId": "868033e7-3c5c-4eef-bc37-1139db75f956"
      },
      "source": [
        "#print(y.shape)\n",
        "y.shape"
      ],
      "execution_count": null,
      "outputs": [
        {
          "output_type": "execute_result",
          "data": {
            "text/plain": [
              "(30000,)"
            ]
          },
          "metadata": {
            "tags": []
          },
          "execution_count": 11
        }
      ]
    },
    {
      "cell_type": "code",
      "metadata": {
        "id": "iV-vdm12d5FC"
      },
      "source": [
        "X_train, X_test, y_train, y_test = train_test_split (X,y,test_size=0.3, random_state=42)"
      ],
      "execution_count": 7,
      "outputs": []
    },
    {
      "cell_type": "code",
      "metadata": {
        "colab": {
          "base_uri": "https://localhost:8080/"
        },
        "id": "wXj8oaVUd5FD",
        "outputId": "71e19144-a283-4644-a87b-892303fa24c4"
      },
      "source": [
        "y_test.T"
      ],
      "execution_count": 8,
      "outputs": [
        {
          "output_type": "execute_result",
          "data": {
            "text/plain": [
              "array([0, 0, 0, ..., 0, 0, 0])"
            ]
          },
          "metadata": {
            "tags": []
          },
          "execution_count": 8
        }
      ]
    },
    {
      "cell_type": "code",
      "metadata": {
        "id": "GQwqhPb0d5FE",
        "outputId": "e19cd23d-08a4-4769-c9d5-ba2e0ab47bc7"
      },
      "source": [
        "X_test.shape"
      ],
      "execution_count": null,
      "outputs": [
        {
          "output_type": "execute_result",
          "data": {
            "text/plain": [
              "(9000, 10)"
            ]
          },
          "metadata": {
            "tags": []
          },
          "execution_count": 14
        }
      ]
    },
    {
      "cell_type": "code",
      "metadata": {
        "id": "boJfoZ5Ed5FG",
        "outputId": "67c33f10-d9fd-4eef-fe90-a299eb3b9c5e"
      },
      "source": [
        "df.describe()"
      ],
      "execution_count": null,
      "outputs": [
        {
          "output_type": "execute_result",
          "data": {
            "text/html": [
              "<div>\n",
              "<style scoped>\n",
              "    .dataframe tbody tr th:only-of-type {\n",
              "        vertical-align: middle;\n",
              "    }\n",
              "\n",
              "    .dataframe tbody tr th {\n",
              "        vertical-align: top;\n",
              "    }\n",
              "\n",
              "    .dataframe thead th {\n",
              "        text-align: right;\n",
              "    }\n",
              "</style>\n",
              "<table border=\"1\" class=\"dataframe\">\n",
              "  <thead>\n",
              "    <tr style=\"text-align: right;\">\n",
              "      <th></th>\n",
              "      <th>LIMIT_BAL_US</th>\n",
              "      <th>SEX</th>\n",
              "      <th>EDUCATION</th>\n",
              "      <th>MARRIAGE</th>\n",
              "      <th>AGE</th>\n",
              "      <th>PAY_SCORE_AVG</th>\n",
              "      <th>BILL_AVG_US</th>\n",
              "      <th>PAY_AMT_AVG_US</th>\n",
              "      <th>PAY_TO_BILL</th>\n",
              "      <th>CREDIT_UTILIZATION</th>\n",
              "      <th>DEFAULT_PAYMENT_NEXT_MO</th>\n",
              "    </tr>\n",
              "  </thead>\n",
              "  <tbody>\n",
              "    <tr>\n",
              "      <th>count</th>\n",
              "      <td>30000.000000</td>\n",
              "      <td>30000.000000</td>\n",
              "      <td>30000.000000</td>\n",
              "      <td>30000.000000</td>\n",
              "      <td>30000.000000</td>\n",
              "      <td>30000.000000</td>\n",
              "      <td>30000.000000</td>\n",
              "      <td>30000.000000</td>\n",
              "      <td>30000.000000</td>\n",
              "      <td>30000.000000</td>\n",
              "      <td>30000.000000</td>\n",
              "    </tr>\n",
              "    <tr>\n",
              "      <th>mean</th>\n",
              "      <td>6077.288279</td>\n",
              "      <td>1.603733</td>\n",
              "      <td>1.853133</td>\n",
              "      <td>1.551867</td>\n",
              "      <td>35.485500</td>\n",
              "      <td>-0.182680</td>\n",
              "      <td>1632.020583</td>\n",
              "      <td>191.415565</td>\n",
              "      <td>0.409982</td>\n",
              "      <td>0.423771</td>\n",
              "      <td>0.221200</td>\n",
              "    </tr>\n",
              "    <tr>\n",
              "      <th>std</th>\n",
              "      <td>4707.986577</td>\n",
              "      <td>0.489129</td>\n",
              "      <td>0.790349</td>\n",
              "      <td>0.521970</td>\n",
              "      <td>9.217904</td>\n",
              "      <td>0.982063</td>\n",
              "      <td>2295.460479</td>\n",
              "      <td>367.862624</td>\n",
              "      <td>7.671398</td>\n",
              "      <td>0.411462</td>\n",
              "      <td>0.415062</td>\n",
              "    </tr>\n",
              "    <tr>\n",
              "      <th>min</th>\n",
              "      <td>362.857143</td>\n",
              "      <td>1.000000</td>\n",
              "      <td>0.000000</td>\n",
              "      <td>0.000000</td>\n",
              "      <td>21.000000</td>\n",
              "      <td>-2.000000</td>\n",
              "      <td>-2033.566333</td>\n",
              "      <td>0.000000</td>\n",
              "      <td>-546.930000</td>\n",
              "      <td>-0.619892</td>\n",
              "      <td>0.000000</td>\n",
              "    </tr>\n",
              "    <tr>\n",
              "      <th>25%</th>\n",
              "      <td>1814.285714</td>\n",
              "      <td>1.000000</td>\n",
              "      <td>1.000000</td>\n",
              "      <td>1.000000</td>\n",
              "      <td>28.000000</td>\n",
              "      <td>-0.830000</td>\n",
              "      <td>173.494095</td>\n",
              "      <td>40.396583</td>\n",
              "      <td>0.040000</td>\n",
              "      <td>0.022032</td>\n",
              "      <td>0.000000</td>\n",
              "    </tr>\n",
              "    <tr>\n",
              "      <th>50%</th>\n",
              "      <td>5080.000000</td>\n",
              "      <td>2.000000</td>\n",
              "      <td>2.000000</td>\n",
              "      <td>2.000000</td>\n",
              "      <td>34.000000</td>\n",
              "      <td>0.000000</td>\n",
              "      <td>763.880810</td>\n",
              "      <td>86.982905</td>\n",
              "      <td>0.100000</td>\n",
              "      <td>0.313994</td>\n",
              "      <td>0.000000</td>\n",
              "    </tr>\n",
              "    <tr>\n",
              "      <th>75%</th>\n",
              "      <td>8708.571429</td>\n",
              "      <td>2.000000</td>\n",
              "      <td>2.000000</td>\n",
              "      <td>2.000000</td>\n",
              "      <td>41.000000</td>\n",
              "      <td>0.000000</td>\n",
              "      <td>2072.074548</td>\n",
              "      <td>202.616405</td>\n",
              "      <td>0.690000</td>\n",
              "      <td>0.829843</td>\n",
              "      <td>0.000000</td>\n",
              "    </tr>\n",
              "    <tr>\n",
              "      <th>max</th>\n",
              "      <td>36285.714290</td>\n",
              "      <td>2.000000</td>\n",
              "      <td>6.000000</td>\n",
              "      <td>3.000000</td>\n",
              "      <td>79.000000</td>\n",
              "      <td>6.000000</td>\n",
              "      <td>31833.959100</td>\n",
              "      <td>22763.637240</td>\n",
              "      <td>797.000000</td>\n",
              "      <td>6.455300</td>\n",
              "      <td>1.000000</td>\n",
              "    </tr>\n",
              "  </tbody>\n",
              "</table>\n",
              "</div>"
            ],
            "text/plain": [
              "       LIMIT_BAL_US           SEX     EDUCATION      MARRIAGE           AGE  \\\n",
              "count  30000.000000  30000.000000  30000.000000  30000.000000  30000.000000   \n",
              "mean    6077.288279      1.603733      1.853133      1.551867     35.485500   \n",
              "std     4707.986577      0.489129      0.790349      0.521970      9.217904   \n",
              "min      362.857143      1.000000      0.000000      0.000000     21.000000   \n",
              "25%     1814.285714      1.000000      1.000000      1.000000     28.000000   \n",
              "50%     5080.000000      2.000000      2.000000      2.000000     34.000000   \n",
              "75%     8708.571429      2.000000      2.000000      2.000000     41.000000   \n",
              "max    36285.714290      2.000000      6.000000      3.000000     79.000000   \n",
              "\n",
              "       PAY_SCORE_AVG   BILL_AVG_US  PAY_AMT_AVG_US   PAY_TO_BILL  \\\n",
              "count   30000.000000  30000.000000    30000.000000  30000.000000   \n",
              "mean       -0.182680   1632.020583      191.415565      0.409982   \n",
              "std         0.982063   2295.460479      367.862624      7.671398   \n",
              "min        -2.000000  -2033.566333        0.000000   -546.930000   \n",
              "25%        -0.830000    173.494095       40.396583      0.040000   \n",
              "50%         0.000000    763.880810       86.982905      0.100000   \n",
              "75%         0.000000   2072.074548      202.616405      0.690000   \n",
              "max         6.000000  31833.959100    22763.637240    797.000000   \n",
              "\n",
              "       CREDIT_UTILIZATION  DEFAULT_PAYMENT_NEXT_MO  \n",
              "count        30000.000000             30000.000000  \n",
              "mean             0.423771                 0.221200  \n",
              "std              0.411462                 0.415062  \n",
              "min             -0.619892                 0.000000  \n",
              "25%              0.022032                 0.000000  \n",
              "50%              0.313994                 0.000000  \n",
              "75%              0.829843                 0.000000  \n",
              "max              6.455300                 1.000000  "
            ]
          },
          "metadata": {
            "tags": []
          },
          "execution_count": 15
        }
      ]
    },
    {
      "cell_type": "code",
      "metadata": {
        "id": "k6UaUdZFd5FH"
      },
      "source": [
        "from sklearn.preprocessing import StandardScaler\n",
        "\n",
        "X_scaler = StandardScaler().fit(X_train)"
      ],
      "execution_count": 9,
      "outputs": []
    },
    {
      "cell_type": "code",
      "metadata": {
        "colab": {
          "base_uri": "https://localhost:8080/"
        },
        "id": "NW3GhtMMd5FI",
        "outputId": "42c9aa88-cd33-4bb1-9511-e9c44a92055e"
      },
      "source": [
        "X_scaler"
      ],
      "execution_count": 10,
      "outputs": [
        {
          "output_type": "execute_result",
          "data": {
            "text/plain": [
              "StandardScaler(copy=True, with_mean=True, with_std=True)"
            ]
          },
          "metadata": {
            "tags": []
          },
          "execution_count": 10
        }
      ]
    },
    {
      "cell_type": "code",
      "metadata": {
        "id": "MQ_Q-Aftd5FK"
      },
      "source": [
        "X_train_scaled = X_scaler.transform(X_train)\n",
        "X_test_scaled = X_scaler.transform(X_test)"
      ],
      "execution_count": 11,
      "outputs": []
    },
    {
      "cell_type": "code",
      "metadata": {
        "id": "2z37fCCVd5FL",
        "outputId": "0eb4cc00-4fcc-4476-e4c6-3186f74c8256"
      },
      "source": [
        "X_train_scaled"
      ],
      "execution_count": null,
      "outputs": [
        {
          "output_type": "execute_result",
          "data": {
            "text/plain": [
              "array([[ 0.56391448,  0.80648893, -1.07681763, ..., -0.49741723,\n",
              "         0.09035743, -1.02549459],\n",
              "       [-0.90610925,  0.80648893, -1.07681763, ..., -0.13590122,\n",
              "         0.08737206, -0.85894506],\n",
              "       [-0.90610925,  0.80648893,  0.18648797, ..., -0.33785543,\n",
              "        -0.05294013,  1.2179713 ],\n",
              "       ...,\n",
              "       [-0.90610925, -1.23994262, -1.07681763, ..., -0.49741723,\n",
              "         0.09035743, -1.02549459],\n",
              "       [-0.75136991,  0.80648893,  0.18648797, ..., -0.31133477,\n",
              "        -0.05294013,  1.53895893],\n",
              "       [-0.05504288,  0.80648893,  0.18648797, ..., -0.11985747,\n",
              "         0.10229889, -1.02579807]])"
            ]
          },
          "metadata": {
            "tags": []
          },
          "execution_count": 19
        }
      ]
    },
    {
      "cell_type": "code",
      "metadata": {
        "id": "MEkNtAKrd5FM"
      },
      "source": [
        "y_train_categorical = to_categorical(y_train)\n",
        "y_test_categorical = to_categorical(y_test)"
      ],
      "execution_count": 15,
      "outputs": []
    },
    {
      "cell_type": "code",
      "metadata": {
        "colab": {
          "base_uri": "https://localhost:8080/"
        },
        "id": "f-pAWf8Ud5FN",
        "outputId": "3f6317e8-4285-4b0d-d0c1-0546f818a860"
      },
      "source": [
        "y_test_categorical"
      ],
      "execution_count": 16,
      "outputs": [
        {
          "output_type": "execute_result",
          "data": {
            "text/plain": [
              "array([[1., 0.],\n",
              "       [1., 0.],\n",
              "       [1., 0.],\n",
              "       ...,\n",
              "       [1., 0.],\n",
              "       [1., 0.],\n",
              "       [1., 0.]], dtype=float32)"
            ]
          },
          "metadata": {
            "tags": []
          },
          "execution_count": 16
        }
      ]
    },
    {
      "cell_type": "code",
      "metadata": {
        "id": "mgn0z_wDd5FO"
      },
      "source": [
        "from keras.models import Sequential\n",
        "\n",
        "#instantiate\n",
        "model = Sequential()"
      ],
      "execution_count": 17,
      "outputs": []
    },
    {
      "cell_type": "code",
      "metadata": {
        "id": "Dm4E8t1Wd5FQ"
      },
      "source": [
        "from keras.layers import Dense\n",
        "\n",
        "number_inputs = 10\n",
        "number_units = 60\n",
        "\n",
        "model.add(Dense(units = number_units, activation ='relu', input_dim=number_inputs))\n",
        "model.add(Dense(units = 70, activation ='relu')) #second hidden layer\n",
        "model.add(Dense(units = 60, activation ='relu')) #second hidden layer\n",
        "model.add(Dense(units = 50, activation ='relu')) #second hidden layer\n",
        "model.add(Dense(units = 40, activation ='relu')) #second hidden layer\n",
        "model.add(Dense(units = 30, activation ='relu')) #second hidden layer\n",
        "model.add(Dense(units = 20, activation ='relu')) #second hidden layer\n",
        "model.add(Dense(units = 10, activation ='relu')) #second hidden layer\n",
        "#model.add(Dense(units = 2, activation ='relu')) #third hidden layer"
      ],
      "execution_count": 18,
      "outputs": []
    },
    {
      "cell_type": "code",
      "metadata": {
        "id": "18pFnXRHd5FS"
      },
      "source": [
        "number_classes =2 ## yes or no\n",
        "model.add(Dense(units = number_classes, activation = 'sigmoid'))"
      ],
      "execution_count": 19,
      "outputs": []
    },
    {
      "cell_type": "code",
      "metadata": {
        "id": "uEvhJXMgd5FT"
      },
      "source": [
        "model.summary()"
      ],
      "execution_count": null,
      "outputs": []
    },
    {
      "cell_type": "code",
      "metadata": {
        "id": "b8kx5LWqd5FT"
      },
      "source": [
        "#compile the model\n",
        "model.compile(optimizer = 'adam' ,\n",
        "             loss = 'binary_crossentropy',\n",
        "             metrics =['accuracy'])"
      ],
      "execution_count": 22,
      "outputs": []
    },
    {
      "cell_type": "code",
      "metadata": {
        "id": "_Puve5Amd5FU"
      },
      "source": [
        "#train the model\n",
        "\n",
        "model.fit(X_train_scaled, y_train_categorical, epochs=50,shuffle = True,verbose =2)"
      ],
      "execution_count": null,
      "outputs": []
    },
    {
      "cell_type": "code",
      "metadata": {
        "id": "_cdvJkwxd5FV"
      },
      "source": [
        "model.save(\"12-29-neuralnetwork.h5\")"
      ],
      "execution_count": null,
      "outputs": []
    },
    {
      "cell_type": "code",
      "metadata": {
        "colab": {
          "base_uri": "https://localhost:8080/"
        },
        "id": "t5GdvZtId5FV",
        "outputId": "31f996b3-76da-4694-bce9-0799492b924f"
      },
      "source": [
        "#quantify the model\n",
        "model_loss, model_accuracy = model.evaluate(X_test_scaled,y_test_categorical,verbose =2)\n",
        "print( model_loss )\n",
        "print (model_accuracy)"
      ],
      "execution_count": 24,
      "outputs": [
        {
          "output_type": "stream",
          "text": [
            "282/282 - 1s - loss: 0.5002 - accuracy: 0.7877\n",
            "0.5002438426017761\n",
            "0.7876666784286499\n"
          ],
          "name": "stdout"
        }
      ]
    },
    {
      "cell_type": "markdown",
      "metadata": {
        "id": "ilxnZoWpd5FW"
      },
      "source": [
        "F1, Precision Recall, and Confusion Matrix"
      ]
    },
    {
      "cell_type": "code",
      "metadata": {
        "id": "I5Q5h8zOd5FW"
      },
      "source": [
        "from sklearn.metrics import precision_recall_fscore_support\n",
        "from sklearn.metrics import recall_score\n",
        "from sklearn.metrics import classification_report"
      ],
      "execution_count": 25,
      "outputs": []
    },
    {
      "cell_type": "code",
      "metadata": {
        "colab": {
          "base_uri": "https://localhost:8080/"
        },
        "id": "7po-XEWwd5FX",
        "outputId": "e83a12c8-627a-4c7f-e26c-f36b40bd696b"
      },
      "source": [
        "y_prediction = model.predict_classes(X_test)"
      ],
      "execution_count": 26,
      "outputs": [
        {
          "output_type": "stream",
          "text": [
            "/usr/local/lib/python3.7/dist-packages/keras/engine/sequential.py:450: UserWarning: `model.predict_classes()` is deprecated and will be removed after 2021-01-01. Please use instead:* `np.argmax(model.predict(x), axis=-1)`,   if your model does multi-class classification   (e.g. if it uses a `softmax` last-layer activation).* `(model.predict(x) > 0.5).astype(\"int32\")`,   if your model does binary classification   (e.g. if it uses a `sigmoid` last-layer activation).\n",
            "  warnings.warn('`model.predict_classes()` is deprecated and '\n"
          ],
          "name": "stderr"
        }
      ]
    },
    {
      "cell_type": "code",
      "metadata": {
        "colab": {
          "base_uri": "https://localhost:8080/"
        },
        "id": "r5RlQVuhd5FY",
        "outputId": "8bc9eb43-d7ec-4770-cd9d-dbdd12d0697b"
      },
      "source": [
        "y_prediction.reshape(-1,1)"
      ],
      "execution_count": 27,
      "outputs": [
        {
          "output_type": "execute_result",
          "data": {
            "text/plain": [
              "array([[0],\n",
              "       [0],\n",
              "       [0],\n",
              "       ...,\n",
              "       [0],\n",
              "       [0],\n",
              "       [0]])"
            ]
          },
          "metadata": {
            "tags": []
          },
          "execution_count": 27
        }
      ]
    },
    {
      "cell_type": "code",
      "metadata": {
        "colab": {
          "base_uri": "https://localhost:8080/"
        },
        "id": "UpA_lZwsd5FZ",
        "outputId": "c82afa26-306b-479b-8c55-bc46279fbdc2"
      },
      "source": [
        "print(\"Recall score:\"+ str(recall_score(y_test, y_prediction)))"
      ],
      "execution_count": 29,
      "outputs": [
        {
          "output_type": "stream",
          "text": [
            "Recall score:0.0\n"
          ],
          "name": "stdout"
        }
      ]
    },
    {
      "cell_type": "code",
      "metadata": {
        "colab": {
          "base_uri": "https://localhost:8080/"
        },
        "id": "d9T3pEVAd5FZ",
        "outputId": "a5cb1c68-737e-4e3b-abfb-703cfef3f218"
      },
      "source": [
        "print(classification_report(y_test, y_prediction,\n",
        "                            target_names=[\"default\", \"non_default\"]))"
      ],
      "execution_count": 30,
      "outputs": [
        {
          "output_type": "stream",
          "text": [
            "              precision    recall  f1-score   support\n",
            "\n",
            "     default       0.78      1.00      0.88      7040\n",
            " non_default       0.00      0.00      0.00      1960\n",
            "\n",
            "    accuracy                           0.78      9000\n",
            "   macro avg       0.39      0.50      0.44      9000\n",
            "weighted avg       0.61      0.78      0.69      9000\n",
            "\n"
          ],
          "name": "stdout"
        },
        {
          "output_type": "stream",
          "text": [
            "/usr/local/lib/python3.7/dist-packages/sklearn/metrics/_classification.py:1272: UndefinedMetricWarning: Precision and F-score are ill-defined and being set to 0.0 in labels with no predicted samples. Use `zero_division` parameter to control this behavior.\n",
            "  _warn_prf(average, modifier, msg_start, len(result))\n"
          ],
          "name": "stderr"
        }
      ]
    },
    {
      "cell_type": "code",
      "metadata": {
        "id": "PZIA41FQd5Fa"
      },
      "source": [
        "import itertools\n",
        "import matplotlib.pyplot as plt\n",
        "from sklearn.metrics import confusion_matrix"
      ],
      "execution_count": 31,
      "outputs": []
    },
    {
      "cell_type": "code",
      "metadata": {
        "id": "-ZPmdFCWd5Fb"
      },
      "source": [
        "def plot_confusion_matrix(cm, classes,\n",
        "                          normalize=False,\n",
        "                          title='Confusion matrix',\n",
        "                          cmap=plt.cm.Blues):\n",
        "    \"\"\"\n",
        "    This function prints and plots the confusion matrix.\n",
        "    Normalization can be applied by setting `normalize=True`.\n",
        "    \"\"\"\n",
        "    if normalize:\n",
        "        cm = cm.astype('float') / cm.sum(axis=1)[:, np.newaxis]\n",
        "        print(\"Normalized confusion matrix\")\n",
        "    else:\n",
        "        print('Confusion matrix, without normalization')\n",
        "\n",
        "    print(cm)\n",
        "\n",
        "    plt.imshow(cm, interpolation='nearest', cmap=cmap)\n",
        "    plt.title(title)\n",
        "    plt.colorbar()\n",
        "    tick_marks = np.arange(len(classes))\n",
        "    plt.xticks(tick_marks, classes, rotation=45)\n",
        "    plt.yticks(tick_marks, classes)\n",
        "\n",
        "    fmt = '.2f' if normalize else 'd'\n",
        "    thresh = cm.max() / 2.\n",
        "    for i, j in itertools.product(range(cm.shape[0]), range(cm.shape[1])):\n",
        "        plt.text(j, i, format(cm[i, j], fmt),\n",
        "                 horizontalalignment=\"center\",\n",
        "                 color=\"red\" if cm[i, j] > thresh else \"black\")\n",
        "\n",
        "    plt.tight_layout()\n",
        "    plt.ylabel('True label')\n",
        "    plt.xlabel('Predicted label')\n",
        "\n",
        "# Compute confusion matrix\n",
        "cnf_matrix = confusion_matrix(y_test, y_prediction)\n",
        "np.set_printoptions(precision=2)\n",
        "\n",
        "# Plot non-normalized confusion matrix\n",
        "plt.figure()\n",
        "plot_confusion_matrix(cnf_matrix, classes=['Non_defualt', 'Default'],\n",
        "                      title='Confusion matrix, without normalization')\n",
        "\n",
        "# Plot normalized confusion matrix\n",
        "plt.figure()\n",
        "plot_confusion_matrix(cnf_matrix, classes=['Non_defualt', 'Default'], normalize=True,\n",
        "                      title='Normalized confusion matrix')\n",
        "\n",
        "plt.show()"
      ],
      "execution_count": null,
      "outputs": []
    },
    {
      "cell_type": "code",
      "metadata": {
        "id": "VRlCfymid5Fc"
      },
      "source": [
        ""
      ],
      "execution_count": null,
      "outputs": []
    }
  ]
}