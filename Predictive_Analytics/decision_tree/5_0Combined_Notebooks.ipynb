{
  "nbformat": 4,
  "nbformat_minor": 0,
  "metadata": {
    "kernelspec": {
      "display_name": "Python 3",
      "language": "python",
      "name": "python3"
    },
    "language_info": {
      "codemirror_mode": {
        "name": "ipython",
        "version": 3
      },
      "file_extension": ".py",
      "mimetype": "text/x-python",
      "name": "python",
      "nbconvert_exporter": "python",
      "pygments_lexer": "ipython3",
      "version": "3.7.6"
    },
    "colab": {
      "name": "5-0Combined Notebooks.ipynb",
      "provenance": [],
      "include_colab_link": true
    }
  },
  "cells": [
    {
      "cell_type": "markdown",
      "metadata": {
        "id": "view-in-github",
        "colab_type": "text"
      },
      "source": [
        "<a href=\"https://colab.research.google.com/github/JSJeong-me/JBNU-2021/blob/main/Predictive_Analytics/decision_tree/5_0Combined_Notebooks.ipynb\" target=\"_parent\"><img src=\"https://colab.research.google.com/assets/colab-badge.svg\" alt=\"Open In Colab\"/></a>"
      ]
    },
    {
      "cell_type": "markdown",
      "metadata": {
        "id": "krYvKfBZjucM"
      },
      "source": [
        "## Combining All ML Models to Compare in ROC Graph"
      ]
    },
    {
      "cell_type": "code",
      "metadata": {
        "id": "Ng3E_eB6jucO"
      },
      "source": [
        "# Load dependencies for all models\n",
        "from sklearn.ensemble import RandomForestClassifier\n",
        "from sklearn.model_selection import train_test_split\n",
        "import pandas as pd\n",
        "import numpy as np\n",
        "\n",
        "from keras.models import Sequential\n",
        "from sklearn.preprocessing import StandardScaler\n",
        "#from keras.utils import to_categorical\n",
        "from keras.models import Sequential\n",
        "from keras.layers import Dense\n",
        "\n",
        "import matplotlib\n",
        "%matplotlib inline  \n",
        "import matplotlib.pyplot as plt\n",
        "from sklearn.linear_model import LogisticRegression\n",
        "\n",
        "from sklearn.metrics import precision_recall_fscore_support\n",
        "from sklearn.metrics import recall_score\n",
        "from sklearn.metrics import classification_report\n",
        "import pickle\n",
        "\n",
        "from sklearn.metrics import confusion_matrix\n",
        "import itertools\n",
        "\n",
        "from sklearn.metrics import roc_auc_score\n",
        "from sklearn.metrics import roc_curve"
      ],
      "execution_count": 16,
      "outputs": []
    },
    {
      "cell_type": "code",
      "metadata": {
        "colab": {
          "base_uri": "https://localhost:8080/",
          "height": 223
        },
        "id": "0h25cqBrjucR",
        "outputId": "349573d4-d31d-4141-95a7-32835f75da23"
      },
      "source": [
        "df = pd.read_csv(\"./credit_cards_dataset.csv\")\n",
        "df.head()"
      ],
      "execution_count": 3,
      "outputs": [
        {
          "output_type": "execute_result",
          "data": {
            "text/html": [
              "<div>\n",
              "<style scoped>\n",
              "    .dataframe tbody tr th:only-of-type {\n",
              "        vertical-align: middle;\n",
              "    }\n",
              "\n",
              "    .dataframe tbody tr th {\n",
              "        vertical-align: top;\n",
              "    }\n",
              "\n",
              "    .dataframe thead th {\n",
              "        text-align: right;\n",
              "    }\n",
              "</style>\n",
              "<table border=\"1\" class=\"dataframe\">\n",
              "  <thead>\n",
              "    <tr style=\"text-align: right;\">\n",
              "      <th></th>\n",
              "      <th>ID</th>\n",
              "      <th>LIMIT_BAL</th>\n",
              "      <th>SEX</th>\n",
              "      <th>EDUCATION</th>\n",
              "      <th>MARRIAGE</th>\n",
              "      <th>AGE</th>\n",
              "      <th>PAY_0</th>\n",
              "      <th>PAY_2</th>\n",
              "      <th>PAY_3</th>\n",
              "      <th>PAY_4</th>\n",
              "      <th>PAY_5</th>\n",
              "      <th>PAY_6</th>\n",
              "      <th>BILL_AMT1</th>\n",
              "      <th>BILL_AMT2</th>\n",
              "      <th>BILL_AMT3</th>\n",
              "      <th>BILL_AMT4</th>\n",
              "      <th>BILL_AMT5</th>\n",
              "      <th>BILL_AMT6</th>\n",
              "      <th>PAY_AMT1</th>\n",
              "      <th>PAY_AMT2</th>\n",
              "      <th>PAY_AMT3</th>\n",
              "      <th>PAY_AMT4</th>\n",
              "      <th>PAY_AMT5</th>\n",
              "      <th>PAY_AMT6</th>\n",
              "      <th>default.payment.next.month</th>\n",
              "    </tr>\n",
              "  </thead>\n",
              "  <tbody>\n",
              "    <tr>\n",
              "      <th>0</th>\n",
              "      <td>1</td>\n",
              "      <td>20000.0</td>\n",
              "      <td>2</td>\n",
              "      <td>2</td>\n",
              "      <td>1</td>\n",
              "      <td>24</td>\n",
              "      <td>2</td>\n",
              "      <td>2</td>\n",
              "      <td>-1</td>\n",
              "      <td>-1</td>\n",
              "      <td>-2</td>\n",
              "      <td>-2</td>\n",
              "      <td>3913.0</td>\n",
              "      <td>3102.0</td>\n",
              "      <td>689.0</td>\n",
              "      <td>0.0</td>\n",
              "      <td>0.0</td>\n",
              "      <td>0.0</td>\n",
              "      <td>0.0</td>\n",
              "      <td>689.0</td>\n",
              "      <td>0.0</td>\n",
              "      <td>0.0</td>\n",
              "      <td>0.0</td>\n",
              "      <td>0.0</td>\n",
              "      <td>1</td>\n",
              "    </tr>\n",
              "    <tr>\n",
              "      <th>1</th>\n",
              "      <td>2</td>\n",
              "      <td>120000.0</td>\n",
              "      <td>2</td>\n",
              "      <td>2</td>\n",
              "      <td>2</td>\n",
              "      <td>26</td>\n",
              "      <td>-1</td>\n",
              "      <td>2</td>\n",
              "      <td>0</td>\n",
              "      <td>0</td>\n",
              "      <td>0</td>\n",
              "      <td>2</td>\n",
              "      <td>2682.0</td>\n",
              "      <td>1725.0</td>\n",
              "      <td>2682.0</td>\n",
              "      <td>3272.0</td>\n",
              "      <td>3455.0</td>\n",
              "      <td>3261.0</td>\n",
              "      <td>0.0</td>\n",
              "      <td>1000.0</td>\n",
              "      <td>1000.0</td>\n",
              "      <td>1000.0</td>\n",
              "      <td>0.0</td>\n",
              "      <td>2000.0</td>\n",
              "      <td>1</td>\n",
              "    </tr>\n",
              "    <tr>\n",
              "      <th>2</th>\n",
              "      <td>3</td>\n",
              "      <td>90000.0</td>\n",
              "      <td>2</td>\n",
              "      <td>2</td>\n",
              "      <td>2</td>\n",
              "      <td>34</td>\n",
              "      <td>0</td>\n",
              "      <td>0</td>\n",
              "      <td>0</td>\n",
              "      <td>0</td>\n",
              "      <td>0</td>\n",
              "      <td>0</td>\n",
              "      <td>29239.0</td>\n",
              "      <td>14027.0</td>\n",
              "      <td>13559.0</td>\n",
              "      <td>14331.0</td>\n",
              "      <td>14948.0</td>\n",
              "      <td>15549.0</td>\n",
              "      <td>1518.0</td>\n",
              "      <td>1500.0</td>\n",
              "      <td>1000.0</td>\n",
              "      <td>1000.0</td>\n",
              "      <td>1000.0</td>\n",
              "      <td>5000.0</td>\n",
              "      <td>0</td>\n",
              "    </tr>\n",
              "    <tr>\n",
              "      <th>3</th>\n",
              "      <td>4</td>\n",
              "      <td>50000.0</td>\n",
              "      <td>2</td>\n",
              "      <td>2</td>\n",
              "      <td>1</td>\n",
              "      <td>37</td>\n",
              "      <td>0</td>\n",
              "      <td>0</td>\n",
              "      <td>0</td>\n",
              "      <td>0</td>\n",
              "      <td>0</td>\n",
              "      <td>0</td>\n",
              "      <td>46990.0</td>\n",
              "      <td>48233.0</td>\n",
              "      <td>49291.0</td>\n",
              "      <td>28314.0</td>\n",
              "      <td>28959.0</td>\n",
              "      <td>29547.0</td>\n",
              "      <td>2000.0</td>\n",
              "      <td>2019.0</td>\n",
              "      <td>1200.0</td>\n",
              "      <td>1100.0</td>\n",
              "      <td>1069.0</td>\n",
              "      <td>1000.0</td>\n",
              "      <td>0</td>\n",
              "    </tr>\n",
              "    <tr>\n",
              "      <th>4</th>\n",
              "      <td>5</td>\n",
              "      <td>50000.0</td>\n",
              "      <td>1</td>\n",
              "      <td>2</td>\n",
              "      <td>1</td>\n",
              "      <td>57</td>\n",
              "      <td>-1</td>\n",
              "      <td>0</td>\n",
              "      <td>-1</td>\n",
              "      <td>0</td>\n",
              "      <td>0</td>\n",
              "      <td>0</td>\n",
              "      <td>8617.0</td>\n",
              "      <td>5670.0</td>\n",
              "      <td>35835.0</td>\n",
              "      <td>20940.0</td>\n",
              "      <td>19146.0</td>\n",
              "      <td>19131.0</td>\n",
              "      <td>2000.0</td>\n",
              "      <td>36681.0</td>\n",
              "      <td>10000.0</td>\n",
              "      <td>9000.0</td>\n",
              "      <td>689.0</td>\n",
              "      <td>679.0</td>\n",
              "      <td>0</td>\n",
              "    </tr>\n",
              "  </tbody>\n",
              "</table>\n",
              "</div>"
            ],
            "text/plain": [
              "   ID  LIMIT_BAL  SEX  ...  PAY_AMT5  PAY_AMT6  default.payment.next.month\n",
              "0   1    20000.0    2  ...       0.0       0.0                           1\n",
              "1   2   120000.0    2  ...       0.0    2000.0                           1\n",
              "2   3    90000.0    2  ...    1000.0    5000.0                           0\n",
              "3   4    50000.0    2  ...    1069.0    1000.0                           0\n",
              "4   5    50000.0    1  ...     689.0     679.0                           0\n",
              "\n",
              "[5 rows x 25 columns]"
            ]
          },
          "metadata": {
            "tags": []
          },
          "execution_count": 3
        }
      ]
    },
    {
      "cell_type": "code",
      "metadata": {
        "colab": {
          "base_uri": "https://localhost:8080/"
        },
        "id": "bydiNhmkjucS",
        "outputId": "1c115a7a-6f4e-4461-83bc-068b5cac7226"
      },
      "source": [
        "print(\"Original shape of the data: \"+ str(df.shape))\n",
        "features_names = df.columns"
      ],
      "execution_count": 4,
      "outputs": [
        {
          "output_type": "stream",
          "text": [
            "Original shape of the data: (30000, 25)\n"
          ],
          "name": "stdout"
        }
      ]
    },
    {
      "cell_type": "code",
      "metadata": {
        "colab": {
          "base_uri": "https://localhost:8080/"
        },
        "id": "omDuPO1ojucT",
        "outputId": "e7cdbef9-98f8-415c-fad9-5e478294b8d2"
      },
      "source": [
        "X = df.drop('default.payment.next.month', axis =1).values\n",
        "y = df['default.payment.next.month'].values\n",
        "print(X.shape)\n",
        "print(y.shape)"
      ],
      "execution_count": 5,
      "outputs": [
        {
          "output_type": "stream",
          "text": [
            "(30000, 24)\n",
            "(30000,)\n"
          ],
          "name": "stdout"
        }
      ]
    },
    {
      "cell_type": "markdown",
      "metadata": {
        "id": "7TCiO2nDjucT"
      },
      "source": [
        "Split my data into training and testing"
      ]
    },
    {
      "cell_type": "code",
      "metadata": {
        "id": "BDZWEDuojucU"
      },
      "source": [
        "X_train, X_test, y_train, y_test = train_test_split(X, y, test_size=0.3, random_state=42)"
      ],
      "execution_count": 6,
      "outputs": []
    },
    {
      "cell_type": "markdown",
      "metadata": {
        "id": "J2v_FJabjucU"
      },
      "source": [
        "## Instantiate the random forest model with 200 trees"
      ]
    },
    {
      "cell_type": "code",
      "metadata": {
        "colab": {
          "base_uri": "https://localhost:8080/"
        },
        "id": "HK5TEPLdjucV",
        "outputId": "a65cb385-f36d-4344-efc0-b98b2fad1e57"
      },
      "source": [
        "rf = RandomForestClassifier(n_estimators=200)\n",
        "rf.fit(X_train, y_train)"
      ],
      "execution_count": 19,
      "outputs": [
        {
          "output_type": "execute_result",
          "data": {
            "text/plain": [
              "RandomForestClassifier(bootstrap=True, ccp_alpha=0.0, class_weight=None,\n",
              "                       criterion='gini', max_depth=None, max_features='auto',\n",
              "                       max_leaf_nodes=None, max_samples=None,\n",
              "                       min_impurity_decrease=0.0, min_impurity_split=None,\n",
              "                       min_samples_leaf=1, min_samples_split=2,\n",
              "                       min_weight_fraction_leaf=0.0, n_estimators=200,\n",
              "                       n_jobs=None, oob_score=False, random_state=None,\n",
              "                       verbose=0, warm_start=False)"
            ]
          },
          "metadata": {
            "tags": []
          },
          "execution_count": 19
        }
      ]
    },
    {
      "cell_type": "markdown",
      "metadata": {
        "id": "OAWga6MMjucV"
      },
      "source": [
        "Check feature importance"
      ]
    },
    {
      "cell_type": "code",
      "metadata": {
        "id": "shtcZ8B9jucW"
      },
      "source": [
        "sorted(zip(rf.feature_importances_, features_names), reverse=True) "
      ],
      "execution_count": null,
      "outputs": []
    },
    {
      "cell_type": "code",
      "metadata": {
        "id": "6N4WcsOijucW"
      },
      "source": [
        "## plot the importances ##\n",
        "import matplotlib.pyplot as plt\n",
        "importances = rf.feature_importances_\n",
        "\n",
        "\n",
        "indices = np.argsort(importances)[::-1]\n",
        "plt.figure(figsize=(12,6))\n",
        "plt.title(\"Feature importances by DecisionTreeClassifier\")\n",
        "plt.bar(range(len(indices)), importances[indices], color='lightblue',  align=\"center\")\n",
        "plt.step(range(len(indices)), np.cumsum(importances[indices]), where='mid', label='Cumulative')\n",
        "plt.xticks(range(len(indices)), features_names[indices], rotation='vertical',fontsize=14)\n",
        "plt.xlim([-1, len(indices)])\n",
        "plt.show()"
      ],
      "execution_count": null,
      "outputs": []
    },
    {
      "cell_type": "markdown",
      "metadata": {
        "id": "bXR-NMHSjucX"
      },
      "source": [
        "Making my prediction and seeing how well my model predicted by checking recall, precision, F1 score and making a confusion matrix.\n",
        "Recall -tells us generally or overall how well our model predicted based on the total of how much it correctly predicted /correctly predicted + how many where actually right but predicted wrong.\n",
        "\n",
        "                    formula = TP/TP+FN\n",
        "Precision -tells us or gives us true measure how well our model predicted it shows correctly predicted /correctly predicted + how many the model predicted to be positive but where false.\n",
        "\n",
        "                   formula = TP/TP+FP\n",
        "F1 score - gives us a mean of precision and recall, a sumarization of how well it did in respect to recall and precision."
      ]
    },
    {
      "cell_type": "code",
      "metadata": {
        "id": "lqCOzxAdjucX"
      },
      "source": [
        "#Make my predictions\n",
        "rf_y_prediction = rf.predict(X_test)"
      ],
      "execution_count": 21,
      "outputs": []
    },
    {
      "cell_type": "code",
      "metadata": {
        "id": "DwFHaWhbjucX"
      },
      "source": [
        "rf_roc_auc = roc_auc_score(y_test, rf.predict(X_test))"
      ],
      "execution_count": 22,
      "outputs": []
    },
    {
      "cell_type": "code",
      "metadata": {
        "colab": {
          "base_uri": "https://localhost:8080/"
        },
        "id": "EF_W0WFZjucY",
        "outputId": "29bec98a-c2be-4fb4-a867-9be3dc7aa5d2"
      },
      "source": [
        "print(classification_report(y_test, rf_y_prediction,\n",
        "                            target_names=[\"non_default\", \"default\"]))"
      ],
      "execution_count": 23,
      "outputs": [
        {
          "output_type": "stream",
          "text": [
            "              precision    recall  f1-score   support\n",
            "\n",
            " non_default       0.84      0.94      0.89      7040\n",
            "     default       0.64      0.37      0.47      1960\n",
            "\n",
            "    accuracy                           0.82      9000\n",
            "   macro avg       0.74      0.65      0.68      9000\n",
            "weighted avg       0.80      0.82      0.80      9000\n",
            "\n"
          ],
          "name": "stdout"
        }
      ]
    },
    {
      "cell_type": "code",
      "metadata": {
        "id": "zijEkP4MjucY"
      },
      "source": [
        "def plot_confusion_matrix(cm, classes,\n",
        "                          normalize=False,\n",
        "                          title='Confusion matrix',\n",
        "                          cmap=plt.cm.Blues):\n",
        "    \"\"\"\n",
        "    This function prints and plots the confusion matrix.\n",
        "    Normalization can be applied by setting `normalize=True`.\n",
        "    \"\"\"\n",
        "    if normalize:\n",
        "        cm = cm.astype('float') / cm.sum(axis=1)[:, np.newaxis]\n",
        "        print(\"Normalized confusion matrix\")\n",
        "    else:\n",
        "        print('Confusion matrix, without normalization')\n",
        "\n",
        "    print(cm)\n",
        "\n",
        "    plt.imshow(cm, interpolation='nearest', cmap=cmap)\n",
        "    plt.title(title)\n",
        "    plt.colorbar()\n",
        "    tick_marks = np.arange(len(classes))\n",
        "    plt.xticks(tick_marks, classes, rotation=45)\n",
        "    plt.yticks(tick_marks, classes)\n",
        "\n",
        "    fmt = '.2f' if normalize else 'd'\n",
        "    thresh = cm.max() / 2.\n",
        "    for i, j in itertools.product(range(cm.shape[0]), range(cm.shape[1])):\n",
        "        plt.text(j, i, format(cm[i, j], fmt),\n",
        "                 horizontalalignment=\"center\",\n",
        "                 color=\"white\" if cm[i, j] > thresh else \"black\")\n",
        "\n",
        "    plt.tight_layout()\n",
        "    plt.ylabel('True label')\n",
        "    plt.xlabel('Predicted label')"
      ],
      "execution_count": 24,
      "outputs": []
    },
    {
      "cell_type": "code",
      "metadata": {
        "id": "fMwJSvRvjucZ"
      },
      "source": [
        "# Compute confusion matrix\n",
        "cnf_matrix = confusion_matrix(y_test, rf_y_prediction)\n",
        "np.set_printoptions(precision=2)\n",
        "\n",
        "# Plot non-normalized confusion matrix\n",
        "plt.figure()\n",
        "plot_confusion_matrix(cnf_matrix, classes=['non_default', 'default'],\n",
        "                      title='Confusion matrix, without normalization')\n",
        "\n",
        "# Plot normalized confusion matrix\n",
        "plt.figure()\n",
        "plot_confusion_matrix(cnf_matrix, classes=['non_default', 'default'], normalize=True,\n",
        "                      title='Normalized confusion matrix')\n",
        "\n",
        "plt.show()"
      ],
      "execution_count": null,
      "outputs": []
    },
    {
      "cell_type": "markdown",
      "metadata": {
        "id": "dz59sds9juca"
      },
      "source": [
        "Explanation of this confusion matrix\n",
        "In our confusion matrix, the non-default classification has a total of 2,158 points and defualt clssification has a total of 7,742 points.\n",
        "\n",
        "It correctly identified 7239 points as default and 503 points as non-default.\n",
        "\n",
        "Non_default classification incorectly predicted 1480 points as default and correctly classified 678 points as Non defualt."
      ]
    },
    {
      "cell_type": "markdown",
      "metadata": {
        "id": "9qUeZjWVjuca"
      },
      "source": [
        "## Launch Neural Network Model"
      ]
    },
    {
      "cell_type": "code",
      "metadata": {
        "id": "tNFG02jLjuca"
      },
      "source": [
        "X_scaler = StandardScaler().fit(X_train)"
      ],
      "execution_count": null,
      "outputs": []
    },
    {
      "cell_type": "code",
      "metadata": {
        "id": "dFytRTNkjucb"
      },
      "source": [
        "X_train_scaled = X_scaler.transform(X_train)\n",
        "X_test_scaled = X_scaler.transform(X_test)"
      ],
      "execution_count": null,
      "outputs": []
    },
    {
      "cell_type": "code",
      "metadata": {
        "id": "bPnARNmxjucb"
      },
      "source": [
        "y_train_categorical = to_categorical(y_train)\n",
        "y_test_categorical = to_categorical(y_test)"
      ],
      "execution_count": null,
      "outputs": []
    },
    {
      "cell_type": "code",
      "metadata": {
        "id": "myQ4bwYDjucb",
        "outputId": "81bd5e74-80fc-4d51-a567-ee1d1b6a29ea"
      },
      "source": [
        "nn_model = Sequential()"
      ],
      "execution_count": null,
      "outputs": [
        {
          "output_type": "stream",
          "text": [
            "WARNING: Logging before flag parsing goes to stderr.\n",
            "W1212 15:53:18.311024 16976 module_wrapper.py:139] From C:\\Users\\heine\\Anaconda3\\lib\\site-packages\\keras\\backend\\tensorflow_backend.py:74: The name tf.get_default_graph is deprecated. Please use tf.compat.v1.get_default_graph instead.\n",
            "\n"
          ],
          "name": "stderr"
        }
      ]
    },
    {
      "cell_type": "code",
      "metadata": {
        "id": "zkIV50Ixjucc",
        "outputId": "b465e185-2460-407b-f0ca-97ffba09f232"
      },
      "source": [
        "nn_model.add(Dense(units = 30, activation ='relu', input_dim=24))\n",
        "nn_model.add(Dense(units = 20, activation ='relu')) #second hidden layer"
      ],
      "execution_count": null,
      "outputs": [
        {
          "output_type": "stream",
          "text": [
            "W1212 15:53:18.322990 16976 module_wrapper.py:139] From C:\\Users\\heine\\Anaconda3\\lib\\site-packages\\keras\\backend\\tensorflow_backend.py:517: The name tf.placeholder is deprecated. Please use tf.compat.v1.placeholder instead.\n",
            "\n",
            "W1212 15:53:18.325980 16976 module_wrapper.py:139] From C:\\Users\\heine\\Anaconda3\\lib\\site-packages\\keras\\backend\\tensorflow_backend.py:4138: The name tf.random_uniform is deprecated. Please use tf.random.uniform instead.\n",
            "\n"
          ],
          "name": "stderr"
        }
      ]
    },
    {
      "cell_type": "code",
      "metadata": {
        "id": "X_nHyfkWjucc"
      },
      "source": [
        "\n",
        "nn_model.add(Dense(units = 2, activation = 'softmax'))"
      ],
      "execution_count": null,
      "outputs": []
    },
    {
      "cell_type": "code",
      "metadata": {
        "id": "u8awPmsRjucc",
        "outputId": "543ceff7-5763-4c30-fb85-744e4770fe3b"
      },
      "source": [
        "nn_model.summary()"
      ],
      "execution_count": null,
      "outputs": [
        {
          "output_type": "stream",
          "text": [
            "_________________________________________________________________\n",
            "Layer (type)                 Output Shape              Param #   \n",
            "=================================================================\n",
            "dense_1 (Dense)              (None, 30)                750       \n",
            "_________________________________________________________________\n",
            "dense_2 (Dense)              (None, 20)                620       \n",
            "_________________________________________________________________\n",
            "dense_3 (Dense)              (None, 2)                 42        \n",
            "=================================================================\n",
            "Total params: 1,412\n",
            "Trainable params: 1,412\n",
            "Non-trainable params: 0\n",
            "_________________________________________________________________\n"
          ],
          "name": "stdout"
        }
      ]
    },
    {
      "cell_type": "code",
      "metadata": {
        "id": "EbxdjAMvjucd",
        "outputId": "339a4200-255a-4412-da6b-80c590d41e88"
      },
      "source": [
        "#compile the model\n",
        "nn_model.compile(optimizer = 'adam' ,\n",
        "             loss = 'categorical_crossentropy',\n",
        "             metrics =['accuracy'])"
      ],
      "execution_count": null,
      "outputs": [
        {
          "output_type": "stream",
          "text": [
            "W1212 15:53:18.393863 16976 module_wrapper.py:139] From C:\\Users\\heine\\Anaconda3\\lib\\site-packages\\keras\\optimizers.py:790: The name tf.train.Optimizer is deprecated. Please use tf.compat.v1.train.Optimizer instead.\n",
            "\n",
            "W1212 15:53:18.419949 16976 module_wrapper.py:139] From C:\\Users\\heine\\Anaconda3\\lib\\site-packages\\keras\\backend\\tensorflow_backend.py:3295: The name tf.log is deprecated. Please use tf.math.log instead.\n",
            "\n"
          ],
          "name": "stderr"
        }
      ]
    },
    {
      "cell_type": "code",
      "metadata": {
        "id": "Hrs9AAJtjucd",
        "outputId": "5b20cebd-d501-4615-d038-eb85c49c0ff7"
      },
      "source": [
        "#train the model\n",
        "\n",
        "nn_model.fit(X_train_scaled, y_train_categorical, epochs=100,shuffle = True,verbose =2)"
      ],
      "execution_count": null,
      "outputs": [
        {
          "output_type": "stream",
          "text": [
            "W1212 15:53:18.536417 16976 deprecation.py:323] From C:\\Users\\heine\\Anaconda3\\lib\\site-packages\\tensorflow_core\\python\\ops\\math_grad.py:1424: where (from tensorflow.python.ops.array_ops) is deprecated and will be removed in a future version.\n",
            "Instructions for updating:\n",
            "Use tf.where in 2.0, which has the same broadcast rule as np.where\n",
            "W1212 15:53:18.595294 16976 module_wrapper.py:139] From C:\\Users\\heine\\Anaconda3\\lib\\site-packages\\keras\\backend\\tensorflow_backend.py:986: The name tf.assign_add is deprecated. Please use tf.compat.v1.assign_add instead.\n",
            "\n",
            "W1212 15:53:18.689009 16976 module_wrapper.py:139] From C:\\Users\\heine\\Anaconda3\\lib\\site-packages\\keras\\backend\\tensorflow_backend.py:973: The name tf.assign is deprecated. Please use tf.compat.v1.assign instead.\n",
            "\n",
            "W1212 15:53:18.778769 16976 module_wrapper.py:139] From C:\\Users\\heine\\Anaconda3\\lib\\site-packages\\keras\\backend\\tensorflow_backend.py:2741: The name tf.Session is deprecated. Please use tf.compat.v1.Session instead.\n",
            "\n",
            "W1212 15:53:18.784789 16976 module_wrapper.py:139] From C:\\Users\\heine\\Anaconda3\\lib\\site-packages\\keras\\backend\\tensorflow_backend.py:174: The name tf.get_default_session is deprecated. Please use tf.compat.v1.get_default_session instead.\n",
            "\n",
            "W1212 15:53:18.787747 16976 module_wrapper.py:139] From C:\\Users\\heine\\Anaconda3\\lib\\site-packages\\keras\\backend\\tensorflow_backend.py:181: The name tf.ConfigProto is deprecated. Please use tf.compat.v1.ConfigProto instead.\n",
            "\n",
            "W1212 15:53:18.879871 16976 module_wrapper.py:139] From C:\\Users\\heine\\Anaconda3\\lib\\site-packages\\keras\\backend\\tensorflow_backend.py:190: The name tf.global_variables is deprecated. Please use tf.compat.v1.global_variables instead.\n",
            "\n",
            "W1212 15:53:18.880597 16976 module_wrapper.py:139] From C:\\Users\\heine\\Anaconda3\\lib\\site-packages\\keras\\backend\\tensorflow_backend.py:199: The name tf.is_variable_initialized is deprecated. Please use tf.compat.v1.is_variable_initialized instead.\n",
            "\n",
            "W1212 15:53:18.943427 16976 module_wrapper.py:139] From C:\\Users\\heine\\Anaconda3\\lib\\site-packages\\keras\\backend\\tensorflow_backend.py:206: The name tf.variables_initializer is deprecated. Please use tf.compat.v1.variables_initializer instead.\n",
            "\n"
          ],
          "name": "stderr"
        },
        {
          "output_type": "stream",
          "text": [
            "Epoch 1/100\n",
            " - 1s - loss: 0.4826 - acc: 0.8028\n",
            "Epoch 2/100\n",
            " - 1s - loss: 0.4473 - acc: 0.8160\n",
            "Epoch 3/100\n",
            " - 1s - loss: 0.4384 - acc: 0.8187\n",
            "Epoch 4/100\n",
            " - 1s - loss: 0.4319 - acc: 0.8200\n",
            "Epoch 5/100\n",
            " - 1s - loss: 0.4287 - acc: 0.8216\n",
            "Epoch 6/100\n",
            " - 1s - loss: 0.4264 - acc: 0.8217\n",
            "Epoch 7/100\n",
            " - 1s - loss: 0.4242 - acc: 0.8224\n",
            "Epoch 8/100\n",
            " - 1s - loss: 0.4221 - acc: 0.8220\n",
            "Epoch 9/100\n",
            " - 1s - loss: 0.4213 - acc: 0.8224\n",
            "Epoch 10/100\n",
            " - 1s - loss: 0.4194 - acc: 0.8223\n",
            "Epoch 11/100\n",
            " - 1s - loss: 0.4185 - acc: 0.8232\n",
            "Epoch 12/100\n",
            " - 1s - loss: 0.4178 - acc: 0.8251\n",
            "Epoch 13/100\n",
            " - 1s - loss: 0.4167 - acc: 0.8248\n",
            "Epoch 14/100\n",
            " - 1s - loss: 0.4158 - acc: 0.8246\n",
            "Epoch 15/100\n",
            " - 1s - loss: 0.4149 - acc: 0.8245\n",
            "Epoch 16/100\n",
            " - 1s - loss: 0.4141 - acc: 0.8237\n",
            "Epoch 17/100\n",
            " - 1s - loss: 0.4134 - acc: 0.8254\n",
            "Epoch 18/100\n",
            " - 1s - loss: 0.4131 - acc: 0.8247\n",
            "Epoch 19/100\n",
            " - 1s - loss: 0.4120 - acc: 0.8259\n",
            "Epoch 20/100\n",
            " - 1s - loss: 0.4110 - acc: 0.8259\n",
            "Epoch 21/100\n",
            " - 1s - loss: 0.4108 - acc: 0.8251\n",
            "Epoch 22/100\n",
            " - 1s - loss: 0.4108 - acc: 0.8260\n",
            "Epoch 23/100\n",
            " - 1s - loss: 0.4100 - acc: 0.8251\n",
            "Epoch 24/100\n",
            " - 1s - loss: 0.4091 - acc: 0.8261\n",
            "Epoch 25/100\n",
            " - 1s - loss: 0.4095 - acc: 0.8263\n",
            "Epoch 26/100\n",
            " - 1s - loss: 0.4088 - acc: 0.8259\n",
            "Epoch 27/100\n",
            " - 1s - loss: 0.4083 - acc: 0.8257\n",
            "Epoch 28/100\n",
            " - 1s - loss: 0.4077 - acc: 0.8268\n",
            "Epoch 29/100\n",
            " - 1s - loss: 0.4078 - acc: 0.8279\n",
            "Epoch 30/100\n",
            " - 1s - loss: 0.4071 - acc: 0.8277\n",
            "Epoch 31/100\n",
            " - 1s - loss: 0.4064 - acc: 0.8279\n",
            "Epoch 32/100\n",
            " - 1s - loss: 0.4062 - acc: 0.8280\n",
            "Epoch 33/100\n",
            " - 1s - loss: 0.4052 - acc: 0.8289\n",
            "Epoch 34/100\n",
            " - 1s - loss: 0.4056 - acc: 0.8274\n",
            "Epoch 35/100\n",
            " - 1s - loss: 0.4044 - acc: 0.8277\n",
            "Epoch 36/100\n",
            " - 1s - loss: 0.4038 - acc: 0.8291\n",
            "Epoch 37/100\n",
            " - 1s - loss: 0.4037 - acc: 0.8286\n",
            "Epoch 38/100\n",
            " - 1s - loss: 0.4035 - acc: 0.8291\n",
            "Epoch 39/100\n",
            " - 1s - loss: 0.4044 - acc: 0.8287\n",
            "Epoch 40/100\n",
            " - 1s - loss: 0.4031 - acc: 0.8280\n",
            "Epoch 41/100\n",
            " - 1s - loss: 0.4028 - acc: 0.8295\n",
            "Epoch 42/100\n",
            " - 1s - loss: 0.4022 - acc: 0.8290\n",
            "Epoch 43/100\n",
            " - 1s - loss: 0.4017 - acc: 0.8295\n",
            "Epoch 44/100\n",
            " - 1s - loss: 0.4013 - acc: 0.8290\n",
            "Epoch 45/100\n",
            " - 1s - loss: 0.4010 - acc: 0.8293\n",
            "Epoch 46/100\n",
            " - 1s - loss: 0.4016 - acc: 0.8298\n",
            "Epoch 47/100\n",
            " - 1s - loss: 0.4010 - acc: 0.8299\n",
            "Epoch 48/100\n",
            " - 1s - loss: 0.4000 - acc: 0.8288\n",
            "Epoch 49/100\n",
            " - 1s - loss: 0.4000 - acc: 0.8308\n",
            "Epoch 50/100\n",
            " - 1s - loss: 0.3998 - acc: 0.8290\n",
            "Epoch 51/100\n",
            " - 1s - loss: 0.3998 - acc: 0.8298\n",
            "Epoch 52/100\n",
            " - 1s - loss: 0.3995 - acc: 0.8300\n",
            "Epoch 53/100\n",
            " - 1s - loss: 0.3991 - acc: 0.8291\n",
            "Epoch 54/100\n",
            " - 1s - loss: 0.3993 - acc: 0.8294\n",
            "Epoch 55/100\n",
            " - 1s - loss: 0.3993 - acc: 0.8304\n",
            "Epoch 56/100\n",
            " - 1s - loss: 0.3981 - acc: 0.8306\n",
            "Epoch 57/100\n",
            " - 1s - loss: 0.3980 - acc: 0.8293\n",
            "Epoch 58/100\n",
            " - 1s - loss: 0.3975 - acc: 0.8315\n",
            "Epoch 59/100\n",
            " - 1s - loss: 0.3977 - acc: 0.8303\n",
            "Epoch 60/100\n",
            " - 1s - loss: 0.3973 - acc: 0.8309\n",
            "Epoch 61/100\n",
            " - 1s - loss: 0.3973 - acc: 0.8321\n",
            "Epoch 62/100\n",
            " - 1s - loss: 0.3964 - acc: 0.8312\n",
            "Epoch 63/100\n",
            " - 1s - loss: 0.3961 - acc: 0.8311\n",
            "Epoch 64/100\n",
            " - 1s - loss: 0.3964 - acc: 0.8309\n",
            "Epoch 65/100\n",
            " - 1s - loss: 0.3957 - acc: 0.8308\n",
            "Epoch 66/100\n",
            " - 1s - loss: 0.3963 - acc: 0.8324\n",
            "Epoch 67/100\n",
            " - 1s - loss: 0.3957 - acc: 0.8334\n",
            "Epoch 68/100\n",
            " - 1s - loss: 0.3958 - acc: 0.8306\n",
            "Epoch 69/100\n",
            " - 1s - loss: 0.3957 - acc: 0.8315\n",
            "Epoch 70/100\n",
            " - 1s - loss: 0.3954 - acc: 0.8319\n",
            "Epoch 71/100\n",
            " - 1s - loss: 0.3952 - acc: 0.8317\n",
            "Epoch 72/100\n",
            " - 1s - loss: 0.3949 - acc: 0.8325\n",
            "Epoch 73/100\n",
            " - 1s - loss: 0.3951 - acc: 0.8320\n",
            "Epoch 74/100\n",
            " - 1s - loss: 0.3943 - acc: 0.8324\n",
            "Epoch 75/100\n",
            " - 1s - loss: 0.3949 - acc: 0.8319\n",
            "Epoch 76/100\n",
            " - 1s - loss: 0.3932 - acc: 0.8320\n",
            "Epoch 77/100\n",
            " - 1s - loss: 0.3933 - acc: 0.8332\n",
            "Epoch 78/100\n",
            " - 1s - loss: 0.3936 - acc: 0.8329\n",
            "Epoch 79/100\n",
            " - 1s - loss: 0.3929 - acc: 0.8325\n",
            "Epoch 80/100\n",
            " - 1s - loss: 0.3929 - acc: 0.8328\n",
            "Epoch 81/100\n",
            " - 1s - loss: 0.3925 - acc: 0.8325\n",
            "Epoch 82/100\n",
            " - 1s - loss: 0.3932 - acc: 0.8335\n",
            "Epoch 83/100\n",
            " - 1s - loss: 0.3932 - acc: 0.8338\n",
            "Epoch 84/100\n",
            " - 1s - loss: 0.3919 - acc: 0.8330\n",
            "Epoch 85/100\n",
            " - 1s - loss: 0.3930 - acc: 0.8325\n",
            "Epoch 86/100\n",
            " - 1s - loss: 0.3915 - acc: 0.8332\n",
            "Epoch 87/100\n",
            " - 1s - loss: 0.3919 - acc: 0.8331\n",
            "Epoch 88/100\n",
            " - 1s - loss: 0.3909 - acc: 0.8336\n",
            "Epoch 89/100\n",
            " - 1s - loss: 0.3912 - acc: 0.8328\n",
            "Epoch 90/100\n",
            " - 1s - loss: 0.3915 - acc: 0.8339\n",
            "Epoch 91/100\n",
            " - 1s - loss: 0.3916 - acc: 0.8339\n",
            "Epoch 92/100\n",
            " - 1s - loss: 0.3914 - acc: 0.8329\n",
            "Epoch 93/100\n",
            " - 1s - loss: 0.3905 - acc: 0.8333\n",
            "Epoch 94/100\n",
            " - 1s - loss: 0.3900 - acc: 0.8326\n",
            "Epoch 95/100\n",
            " - 1s - loss: 0.3903 - acc: 0.8348\n",
            "Epoch 96/100\n",
            " - 1s - loss: 0.3897 - acc: 0.8348\n",
            "Epoch 97/100\n",
            " - 1s - loss: 0.3897 - acc: 0.8340\n",
            "Epoch 98/100\n",
            " - 1s - loss: 0.3900 - acc: 0.8341\n",
            "Epoch 99/100\n",
            " - 1s - loss: 0.3897 - acc: 0.8337\n",
            "Epoch 100/100\n",
            " - 1s - loss: 0.3890 - acc: 0.8347\n"
          ],
          "name": "stdout"
        },
        {
          "output_type": "execute_result",
          "data": {
            "text/plain": [
              "<keras.callbacks.History at 0x1e4179d5d30>"
            ]
          },
          "metadata": {
            "tags": []
          },
          "execution_count": 22
        }
      ]
    },
    {
      "cell_type": "code",
      "metadata": {
        "id": "3E4fiQYYjucd",
        "outputId": "2eb52a7e-a522-4cd9-fd08-e52d7c9a70f4"
      },
      "source": [
        "model_loss, model_accuracy = nn_model.evaluate(X_test_scaled,y_test_categorical,verbose =2)\n",
        "print( model_loss )\n",
        "print (model_accuracy)"
      ],
      "execution_count": null,
      "outputs": [
        {
          "output_type": "stream",
          "text": [
            "0.46293662150700887\n",
            "0.8091111111111111\n"
          ],
          "name": "stdout"
        }
      ]
    },
    {
      "cell_type": "code",
      "metadata": {
        "id": "Ajtrhyqpjuce"
      },
      "source": [
        "nn_y_prediction = nn_model.predict_classes(X_test)"
      ],
      "execution_count": null,
      "outputs": []
    },
    {
      "cell_type": "code",
      "metadata": {
        "id": "MSCmWGnCjuce"
      },
      "source": [
        "nn_roc_auc = roc_auc_score(y_test, nn_model.predict_classes(X_test))"
      ],
      "execution_count": null,
      "outputs": []
    },
    {
      "cell_type": "code",
      "metadata": {
        "scrolled": true,
        "id": "nJS5JYAFjuce",
        "outputId": "65705c55-8787-4def-de4c-d6dabc4eba9f"
      },
      "source": [
        "print(classification_report(y_test, nn_y_prediction,\n",
        "                            target_names=['non_default', 'default']))"
      ],
      "execution_count": null,
      "outputs": [
        {
          "output_type": "stream",
          "text": [
            "              precision    recall  f1-score   support\n",
            "\n",
            " non_default       0.79      0.95      0.86      7040\n",
            "     default       0.28      0.07      0.11      1960\n",
            "\n",
            "    accuracy                           0.76      9000\n",
            "   macro avg       0.53      0.51      0.49      9000\n",
            "weighted avg       0.68      0.76      0.70      9000\n",
            "\n"
          ],
          "name": "stdout"
        }
      ]
    },
    {
      "cell_type": "code",
      "metadata": {
        "id": "4bLKWdk8jucf",
        "outputId": "1291df86-098e-4201-9f1c-94d65327de3a"
      },
      "source": [
        "# Compute confusion matrix\n",
        "cnf_matrix = confusion_matrix(y_test, nn_y_prediction)\n",
        "np.set_printoptions(precision=2)\n",
        "\n",
        "# Plot non-normalized confusion matrix\n",
        "plt.figure()\n",
        "plot_confusion_matrix(cnf_matrix, classes=['non_default', 'default'],\n",
        "                      title='Confusion matrix, without normalization')\n",
        "\n",
        "# Plot normalized confusion matrix\n",
        "plt.figure()\n",
        "plot_confusion_matrix(cnf_matrix, classes=['non_default', 'default'], normalize=True,\n",
        "                      title='Normalized confusion matrix')\n",
        "\n",
        "plt.show()"
      ],
      "execution_count": null,
      "outputs": [
        {
          "output_type": "stream",
          "text": [
            "Confusion matrix, without normalization\n",
            "[[6697  343]\n",
            " [1825  135]]\n",
            "Normalized confusion matrix\n",
            "[[0.95 0.05]\n",
            " [0.93 0.07]]\n"
          ],
          "name": "stdout"
        },
        {
          "output_type": "display_data",
          "data": {
            "image/png": "[encoded data removed]",
            "text/plain": [
              "<Figure size 432x288 with 2 Axes>"
            ]
          },
          "metadata": {
            "tags": [],
            "needs_background": "light"
          }
        },
        {
          "output_type": "display_data",
          "data": {
            "image/png": "[encoded data removed]",
            "text/plain": [
              "<Figure size 432x288 with 2 Axes>"
            ]
          },
          "metadata": {
            "tags": [],
            "needs_background": "light"
          }
        }
      ]
    },
    {
      "cell_type": "markdown",
      "metadata": {
        "id": "dxwzzozhjucf"
      },
      "source": [
        "## Logistic Regression Model "
      ]
    },
    {
      "cell_type": "code",
      "metadata": {
        "colab": {
          "base_uri": "https://localhost:8080/"
        },
        "id": "QM3M2gOTjucf",
        "outputId": "60ee28d2-942f-4829-cfc6-9dd53de50648"
      },
      "source": [
        "#creating logistic regression model\n",
        "classifier = LogisticRegression()\n",
        "classifier"
      ],
      "execution_count": 7,
      "outputs": [
        {
          "output_type": "execute_result",
          "data": {
            "text/plain": [
              "LogisticRegression(C=1.0, class_weight=None, dual=False, fit_intercept=True,\n",
              "                   intercept_scaling=1, l1_ratio=None, max_iter=100,\n",
              "                   multi_class='auto', n_jobs=None, penalty='l2',\n",
              "                   random_state=None, solver='lbfgs', tol=0.0001, verbose=0,\n",
              "                   warm_start=False)"
            ]
          },
          "metadata": {
            "tags": []
          },
          "execution_count": 7
        }
      ]
    },
    {
      "cell_type": "code",
      "metadata": {
        "id": "5JMU_bVqjucg"
      },
      "source": [
        "#fitting the model\n",
        "classifier.fit(X_train, y_train) "
      ],
      "execution_count": null,
      "outputs": []
    },
    {
      "cell_type": "code",
      "metadata": {
        "id": "uv1SbkL0jucg"
      },
      "source": [
        "log_y_prediction = classifier.predict(X_test)"
      ],
      "execution_count": 9,
      "outputs": []
    },
    {
      "cell_type": "code",
      "metadata": {
        "id": "x6RhNoIYjucg"
      },
      "source": [
        "log_roc_auc = roc_auc_score(y_test, classifier.predict(X_test))"
      ],
      "execution_count": 10,
      "outputs": []
    },
    {
      "cell_type": "code",
      "metadata": {
        "id": "J7c9PZV0jucg"
      },
      "source": [
        "print(classification_report(y_test, log_y_prediction,\n",
        "                            target_names=['non_default', 'default' ]))"
      ],
      "execution_count": null,
      "outputs": []
    },
    {
      "cell_type": "code",
      "metadata": {
        "id": "PBdKy0bhkh1g"
      },
      "source": [
        ""
      ],
      "execution_count": 14,
      "outputs": []
    },
    {
      "cell_type": "code",
      "metadata": {
        "colab": {
          "base_uri": "https://localhost:8080/",
          "height": 706
        },
        "id": "qmuWOacKjuch",
        "outputId": "3ff1ebcb-deae-4053-f9e1-3954af8b358d"
      },
      "source": [
        "cnf_matrix = confusion_matrix(y_test, log_y_prediction)\n",
        "np.set_printoptions(precision=2)\n",
        "\n",
        "# Plot non-normalized confusion matrix\n",
        "plt.figure()\n",
        "plot_confusion_matrix(cnf_matrix, classes=['non_default', 'default'],\n",
        "                      title='Confusion matrix, without normalization')\n",
        "\n",
        "# Plot normalized confusion matrix\n",
        "plt.figure()\n",
        "plot_confusion_matrix(cnf_matrix, classes=['non_default', 'default'], normalize=True,\n",
        "                      title='Normalized confusion matrix')\n",
        "\n",
        "plt.show()"
      ],
      "execution_count": 25,
      "outputs": [
        {
          "output_type": "stream",
          "text": [
            "Confusion matrix, without normalization\n",
            "[[7040    0]\n",
            " [1960    0]]\n",
            "Normalized confusion matrix\n",
            "[[1. 0.]\n",
            " [1. 0.]]\n"
          ],
          "name": "stdout"
        },
        {
          "output_type": "display_data",
          "data": {
            "image/png": "[encoded data removed]",
            "text/plain": [
              "<Figure size 432x288 with 2 Axes>"
            ]
          },
          "metadata": {
            "tags": [],
            "needs_background": "light"
          }
        },
        {
          "output_type": "display_data",
          "data": {
            "image/png": "[encoded data removed]",
            "text/plain": [
              "<Figure size 432x288 with 2 Axes>"
            ]
          },
          "metadata": {
            "tags": [],
            "needs_background": "light"
          }
        }
      ]
    },
    {
      "cell_type": "code",
      "metadata": {
        "id": "Oh3te2yLjuch"
      },
      "source": [
        "fpr, tpr, thresholds = roc_curve(y_test, classifier.predict_proba(X_test)[:,1])\n",
        "rf_fpr, rf_tpr, rf_thresholds = roc_curve(y_test, rf.predict_proba(X_test)[:,1])\n",
        "nn_fpr, nn_tpr, nn_thresholds = roc_curve(y_test, nn_model.predict_proba(X_test)[:,1])\n",
        "\n",
        "plt.figure()\n",
        "\n",
        "# Plot Logistic Regression ROC\n",
        "plt.plot(fpr, tpr, label='Logistic Regression (area = %0.2f)' % log_roc_auc)\n",
        "\n",
        "# Plot Random Forest ROC\n",
        "plt.plot(rf_fpr, rf_tpr, label='Random Forest (area = %0.2f)' % rf_roc_auc)\n",
        "\n",
        "# Plot Decision Tree ROC\n",
        "plt.plot(nn_fpr, nn_tpr, label='Neural Network (area = %0.2f)' % nn_roc_auc)\n",
        "\n",
        "# Plot Base Rate ROC\n",
        "plt.plot([0,1], [0,1],label='Base Rate' 'k--')\n",
        "\n",
        "plt.xlim([0.0, 1.0])\n",
        "plt.ylim([0.0, 1.05])\n",
        "plt.xlabel('False Positive Rate')\n",
        "plt.ylabel('True Positive Rate')\n",
        "plt.title('ROC Graph')\n",
        "plt.legend(loc=\"lower right\")\n",
        "plt.savefig('.\\\\ROC.png')\n",
        "plt.show()"
      ],
      "execution_count": null,
      "outputs": []
    },
    {
      "cell_type": "code",
      "metadata": {
        "collapsed": true,
        "jupyter": {
          "outputs_hidden": true
        },
        "id": "tRQdrG0Ojuci"
      },
      "source": [
        ""
      ],
      "execution_count": null,
      "outputs": []
    }
  ]
}