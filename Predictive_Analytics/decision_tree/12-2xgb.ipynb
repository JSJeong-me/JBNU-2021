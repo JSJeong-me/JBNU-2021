{
 "cells": [
  {
   "cell_type": "markdown",
   "metadata": {},
   "source": [
    "### XGBoosting\n",
    "\n",
    "https://nbviewer.jupyter.org/github/jphall663/interpretable_machine_learning_with_python/blob/master/xgboost_pdp_ice.ipynb?flush_cache=trueXGBoosting\n"
   ]
  },
  {
   "cell_type": "code",
   "execution_count": 1,
   "metadata": {},
   "outputs": [],
   "source": [
    "import numpy as np                   # array, vector, matrix calculations\n",
    "import pandas as pd                  # DataFrame handling\n",
    "#import shap                          # for consistent, signed variable importance measurements\n",
    "import xgboost as xgb                # gradient boosting machines (GBMs)\n",
    "\n",
    "import matplotlib.pyplot as plt      # plotting\n",
    "pd.options.display.max_columns = 999 # enable display of all columns in notebook\n",
    "\n",
    "# enables display of plots in notebook\n",
    "%matplotlib inline\n",
    "\n",
    "np.random.seed(42)                # set random seed for reproducibility"
   ]
  },
  {
   "cell_type": "markdown",
   "metadata": {},
   "source": [
    "#### Import data and clean"
   ]
  },
  {
   "cell_type": "code",
   "execution_count": 2,
   "metadata": {},
   "outputs": [],
   "source": [
    "# import XLS file\n",
    "#path = \"C:/Users/heine/Desktop/credit_cards_dataset.csv\"\n",
    "path = \".\\\\Data_USD.csv\"\n",
    "#data = pd.read_csv(path, skiprows=1) # skip the first row of the spreadsheet\n",
    "data = pd.read_csv(path)\n",
    "#path = 'C:\\\\Users\\\\User\\\\Desktop\\\\data\\\\original_data.csv'\\\n",
    "# remove spaces from target column name \n",
    "data = data.rename(columns={'default payment next month': 'DEFAULT_NEXT_MONTH'})"
   ]
  },
  {
   "cell_type": "code",
   "execution_count": null,
   "metadata": {},
   "outputs": [],
   "source": [
    "data.shape"
   ]
  },
  {
   "cell_type": "code",
   "execution_count": null,
   "metadata": {},
   "outputs": [],
   "source": [
    "data['ID']=np.nan"
   ]
  },
  {
   "cell_type": "code",
   "execution_count": null,
   "metadata": {},
   "outputs": [],
   "source": [
    "data.shape"
   ]
  },
  {
   "cell_type": "code",
   "execution_count": null,
   "metadata": {},
   "outputs": [],
   "source": [
    "for i in range(0,30000):\n",
    "    data.loc[i,['ID']]=i"
   ]
  },
  {
   "cell_type": "code",
   "execution_count": null,
   "metadata": {},
   "outputs": [],
   "source": [
    "data.columns"
   ]
  },
  {
   "cell_type": "code",
   "execution_count": null,
   "metadata": {},
   "outputs": [],
   "source": [
    "data"
   ]
  },
  {
   "cell_type": "code",
   "execution_count": null,
   "metadata": {},
   "outputs": [],
   "source": [
    "data.ID = np.array('index0')"
   ]
  },
  {
   "cell_type": "code",
   "execution_count": null,
   "metadata": {},
   "outputs": [],
   "source": [
    "data.columns"
   ]
  },
  {
   "cell_type": "code",
   "execution_count": 3,
   "metadata": {},
   "outputs": [
    {
     "name": "stdout",
     "output_type": "stream",
     "text": [
      "y = DEFAULT_PAYMENT_NEXT_MO\n",
      "X = ['LIMIT_BAL_US', 'SEX', 'EDUCATION', 'MARRIAGE', 'AGE', 'PAY_SCORE_AVG', 'BILL_AVG_US', 'PAY_AMT_AVG_US', 'PAY_TO_BILL', 'CREDIT_UTILIZATION']\n"
     ]
    }
   ],
   "source": [
    "# assign target and inputs for GBM\n",
    "#y = 'DEFAULT_NEXT_MONTH'\n",
    "#y='default.payment.next.month'\n",
    "y='DEFAULT_PAYMENT_NEXT_MO'\n",
    "X = [name for name in data.columns if name not in [y, 'ID']]\n",
    "print('y =', y)\n",
    "print('X =', X)"
   ]
  },
  {
   "cell_type": "code",
   "execution_count": null,
   "metadata": {},
   "outputs": [],
   "source": [
    "y"
   ]
  },
  {
   "cell_type": "code",
   "execution_count": null,
   "metadata": {},
   "outputs": [],
   "source": [
    "X"
   ]
  },
  {
   "cell_type": "code",
   "execution_count": null,
   "metadata": {},
   "outputs": [],
   "source": []
  },
  {
   "cell_type": "code",
   "execution_count": 4,
   "metadata": {},
   "outputs": [
    {
     "data": {
      "text/html": [
       "<div>\n",
       "<style scoped>\n",
       "    .dataframe tbody tr th:only-of-type {\n",
       "        vertical-align: middle;\n",
       "    }\n",
       "\n",
       "    .dataframe tbody tr th {\n",
       "        vertical-align: top;\n",
       "    }\n",
       "\n",
       "    .dataframe thead th {\n",
       "        text-align: right;\n",
       "    }\n",
       "</style>\n",
       "<table border=\"1\" class=\"dataframe\">\n",
       "  <thead>\n",
       "    <tr style=\"text-align: right;\">\n",
       "      <th></th>\n",
       "      <th>LIMIT_BAL_US</th>\n",
       "      <th>SEX</th>\n",
       "      <th>EDUCATION</th>\n",
       "      <th>MARRIAGE</th>\n",
       "      <th>AGE</th>\n",
       "      <th>PAY_SCORE_AVG</th>\n",
       "      <th>BILL_AVG_US</th>\n",
       "      <th>PAY_AMT_AVG_US</th>\n",
       "      <th>PAY_TO_BILL</th>\n",
       "      <th>CREDIT_UTILIZATION</th>\n",
       "      <th>DEFAULT_PAYMENT_NEXT_MO</th>\n",
       "    </tr>\n",
       "  </thead>\n",
       "  <tbody>\n",
       "    <tr>\n",
       "      <th>count</th>\n",
       "      <td>30000.000000</td>\n",
       "      <td>30000.000000</td>\n",
       "      <td>30000.000000</td>\n",
       "      <td>30000.000000</td>\n",
       "      <td>30000.000000</td>\n",
       "      <td>30000.000000</td>\n",
       "      <td>30000.000000</td>\n",
       "      <td>30000.000000</td>\n",
       "      <td>30000.000000</td>\n",
       "      <td>30000.000000</td>\n",
       "      <td>30000.000000</td>\n",
       "    </tr>\n",
       "    <tr>\n",
       "      <th>mean</th>\n",
       "      <td>6077.288279</td>\n",
       "      <td>1.603733</td>\n",
       "      <td>1.853133</td>\n",
       "      <td>1.551867</td>\n",
       "      <td>35.485500</td>\n",
       "      <td>-0.182680</td>\n",
       "      <td>1632.020583</td>\n",
       "      <td>191.415565</td>\n",
       "      <td>0.409982</td>\n",
       "      <td>0.423771</td>\n",
       "      <td>0.221200</td>\n",
       "    </tr>\n",
       "    <tr>\n",
       "      <th>std</th>\n",
       "      <td>4707.986577</td>\n",
       "      <td>0.489129</td>\n",
       "      <td>0.790349</td>\n",
       "      <td>0.521970</td>\n",
       "      <td>9.217904</td>\n",
       "      <td>0.982063</td>\n",
       "      <td>2295.460479</td>\n",
       "      <td>367.862624</td>\n",
       "      <td>7.671398</td>\n",
       "      <td>0.411462</td>\n",
       "      <td>0.415062</td>\n",
       "    </tr>\n",
       "    <tr>\n",
       "      <th>min</th>\n",
       "      <td>362.857143</td>\n",
       "      <td>1.000000</td>\n",
       "      <td>0.000000</td>\n",
       "      <td>0.000000</td>\n",
       "      <td>21.000000</td>\n",
       "      <td>-2.000000</td>\n",
       "      <td>-2033.566333</td>\n",
       "      <td>0.000000</td>\n",
       "      <td>-546.930000</td>\n",
       "      <td>-0.619892</td>\n",
       "      <td>0.000000</td>\n",
       "    </tr>\n",
       "    <tr>\n",
       "      <th>25%</th>\n",
       "      <td>1814.285714</td>\n",
       "      <td>1.000000</td>\n",
       "      <td>1.000000</td>\n",
       "      <td>1.000000</td>\n",
       "      <td>28.000000</td>\n",
       "      <td>-0.830000</td>\n",
       "      <td>173.494095</td>\n",
       "      <td>40.396583</td>\n",
       "      <td>0.040000</td>\n",
       "      <td>0.022032</td>\n",
       "      <td>0.000000</td>\n",
       "    </tr>\n",
       "    <tr>\n",
       "      <th>50%</th>\n",
       "      <td>5080.000000</td>\n",
       "      <td>2.000000</td>\n",
       "      <td>2.000000</td>\n",
       "      <td>2.000000</td>\n",
       "      <td>34.000000</td>\n",
       "      <td>0.000000</td>\n",
       "      <td>763.880810</td>\n",
       "      <td>86.982905</td>\n",
       "      <td>0.100000</td>\n",
       "      <td>0.313994</td>\n",
       "      <td>0.000000</td>\n",
       "    </tr>\n",
       "    <tr>\n",
       "      <th>75%</th>\n",
       "      <td>8708.571429</td>\n",
       "      <td>2.000000</td>\n",
       "      <td>2.000000</td>\n",
       "      <td>2.000000</td>\n",
       "      <td>41.000000</td>\n",
       "      <td>0.000000</td>\n",
       "      <td>2072.074548</td>\n",
       "      <td>202.616405</td>\n",
       "      <td>0.690000</td>\n",
       "      <td>0.829843</td>\n",
       "      <td>0.000000</td>\n",
       "    </tr>\n",
       "    <tr>\n",
       "      <th>max</th>\n",
       "      <td>36285.714290</td>\n",
       "      <td>2.000000</td>\n",
       "      <td>6.000000</td>\n",
       "      <td>3.000000</td>\n",
       "      <td>79.000000</td>\n",
       "      <td>6.000000</td>\n",
       "      <td>31833.959100</td>\n",
       "      <td>22763.637240</td>\n",
       "      <td>797.000000</td>\n",
       "      <td>6.455300</td>\n",
       "      <td>1.000000</td>\n",
       "    </tr>\n",
       "  </tbody>\n",
       "</table>\n",
       "</div>"
      ],
      "text/plain": [
       "       LIMIT_BAL_US           SEX     EDUCATION      MARRIAGE           AGE  \\\n",
       "count  30000.000000  30000.000000  30000.000000  30000.000000  30000.000000   \n",
       "mean    6077.288279      1.603733      1.853133      1.551867     35.485500   \n",
       "std     4707.986577      0.489129      0.790349      0.521970      9.217904   \n",
       "min      362.857143      1.000000      0.000000      0.000000     21.000000   \n",
       "25%     1814.285714      1.000000      1.000000      1.000000     28.000000   \n",
       "50%     5080.000000      2.000000      2.000000      2.000000     34.000000   \n",
       "75%     8708.571429      2.000000      2.000000      2.000000     41.000000   \n",
       "max    36285.714290      2.000000      6.000000      3.000000     79.000000   \n",
       "\n",
       "       PAY_SCORE_AVG   BILL_AVG_US  PAY_AMT_AVG_US   PAY_TO_BILL  \\\n",
       "count   30000.000000  30000.000000    30000.000000  30000.000000   \n",
       "mean       -0.182680   1632.020583      191.415565      0.409982   \n",
       "std         0.982063   2295.460479      367.862624      7.671398   \n",
       "min        -2.000000  -2033.566333        0.000000   -546.930000   \n",
       "25%        -0.830000    173.494095       40.396583      0.040000   \n",
       "50%         0.000000    763.880810       86.982905      0.100000   \n",
       "75%         0.000000   2072.074548      202.616405      0.690000   \n",
       "max         6.000000  31833.959100    22763.637240    797.000000   \n",
       "\n",
       "       CREDIT_UTILIZATION  DEFAULT_PAYMENT_NEXT_MO  \n",
       "count        30000.000000             30000.000000  \n",
       "mean             0.423771                 0.221200  \n",
       "std              0.411462                 0.415062  \n",
       "min             -0.619892                 0.000000  \n",
       "25%              0.022032                 0.000000  \n",
       "50%              0.313994                 0.000000  \n",
       "75%              0.829843                 0.000000  \n",
       "max              6.455300                 1.000000  "
      ]
     },
     "execution_count": 4,
     "metadata": {},
     "output_type": "execute_result"
    }
   ],
   "source": [
    "data[X + [y]].describe() # display descriptive statistics for all columns"
   ]
  },
  {
   "cell_type": "code",
   "execution_count": 5,
   "metadata": {},
   "outputs": [
    {
     "data": {
      "text/html": [
       "<div>\n",
       "<style scoped>\n",
       "    .dataframe tbody tr th:only-of-type {\n",
       "        vertical-align: middle;\n",
       "    }\n",
       "\n",
       "    .dataframe tbody tr th {\n",
       "        vertical-align: top;\n",
       "    }\n",
       "\n",
       "    .dataframe thead th {\n",
       "        text-align: right;\n",
       "    }\n",
       "</style>\n",
       "<table border=\"1\" class=\"dataframe\">\n",
       "  <thead>\n",
       "    <tr style=\"text-align: right;\">\n",
       "      <th></th>\n",
       "      <th>DEFAULT_PAYMENT_NEXT_MO</th>\n",
       "    </tr>\n",
       "  </thead>\n",
       "  <tbody>\n",
       "    <tr>\n",
       "      <th>LIMIT_BAL_US</th>\n",
       "      <td>-0.153520</td>\n",
       "    </tr>\n",
       "    <tr>\n",
       "      <th>SEX</th>\n",
       "      <td>-0.039961</td>\n",
       "    </tr>\n",
       "    <tr>\n",
       "      <th>EDUCATION</th>\n",
       "      <td>0.028006</td>\n",
       "    </tr>\n",
       "    <tr>\n",
       "      <th>MARRIAGE</th>\n",
       "      <td>-0.024339</td>\n",
       "    </tr>\n",
       "    <tr>\n",
       "      <th>AGE</th>\n",
       "      <td>0.013890</td>\n",
       "    </tr>\n",
       "    <tr>\n",
       "      <th>PAY_SCORE_AVG</th>\n",
       "      <td>0.281957</td>\n",
       "    </tr>\n",
       "    <tr>\n",
       "      <th>BILL_AVG_US</th>\n",
       "      <td>-0.012691</td>\n",
       "    </tr>\n",
       "    <tr>\n",
       "      <th>PAY_AMT_AVG_US</th>\n",
       "      <td>-0.102354</td>\n",
       "    </tr>\n",
       "    <tr>\n",
       "      <th>PAY_TO_BILL</th>\n",
       "      <td>-0.010354</td>\n",
       "    </tr>\n",
       "    <tr>\n",
       "      <th>CREDIT_UTILIZATION</th>\n",
       "      <td>0.086168</td>\n",
       "    </tr>\n",
       "  </tbody>\n",
       "</table>\n",
       "</div>"
      ],
      "text/plain": [
       "                    DEFAULT_PAYMENT_NEXT_MO\n",
       "LIMIT_BAL_US                      -0.153520\n",
       "SEX                               -0.039961\n",
       "EDUCATION                          0.028006\n",
       "MARRIAGE                          -0.024339\n",
       "AGE                                0.013890\n",
       "PAY_SCORE_AVG                      0.281957\n",
       "BILL_AVG_US                       -0.012691\n",
       "PAY_AMT_AVG_US                    -0.102354\n",
       "PAY_TO_BILL                       -0.010354\n",
       "CREDIT_UTILIZATION                 0.086168"
      ]
     },
     "execution_count": 5,
     "metadata": {},
     "output_type": "execute_result"
    }
   ],
   "source": [
    "# displays last column of Pearson correlation matrix as Pandas DataFrame\n",
    "pd.DataFrame(data[X + [y]].corr()[y]).iloc[:-1]"
   ]
  },
  {
   "cell_type": "code",
   "execution_count": null,
   "metadata": {},
   "outputs": [],
   "source": []
  },
  {
   "cell_type": "code",
   "execution_count": 6,
   "metadata": {},
   "outputs": [],
   "source": [
    "# creates a tuple in which positive correlation values are assigned a 1\n",
    "# and negative correlation values are assigned a -1\n",
    "mono_constraints = tuple([int(i) for i in np.sign(data[X + [y]].corr()[y].values[:-1])])\n",
    "\n",
    "# (-1, -1, 1, -1, 1, 1, 1, 1, 1, 1, 1, -1, -1, -1, -1, -1, -1, -1, -1, -1, -1, -1, -1)"
   ]
  },
  {
   "cell_type": "code",
   "execution_count": 7,
   "metadata": {},
   "outputs": [
    {
     "name": "stdout",
     "output_type": "stream",
     "text": [
      "Train data rows = 21087, columns = 11\n",
      "Test data rows = 8913, columns = 11\n"
     ]
    }
   ],
   "source": [
    "np.random.seed(42) # set random seed for reproducibility\n",
    "split_ratio = 0.7     # 70%/30% train/test split\n",
    "\n",
    "# execute split\n",
    "split = np.random.rand(len(data)) < split_ratio\n",
    "train = data[split]\n",
    "test = data[~split]\n",
    "\n",
    "# summarize split\n",
    "print('Train data rows = %d, columns = %d' % (train.shape[0], train.shape[1]))\n",
    "print('Test data rows = %d, columns = %d' % (test.shape[0], test.shape[1]))"
   ]
  },
  {
   "cell_type": "markdown",
   "metadata": {},
   "source": [
    "### Setting Parameter\n",
    "https://xgboost.readthedocs.io/en/latest/python/python_intro.html"
   ]
  },
  {
   "cell_type": "code",
   "execution_count": 8,
   "metadata": {},
   "outputs": [
    {
     "name": "stdout",
     "output_type": "stream",
     "text": [
      "[0]\ttrain-auc:0.77134\teval-auc:0.75211\n",
      "Multiple eval metrics have been passed: 'eval-auc' will be used for early stopping.\n",
      "\n",
      "Will train until eval-auc hasn't improved in 50 rounds.\n",
      "[1]\ttrain-auc:0.77373\teval-auc:0.75352\n",
      "[2]\ttrain-auc:0.77497\teval-auc:0.75586\n",
      "[3]\ttrain-auc:0.77587\teval-auc:0.75723\n",
      "[4]\ttrain-auc:0.77639\teval-auc:0.75832\n",
      "[5]\ttrain-auc:0.77648\teval-auc:0.75849\n",
      "[6]\ttrain-auc:0.77660\teval-auc:0.75877\n",
      "[7]\ttrain-auc:0.77650\teval-auc:0.75876\n",
      "[8]\ttrain-auc:0.77685\teval-auc:0.75901\n",
      "[9]\ttrain-auc:0.77714\teval-auc:0.75920\n",
      "[10]\ttrain-auc:0.77750\teval-auc:0.75911\n",
      "[11]\ttrain-auc:0.77785\teval-auc:0.75914\n",
      "[12]\ttrain-auc:0.77811\teval-auc:0.75933\n",
      "[13]\ttrain-auc:0.77824\teval-auc:0.75941\n",
      "[14]\ttrain-auc:0.77832\teval-auc:0.75936\n",
      "[15]\ttrain-auc:0.77836\teval-auc:0.75928\n",
      "[16]\ttrain-auc:0.77844\teval-auc:0.75947\n",
      "[17]\ttrain-auc:0.77859\teval-auc:0.75959\n",
      "[18]\ttrain-auc:0.77879\teval-auc:0.75956\n",
      "[19]\ttrain-auc:0.77891\teval-auc:0.75959\n",
      "[20]\ttrain-auc:0.77899\teval-auc:0.75965\n",
      "[21]\ttrain-auc:0.77908\teval-auc:0.75965\n",
      "[22]\ttrain-auc:0.77913\teval-auc:0.75975\n",
      "[23]\ttrain-auc:0.77927\teval-auc:0.75996\n",
      "[24]\ttrain-auc:0.77944\teval-auc:0.76011\n",
      "[25]\ttrain-auc:0.77956\teval-auc:0.76021\n",
      "[26]\ttrain-auc:0.78023\teval-auc:0.76052\n",
      "[27]\ttrain-auc:0.78030\teval-auc:0.76058\n",
      "[28]\ttrain-auc:0.78070\teval-auc:0.76072\n",
      "[29]\ttrain-auc:0.78110\teval-auc:0.76080\n",
      "[30]\ttrain-auc:0.78127\teval-auc:0.76096\n",
      "[31]\ttrain-auc:0.78180\teval-auc:0.76109\n",
      "[32]\ttrain-auc:0.78200\teval-auc:0.76127\n",
      "[33]\ttrain-auc:0.78246\teval-auc:0.76134\n",
      "[34]\ttrain-auc:0.78279\teval-auc:0.76142\n",
      "[35]\ttrain-auc:0.78311\teval-auc:0.76149\n",
      "[36]\ttrain-auc:0.78327\teval-auc:0.76154\n",
      "[37]\ttrain-auc:0.78359\teval-auc:0.76171\n",
      "[38]\ttrain-auc:0.78381\teval-auc:0.76181\n",
      "[39]\ttrain-auc:0.78406\teval-auc:0.76185\n",
      "[40]\ttrain-auc:0.78426\teval-auc:0.76186\n",
      "[41]\ttrain-auc:0.78447\teval-auc:0.76192\n",
      "[42]\ttrain-auc:0.78465\teval-auc:0.76198\n",
      "[43]\ttrain-auc:0.78477\teval-auc:0.76204\n",
      "[44]\ttrain-auc:0.78504\teval-auc:0.76220\n",
      "[45]\ttrain-auc:0.78524\teval-auc:0.76226\n",
      "[46]\ttrain-auc:0.78543\teval-auc:0.76229\n",
      "[47]\ttrain-auc:0.78563\teval-auc:0.76220\n",
      "[48]\ttrain-auc:0.78573\teval-auc:0.76216\n",
      "[49]\ttrain-auc:0.78587\teval-auc:0.76220\n",
      "[50]\ttrain-auc:0.78603\teval-auc:0.76217\n",
      "[51]\ttrain-auc:0.78613\teval-auc:0.76219\n",
      "[52]\ttrain-auc:0.78626\teval-auc:0.76226\n",
      "[53]\ttrain-auc:0.78634\teval-auc:0.76234\n",
      "[54]\ttrain-auc:0.78644\teval-auc:0.76233\n",
      "[55]\ttrain-auc:0.78650\teval-auc:0.76234\n",
      "[56]\ttrain-auc:0.78668\teval-auc:0.76234\n",
      "[57]\ttrain-auc:0.78682\teval-auc:0.76226\n",
      "[58]\ttrain-auc:0.78691\teval-auc:0.76224\n",
      "[59]\ttrain-auc:0.78705\teval-auc:0.76220\n",
      "[60]\ttrain-auc:0.78723\teval-auc:0.76214\n",
      "[61]\ttrain-auc:0.78730\teval-auc:0.76217\n",
      "[62]\ttrain-auc:0.78739\teval-auc:0.76220\n",
      "[63]\ttrain-auc:0.78749\teval-auc:0.76216\n",
      "[64]\ttrain-auc:0.78758\teval-auc:0.76208\n",
      "[65]\ttrain-auc:0.78773\teval-auc:0.76202\n",
      "[66]\ttrain-auc:0.78780\teval-auc:0.76204\n",
      "[67]\ttrain-auc:0.78784\teval-auc:0.76201\n",
      "[68]\ttrain-auc:0.78796\teval-auc:0.76198\n",
      "[69]\ttrain-auc:0.78801\teval-auc:0.76196\n",
      "[70]\ttrain-auc:0.78809\teval-auc:0.76191\n",
      "[71]\ttrain-auc:0.78815\teval-auc:0.76190\n",
      "[72]\ttrain-auc:0.78826\teval-auc:0.76188\n",
      "[73]\ttrain-auc:0.78832\teval-auc:0.76179\n",
      "[74]\ttrain-auc:0.78836\teval-auc:0.76179\n",
      "[75]\ttrain-auc:0.78842\teval-auc:0.76177\n",
      "[76]\ttrain-auc:0.78849\teval-auc:0.76175\n",
      "[77]\ttrain-auc:0.78853\teval-auc:0.76181\n",
      "[78]\ttrain-auc:0.78862\teval-auc:0.76177\n",
      "[79]\ttrain-auc:0.78865\teval-auc:0.76175\n",
      "[80]\ttrain-auc:0.78872\teval-auc:0.76177\n",
      "[81]\ttrain-auc:0.78874\teval-auc:0.76179\n",
      "[82]\ttrain-auc:0.78878\teval-auc:0.76177\n",
      "[83]\ttrain-auc:0.78882\teval-auc:0.76175\n",
      "[84]\ttrain-auc:0.78887\teval-auc:0.76173\n",
      "[85]\ttrain-auc:0.78891\teval-auc:0.76169\n",
      "[86]\ttrain-auc:0.78893\teval-auc:0.76169\n",
      "[87]\ttrain-auc:0.78897\teval-auc:0.76162\n",
      "[88]\ttrain-auc:0.78904\teval-auc:0.76160\n",
      "[89]\ttrain-auc:0.78906\teval-auc:0.76164\n",
      "[90]\ttrain-auc:0.78908\teval-auc:0.76166\n",
      "[91]\ttrain-auc:0.78909\teval-auc:0.76167\n",
      "[92]\ttrain-auc:0.78912\teval-auc:0.76166\n",
      "[93]\ttrain-auc:0.78915\teval-auc:0.76167\n",
      "[94]\ttrain-auc:0.78919\teval-auc:0.76169\n",
      "[95]\ttrain-auc:0.78923\teval-auc:0.76165\n",
      "[96]\ttrain-auc:0.78925\teval-auc:0.76163\n",
      "[97]\ttrain-auc:0.78927\teval-auc:0.76160\n",
      "[98]\ttrain-auc:0.78928\teval-auc:0.76160\n",
      "[99]\ttrain-auc:0.78928\teval-auc:0.76158\n",
      "[100]\ttrain-auc:0.78930\teval-auc:0.76154\n",
      "[101]\ttrain-auc:0.78932\teval-auc:0.76150\n",
      "[102]\ttrain-auc:0.78936\teval-auc:0.76145\n",
      "[103]\ttrain-auc:0.78938\teval-auc:0.76146\n",
      "Stopping. Best iteration:\n",
      "[53]\ttrain-auc:0.78634\teval-auc:0.76234\n",
      "\n"
     ]
    }
   ],
   "source": [
    "# XGBoost uses SVMLight data structure, not Numpy arrays or Pandas DataFrames \n",
    "dtrain = xgb.DMatrix(train[X], train[y])\n",
    "dtest = xgb.DMatrix(test[X], test[y])\n",
    "\n",
    "# used to calibrate predictions to mean of y\n",
    "base_y = train[y].mean()\n",
    "\n",
    "# tuning parameters\n",
    "params = {\n",
    "    'objective': 'binary:logistic',             # produces 0-1 probabilities for binary classification\n",
    "    'booster': 'gbtree',                        # base learner will be decision tree\n",
    "    'eval_metric': 'auc',                       # stop training based on maximum AUC, AUC always between 0-1\n",
    "    'eta': 0.08,                                # learning rate\n",
    "    'subsample': 0.9,                           # use 90% of rows in each decision tree\n",
    "    'colsample_bytree': 0.9,                    # use 90% of columns in each decision tree\n",
    "    'max_depth': 15,                            # allow decision trees to grow to depth of 15\n",
    "    'monotone_constraints':mono_constraints,    # 1 = increasing relationship, -1 = decreasing relationship\n",
    "    'base_score': base_y,                       # calibrate predictions to mean of y \n",
    "    'seed': 42                               # set random seed for reproducibility\n",
    "}\n",
    "\n",
    "# watchlist is used for early stopping\n",
    "watchlist = [(dtrain, 'train'), (dtest, 'eval')]\n",
    "\n",
    "# train model\n",
    "xgb_model = xgb.train(params,                   # set tuning parameters from above                   \n",
    "                      dtrain,                   # training data\n",
    "                      1000,                     # maximum of 1000 iterations (trees)\n",
    "                      evals=watchlist,          # use watchlist for early stopping \n",
    "                      early_stopping_rounds=50, # stop after 50 iterations (trees) without increase in AUC\n",
    "                      verbose_eval=True)        # display iteration progress"
   ]
  },
  {
   "cell_type": "code",
   "execution_count": null,
   "metadata": {},
   "outputs": [],
   "source": []
  },
  {
   "cell_type": "code",
   "execution_count": null,
   "metadata": {},
   "outputs": [],
   "source": [
    "# dtest is DMatrix\n",
    "# shap_values is Numpy array\n",
    "shap_values = xgb_model.predict(dtest, pred_contribs=True, ntree_limit=xgb_model.best_ntree_limit)"
   ]
  },
  {
   "cell_type": "code",
   "execution_count": 9,
   "metadata": {},
   "outputs": [],
   "source": [
    "ypred=xgb_model.predict(dtest, ntree_limit=xgb_model.best_ntree_limit)"
   ]
  },
  {
   "cell_type": "code",
   "execution_count": 10,
   "metadata": {},
   "outputs": [
    {
     "data": {
      "text/plain": [
       "array([[0.38469258],\n",
       "       [0.09784205],\n",
       "       [0.2073462 ],\n",
       "       ...,\n",
       "       [0.8309802 ],\n",
       "       [0.11311064],\n",
       "       [0.14227644]], dtype=float32)"
      ]
     },
     "execution_count": 10,
     "metadata": {},
     "output_type": "execute_result"
    }
   ],
   "source": [
    "ypred.reshape(-1,1)"
   ]
  },
  {
   "cell_type": "code",
   "execution_count": 11,
   "metadata": {},
   "outputs": [],
   "source": [
    "predictions = np.array([round(value) for value in ypred])"
   ]
  },
  {
   "cell_type": "code",
   "execution_count": 12,
   "metadata": {},
   "outputs": [
    {
     "data": {
      "text/plain": [
       "array([[0.],\n",
       "       [0.],\n",
       "       [0.],\n",
       "       ...,\n",
       "       [1.],\n",
       "       [0.],\n",
       "       [0.]], dtype=float32)"
      ]
     },
     "execution_count": 12,
     "metadata": {},
     "output_type": "execute_result"
    }
   ],
   "source": [
    "predictions.reshape(-1,1)"
   ]
  },
  {
   "cell_type": "code",
   "execution_count": 13,
   "metadata": {},
   "outputs": [
    {
     "data": {
      "text/plain": [
       "array([[0.38469258],\n",
       "       [0.09784205],\n",
       "       [0.2073462 ],\n",
       "       ...,\n",
       "       [0.8309802 ],\n",
       "       [0.11311064],\n",
       "       [0.14227644]], dtype=float32)"
      ]
     },
     "execution_count": 13,
     "metadata": {},
     "output_type": "execute_result"
    }
   ],
   "source": [
    "ypred.reshape(-1,1)"
   ]
  },
  {
   "cell_type": "code",
   "execution_count": null,
   "metadata": {},
   "outputs": [],
   "source": [
    "#xgb_model.predict(dtest, pred_contribs=True, ntree_limit=xgb_model.best_ntree_limit)"
   ]
  },
  {
   "cell_type": "code",
   "execution_count": null,
   "metadata": {},
   "outputs": [],
   "source": [
    "shap_values.reshape(-1,1)"
   ]
  },
  {
   "cell_type": "code",
   "execution_count": null,
   "metadata": {},
   "outputs": [],
   "source": [
    "#test['DEFAULT_PAYMENT_NEXT_MO']"
   ]
  },
  {
   "cell_type": "code",
   "execution_count": 14,
   "metadata": {},
   "outputs": [],
   "source": [
    "from sklearn.model_selection import train_test_split\n",
    "from sklearn.metrics import accuracy_score\n",
    "from sklearn.metrics import confusion_matrix\n",
    "from sklearn.metrics import precision_score\n",
    "from sklearn.metrics import recall_score\n",
    "from sklearn import metrics\n",
    "from sklearn.model_selection import GridSearchCV\n",
    "\n",
    "accuracy = accuracy_score(test[y], predictions)\n",
    "cm = confusion_matrix(test[y], predictions)\n",
    "precision = precision_score(test[y], predictions)\n",
    "recall = recall_score(test[y], predictions)"
   ]
  },
  {
   "cell_type": "code",
   "execution_count": 15,
   "metadata": {},
   "outputs": [
    {
     "name": "stdout",
     "output_type": "stream",
     "text": [
      "0.805228318186918\n",
      "[[6561  344]\n",
      " [1392  616]]\n",
      "0.6416666666666667\n",
      "0.30677290836653387\n"
     ]
    }
   ],
   "source": [
    "print(accuracy)\n",
    "print(cm)\n",
    "print(precision)\n",
    "print(recall)"
   ]
  },
  {
   "cell_type": "code",
   "execution_count": 16,
   "metadata": {},
   "outputs": [],
   "source": [
    "import matplotlib\n",
    "import matplotlib.pyplot as plt\n",
    "%matplotlib inline\n",
    "import itertools\n",
    "\n",
    "def plot_confusion_matrix(cm, classes,\n",
    "                          normalize=False,\n",
    "                          title='Confusion matrix',\n",
    "                          cmap=plt.cm.Blues):\n",
    "    if normalize:\n",
    "        cm = cm.astype('float') / cm.sum(axis=1)[:, np.newaxis]\n",
    "        print(\"Normalized confusion matrix\")\n",
    "    else:\n",
    "        print('Confusion matrix, without normalization')\n",
    "\n",
    "    print(cm)\n",
    "    \n",
    "    plt.imshow(cm, interpolation='nearest', cmap=cmap)\n",
    "    plt.title(title)\n",
    "    plt.colorbar()\n",
    "    tick_marks = np.arange(len(classes))\n",
    "    plt.xticks(tick_marks, classes, rotation=45)\n",
    "    plt.yticks(tick_marks, classes)\n",
    "\n",
    "    fmt = '.2f' if normalize else 'd'\n",
    "    thresh = cm.max() / 2.\n",
    "    for i, j in itertools.product(range(cm.shape[0]), range(cm.shape[1])):\n",
    "        plt.text(j, i, format(cm[i, j], fmt),\n",
    "                 horizontalalignment=\"center\",\n",
    "                 color=\"white\" if cm[i, j] > thresh else \"black\")"
   ]
  },
  {
   "cell_type": "code",
   "execution_count": 17,
   "metadata": {},
   "outputs": [
    {
     "name": "stdout",
     "output_type": "stream",
     "text": [
      "Confusion matrix, without normalization\n",
      "[[6561  344]\n",
      " [1392  616]]\n"
     ]
    },
    {
     "data": {
      "image/png": "[encoded data removed]",
      "text/plain": [
       "<Figure size 432x288 with 2 Axes>"
      ]
     },
     "metadata": {
      "needs_background": "light"
     },
     "output_type": "display_data"
    }
   ],
   "source": [
    "plt.figure()\n",
    "plot_confusion_matrix(cm, classes=['Non_Default','Default'], normalize=False,\n",
    "                      title='Non Normalized confusion matrix')\n",
    "#plt.show()"
   ]
  },
  {
   "cell_type": "code",
   "execution_count": null,
   "metadata": {},
   "outputs": [],
   "source": []
  },
  {
   "cell_type": "code",
   "execution_count": null,
   "metadata": {},
   "outputs": [],
   "source": [
    "y0=np.array(shap_values[:,10].reshape(-1,1))"
   ]
  },
  {
   "cell_type": "code",
   "execution_count": null,
   "metadata": {},
   "outputs": [],
   "source": [
    "y0"
   ]
  },
  {
   "cell_type": "code",
   "execution_count": null,
   "metadata": {},
   "outputs": [],
   "source": [
    "# plot Shapley variable importance summary \n",
    "#shap.summary_plot(shap_values[:, :-1], test[xgb_model.feature_names])"
   ]
  },
  {
   "cell_type": "markdown",
   "metadata": {},
   "source": [
    "### PDP"
   ]
  },
  {
   "cell_type": "code",
   "execution_count": null,
   "metadata": {},
   "outputs": [],
   "source": [
    "def par_dep(xs, frame, model, resolution=20, bins=None):\n",
    "    \n",
    "    \"\"\" Creates Pandas DataFrame containing partial dependence for a \n",
    "        single variable.\n",
    "    \n",
    "    Args:\n",
    "        xs: Variable for which to calculate partial dependence.\n",
    "        frame: Pandas DataFrame for which to calculate partial dependence.\n",
    "        model: XGBoost model for which to calculate partial dependence.\n",
    "        resolution: The number of points across the domain of xs for which \n",
    "                    to calculate partial dependence, default 20.\n",
    "        bins: List of values at which to set xs, default 20 equally-spaced \n",
    "              points between column minimum and maximum.\n",
    "    \n",
    "    Returns:\n",
    "        Pandas DataFrame containing partial dependence values.\n",
    "        \n",
    "    \"\"\"\n",
    "    \n",
    "    # turn off pesky Pandas copy warning\n",
    "    pd.options.mode.chained_assignment = None\n",
    "    \n",
    "    # initialize empty Pandas DataFrame with correct column names\n",
    "    par_dep_frame = pd.DataFrame(columns=[xs, 'partial_dependence'])\n",
    "    \n",
    "    # cache original column values \n",
    "    col_cache = frame.loc[:, xs].copy(deep=True)\n",
    "  \n",
    "    # determine values at which to calculate partial dependence\n",
    "    if bins == None:\n",
    "        min_ = frame[xs].min()\n",
    "        max_ = frame[xs].max()\n",
    "        by = (max_ - min_)/resolution\n",
    "        bins = np.arange(min_, max_, by)\n",
    "        \n",
    "    # calculate partial dependence  \n",
    "    # by setting column of interest to constant \n",
    "    # and scoring the altered data and taking the mean of the predictions\n",
    "    for j in bins:\n",
    "        frame.loc[:, xs] = j\n",
    "        dframe = xgb.DMatrix(frame)\n",
    "        par_dep_i = pd.DataFrame(model.predict(dframe, ntree_limit=model.best_ntree_limit))\n",
    "        par_dep_j = par_dep_i.mean()[0]\n",
    "        par_dep_frame = par_dep_frame.append({xs:j,\n",
    "                                              'partial_dependence': par_dep_j}, \n",
    "                                              ignore_index=True)\n",
    "        \n",
    "    # return input frame to original cached state    \n",
    "    frame.loc[:, xs] = col_cache\n",
    "\n",
    "    return par_dep_frame"
   ]
  },
  {
   "cell_type": "code",
   "execution_count": null,
   "metadata": {},
   "outputs": [],
   "source": [
    "\n",
    "par_dep_PAY_SCORE_AVG = par_dep('PAY_SCORE_AVG', test[X], xgb_model)         # calculate partial dependence for PAY_0\n",
    "par_dep_BILL_AVG_US = par_dep('BILL_AVG_US', test[X], xgb_model) # calculate partial dependence for LIMIT_BAL\n",
    "par_dep_CREDIT_UTILIZATION = par_dep('CREDIT_UTILIZATION', test[X], xgb_model) # calculate partial dependence for BILL_AMT1\n",
    "\n",
    "# display partial dependence for LIMIT_BAL\n",
    "par_dep_BILL_AVG_US"
   ]
  },
  {
   "cell_type": "code",
   "execution_count": null,
   "metadata": {},
   "outputs": [],
   "source": []
  },
  {
   "cell_type": "code",
   "execution_count": null,
   "metadata": {},
   "outputs": [],
   "source": [
    "def get_percentile_dict(yhat, id_, frame):\n",
    "\n",
    "    \"\"\" Returns the percentiles of a column, yhat, as the indices based on \n",
    "        another column id_.\n",
    "    \n",
    "    Args:\n",
    "        yhat: Column in which to find percentiles.\n",
    "        id_: Id column that stores indices for percentiles of yhat.\n",
    "        frame: Pandas DataFrame containing yhat and id_. \n",
    "    \n",
    "    Returns:\n",
    "        Dictionary of percentile values and index column values.\n",
    "    \n",
    "    \"\"\"\n",
    "    \n",
    "    # create a copy of frame and sort it by yhat\n",
    "    sort_df = frame.copy(deep=True)\n",
    "    sort_df.sort_values(yhat, inplace=True)\n",
    "    sort_df.reset_index(inplace=True)\n",
    "    \n",
    "    # find top and bottom percentiles\n",
    "    percentiles_dict = {}\n",
    "    percentiles_dict[0] = sort_df.loc[0, id_]\n",
    "    percentiles_dict[99] = sort_df.loc[sort_df.shape[0]-1, id_]\n",
    "\n",
    "    # find 10th-90th percentiles\n",
    "    inc = sort_df.shape[0]//10\n",
    "    for i in range(1, 10):\n",
    "        percentiles_dict[i * 10] = sort_df.loc[i * inc,  id_]\n",
    "\n",
    "    return percentiles_dict"
   ]
  },
  {
   "cell_type": "code",
   "execution_count": null,
   "metadata": {},
   "outputs": [],
   "source": []
  },
  {
   "cell_type": "code",
   "execution_count": null,
   "metadata": {},
   "outputs": [],
   "source": [
    "# merge GBM predictions onto test data\n",
    "yhat_test = pd.concat([test.reset_index(drop=True), pd.DataFrame(xgb_model.predict(dtest))], axis=1)\n",
    "yhat_test = yhat_test.rename(columns={0:'p_DEFAULT_NEXT_MONTH'})\n",
    "\n",
    "# find percentiles of predictions\n",
    "percentile_dict = get_percentile_dict('p_DEFAULT_NEXT_MONTH', 'ID', yhat_test)\n",
    "\n",
    "# display percentiles dictionary\n",
    "# ID values for rows\n",
    "# from lowest prediction \n",
    "# to highest prediction\n",
    "percentile_dict"
   ]
  },
  {
   "cell_type": "markdown",
   "metadata": {},
   "source": [
    "### ICE"
   ]
  },
  {
   "cell_type": "code",
   "execution_count": null,
   "metadata": {},
   "outputs": [],
   "source": [
    "# retreive bins from original partial dependence calculation\n",
    "\n",
    "bins_PAY_0 = list(par_dep_PAY_0['PAY_0'])\n",
    "bins_LIMIT_BAL = list(par_dep_LIMIT_BAL['LIMIT_BAL'])\n",
    "bins_BILL_AMT1 = list(par_dep_BILL_AMT1['BILL_AMT1'])\n",
    "\n",
    "# for each percentile in percentile_dict\n",
    "# create a new column in the par_dep frame \n",
    "# representing the ICE curve for that percentile\n",
    "# and the variables of interest\n",
    "for i in sorted(percentile_dict.keys()):\n",
    "    \n",
    "    col_name = 'Percentile_' + str(i)\n",
    "    \n",
    "    # ICE curves for PAY_0 across percentiles at bins_PAY_0 intervals\n",
    "    par_dep_PAY_0[col_name] = par_dep('PAY_0', \n",
    "                                    test[test['ID'] == int(percentile_dict[i])][X],  \n",
    "                                    xgb_model, \n",
    "                                    bins=bins_PAY_0)['partial_dependence']\n",
    "    \n",
    "    # ICE curves for LIMIT_BAL across percentiles at bins_LIMIT_BAL intervals\n",
    "    par_dep_LIMIT_BAL[col_name] = par_dep('LIMIT_BAL', \n",
    "                                          test[test['ID'] == int(percentile_dict[i])][X], \n",
    "                                          xgb_model, \n",
    "                                          bins=bins_LIMIT_BAL)['partial_dependence']\n",
    "    \n",
    "\n",
    "\n",
    "    # ICE curves for BILL_AMT1 across percentiles at bins_BILL_AMT1 intervals\n",
    "    par_dep_BILL_AMT1[col_name] = par_dep('BILL_AMT1', \n",
    "                                          test[test['ID'] == int(percentile_dict[i])][X],  \n",
    "                                          xgb_model, \n",
    "                                          bins=bins_BILL_AMT1)['partial_dependence']"
   ]
  },
  {
   "cell_type": "code",
   "execution_count": null,
   "metadata": {},
   "outputs": [],
   "source": [
    "par_dep_LIMIT_BAL_US"
   ]
  },
  {
   "cell_type": "markdown",
   "metadata": {},
   "source": [
    "### Plotting partial dependence and ICE to validate and explain monotonic behavior"
   ]
  },
  {
   "cell_type": "code",
   "execution_count": null,
   "metadata": {},
   "outputs": [],
   "source": [
    "#### Function to plot partial dependence and ICE\n",
    "\n",
    "def plot_par_dep_ICE(xs, par_dep_frame):\n",
    "\n",
    "    \n",
    "    \"\"\" Plots ICE overlayed onto partial dependence for a single variable.\n",
    "    \n",
    "    Args: \n",
    "        xs: Name of variable for which to plot ICE and partial dependence.\n",
    "        par_dep_frame: Name of Pandas DataFrame containing ICE and partial\n",
    "                       dependence values.\n",
    "    \n",
    "    \"\"\"\n",
    "    \n",
    "    # initialize figure and axis\n",
    "    fig, ax = plt.subplots()\n",
    "    \n",
    "    # plot ICE curves\n",
    "    par_dep_frame.drop('partial_dependence', axis=1).plot(x=xs, \n",
    "                                                          colormap='gnuplot',\n",
    "                                                          ax=ax)\n",
    "\n",
    "    # overlay partial dependence, annotate plot\n",
    "    par_dep_frame.plot(title='Partial Dependence and ICE for ' + str(xs),\n",
    "                       x=xs, \n",
    "                       y='partial_dependence',\n",
    "                       style='r-', \n",
    "                       linewidth=3, \n",
    "                       ax=ax)\n",
    "\n",
    "    # add legend\n",
    "    _ = plt.legend(bbox_to_anchor=(1.05, 0),\n",
    "                   loc=3, \n",
    "                   borderaxespad=0.)"
   ]
  },
  {
   "cell_type": "code",
   "execution_count": null,
   "metadata": {},
   "outputs": [],
   "source": [
    "plot_par_dep_ICE('LIMIT_BAL', par_dep_LIMIT_BAL) # plot partial dependence and ICE for LIMIT_BAL"
   ]
  },
  {
   "cell_type": "code",
   "execution_count": null,
   "metadata": {},
   "outputs": [],
   "source": [
    "_ = train['LIMIT_BAL'].plot(kind='hist', bins=20, title='Histogram: LIMIT_BAL')"
   ]
  },
  {
   "cell_type": "code",
   "execution_count": null,
   "metadata": {},
   "outputs": [],
   "source": [
    "plot_par_dep_ICE('PAY_0', par_dep_PAY_0) # plot partial dependence and ICE for PAY_0"
   ]
  },
  {
   "cell_type": "code",
   "execution_count": null,
   "metadata": {},
   "outputs": [],
   "source": [
    "_ = train['PAY_0'].plot(kind='hist', bins=20, title='Histogram: PAY_0')"
   ]
  },
  {
   "cell_type": "code",
   "execution_count": null,
   "metadata": {},
   "outputs": [],
   "source": [
    "plot_par_dep_ICE('BILL_AMT1', par_dep_BILL_AMT1) # plot partial dependence and ICE for BILL_AMT1"
   ]
  },
  {
   "cell_type": "code",
   "execution_count": null,
   "metadata": {},
   "outputs": [],
   "source": [
    "_ = train['BILL_AMT1'].plot(kind='hist', bins=20, title='Histogram: BILL_AMT1')"
   ]
  },
  {
   "cell_type": "markdown",
   "metadata": {},
   "source": [
    "### Generate reason codes using the Shapley method"
   ]
  },
  {
   "cell_type": "code",
   "execution_count": null,
   "metadata": {},
   "outputs": [],
   "source": [
    "test.reset_index(drop=True, inplace=True)"
   ]
  },
  {
   "cell_type": "code",
   "execution_count": null,
   "metadata": {},
   "outputs": [],
   "source": [
    "decile = 99\n",
    "row = test[test['ID'] == percentile_dict[decile]]"
   ]
  },
  {
   "cell_type": "code",
   "execution_count": null,
   "metadata": {},
   "outputs": [],
   "source": [
    "# reset test data index to find riskiest customer in shap_values \n",
    "# sort to find largest positive contributions\n",
    "s_df = pd.DataFrame(shap_values[row.index[0], :][:-1].reshape(23, 1), columns=['Reason Codes'], index=X)\n",
    "s_df.sort_values(by='Reason Codes', inplace=True, ascending=False)"
   ]
  },
  {
   "cell_type": "code",
   "execution_count": null,
   "metadata": {},
   "outputs": [],
   "source": [
    "s_df"
   ]
  },
  {
   "cell_type": "code",
   "execution_count": null,
   "metadata": {},
   "outputs": [],
   "source": [
    "_ = s_df[:5].plot(kind='bar', \n",
    "                  title='Top Five Reason Codes for a Risky Customer\\n', \n",
    "                  legend=False)"
   ]
  },
  {
   "cell_type": "code",
   "execution_count": null,
   "metadata": {},
   "outputs": [],
   "source": [
    "row # helps understand reason codes"
   ]
  },
  {
   "cell_type": "code",
   "execution_count": null,
   "metadata": {},
   "outputs": [],
   "source": []
  }
 ],
 "metadata": {
  "kernelspec": {
   "display_name": "Python 3",
   "language": "python",
   "name": "python3"
  },
  "language_info": {
   "codemirror_mode": {
    "name": "ipython",
    "version": 3
   },
   "file_extension": ".py",
   "mimetype": "text/x-python",
   "name": "python",
   "nbconvert_exporter": "python",
   "pygments_lexer": "ipython3",
   "version": "3.7.6"
  }
 },
 "nbformat": 4,
 "nbformat_minor": 4
}
