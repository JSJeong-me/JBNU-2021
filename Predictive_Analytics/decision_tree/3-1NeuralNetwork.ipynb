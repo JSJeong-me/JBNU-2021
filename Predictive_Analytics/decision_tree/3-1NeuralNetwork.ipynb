{
 "cells": [
  {
   "cell_type": "code",
   "execution_count": 1,
   "metadata": {},
   "outputs": [
    {
     "name": "stderr",
     "output_type": "stream",
     "text": [
      "Using TensorFlow backend.\n"
     ]
    }
   ],
   "source": [
    "from sklearn.model_selection import train_test_split\n",
    "import pandas as pd\n",
    "import numpy as np\n",
    "from sklearn.preprocessing import StandardScaler\n",
    "from keras.utils import to_categorical\n",
    "from keras.models import Sequential\n",
    "from keras.layers import Dense"
   ]
  },
  {
   "cell_type": "code",
   "execution_count": 2,
   "metadata": {},
   "outputs": [],
   "source": [
    "#df = pd.read_csv(\".\\\\Data_USD.csv\", header=None,skiprows=1)\n",
    "df = pd.read_csv(\".\\\\Data_USD.csv\")\n",
    "#df.head().to_csv(\".\\\\test.csv\")"
   ]
  },
  {
   "cell_type": "code",
   "execution_count": 3,
   "metadata": {},
   "outputs": [],
   "source": [
    "#T=df.groupby(\"SEX\") "
   ]
  },
  {
   "cell_type": "code",
   "execution_count": 4,
   "metadata": {},
   "outputs": [],
   "source": [
    "#T.describe()"
   ]
  },
  {
   "cell_type": "code",
   "execution_count": 5,
   "metadata": {},
   "outputs": [
    {
     "data": {
      "text/plain": [
       "Index(['LIMIT_BAL_US', 'SEX', 'EDUCATION', 'MARRIAGE', 'AGE', 'PAY_SCORE_AVG',\n",
       "       'BILL_AVG_US', 'PAY_AMT_AVG_US', 'PAY_TO_BILL', 'CREDIT_UTILIZATION',\n",
       "       'DEFAULT_PAYMENT_NEXT_MO'],\n",
       "      dtype='object')"
      ]
     },
     "execution_count": 5,
     "metadata": {},
     "output_type": "execute_result"
    }
   ],
   "source": [
    "df.columns"
   ]
  },
  {
   "cell_type": "code",
   "execution_count": 6,
   "metadata": {},
   "outputs": [
    {
     "data": {
      "text/html": [
       "<div>\n",
       "<style scoped>\n",
       "    .dataframe tbody tr th:only-of-type {\n",
       "        vertical-align: middle;\n",
       "    }\n",
       "\n",
       "    .dataframe tbody tr th {\n",
       "        vertical-align: top;\n",
       "    }\n",
       "\n",
       "    .dataframe thead th {\n",
       "        text-align: right;\n",
       "    }\n",
       "</style>\n",
       "<table border=\"1\" class=\"dataframe\">\n",
       "  <thead>\n",
       "    <tr style=\"text-align: right;\">\n",
       "      <th></th>\n",
       "      <th>LIMIT_BAL_US</th>\n",
       "      <th>SEX</th>\n",
       "      <th>EDUCATION</th>\n",
       "      <th>MARRIAGE</th>\n",
       "      <th>AGE</th>\n",
       "      <th>PAY_SCORE_AVG</th>\n",
       "      <th>BILL_AVG_US</th>\n",
       "      <th>PAY_AMT_AVG_US</th>\n",
       "      <th>PAY_TO_BILL</th>\n",
       "      <th>CREDIT_UTILIZATION</th>\n",
       "      <th>DEFAULT_PAYMENT_NEXT_MO</th>\n",
       "    </tr>\n",
       "  </thead>\n",
       "  <tbody>\n",
       "    <tr>\n",
       "      <th>29995</th>\n",
       "      <td>7982.857143</td>\n",
       "      <td>1</td>\n",
       "      <td>3</td>\n",
       "      <td>1</td>\n",
       "      <td>39</td>\n",
       "      <td>0.00</td>\n",
       "      <td>4386.634429</td>\n",
       "      <td>257.326190</td>\n",
       "      <td>0.06</td>\n",
       "      <td>0.858855</td>\n",
       "      <td>0</td>\n",
       "    </tr>\n",
       "    <tr>\n",
       "      <th>29996</th>\n",
       "      <td>5442.857143</td>\n",
       "      <td>1</td>\n",
       "      <td>3</td>\n",
       "      <td>2</td>\n",
       "      <td>43</td>\n",
       "      <td>-0.67</td>\n",
       "      <td>128.100667</td>\n",
       "      <td>87.630000</td>\n",
       "      <td>0.68</td>\n",
       "      <td>0.011220</td>\n",
       "      <td>0</td>\n",
       "    </tr>\n",
       "    <tr>\n",
       "      <th>29997</th>\n",
       "      <td>1088.571429</td>\n",
       "      <td>1</td>\n",
       "      <td>2</td>\n",
       "      <td>2</td>\n",
       "      <td>37</td>\n",
       "      <td>1.33</td>\n",
       "      <td>426.332952</td>\n",
       "      <td>189.290476</td>\n",
       "      <td>0.44</td>\n",
       "      <td>0.118833</td>\n",
       "      <td>1</td>\n",
       "    </tr>\n",
       "    <tr>\n",
       "      <th>29998</th>\n",
       "      <td>2902.857143</td>\n",
       "      <td>1</td>\n",
       "      <td>3</td>\n",
       "      <td>1</td>\n",
       "      <td>41</td>\n",
       "      <td>-0.17</td>\n",
       "      <td>1612.361762</td>\n",
       "      <td>890.094619</td>\n",
       "      <td>0.55</td>\n",
       "      <td>-0.020563</td>\n",
       "      <td>1</td>\n",
       "    </tr>\n",
       "    <tr>\n",
       "      <th>29999</th>\n",
       "      <td>1814.285714</td>\n",
       "      <td>1</td>\n",
       "      <td>2</td>\n",
       "      <td>1</td>\n",
       "      <td>46</td>\n",
       "      <td>0.00</td>\n",
       "      <td>1396.238000</td>\n",
       "      <td>50.243619</td>\n",
       "      <td>0.04</td>\n",
       "      <td>0.958580</td>\n",
       "      <td>1</td>\n",
       "    </tr>\n",
       "  </tbody>\n",
       "</table>\n",
       "</div>"
      ],
      "text/plain": [
       "       LIMIT_BAL_US  SEX  EDUCATION  MARRIAGE  AGE  PAY_SCORE_AVG  \\\n",
       "29995   7982.857143    1          3         1   39           0.00   \n",
       "29996   5442.857143    1          3         2   43          -0.67   \n",
       "29997   1088.571429    1          2         2   37           1.33   \n",
       "29998   2902.857143    1          3         1   41          -0.17   \n",
       "29999   1814.285714    1          2         1   46           0.00   \n",
       "\n",
       "       BILL_AVG_US  PAY_AMT_AVG_US  PAY_TO_BILL  CREDIT_UTILIZATION  \\\n",
       "29995  4386.634429      257.326190         0.06            0.858855   \n",
       "29996   128.100667       87.630000         0.68            0.011220   \n",
       "29997   426.332952      189.290476         0.44            0.118833   \n",
       "29998  1612.361762      890.094619         0.55           -0.020563   \n",
       "29999  1396.238000       50.243619         0.04            0.958580   \n",
       "\n",
       "       DEFAULT_PAYMENT_NEXT_MO  \n",
       "29995                        0  \n",
       "29996                        0  \n",
       "29997                        1  \n",
       "29998                        1  \n",
       "29999                        1  "
      ]
     },
     "execution_count": 6,
     "metadata": {},
     "output_type": "execute_result"
    }
   ],
   "source": [
    "df.tail()"
   ]
  },
  {
   "cell_type": "code",
   "execution_count": 7,
   "metadata": {},
   "outputs": [],
   "source": [
    "# X = df.drop('Y_Value',axis =1).values\n",
    "# y = df['Y_Value'].values\n",
    "X = df.drop('DEFAULT_PAYMENT_NEXT_MO',axis =1).values\n",
    "#X[2999,0]"
   ]
  },
  {
   "cell_type": "code",
   "execution_count": 8,
   "metadata": {},
   "outputs": [
    {
     "data": {
      "text/plain": [
       "(30000, 10)"
      ]
     },
     "execution_count": 8,
     "metadata": {},
     "output_type": "execute_result"
    }
   ],
   "source": [
    "X.shape"
   ]
  },
  {
   "cell_type": "code",
   "execution_count": 9,
   "metadata": {},
   "outputs": [],
   "source": [
    "y = df['DEFAULT_PAYMENT_NEXT_MO'].values\n",
    "#y.reshape(-1,1)"
   ]
  },
  {
   "cell_type": "code",
   "execution_count": 10,
   "metadata": {},
   "outputs": [
    {
     "data": {
      "text/plain": [
       "(30000, 10)"
      ]
     },
     "execution_count": 10,
     "metadata": {},
     "output_type": "execute_result"
    }
   ],
   "source": [
    "#print(X.shape)\n",
    "X.shape"
   ]
  },
  {
   "cell_type": "code",
   "execution_count": 11,
   "metadata": {},
   "outputs": [
    {
     "data": {
      "text/plain": [
       "(30000,)"
      ]
     },
     "execution_count": 11,
     "metadata": {},
     "output_type": "execute_result"
    }
   ],
   "source": [
    "#print(y.shape)\n",
    "y.shape"
   ]
  },
  {
   "cell_type": "code",
   "execution_count": 12,
   "metadata": {},
   "outputs": [],
   "source": [
    "X_train, X_test, y_train, y_test = train_test_split (X,y,test_size=0.3, random_state=42)"
   ]
  },
  {
   "cell_type": "code",
   "execution_count": 13,
   "metadata": {},
   "outputs": [
    {
     "data": {
      "text/plain": [
       "array([0, 0, 0, ..., 0, 0, 0], dtype=int64)"
      ]
     },
     "execution_count": 13,
     "metadata": {},
     "output_type": "execute_result"
    }
   ],
   "source": [
    "y_test.T"
   ]
  },
  {
   "cell_type": "code",
   "execution_count": 14,
   "metadata": {},
   "outputs": [
    {
     "data": {
      "text/plain": [
       "(9000, 10)"
      ]
     },
     "execution_count": 14,
     "metadata": {},
     "output_type": "execute_result"
    }
   ],
   "source": [
    "X_test.shape"
   ]
  },
  {
   "cell_type": "code",
   "execution_count": 15,
   "metadata": {},
   "outputs": [
    {
     "data": {
      "text/html": [
       "<div>\n",
       "<style scoped>\n",
       "    .dataframe tbody tr th:only-of-type {\n",
       "        vertical-align: middle;\n",
       "    }\n",
       "\n",
       "    .dataframe tbody tr th {\n",
       "        vertical-align: top;\n",
       "    }\n",
       "\n",
       "    .dataframe thead th {\n",
       "        text-align: right;\n",
       "    }\n",
       "</style>\n",
       "<table border=\"1\" class=\"dataframe\">\n",
       "  <thead>\n",
       "    <tr style=\"text-align: right;\">\n",
       "      <th></th>\n",
       "      <th>LIMIT_BAL_US</th>\n",
       "      <th>SEX</th>\n",
       "      <th>EDUCATION</th>\n",
       "      <th>MARRIAGE</th>\n",
       "      <th>AGE</th>\n",
       "      <th>PAY_SCORE_AVG</th>\n",
       "      <th>BILL_AVG_US</th>\n",
       "      <th>PAY_AMT_AVG_US</th>\n",
       "      <th>PAY_TO_BILL</th>\n",
       "      <th>CREDIT_UTILIZATION</th>\n",
       "      <th>DEFAULT_PAYMENT_NEXT_MO</th>\n",
       "    </tr>\n",
       "  </thead>\n",
       "  <tbody>\n",
       "    <tr>\n",
       "      <th>count</th>\n",
       "      <td>30000.000000</td>\n",
       "      <td>30000.000000</td>\n",
       "      <td>30000.000000</td>\n",
       "      <td>30000.000000</td>\n",
       "      <td>30000.000000</td>\n",
       "      <td>30000.000000</td>\n",
       "      <td>30000.000000</td>\n",
       "      <td>30000.000000</td>\n",
       "      <td>30000.000000</td>\n",
       "      <td>30000.000000</td>\n",
       "      <td>30000.000000</td>\n",
       "    </tr>\n",
       "    <tr>\n",
       "      <th>mean</th>\n",
       "      <td>6077.288279</td>\n",
       "      <td>1.603733</td>\n",
       "      <td>1.853133</td>\n",
       "      <td>1.551867</td>\n",
       "      <td>35.485500</td>\n",
       "      <td>-0.182680</td>\n",
       "      <td>1632.020583</td>\n",
       "      <td>191.415565</td>\n",
       "      <td>0.409982</td>\n",
       "      <td>0.423771</td>\n",
       "      <td>0.221200</td>\n",
       "    </tr>\n",
       "    <tr>\n",
       "      <th>std</th>\n",
       "      <td>4707.986577</td>\n",
       "      <td>0.489129</td>\n",
       "      <td>0.790349</td>\n",
       "      <td>0.521970</td>\n",
       "      <td>9.217904</td>\n",
       "      <td>0.982063</td>\n",
       "      <td>2295.460479</td>\n",
       "      <td>367.862624</td>\n",
       "      <td>7.671398</td>\n",
       "      <td>0.411462</td>\n",
       "      <td>0.415062</td>\n",
       "    </tr>\n",
       "    <tr>\n",
       "      <th>min</th>\n",
       "      <td>362.857143</td>\n",
       "      <td>1.000000</td>\n",
       "      <td>0.000000</td>\n",
       "      <td>0.000000</td>\n",
       "      <td>21.000000</td>\n",
       "      <td>-2.000000</td>\n",
       "      <td>-2033.566333</td>\n",
       "      <td>0.000000</td>\n",
       "      <td>-546.930000</td>\n",
       "      <td>-0.619892</td>\n",
       "      <td>0.000000</td>\n",
       "    </tr>\n",
       "    <tr>\n",
       "      <th>25%</th>\n",
       "      <td>1814.285714</td>\n",
       "      <td>1.000000</td>\n",
       "      <td>1.000000</td>\n",
       "      <td>1.000000</td>\n",
       "      <td>28.000000</td>\n",
       "      <td>-0.830000</td>\n",
       "      <td>173.494095</td>\n",
       "      <td>40.396583</td>\n",
       "      <td>0.040000</td>\n",
       "      <td>0.022032</td>\n",
       "      <td>0.000000</td>\n",
       "    </tr>\n",
       "    <tr>\n",
       "      <th>50%</th>\n",
       "      <td>5080.000000</td>\n",
       "      <td>2.000000</td>\n",
       "      <td>2.000000</td>\n",
       "      <td>2.000000</td>\n",
       "      <td>34.000000</td>\n",
       "      <td>0.000000</td>\n",
       "      <td>763.880810</td>\n",
       "      <td>86.982905</td>\n",
       "      <td>0.100000</td>\n",
       "      <td>0.313994</td>\n",
       "      <td>0.000000</td>\n",
       "    </tr>\n",
       "    <tr>\n",
       "      <th>75%</th>\n",
       "      <td>8708.571429</td>\n",
       "      <td>2.000000</td>\n",
       "      <td>2.000000</td>\n",
       "      <td>2.000000</td>\n",
       "      <td>41.000000</td>\n",
       "      <td>0.000000</td>\n",
       "      <td>2072.074548</td>\n",
       "      <td>202.616405</td>\n",
       "      <td>0.690000</td>\n",
       "      <td>0.829843</td>\n",
       "      <td>0.000000</td>\n",
       "    </tr>\n",
       "    <tr>\n",
       "      <th>max</th>\n",
       "      <td>36285.714290</td>\n",
       "      <td>2.000000</td>\n",
       "      <td>6.000000</td>\n",
       "      <td>3.000000</td>\n",
       "      <td>79.000000</td>\n",
       "      <td>6.000000</td>\n",
       "      <td>31833.959100</td>\n",
       "      <td>22763.637240</td>\n",
       "      <td>797.000000</td>\n",
       "      <td>6.455300</td>\n",
       "      <td>1.000000</td>\n",
       "    </tr>\n",
       "  </tbody>\n",
       "</table>\n",
       "</div>"
      ],
      "text/plain": [
       "       LIMIT_BAL_US           SEX     EDUCATION      MARRIAGE           AGE  \\\n",
       "count  30000.000000  30000.000000  30000.000000  30000.000000  30000.000000   \n",
       "mean    6077.288279      1.603733      1.853133      1.551867     35.485500   \n",
       "std     4707.986577      0.489129      0.790349      0.521970      9.217904   \n",
       "min      362.857143      1.000000      0.000000      0.000000     21.000000   \n",
       "25%     1814.285714      1.000000      1.000000      1.000000     28.000000   \n",
       "50%     5080.000000      2.000000      2.000000      2.000000     34.000000   \n",
       "75%     8708.571429      2.000000      2.000000      2.000000     41.000000   \n",
       "max    36285.714290      2.000000      6.000000      3.000000     79.000000   \n",
       "\n",
       "       PAY_SCORE_AVG   BILL_AVG_US  PAY_AMT_AVG_US   PAY_TO_BILL  \\\n",
       "count   30000.000000  30000.000000    30000.000000  30000.000000   \n",
       "mean       -0.182680   1632.020583      191.415565      0.409982   \n",
       "std         0.982063   2295.460479      367.862624      7.671398   \n",
       "min        -2.000000  -2033.566333        0.000000   -546.930000   \n",
       "25%        -0.830000    173.494095       40.396583      0.040000   \n",
       "50%         0.000000    763.880810       86.982905      0.100000   \n",
       "75%         0.000000   2072.074548      202.616405      0.690000   \n",
       "max         6.000000  31833.959100    22763.637240    797.000000   \n",
       "\n",
       "       CREDIT_UTILIZATION  DEFAULT_PAYMENT_NEXT_MO  \n",
       "count        30000.000000             30000.000000  \n",
       "mean             0.423771                 0.221200  \n",
       "std              0.411462                 0.415062  \n",
       "min             -0.619892                 0.000000  \n",
       "25%              0.022032                 0.000000  \n",
       "50%              0.313994                 0.000000  \n",
       "75%              0.829843                 0.000000  \n",
       "max              6.455300                 1.000000  "
      ]
     },
     "execution_count": 15,
     "metadata": {},
     "output_type": "execute_result"
    }
   ],
   "source": [
    "df.describe()"
   ]
  },
  {
   "cell_type": "code",
   "execution_count": 16,
   "metadata": {},
   "outputs": [],
   "source": [
    "from sklearn.preprocessing import StandardScaler\n",
    "\n",
    "X_scaler = StandardScaler().fit(X_train)"
   ]
  },
  {
   "cell_type": "code",
   "execution_count": 17,
   "metadata": {},
   "outputs": [
    {
     "data": {
      "text/plain": [
       "StandardScaler()"
      ]
     },
     "execution_count": 17,
     "metadata": {},
     "output_type": "execute_result"
    }
   ],
   "source": [
    "X_scaler"
   ]
  },
  {
   "cell_type": "code",
   "execution_count": 18,
   "metadata": {},
   "outputs": [],
   "source": [
    "X_train_scaled = X_scaler.transform(X_train)\n",
    "X_test_scaled = X_scaler.transform(X_test)"
   ]
  },
  {
   "cell_type": "code",
   "execution_count": 19,
   "metadata": {},
   "outputs": [
    {
     "data": {
      "text/plain": [
       "array([[ 0.56391448,  0.80648893, -1.07681763, ..., -0.49741723,\n",
       "         0.09035743, -1.02549459],\n",
       "       [-0.90610925,  0.80648893, -1.07681763, ..., -0.13590122,\n",
       "         0.08737206, -0.85894506],\n",
       "       [-0.90610925,  0.80648893,  0.18648797, ..., -0.33785543,\n",
       "        -0.05294013,  1.2179713 ],\n",
       "       ...,\n",
       "       [-0.90610925, -1.23994262, -1.07681763, ..., -0.49741723,\n",
       "         0.09035743, -1.02549459],\n",
       "       [-0.75136991,  0.80648893,  0.18648797, ..., -0.31133477,\n",
       "        -0.05294013,  1.53895893],\n",
       "       [-0.05504288,  0.80648893,  0.18648797, ..., -0.11985747,\n",
       "         0.10229889, -1.02579807]])"
      ]
     },
     "execution_count": 19,
     "metadata": {},
     "output_type": "execute_result"
    }
   ],
   "source": [
    "X_train_scaled"
   ]
  },
  {
   "cell_type": "code",
   "execution_count": 20,
   "metadata": {},
   "outputs": [],
   "source": [
    "y_train_categorical = to_categorical(y_train)\n",
    "y_test_categorical = to_categorical(y_test)"
   ]
  },
  {
   "cell_type": "code",
   "execution_count": 21,
   "metadata": {},
   "outputs": [
    {
     "data": {
      "text/plain": [
       "array([[1., 0.],\n",
       "       [1., 0.],\n",
       "       [1., 0.],\n",
       "       ...,\n",
       "       [1., 0.],\n",
       "       [1., 0.],\n",
       "       [1., 0.]], dtype=float32)"
      ]
     },
     "execution_count": 21,
     "metadata": {},
     "output_type": "execute_result"
    }
   ],
   "source": [
    "y_test_categorical"
   ]
  },
  {
   "cell_type": "code",
   "execution_count": 22,
   "metadata": {},
   "outputs": [],
   "source": [
    "from keras.models import Sequential\n",
    "\n",
    "#instantiate\n",
    "model = Sequential()"
   ]
  },
  {
   "cell_type": "code",
   "execution_count": 23,
   "metadata": {},
   "outputs": [],
   "source": [
    "from keras.layers import Dense\n",
    "\n",
    "number_inputs = 10\n",
    "number_units = 60\n",
    "\n",
    "model.add(Dense(units = number_units, activation ='relu', input_dim=number_inputs))\n",
    "model.add(Dense(units = 70, activation ='relu')) #second hidden layer\n",
    "model.add(Dense(units = 60, activation ='relu')) #second hidden layer\n",
    "model.add(Dense(units = 50, activation ='relu')) #second hidden layer\n",
    "model.add(Dense(units = 40, activation ='relu')) #second hidden layer\n",
    "model.add(Dense(units = 30, activation ='relu')) #second hidden layer\n",
    "model.add(Dense(units = 20, activation ='relu')) #second hidden layer\n",
    "model.add(Dense(units = 10, activation ='relu')) #second hidden layer\n",
    "#model.add(Dense(units = 2, activation ='relu')) #third hidden layer"
   ]
  },
  {
   "cell_type": "code",
   "execution_count": 24,
   "metadata": {},
   "outputs": [],
   "source": [
    "number_classes =2 ## yes or no\n",
    "model.add(Dense(units = number_classes, activation = 'sigmoid'))"
   ]
  },
  {
   "cell_type": "code",
   "execution_count": 25,
   "metadata": {},
   "outputs": [
    {
     "name": "stdout",
     "output_type": "stream",
     "text": [
      "Model: \"sequential_1\"\n",
      "_________________________________________________________________\n",
      "Layer (type)                 Output Shape              Param #   \n",
      "=================================================================\n",
      "dense_1 (Dense)              (None, 60)                660       \n",
      "_________________________________________________________________\n",
      "dense_2 (Dense)              (None, 70)                4270      \n",
      "_________________________________________________________________\n",
      "dense_3 (Dense)              (None, 60)                4260      \n",
      "_________________________________________________________________\n",
      "dense_4 (Dense)              (None, 50)                3050      \n",
      "_________________________________________________________________\n",
      "dense_5 (Dense)              (None, 40)                2040      \n",
      "_________________________________________________________________\n",
      "dense_6 (Dense)              (None, 30)                1230      \n",
      "_________________________________________________________________\n",
      "dense_7 (Dense)              (None, 20)                620       \n",
      "_________________________________________________________________\n",
      "dense_8 (Dense)              (None, 10)                210       \n",
      "_________________________________________________________________\n",
      "dense_9 (Dense)              (None, 2)                 22        \n",
      "=================================================================\n",
      "Total params: 16,362\n",
      "Trainable params: 16,362\n",
      "Non-trainable params: 0\n",
      "_________________________________________________________________\n"
     ]
    }
   ],
   "source": [
    "model.summary()"
   ]
  },
  {
   "cell_type": "code",
   "execution_count": 26,
   "metadata": {},
   "outputs": [],
   "source": [
    "#compile the model\n",
    "model.compile(optimizer = 'adam' ,\n",
    "             loss = 'binary_crossentropy',\n",
    "             metrics =['accuracy'])"
   ]
  },
  {
   "cell_type": "code",
   "execution_count": 27,
   "metadata": {},
   "outputs": [
    {
     "name": "stdout",
     "output_type": "stream",
     "text": [
      "Epoch 1/50\n",
      " - 3s - loss: 0.4889 - accuracy: 0.7933\n",
      "Epoch 2/50\n",
      " - 2s - loss: 0.4575 - accuracy: 0.8055\n",
      "Epoch 3/50\n",
      " - 2s - loss: 0.4524 - accuracy: 0.8060\n",
      "Epoch 4/50\n",
      " - 2s - loss: 0.4494 - accuracy: 0.8071\n",
      "Epoch 5/50\n",
      " - 2s - loss: 0.4483 - accuracy: 0.8067\n",
      "Epoch 6/50\n",
      " - 2s - loss: 0.4467 - accuracy: 0.8063\n",
      "Epoch 7/50\n",
      " - 2s - loss: 0.4452 - accuracy: 0.8068\n",
      "Epoch 8/50\n",
      " - 2s - loss: 0.4442 - accuracy: 0.8073\n",
      "Epoch 9/50\n",
      " - 2s - loss: 0.4422 - accuracy: 0.8068\n",
      "Epoch 10/50\n",
      " - 2s - loss: 0.4419 - accuracy: 0.8082\n",
      "Epoch 11/50\n",
      " - 2s - loss: 0.4406 - accuracy: 0.8082\n",
      "Epoch 12/50\n",
      " - 2s - loss: 0.4398 - accuracy: 0.8082\n",
      "Epoch 13/50\n",
      " - 2s - loss: 0.4389 - accuracy: 0.8088\n",
      "Epoch 14/50\n",
      " - 2s - loss: 0.4384 - accuracy: 0.8087\n",
      "Epoch 15/50\n",
      " - 2s - loss: 0.4370 - accuracy: 0.8096\n",
      "Epoch 16/50\n",
      " - 2s - loss: 0.4352 - accuracy: 0.8098\n",
      "Epoch 17/50\n",
      " - 2s - loss: 0.4343 - accuracy: 0.8102\n",
      "Epoch 18/50\n",
      " - 2s - loss: 0.4331 - accuracy: 0.8089\n",
      "Epoch 19/50\n",
      " - 2s - loss: 0.4336 - accuracy: 0.8100\n",
      "Epoch 20/50\n",
      " - 2s - loss: 0.4317 - accuracy: 0.8113\n",
      "Epoch 21/50\n",
      " - 2s - loss: 0.4311 - accuracy: 0.8110\n",
      "Epoch 22/50\n",
      " - 2s - loss: 0.4305 - accuracy: 0.8115\n",
      "Epoch 23/50\n",
      " - 2s - loss: 0.4292 - accuracy: 0.8115\n",
      "Epoch 24/50\n",
      " - 2s - loss: 0.4277 - accuracy: 0.8114\n",
      "Epoch 25/50\n",
      " - 2s - loss: 0.4262 - accuracy: 0.8127\n",
      "Epoch 26/50\n",
      " - 2s - loss: 0.4246 - accuracy: 0.8137\n",
      "Epoch 27/50\n",
      " - 2s - loss: 0.4237 - accuracy: 0.8139\n",
      "Epoch 28/50\n",
      " - 2s - loss: 0.4212 - accuracy: 0.8163\n",
      "Epoch 29/50\n",
      " - 2s - loss: 0.4202 - accuracy: 0.8141\n",
      "Epoch 30/50\n",
      " - 2s - loss: 0.4199 - accuracy: 0.8157\n",
      "Epoch 31/50\n",
      " - 2s - loss: 0.4185 - accuracy: 0.8154\n",
      "Epoch 32/50\n",
      " - 2s - loss: 0.4160 - accuracy: 0.8160\n",
      "Epoch 33/50\n",
      " - 2s - loss: 0.4152 - accuracy: 0.8175\n",
      "Epoch 34/50\n",
      " - 2s - loss: 0.4143 - accuracy: 0.8172\n",
      "Epoch 35/50\n",
      " - 2s - loss: 0.4112 - accuracy: 0.8174\n",
      "Epoch 36/50\n",
      " - 2s - loss: 0.4117 - accuracy: 0.8172\n",
      "Epoch 37/50\n",
      " - 2s - loss: 0.4086 - accuracy: 0.8178\n",
      "Epoch 38/50\n",
      " - 2s - loss: 0.4096 - accuracy: 0.8185\n",
      "Epoch 39/50\n",
      " - 2s - loss: 0.4046 - accuracy: 0.8208\n",
      "Epoch 40/50\n",
      " - 2s - loss: 0.4050 - accuracy: 0.8187\n",
      "Epoch 41/50\n",
      " - 2s - loss: 0.4016 - accuracy: 0.8215\n",
      "Epoch 42/50\n",
      " - 2s - loss: 0.4009 - accuracy: 0.8218\n",
      "Epoch 43/50\n",
      " - 2s - loss: 0.3988 - accuracy: 0.8194\n",
      "Epoch 44/50\n",
      " - 2s - loss: 0.3992 - accuracy: 0.8216\n",
      "Epoch 45/50\n",
      " - 2s - loss: 0.3935 - accuracy: 0.8230\n",
      "Epoch 46/50\n",
      " - 2s - loss: 0.3942 - accuracy: 0.8231\n",
      "Epoch 47/50\n",
      " - 2s - loss: 0.3927 - accuracy: 0.8230\n",
      "Epoch 48/50\n",
      " - 2s - loss: 0.3911 - accuracy: 0.8233\n",
      "Epoch 49/50\n",
      " - 2s - loss: 0.3899 - accuracy: 0.8241\n",
      "Epoch 50/50\n",
      " - 2s - loss: 0.3858 - accuracy: 0.8253\n"
     ]
    },
    {
     "data": {
      "text/plain": [
       "<keras.callbacks.callbacks.History at 0x26cda494608>"
      ]
     },
     "execution_count": 27,
     "metadata": {},
     "output_type": "execute_result"
    }
   ],
   "source": [
    "#train the model\n",
    "\n",
    "model.fit(X_train_scaled, y_train_categorical, epochs=50,shuffle = True,verbose =2)"
   ]
  },
  {
   "cell_type": "code",
   "execution_count": null,
   "metadata": {},
   "outputs": [],
   "source": [
    "model.save(\"12-29-neuralnetwork.h5\")"
   ]
  },
  {
   "cell_type": "code",
   "execution_count": 28,
   "metadata": {},
   "outputs": [
    {
     "name": "stdout",
     "output_type": "stream",
     "text": [
      "0.5089169761869643\n",
      "0.7879444360733032\n"
     ]
    }
   ],
   "source": [
    "#quantify the model\n",
    "model_loss, model_accuracy = model.evaluate(X_test_scaled,y_test_categorical,verbose =2)\n",
    "print( model_loss )\n",
    "print (model_accuracy)"
   ]
  },
  {
   "cell_type": "markdown",
   "metadata": {},
   "source": [
    "F1, Precision Recall, and Confusion Matrix"
   ]
  },
  {
   "cell_type": "code",
   "execution_count": 29,
   "metadata": {},
   "outputs": [],
   "source": [
    "from sklearn.metrics import precision_recall_fscore_support\n",
    "from sklearn.metrics import recall_score\n",
    "from sklearn.metrics import classification_report"
   ]
  },
  {
   "cell_type": "code",
   "execution_count": 30,
   "metadata": {},
   "outputs": [],
   "source": [
    "y_prediction = model.predict_classes(X_test)"
   ]
  },
  {
   "cell_type": "code",
   "execution_count": 31,
   "metadata": {},
   "outputs": [
    {
     "data": {
      "text/plain": [
       "array([[0],\n",
       "       [1],\n",
       "       [1],\n",
       "       ...,\n",
       "       [1],\n",
       "       [1],\n",
       "       [0]], dtype=int64)"
      ]
     },
     "execution_count": 31,
     "metadata": {},
     "output_type": "execute_result"
    }
   ],
   "source": [
    "y_prediction.reshape(-1,1)"
   ]
  },
  {
   "cell_type": "code",
   "execution_count": 32,
   "metadata": {},
   "outputs": [
    {
     "name": "stdout",
     "output_type": "stream",
     "text": [
      "Recall score:0.45408163265306123\n"
     ]
    }
   ],
   "source": [
    "print(\"Recall score:\"+ str(recall_score(y_test, y_prediction)))"
   ]
  },
  {
   "cell_type": "code",
   "execution_count": 33,
   "metadata": {},
   "outputs": [
    {
     "name": "stdout",
     "output_type": "stream",
     "text": [
      "              precision    recall  f1-score   support\n",
      "\n",
      "     default       0.82      0.68      0.74      7040\n",
      " non_default       0.28      0.45      0.35      1960\n",
      "\n",
      "    accuracy                           0.63      9000\n",
      "   macro avg       0.55      0.57      0.54      9000\n",
      "weighted avg       0.70      0.63      0.66      9000\n",
      "\n"
     ]
    }
   ],
   "source": [
    "print(classification_report(y_test, y_prediction,\n",
    "                            target_names=[\"default\", \"non_default\"]))"
   ]
  },
  {
   "cell_type": "code",
   "execution_count": 34,
   "metadata": {},
   "outputs": [],
   "source": [
    "import itertools\n",
    "import matplotlib.pyplot as plt\n",
    "from sklearn.metrics import confusion_matrix"
   ]
  },
  {
   "cell_type": "code",
   "execution_count": 35,
   "metadata": {},
   "outputs": [
    {
     "name": "stdout",
     "output_type": "stream",
     "text": [
      "Confusion matrix, without normalization\n",
      "[[4779 2261]\n",
      " [1070  890]]\n",
      "Normalized confusion matrix\n",
      "[[0.68 0.32]\n",
      " [0.55 0.45]]\n"
     ]
    },
    {
     "data": {
      "image/png": "[encoded data removed]",
      "text/plain": [
       "<Figure size 432x288 with 2 Axes>"
      ]
     },
     "metadata": {
      "needs_background": "light"
     },
     "output_type": "display_data"
    },
    {
     "data": {
      "image/png": "[encoded data removed]",
      "text/plain": [
       "<Figure size 432x288 with 2 Axes>"
      ]
     },
     "metadata": {
      "needs_background": "light"
     },
     "output_type": "display_data"
    }
   ],
   "source": [
    "def plot_confusion_matrix(cm, classes,\n",
    "                          normalize=False,\n",
    "                          title='Confusion matrix',\n",
    "                          cmap=plt.cm.Blues):\n",
    "    \"\"\"\n",
    "    This function prints and plots the confusion matrix.\n",
    "    Normalization can be applied by setting `normalize=True`.\n",
    "    \"\"\"\n",
    "    if normalize:\n",
    "        cm = cm.astype('float') / cm.sum(axis=1)[:, np.newaxis]\n",
    "        print(\"Normalized confusion matrix\")\n",
    "    else:\n",
    "        print('Confusion matrix, without normalization')\n",
    "\n",
    "    print(cm)\n",
    "\n",
    "    plt.imshow(cm, interpolation='nearest', cmap=cmap)\n",
    "    plt.title(title)\n",
    "    plt.colorbar()\n",
    "    tick_marks = np.arange(len(classes))\n",
    "    plt.xticks(tick_marks, classes, rotation=45)\n",
    "    plt.yticks(tick_marks, classes)\n",
    "\n",
    "    fmt = '.2f' if normalize else 'd'\n",
    "    thresh = cm.max() / 2.\n",
    "    for i, j in itertools.product(range(cm.shape[0]), range(cm.shape[1])):\n",
    "        plt.text(j, i, format(cm[i, j], fmt),\n",
    "                 horizontalalignment=\"center\",\n",
    "                 color=\"red\" if cm[i, j] > thresh else \"black\")\n",
    "\n",
    "    plt.tight_layout()\n",
    "    plt.ylabel('True label')\n",
    "    plt.xlabel('Predicted label')\n",
    "\n",
    "# Compute confusion matrix\n",
    "cnf_matrix = confusion_matrix(y_test, y_prediction)\n",
    "np.set_printoptions(precision=2)\n",
    "\n",
    "# Plot non-normalized confusion matrix\n",
    "plt.figure()\n",
    "plot_confusion_matrix(cnf_matrix, classes=['Non_defualt', 'Default'],\n",
    "                      title='Confusion matrix, without normalization')\n",
    "\n",
    "# Plot normalized confusion matrix\n",
    "plt.figure()\n",
    "plot_confusion_matrix(cnf_matrix, classes=['Non_defualt', 'Default'], normalize=True,\n",
    "                      title='Normalized confusion matrix')\n",
    "\n",
    "plt.show()"
   ]
  },
  {
   "cell_type": "code",
   "execution_count": null,
   "metadata": {},
   "outputs": [],
   "source": []
  }
 ],
 "metadata": {
  "kernelspec": {
   "display_name": "Python 3",
   "language": "python",
   "name": "python3"
  },
  "language_info": {
   "codemirror_mode": {
    "name": "ipython",
    "version": 3
   },
   "file_extension": ".py",
   "mimetype": "text/x-python",
   "name": "python",
   "nbconvert_exporter": "python",
   "pygments_lexer": "ipython3",
   "version": "3.7.6"
  }
 },
 "nbformat": 4,
 "nbformat_minor": 4
}
