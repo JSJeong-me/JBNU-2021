{
 "cells": [
  {
   "cell_type": "code",
   "execution_count": 1,
   "metadata": {},
   "outputs": [
    {
     "name": "stderr",
     "output_type": "stream",
     "text": [
      "Using TensorFlow backend.\n"
     ]
    }
   ],
   "source": [
    "from sklearn.model_selection import train_test_split\n",
    "import pandas as pd\n",
    "import numpy as np\n",
    "from sklearn.preprocessing import StandardScaler\n",
    "from keras.utils import to_categorical\n",
    "from keras.models import Sequential\n",
    "from keras.layers import Dense"
   ]
  },
  {
   "cell_type": "code",
   "execution_count": 2,
   "metadata": {},
   "outputs": [],
   "source": [
    "#df = pd.read_csv(\".\\\\Data_USD.csv\", header=None,skiprows=1)\n",
    "df = pd.read_csv(\".\\\\Data_USD.csv\")\n",
    "#df.head().to_csv(\".\\\\test.csv\")"
   ]
  },
  {
   "cell_type": "code",
   "execution_count": 3,
   "metadata": {},
   "outputs": [],
   "source": [
    "#T=df.groupby(\"SEX\") "
   ]
  },
  {
   "cell_type": "code",
   "execution_count": 4,
   "metadata": {},
   "outputs": [],
   "source": [
    "#T.describe()"
   ]
  },
  {
   "cell_type": "code",
   "execution_count": 5,
   "metadata": {},
   "outputs": [
    {
     "data": {
      "text/html": [
       "<div>\n",
       "<style scoped>\n",
       "    .dataframe tbody tr th:only-of-type {\n",
       "        vertical-align: middle;\n",
       "    }\n",
       "\n",
       "    .dataframe tbody tr th {\n",
       "        vertical-align: top;\n",
       "    }\n",
       "\n",
       "    .dataframe thead th {\n",
       "        text-align: right;\n",
       "    }\n",
       "</style>\n",
       "<table border=\"1\" class=\"dataframe\">\n",
       "  <thead>\n",
       "    <tr style=\"text-align: right;\">\n",
       "      <th></th>\n",
       "      <th>LIMIT_BAL_US</th>\n",
       "      <th>SEX</th>\n",
       "      <th>EDUCATION</th>\n",
       "      <th>MARRIAGE</th>\n",
       "      <th>AGE</th>\n",
       "      <th>PAY_SCORE_AVG</th>\n",
       "      <th>BILL_AVG_US</th>\n",
       "      <th>PAY_AMT_AVG_US</th>\n",
       "      <th>PAY_TO_BILL</th>\n",
       "      <th>CREDIT_UTILIZATION</th>\n",
       "      <th>DEFAULT_PAYMENT_NEXT_MO</th>\n",
       "    </tr>\n",
       "  </thead>\n",
       "  <tbody>\n",
       "    <tr>\n",
       "      <th>29995</th>\n",
       "      <td>7982.857143</td>\n",
       "      <td>1</td>\n",
       "      <td>3</td>\n",
       "      <td>1</td>\n",
       "      <td>39</td>\n",
       "      <td>0.00</td>\n",
       "      <td>4386.634429</td>\n",
       "      <td>257.326190</td>\n",
       "      <td>0.06</td>\n",
       "      <td>0.858855</td>\n",
       "      <td>0</td>\n",
       "    </tr>\n",
       "    <tr>\n",
       "      <th>29996</th>\n",
       "      <td>5442.857143</td>\n",
       "      <td>1</td>\n",
       "      <td>3</td>\n",
       "      <td>2</td>\n",
       "      <td>43</td>\n",
       "      <td>-0.67</td>\n",
       "      <td>128.100667</td>\n",
       "      <td>87.630000</td>\n",
       "      <td>0.68</td>\n",
       "      <td>0.011220</td>\n",
       "      <td>0</td>\n",
       "    </tr>\n",
       "    <tr>\n",
       "      <th>29997</th>\n",
       "      <td>1088.571429</td>\n",
       "      <td>1</td>\n",
       "      <td>2</td>\n",
       "      <td>2</td>\n",
       "      <td>37</td>\n",
       "      <td>1.33</td>\n",
       "      <td>426.332952</td>\n",
       "      <td>189.290476</td>\n",
       "      <td>0.44</td>\n",
       "      <td>0.118833</td>\n",
       "      <td>1</td>\n",
       "    </tr>\n",
       "    <tr>\n",
       "      <th>29998</th>\n",
       "      <td>2902.857143</td>\n",
       "      <td>1</td>\n",
       "      <td>3</td>\n",
       "      <td>1</td>\n",
       "      <td>41</td>\n",
       "      <td>-0.17</td>\n",
       "      <td>1612.361762</td>\n",
       "      <td>890.094619</td>\n",
       "      <td>0.55</td>\n",
       "      <td>-0.020563</td>\n",
       "      <td>1</td>\n",
       "    </tr>\n",
       "    <tr>\n",
       "      <th>29999</th>\n",
       "      <td>1814.285714</td>\n",
       "      <td>1</td>\n",
       "      <td>2</td>\n",
       "      <td>1</td>\n",
       "      <td>46</td>\n",
       "      <td>0.00</td>\n",
       "      <td>1396.238000</td>\n",
       "      <td>50.243619</td>\n",
       "      <td>0.04</td>\n",
       "      <td>0.958580</td>\n",
       "      <td>1</td>\n",
       "    </tr>\n",
       "  </tbody>\n",
       "</table>\n",
       "</div>"
      ],
      "text/plain": [
       "       LIMIT_BAL_US  SEX  EDUCATION  MARRIAGE  AGE  PAY_SCORE_AVG  \\\n",
       "29995   7982.857143    1          3         1   39           0.00   \n",
       "29996   5442.857143    1          3         2   43          -0.67   \n",
       "29997   1088.571429    1          2         2   37           1.33   \n",
       "29998   2902.857143    1          3         1   41          -0.17   \n",
       "29999   1814.285714    1          2         1   46           0.00   \n",
       "\n",
       "       BILL_AVG_US  PAY_AMT_AVG_US  PAY_TO_BILL  CREDIT_UTILIZATION  \\\n",
       "29995  4386.634429      257.326190         0.06            0.858855   \n",
       "29996   128.100667       87.630000         0.68            0.011220   \n",
       "29997   426.332952      189.290476         0.44            0.118833   \n",
       "29998  1612.361762      890.094619         0.55           -0.020563   \n",
       "29999  1396.238000       50.243619         0.04            0.958580   \n",
       "\n",
       "       DEFAULT_PAYMENT_NEXT_MO  \n",
       "29995                        0  \n",
       "29996                        0  \n",
       "29997                        1  \n",
       "29998                        1  \n",
       "29999                        1  "
      ]
     },
     "execution_count": 5,
     "metadata": {},
     "output_type": "execute_result"
    }
   ],
   "source": [
    "df.tail()"
   ]
  },
  {
   "cell_type": "code",
   "execution_count": 6,
   "metadata": {},
   "outputs": [
    {
     "data": {
      "text/plain": [
       "1814.285714"
      ]
     },
     "execution_count": 6,
     "metadata": {},
     "output_type": "execute_result"
    }
   ],
   "source": [
    "# X = df.drop('Y_Value',axis =1).values\n",
    "# y = df['Y_Value'].values\n",
    "X = df.drop('DEFAULT_PAYMENT_NEXT_MO',axis =1).values\n",
    "X[2999,0]"
   ]
  },
  {
   "cell_type": "code",
   "execution_count": 7,
   "metadata": {},
   "outputs": [
    {
     "data": {
      "text/plain": [
       "(30000, 10)"
      ]
     },
     "execution_count": 7,
     "metadata": {},
     "output_type": "execute_result"
    }
   ],
   "source": [
    "X.shape"
   ]
  },
  {
   "cell_type": "code",
   "execution_count": 8,
   "metadata": {},
   "outputs": [],
   "source": [
    "y = df['DEFAULT_PAYMENT_NEXT_MO'].values\n",
    "#y.reshape(-1,1)"
   ]
  },
  {
   "cell_type": "code",
   "execution_count": 9,
   "metadata": {},
   "outputs": [
    {
     "data": {
      "text/plain": [
       "(30000, 10)"
      ]
     },
     "execution_count": 9,
     "metadata": {},
     "output_type": "execute_result"
    }
   ],
   "source": [
    "#print(X.shape)\n",
    "X.shape"
   ]
  },
  {
   "cell_type": "code",
   "execution_count": 10,
   "metadata": {},
   "outputs": [
    {
     "data": {
      "text/plain": [
       "(30000,)"
      ]
     },
     "execution_count": 10,
     "metadata": {},
     "output_type": "execute_result"
    }
   ],
   "source": [
    "#print(y.shape)\n",
    "y.shape"
   ]
  },
  {
   "cell_type": "code",
   "execution_count": 11,
   "metadata": {},
   "outputs": [],
   "source": [
    "X_train, X_test, y_train, y_test = train_test_split (X,y,test_size=0.3, random_state=42)"
   ]
  },
  {
   "cell_type": "code",
   "execution_count": 12,
   "metadata": {},
   "outputs": [
    {
     "data": {
      "text/plain": [
       "array([0, 0, 0, ..., 0, 0, 0], dtype=int64)"
      ]
     },
     "execution_count": 12,
     "metadata": {},
     "output_type": "execute_result"
    }
   ],
   "source": [
    "y_test.T"
   ]
  },
  {
   "cell_type": "code",
   "execution_count": 13,
   "metadata": {},
   "outputs": [
    {
     "data": {
      "text/plain": [
       "(9000, 10)"
      ]
     },
     "execution_count": 13,
     "metadata": {},
     "output_type": "execute_result"
    }
   ],
   "source": [
    "X_test.shape"
   ]
  },
  {
   "cell_type": "code",
   "execution_count": 14,
   "metadata": {},
   "outputs": [],
   "source": [
    "from sklearn.preprocessing import StandardScaler\n",
    "\n",
    "X_scaler = StandardScaler().fit(X_train)"
   ]
  },
  {
   "cell_type": "code",
   "execution_count": 15,
   "metadata": {},
   "outputs": [
    {
     "data": {
      "text/plain": [
       "StandardScaler()"
      ]
     },
     "execution_count": 15,
     "metadata": {},
     "output_type": "execute_result"
    }
   ],
   "source": [
    "X_scaler"
   ]
  },
  {
   "cell_type": "code",
   "execution_count": 16,
   "metadata": {},
   "outputs": [],
   "source": [
    "X_train_scaled = X_scaler.transform(X_train)\n",
    "X_test_scaled = X_scaler.transform(X_test)"
   ]
  },
  {
   "cell_type": "code",
   "execution_count": 17,
   "metadata": {},
   "outputs": [
    {
     "data": {
      "text/plain": [
       "array([[ 0.56391448,  0.80648893, -1.07681763, ..., -0.49741723,\n",
       "         0.09035743, -1.02549459],\n",
       "       [-0.90610925,  0.80648893, -1.07681763, ..., -0.13590122,\n",
       "         0.08737206, -0.85894506],\n",
       "       [-0.90610925,  0.80648893,  0.18648797, ..., -0.33785543,\n",
       "        -0.05294013,  1.2179713 ],\n",
       "       ...,\n",
       "       [-0.90610925, -1.23994262, -1.07681763, ..., -0.49741723,\n",
       "         0.09035743, -1.02549459],\n",
       "       [-0.75136991,  0.80648893,  0.18648797, ..., -0.31133477,\n",
       "        -0.05294013,  1.53895893],\n",
       "       [-0.05504288,  0.80648893,  0.18648797, ..., -0.11985747,\n",
       "         0.10229889, -1.02579807]])"
      ]
     },
     "execution_count": 17,
     "metadata": {},
     "output_type": "execute_result"
    }
   ],
   "source": [
    "X_train_scaled"
   ]
  },
  {
   "cell_type": "code",
   "execution_count": 18,
   "metadata": {},
   "outputs": [],
   "source": [
    "y_train_categorical = to_categorical(y_train)\n",
    "y_test_categorical = to_categorical(y_test)"
   ]
  },
  {
   "cell_type": "code",
   "execution_count": 19,
   "metadata": {},
   "outputs": [],
   "source": [
    "from keras.models import Sequential\n",
    "\n",
    "#instantiate\n",
    "model = Sequential()"
   ]
  },
  {
   "cell_type": "code",
   "execution_count": 20,
   "metadata": {},
   "outputs": [],
   "source": [
    "from keras.layers import Dense\n",
    "\n",
    "number_inputs = 10\n",
    "number_hidden = 25 # Best model 30\n",
    "\n",
    "model.add(Dense(units = number_hidden, activation ='relu', input_dim=number_inputs))\n",
    "model.add(Dense(units = 35, activation ='relu')) #second hidden layer\n",
    "model.add(Dense(units = 25, activation ='relu')) #second hidden layer\n",
    "model.add(Dense(units = 15, activation ='relu')) #second hidden layer\n",
    "model.add(Dense(units = 10, activation ='relu')) #third hidden layer\n",
    "model.add(Dense(units = 7, activation ='relu')) #third hidden layer\n",
    "model.add(Dense(units = 5, activation ='relu')) #third hidden layer"
   ]
  },
  {
   "cell_type": "code",
   "execution_count": 21,
   "metadata": {},
   "outputs": [],
   "source": [
    "number_classes =2 ## yes or no\n",
    "model.add(Dense(units = number_classes, activation = 'sigmoid'))"
   ]
  },
  {
   "cell_type": "code",
   "execution_count": 22,
   "metadata": {},
   "outputs": [
    {
     "name": "stdout",
     "output_type": "stream",
     "text": [
      "Model: \"sequential_1\"\n",
      "_________________________________________________________________\n",
      "Layer (type)                 Output Shape              Param #   \n",
      "=================================================================\n",
      "dense_1 (Dense)              (None, 25)                275       \n",
      "_________________________________________________________________\n",
      "dense_2 (Dense)              (None, 35)                910       \n",
      "_________________________________________________________________\n",
      "dense_3 (Dense)              (None, 25)                900       \n",
      "_________________________________________________________________\n",
      "dense_4 (Dense)              (None, 15)                390       \n",
      "_________________________________________________________________\n",
      "dense_5 (Dense)              (None, 10)                160       \n",
      "_________________________________________________________________\n",
      "dense_6 (Dense)              (None, 7)                 77        \n",
      "_________________________________________________________________\n",
      "dense_7 (Dense)              (None, 5)                 40        \n",
      "_________________________________________________________________\n",
      "dense_8 (Dense)              (None, 2)                 12        \n",
      "=================================================================\n",
      "Total params: 2,764\n",
      "Trainable params: 2,764\n",
      "Non-trainable params: 0\n",
      "_________________________________________________________________\n"
     ]
    }
   ],
   "source": [
    "model.summary()"
   ]
  },
  {
   "cell_type": "code",
   "execution_count": 23,
   "metadata": {},
   "outputs": [],
   "source": [
    "#compile the model\n",
    "model.compile(optimizer = 'sgd' ,\n",
    "             loss = 'categorical_crossentropy',\n",
    "             metrics =['accuracy'])"
   ]
  },
  {
   "cell_type": "code",
   "execution_count": 24,
   "metadata": {},
   "outputs": [
    {
     "name": "stdout",
     "output_type": "stream",
     "text": [
      "Epoch 1/150\n",
      " - 1s - loss: 0.5660 - accuracy: 0.7772\n",
      "Epoch 2/150\n",
      " - 1s - loss: 0.5248 - accuracy: 0.7773\n",
      "Epoch 3/150\n",
      " - 1s - loss: 0.5177 - accuracy: 0.7773\n",
      "Epoch 4/150\n",
      " - 1s - loss: 0.5087 - accuracy: 0.7773\n",
      "Epoch 5/150\n",
      " - 1s - loss: 0.4992 - accuracy: 0.7773\n",
      "Epoch 6/150\n",
      " - 1s - loss: 0.4901 - accuracy: 0.7773\n",
      "Epoch 7/150\n",
      " - 1s - loss: 0.4812 - accuracy: 0.7773\n",
      "Epoch 8/150\n",
      " - 1s - loss: 0.4741 - accuracy: 0.7773\n",
      "Epoch 9/150\n",
      " - 1s - loss: 0.4688 - accuracy: 0.7773\n",
      "Epoch 10/150\n",
      " - 1s - loss: 0.4651 - accuracy: 0.7907\n",
      "Epoch 11/150\n",
      " - 1s - loss: 0.4617 - accuracy: 0.8060\n",
      "Epoch 12/150\n",
      " - 1s - loss: 0.4591 - accuracy: 0.8060\n",
      "Epoch 13/150\n",
      " - 1s - loss: 0.4571 - accuracy: 0.8060\n",
      "Epoch 14/150\n",
      " - 1s - loss: 0.4553 - accuracy: 0.8053\n",
      "Epoch 15/150\n",
      " - 1s - loss: 0.4539 - accuracy: 0.8059\n",
      "Epoch 16/150\n",
      " - 1s - loss: 0.4529 - accuracy: 0.8050\n",
      "Epoch 17/150\n",
      " - 1s - loss: 0.4519 - accuracy: 0.8050\n",
      "Epoch 18/150\n",
      " - 1s - loss: 0.4513 - accuracy: 0.8059\n",
      "Epoch 19/150\n",
      " - 1s - loss: 0.4501 - accuracy: 0.8056\n",
      "Epoch 20/150\n",
      " - 1s - loss: 0.4497 - accuracy: 0.8054\n",
      "Epoch 21/150\n",
      " - 1s - loss: 0.4487 - accuracy: 0.8049\n",
      "Epoch 22/150\n",
      " - 1s - loss: 0.4485 - accuracy: 0.8055\n",
      "Epoch 23/150\n",
      " - 1s - loss: 0.4478 - accuracy: 0.8051\n",
      "Epoch 24/150\n",
      " - 1s - loss: 0.4472 - accuracy: 0.8060\n",
      "Epoch 25/150\n",
      " - 1s - loss: 0.4467 - accuracy: 0.8055\n",
      "Epoch 26/150\n",
      " - 1s - loss: 0.4463 - accuracy: 0.8050\n",
      "Epoch 27/150\n",
      " - 1s - loss: 0.4456 - accuracy: 0.8054\n",
      "Epoch 28/150\n",
      " - 1s - loss: 0.4455 - accuracy: 0.8053\n",
      "Epoch 29/150\n",
      " - 1s - loss: 0.4452 - accuracy: 0.8058\n",
      "Epoch 30/150\n",
      " - 1s - loss: 0.4449 - accuracy: 0.8060\n",
      "Epoch 31/150\n",
      " - 1s - loss: 0.4445 - accuracy: 0.8054\n",
      "Epoch 32/150\n",
      " - 1s - loss: 0.4443 - accuracy: 0.8055\n",
      "Epoch 33/150\n",
      " - 1s - loss: 0.4436 - accuracy: 0.8057\n",
      "Epoch 34/150\n",
      " - 1s - loss: 0.4436 - accuracy: 0.8052\n",
      "Epoch 35/150\n",
      " - 1s - loss: 0.4432 - accuracy: 0.8055\n",
      "Epoch 36/150\n",
      " - 1s - loss: 0.4430 - accuracy: 0.8058\n",
      "Epoch 37/150\n",
      " - 1s - loss: 0.4426 - accuracy: 0.8057\n",
      "Epoch 38/150\n",
      " - 1s - loss: 0.4423 - accuracy: 0.8052\n",
      "Epoch 39/150\n",
      " - 1s - loss: 0.4426 - accuracy: 0.8059\n",
      "Epoch 40/150\n",
      " - 1s - loss: 0.4419 - accuracy: 0.8062\n",
      "Epoch 41/150\n",
      " - 1s - loss: 0.4418 - accuracy: 0.8064\n",
      "Epoch 42/150\n",
      " - 1s - loss: 0.4411 - accuracy: 0.8059\n",
      "Epoch 43/150\n",
      " - 1s - loss: 0.4413 - accuracy: 0.8057\n",
      "Epoch 44/150\n",
      " - 1s - loss: 0.4412 - accuracy: 0.8058\n",
      "Epoch 45/150\n",
      " - 1s - loss: 0.4410 - accuracy: 0.8056\n",
      "Epoch 46/150\n",
      " - 1s - loss: 0.4408 - accuracy: 0.8055\n",
      "Epoch 47/150\n",
      " - 1s - loss: 0.4406 - accuracy: 0.8060\n",
      "Epoch 48/150\n",
      " - 1s - loss: 0.4401 - accuracy: 0.8070\n",
      "Epoch 49/150\n",
      " - 1s - loss: 0.4400 - accuracy: 0.8066\n",
      "Epoch 50/150\n",
      " - 1s - loss: 0.4399 - accuracy: 0.8073\n",
      "Epoch 51/150\n",
      " - 1s - loss: 0.4394 - accuracy: 0.8058\n",
      "Epoch 52/150\n",
      " - 1s - loss: 0.4394 - accuracy: 0.8068\n",
      "Epoch 53/150\n",
      " - 1s - loss: 0.4391 - accuracy: 0.8070\n",
      "Epoch 54/150\n",
      " - 1s - loss: 0.4390 - accuracy: 0.8074\n",
      "Epoch 55/150\n",
      " - 1s - loss: 0.4386 - accuracy: 0.8062\n",
      "Epoch 56/150\n",
      " - 1s - loss: 0.4387 - accuracy: 0.8064\n",
      "Epoch 57/150\n",
      " - 1s - loss: 0.4385 - accuracy: 0.8057\n",
      "Epoch 58/150\n",
      " - 1s - loss: 0.4379 - accuracy: 0.8066\n",
      "Epoch 59/150\n",
      " - 1s - loss: 0.4373 - accuracy: 0.8065\n",
      "Epoch 60/150\n",
      " - 1s - loss: 0.4381 - accuracy: 0.8058\n",
      "Epoch 61/150\n",
      " - 1s - loss: 0.4375 - accuracy: 0.8066\n",
      "Epoch 62/150\n",
      " - 1s - loss: 0.4371 - accuracy: 0.8064\n",
      "Epoch 63/150\n",
      " - 1s - loss: 0.4370 - accuracy: 0.8065\n",
      "Epoch 64/150\n",
      " - 1s - loss: 0.4368 - accuracy: 0.8066\n",
      "Epoch 65/150\n",
      " - 1s - loss: 0.4369 - accuracy: 0.8067\n",
      "Epoch 66/150\n",
      " - 1s - loss: 0.4363 - accuracy: 0.8068\n",
      "Epoch 67/150\n",
      " - 1s - loss: 0.4365 - accuracy: 0.8074\n",
      "Epoch 68/150\n",
      " - 1s - loss: 0.4360 - accuracy: 0.8060\n",
      "Epoch 69/150\n",
      " - 1s - loss: 0.4359 - accuracy: 0.8073\n",
      "Epoch 70/150\n",
      " - 1s - loss: 0.4362 - accuracy: 0.8059\n",
      "Epoch 71/150\n",
      " - 1s - loss: 0.4357 - accuracy: 0.8073\n",
      "Epoch 72/150\n",
      " - 1s - loss: 0.4357 - accuracy: 0.8062\n",
      "Epoch 73/150\n",
      " - 1s - loss: 0.4352 - accuracy: 0.8075\n",
      "Epoch 74/150\n",
      " - 1s - loss: 0.4354 - accuracy: 0.8060\n",
      "Epoch 75/150\n",
      " - 1s - loss: 0.4350 - accuracy: 0.8070\n",
      "Epoch 76/150\n",
      " - 1s - loss: 0.4350 - accuracy: 0.8061\n",
      "Epoch 77/150\n",
      " - 1s - loss: 0.4347 - accuracy: 0.8065\n",
      "Epoch 78/150\n",
      " - 1s - loss: 0.4340 - accuracy: 0.8067\n",
      "Epoch 79/150\n",
      " - 1s - loss: 0.4346 - accuracy: 0.8072\n",
      "Epoch 80/150\n",
      " - 1s - loss: 0.4341 - accuracy: 0.8069\n",
      "Epoch 81/150\n",
      " - 1s - loss: 0.4337 - accuracy: 0.8077\n",
      "Epoch 82/150\n",
      " - 1s - loss: 0.4348 - accuracy: 0.8069\n",
      "Epoch 83/150\n",
      " - 1s - loss: 0.4338 - accuracy: 0.8069\n",
      "Epoch 84/150\n",
      " - 1s - loss: 0.4338 - accuracy: 0.8066\n",
      "Epoch 85/150\n",
      " - 1s - loss: 0.4334 - accuracy: 0.8070\n",
      "Epoch 86/150\n",
      " - 1s - loss: 0.4333 - accuracy: 0.8068\n",
      "Epoch 87/150\n",
      " - 1s - loss: 0.4334 - accuracy: 0.8080\n",
      "Epoch 88/150\n",
      " - 1s - loss: 0.4333 - accuracy: 0.8068\n",
      "Epoch 89/150\n",
      " - 1s - loss: 0.4328 - accuracy: 0.8081\n",
      "Epoch 90/150\n",
      " - 1s - loss: 0.4328 - accuracy: 0.8078\n",
      "Epoch 91/150\n",
      " - 1s - loss: 0.4327 - accuracy: 0.8078\n",
      "Epoch 92/150\n",
      " - 1s - loss: 0.4323 - accuracy: 0.8077\n",
      "Epoch 93/150\n",
      " - 1s - loss: 0.4329 - accuracy: 0.8080\n",
      "Epoch 94/150\n",
      " - 1s - loss: 0.4314 - accuracy: 0.8071\n",
      "Epoch 95/150\n",
      " - 1s - loss: 0.4322 - accuracy: 0.8070\n",
      "Epoch 96/150\n",
      " - 1s - loss: 0.4323 - accuracy: 0.8080\n",
      "Epoch 97/150\n",
      " - 1s - loss: 0.4319 - accuracy: 0.8073\n",
      "Epoch 98/150\n",
      " - 1s - loss: 0.4319 - accuracy: 0.8078\n",
      "Epoch 99/150\n",
      " - 1s - loss: 0.4313 - accuracy: 0.8079\n",
      "Epoch 100/150\n",
      " - 1s - loss: 0.4312 - accuracy: 0.8079\n",
      "Epoch 101/150\n",
      " - 1s - loss: 0.4314 - accuracy: 0.8074\n",
      "Epoch 102/150\n",
      " - 1s - loss: 0.4309 - accuracy: 0.8076\n",
      "Epoch 103/150\n",
      " - 1s - loss: 0.4306 - accuracy: 0.8083\n",
      "Epoch 104/150\n",
      " - 1s - loss: 0.4310 - accuracy: 0.8082\n",
      "Epoch 105/150\n",
      " - 1s - loss: 0.4305 - accuracy: 0.8082\n",
      "Epoch 106/150\n",
      " - 1s - loss: 0.4300 - accuracy: 0.8087\n",
      "Epoch 107/150\n",
      " - 1s - loss: 0.4301 - accuracy: 0.8082\n",
      "Epoch 108/150\n",
      " - 1s - loss: 0.4302 - accuracy: 0.8078\n",
      "Epoch 109/150\n",
      " - 1s - loss: 0.4300 - accuracy: 0.8080\n",
      "Epoch 110/150\n",
      " - 1s - loss: 0.4293 - accuracy: 0.8081\n",
      "Epoch 111/150\n",
      " - 1s - loss: 0.4296 - accuracy: 0.8087\n",
      "Epoch 112/150\n",
      " - 1s - loss: 0.4294 - accuracy: 0.8094\n",
      "Epoch 113/150\n",
      " - 1s - loss: 0.4289 - accuracy: 0.8081\n",
      "Epoch 114/150\n",
      " - 1s - loss: 0.4289 - accuracy: 0.8089\n",
      "Epoch 115/150\n",
      " - 1s - loss: 0.4290 - accuracy: 0.8086\n",
      "Epoch 116/150\n",
      " - 1s - loss: 0.4288 - accuracy: 0.8080\n",
      "Epoch 117/150\n",
      " - 1s - loss: 0.4285 - accuracy: 0.8079\n",
      "Epoch 118/150\n",
      " - 1s - loss: 0.4284 - accuracy: 0.8084\n",
      "Epoch 119/150\n",
      " - 1s - loss: 0.4282 - accuracy: 0.8088\n",
      "Epoch 120/150\n",
      " - 1s - loss: 0.4284 - accuracy: 0.8089\n",
      "Epoch 121/150\n",
      " - 1s - loss: 0.4284 - accuracy: 0.8089\n",
      "Epoch 122/150\n",
      " - 1s - loss: 0.4275 - accuracy: 0.8084\n",
      "Epoch 123/150\n",
      " - 1s - loss: 0.4275 - accuracy: 0.8084\n",
      "Epoch 124/150\n",
      " - 1s - loss: 0.4273 - accuracy: 0.8088\n",
      "Epoch 125/150\n",
      " - 1s - loss: 0.4268 - accuracy: 0.8087\n",
      "Epoch 126/150\n",
      " - 1s - loss: 0.4272 - accuracy: 0.8099\n",
      "Epoch 127/150\n",
      " - 1s - loss: 0.4272 - accuracy: 0.8091\n",
      "Epoch 128/150\n",
      " - 1s - loss: 0.4267 - accuracy: 0.8100\n",
      "Epoch 129/150\n",
      " - 1s - loss: 0.4265 - accuracy: 0.8096\n",
      "Epoch 130/150\n",
      " - 1s - loss: 0.4262 - accuracy: 0.8090\n",
      "Epoch 131/150\n",
      " - 1s - loss: 0.4269 - accuracy: 0.8096\n",
      "Epoch 132/150\n",
      " - 1s - loss: 0.4266 - accuracy: 0.8086\n",
      "Epoch 133/150\n",
      " - 1s - loss: 0.4263 - accuracy: 0.8105\n",
      "Epoch 134/150\n",
      " - 1s - loss: 0.4260 - accuracy: 0.8090\n",
      "Epoch 135/150\n",
      " - 1s - loss: 0.4255 - accuracy: 0.8088\n",
      "Epoch 136/150\n",
      " - 1s - loss: 0.4259 - accuracy: 0.8079\n",
      "Epoch 137/150\n",
      " - 1s - loss: 0.4254 - accuracy: 0.8098\n",
      "Epoch 138/150\n",
      " - 1s - loss: 0.4252 - accuracy: 0.8113\n",
      "Epoch 139/150\n",
      " - 1s - loss: 0.4248 - accuracy: 0.8090\n",
      "Epoch 140/150\n",
      " - 1s - loss: 0.4247 - accuracy: 0.8100\n",
      "Epoch 141/150\n",
      " - 1s - loss: 0.4246 - accuracy: 0.8094\n",
      "Epoch 142/150\n",
      " - 1s - loss: 0.4248 - accuracy: 0.8096\n",
      "Epoch 143/150\n",
      " - 1s - loss: 0.4238 - accuracy: 0.8105\n",
      "Epoch 144/150\n",
      " - 1s - loss: 0.4242 - accuracy: 0.8096\n",
      "Epoch 145/150\n",
      " - 1s - loss: 0.4238 - accuracy: 0.8100\n",
      "Epoch 146/150\n",
      " - 1s - loss: 0.4239 - accuracy: 0.8090\n",
      "Epoch 147/150\n",
      " - 1s - loss: 0.4240 - accuracy: 0.8115\n",
      "Epoch 148/150\n",
      " - 1s - loss: 0.4238 - accuracy: 0.8104\n",
      "Epoch 149/150\n",
      " - 1s - loss: 0.4236 - accuracy: 0.8104\n",
      "Epoch 150/150\n",
      " - 1s - loss: 0.4233 - accuracy: 0.8096\n"
     ]
    },
    {
     "data": {
      "text/plain": [
       "<keras.callbacks.callbacks.History at 0x2aa14247608>"
      ]
     },
     "execution_count": 24,
     "metadata": {},
     "output_type": "execute_result"
    }
   ],
   "source": [
    "#train the model\n",
    "\n",
    "model.fit(X_train_scaled, y_train_categorical, epochs=150,shuffle = True,verbose =2)"
   ]
  },
  {
   "cell_type": "code",
   "execution_count": 25,
   "metadata": {},
   "outputs": [],
   "source": [
    "model.save(\"ccneuralnetwork.h5\")"
   ]
  },
  {
   "cell_type": "code",
   "execution_count": 26,
   "metadata": {},
   "outputs": [
    {
     "name": "stdout",
     "output_type": "stream",
     "text": [
      "0.4560965924263001\n",
      "0.801111102104187\n"
     ]
    }
   ],
   "source": [
    "#quantify the model\n",
    "model_loss, model_accuracy = model.evaluate(X_test_scaled,y_test_categorical,verbose =2)\n",
    "print( model_loss )\n",
    "print (model_accuracy)"
   ]
  },
  {
   "cell_type": "markdown",
   "metadata": {},
   "source": [
    "F1, Precision Recall, and Confusion Matrix"
   ]
  },
  {
   "cell_type": "code",
   "execution_count": 27,
   "metadata": {},
   "outputs": [],
   "source": [
    "from sklearn.metrics import precision_recall_fscore_support\n",
    "from sklearn.metrics import recall_score\n",
    "from sklearn.metrics import classification_report"
   ]
  },
  {
   "cell_type": "code",
   "execution_count": 28,
   "metadata": {},
   "outputs": [],
   "source": [
    "y_prediction = model.predict_classes(X_test)"
   ]
  },
  {
   "cell_type": "code",
   "execution_count": 29,
   "metadata": {},
   "outputs": [
    {
     "data": {
      "text/plain": [
       "array([[0],\n",
       "       [0],\n",
       "       [0],\n",
       "       ...,\n",
       "       [0],\n",
       "       [0],\n",
       "       [0]], dtype=int64)"
      ]
     },
     "execution_count": 29,
     "metadata": {},
     "output_type": "execute_result"
    }
   ],
   "source": [
    "y_prediction.reshape(-1,1)"
   ]
  },
  {
   "cell_type": "code",
   "execution_count": 30,
   "metadata": {},
   "outputs": [
    {
     "name": "stdout",
     "output_type": "stream",
     "text": [
      "Recall score:0.0005102040816326531\n"
     ]
    }
   ],
   "source": [
    "print(\"Recall score:\"+ str(recall_score(y_test, y_prediction)))"
   ]
  },
  {
   "cell_type": "code",
   "execution_count": 31,
   "metadata": {},
   "outputs": [
    {
     "name": "stdout",
     "output_type": "stream",
     "text": [
      "              precision    recall  f1-score   support\n",
      "\n",
      "     default       0.78      1.00      0.88      7040\n",
      " non_default       0.17      0.00      0.00      1960\n",
      "\n",
      "    accuracy                           0.78      9000\n",
      "   macro avg       0.47      0.50      0.44      9000\n",
      "weighted avg       0.65      0.78      0.69      9000\n",
      "\n"
     ]
    }
   ],
   "source": [
    "print(classification_report(y_test, y_prediction,\n",
    "                            target_names=[\"default\", \"non_default\"]))"
   ]
  },
  {
   "cell_type": "code",
   "execution_count": 32,
   "metadata": {},
   "outputs": [],
   "source": [
    "import itertools\n",
    "import matplotlib.pyplot as plt\n",
    "from sklearn.metrics import confusion_matrix"
   ]
  },
  {
   "cell_type": "code",
   "execution_count": 33,
   "metadata": {},
   "outputs": [
    {
     "name": "stdout",
     "output_type": "stream",
     "text": [
      "Confusion matrix, without normalization\n",
      "[[7035    5]\n",
      " [1959    1]]\n",
      "Normalized confusion matrix\n",
      "[[9.99e-01 7.10e-04]\n",
      " [9.99e-01 5.10e-04]]\n"
     ]
    },
    {
     "data": {
      "image/png": "[encoded data removed]",
      "text/plain": [
       "<Figure size 432x288 with 2 Axes>"
      ]
     },
     "metadata": {
      "needs_background": "light"
     },
     "output_type": "display_data"
    },
    {
     "data": {
      "image/png": "[encoded data removed]",
      "text/plain": [
       "<Figure size 432x288 with 2 Axes>"
      ]
     },
     "metadata": {
      "needs_background": "light"
     },
     "output_type": "display_data"
    }
   ],
   "source": [
    "def plot_confusion_matrix(cm, classes,\n",
    "                          normalize=False,\n",
    "                          title='Confusion matrix',\n",
    "                          cmap=plt.cm.Blues):\n",
    "    \"\"\"\n",
    "    This function prints and plots the confusion matrix.\n",
    "    Normalization can be applied by setting `normalize=True`.\n",
    "    \"\"\"\n",
    "    if normalize:\n",
    "        cm = cm.astype('float') / cm.sum(axis=1)[:, np.newaxis]\n",
    "        print(\"Normalized confusion matrix\")\n",
    "    else:\n",
    "        print('Confusion matrix, without normalization')\n",
    "\n",
    "    print(cm)\n",
    "\n",
    "    plt.imshow(cm, interpolation='nearest', cmap=cmap)\n",
    "    plt.title(title)\n",
    "    plt.colorbar()\n",
    "    tick_marks = np.arange(len(classes))\n",
    "    plt.xticks(tick_marks, classes, rotation=45)\n",
    "    plt.yticks(tick_marks, classes)\n",
    "\n",
    "    fmt = '.2f' if normalize else 'd'\n",
    "    thresh = cm.max() / 2.\n",
    "    for i, j in itertools.product(range(cm.shape[0]), range(cm.shape[1])):\n",
    "        plt.text(j, i, format(cm[i, j], fmt),\n",
    "                 horizontalalignment=\"center\",\n",
    "                 color=\"red\" if cm[i, j] > thresh else \"black\")\n",
    "\n",
    "    plt.tight_layout()\n",
    "    plt.ylabel('True label')\n",
    "    plt.xlabel('Predicted label')\n",
    "\n",
    "# Compute confusion matrix\n",
    "cnf_matrix = confusion_matrix(y_test, y_prediction)\n",
    "np.set_printoptions(precision=2)\n",
    "\n",
    "# Plot non-normalized confusion matrix\n",
    "plt.figure()\n",
    "plot_confusion_matrix(cnf_matrix, classes=['Non_defualt', 'Default'],\n",
    "                      title='Confusion matrix, without normalization')\n",
    "\n",
    "# Plot normalized confusion matrix\n",
    "plt.figure()\n",
    "plot_confusion_matrix(cnf_matrix, classes=['Non_defualt', 'Default'], normalize=True,\n",
    "                      title='Normalized confusion matrix')\n",
    "\n",
    "plt.show()"
   ]
  },
  {
   "cell_type": "code",
   "execution_count": null,
   "metadata": {
    "collapsed": true,
    "jupyter": {
     "outputs_hidden": true
    }
   },
   "outputs": [],
   "source": []
  }
 ],
 "metadata": {
  "kernelspec": {
   "display_name": "Python 3",
   "language": "python",
   "name": "python3"
  },
  "language_info": {
   "codemirror_mode": {
    "name": "ipython",
    "version": 3
   },
   "file_extension": ".py",
   "mimetype": "text/x-python",
   "name": "python",
   "nbconvert_exporter": "python",
   "pygments_lexer": "ipython3",
   "version": "3.7.6"
  }
 },
 "nbformat": 4,
 "nbformat_minor": 4
}
