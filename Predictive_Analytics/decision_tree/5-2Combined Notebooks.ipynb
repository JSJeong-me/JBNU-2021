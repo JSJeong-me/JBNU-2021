{
 "cells": [
  {
   "cell_type": "markdown",
   "metadata": {},
   "source": [
    "## Combining All ML Models to Compare in ROC Graph"
   ]
  },
  {
   "cell_type": "code",
   "execution_count": 1,
   "metadata": {},
   "outputs": [
    {
     "name": "stderr",
     "output_type": "stream",
     "text": [
      "Using TensorFlow backend.\n"
     ]
    }
   ],
   "source": [
    "# Load dependencies for all models\n",
    "from sklearn.ensemble import RandomForestClassifier\n",
    "from sklearn.model_selection import train_test_split\n",
    "import pandas as pd\n",
    "import numpy as np\n",
    "\n",
    "from keras.models import Sequential\n",
    "from sklearn.preprocessing import StandardScaler\n",
    "from keras.utils import to_categorical\n",
    "from keras.models import Sequential\n",
    "from keras.layers import Dense\n",
    "\n",
    "import matplotlib\n",
    "%matplotlib inline  \n",
    "import matplotlib.pyplot as plt\n",
    "from sklearn.linear_model import LogisticRegression\n",
    "\n",
    "from sklearn.metrics import precision_recall_fscore_support\n",
    "from sklearn.metrics import recall_score\n",
    "from sklearn.metrics import classification_report\n",
    "import pickle\n",
    "\n",
    "from sklearn.metrics import confusion_matrix\n",
    "import itertools\n",
    "\n",
    "from sklearn.metrics import roc_auc_score\n",
    "from sklearn.metrics import roc_curve"
   ]
  },
  {
   "cell_type": "code",
   "execution_count": 2,
   "metadata": {},
   "outputs": [],
   "source": [
    "# import XLS file\n",
    "path1 = \".\\\\credit_cards_dataset.csv\"\n",
    "#data = pd.read_excel(path, skiprows=1) # skip the first row of the spreadsheet\n",
    "\n",
    "path2 = \".\\\\Data_USD.csv\"\n",
    "#path = 'C:\\\\Users\\\\User\\\\Desktop\\\\data\\\\original_data.csv'\n",
    "#data = pd.read_csv(path, skiprows=1) # skip the first row of the spreadsheet\n",
    "data1 = pd.read_csv(path1) # skip the first row of the spreadsheet\n",
    "#data1 = data1.drop('DEFAULT_PAYMENT_NEXT_MO', axis =1).values\n",
    "data2 = pd.read_csv(path2) # skip the first row of the spreadsheet\n",
    "# remove spaces from target column name\n",
    "data2['ID']=np.nan\n",
    "for i in range(0,30000):\n",
    "    data2.loc[i,['ID']]=i+1\n",
    "   \n",
    "\n",
    "data2=data2.drop('DEFAULT_PAYMENT_NEXT_MO', axis =1)\n",
    "#pd.merge(data1, data2, on=\"key\", how=\"outer\")\n",
    "data_sum = pd.merge(data2, data1, on=\"ID\", how=\"left\")\n",
    "\n",
    "data=data_sum"
   ]
  },
  {
   "cell_type": "code",
   "execution_count": 3,
   "metadata": {},
   "outputs": [],
   "source": [
    "#df = pd.read_csv(\".\\\\Data_USD.csv\")\n",
    "df=data_sum"
   ]
  },
  {
   "cell_type": "code",
   "execution_count": 4,
   "metadata": {},
   "outputs": [
    {
     "name": "stdout",
     "output_type": "stream",
     "text": [
      "Original shape of the data: (30000, 35)\n"
     ]
    }
   ],
   "source": [
    "print(\"Original shape of the data: \"+ str(df.shape))\n",
    "features_names = df.columns"
   ]
  },
  {
   "cell_type": "code",
   "execution_count": 5,
   "metadata": {},
   "outputs": [
    {
     "name": "stdout",
     "output_type": "stream",
     "text": [
      "(30000, 34)\n",
      "(30000,)\n"
     ]
    }
   ],
   "source": [
    "#X = df.drop('DEFAULT_PAYMENT_NEXT_MO', axis =1).values\n",
    "X = df.drop('default.payment.next.month', axis =1).values\n",
    "y = df['default.payment.next.month'].values\n",
    "#y = df['DEFAULT_PAYMENT_NEXT_MO'].values\n",
    "print(X.shape)\n",
    "print(y.shape)"
   ]
  },
  {
   "cell_type": "markdown",
   "metadata": {},
   "source": [
    "Split my data into training and testing"
   ]
  },
  {
   "cell_type": "code",
   "execution_count": 6,
   "metadata": {},
   "outputs": [],
   "source": [
    "X_train, X_test, y_train, y_test = train_test_split(X, y, test_size=0.3, random_state=42)"
   ]
  },
  {
   "cell_type": "markdown",
   "metadata": {},
   "source": [
    "## Instantiate the random forest model with 200 trees"
   ]
  },
  {
   "cell_type": "code",
   "execution_count": 7,
   "metadata": {},
   "outputs": [
    {
     "data": {
      "text/plain": [
       "RandomForestClassifier(bootstrap=True, class_weight=None, criterion='gini',\n",
       "                       max_depth=None, max_features='auto', max_leaf_nodes=None,\n",
       "                       min_impurity_decrease=0.0, min_impurity_split=None,\n",
       "                       min_samples_leaf=1, min_samples_split=2,\n",
       "                       min_weight_fraction_leaf=0.0, n_estimators=200,\n",
       "                       n_jobs=None, oob_score=False, random_state=None,\n",
       "                       verbose=0, warm_start=False)"
      ]
     },
     "execution_count": 7,
     "metadata": {},
     "output_type": "execute_result"
    }
   ],
   "source": [
    "rf = RandomForestClassifier(n_estimators=200)\n",
    "rf.fit(X_train, y_train)"
   ]
  },
  {
   "cell_type": "markdown",
   "metadata": {},
   "source": [
    "Check feature importance"
   ]
  },
  {
   "cell_type": "code",
   "execution_count": 8,
   "metadata": {},
   "outputs": [
    {
     "data": {
      "text/plain": [
       "[(0.07280009341141452, 'PAY_0'),\n",
       " (0.06057840273294545, 'PAY_SCORE_AVG'),\n",
       " (0.05139265206005083, 'ID'),\n",
       " (0.042221059181446766, 'CREDIT_UTILIZATION'),\n",
       " (0.04133699086496815, 'PAY_AMT_AVG_US'),\n",
       " (0.03849946557110715, 'BILL_AVG_US'),\n",
       " (0.036592563865973066, 'BILL_AMT1'),\n",
       " (0.03561281942148257, 'PAY_AMT1'),\n",
       " (0.03498401163439897, 'AGE_x'),\n",
       " (0.034854928025817515, 'BILL_AMT2'),\n",
       " (0.034796837636759566, 'AGE_y'),\n",
       " (0.033511718649966, 'BILL_AMT3'),\n",
       " (0.032802365930165354, 'BILL_AMT4'),\n",
       " (0.03270801173111173, 'BILL_AMT6'),\n",
       " (0.03251750125630629, 'PAY_AMT2'),\n",
       " (0.032390347318750054, 'BILL_AMT5'),\n",
       " (0.03161729971068015, 'PAY_AMT3'),\n",
       " (0.03008574286358689, 'LIMIT_BAL_US'),\n",
       " (0.0295962022777276, 'PAY_AMT6'),\n",
       " (0.029174345888908996, 'LIMIT_BAL'),\n",
       " (0.0287918056198175, 'PAY_AMT4'),\n",
       " (0.028530557248106964, 'PAY_AMT5'),\n",
       " (0.026979760159296918, 'PAY_2'),\n",
       " (0.026246379701893217, 'PAY_3'),\n",
       " (0.025959045140593263, 'PAY_TO_BILL'),\n",
       " (0.01771531541052629, 'PAY_4'),\n",
       " (0.014834926847295817, 'PAY_5'),\n",
       " (0.01355034184916701, 'PAY_6'),\n",
       " (0.011027142194501021, 'EDUCATION_y'),\n",
       " (0.0109939475294171, 'EDUCATION_x'),\n",
       " (0.007450777292206073, 'MARRIAGE_y'),\n",
       " (0.007339951269286053, 'MARRIAGE_x'),\n",
       " (0.006432283187302872, 'SEX_x'),\n",
       " (0.006074406517022295, 'SEX_y')]"
      ]
     },
     "execution_count": 8,
     "metadata": {},
     "output_type": "execute_result"
    }
   ],
   "source": [
    "sorted(zip(rf.feature_importances_, features_names), reverse=True) "
   ]
  },
  {
   "cell_type": "code",
   "execution_count": 9,
   "metadata": {},
   "outputs": [
    {
     "data": {
      "image/png": "[encoded data removed]",
      "text/plain": [
       "<Figure size 864x432 with 1 Axes>"
      ]
     },
     "metadata": {
      "needs_background": "light"
     },
     "output_type": "display_data"
    }
   ],
   "source": [
    "## plot the importances ##\n",
    "import matplotlib.pyplot as plt\n",
    "importances = rf.feature_importances_\n",
    "\n",
    "\n",
    "indices = np.argsort(importances)[::-1]\n",
    "plt.figure(figsize=(12,6))\n",
    "plt.title(\"Feature importances by DecisionTreeClassifier\")\n",
    "plt.bar(range(len(indices)), importances[indices], color='lightblue',  align=\"center\")\n",
    "plt.step(range(len(indices)), np.cumsum(importances[indices]), where='mid', label='Cumulative')\n",
    "plt.xticks(range(len(indices)), features_names[indices], rotation='vertical',fontsize=14)\n",
    "plt.xlim([-1, len(indices)])\n",
    "plt.show()"
   ]
  },
  {
   "cell_type": "markdown",
   "metadata": {},
   "source": [
    "Making my prediction and seeing how well my model predicted by checking recall, precision, F1 score and making a confusion matrix.\n",
    "Recall -tells us generally or overall how well our model predicted based on the total of how much it correctly predicted /correctly predicted + how many where actually right but predicted wrong.\n",
    "\n",
    "                    formula = TP/TP+FN\n",
    "Precision -tells us or gives us true measure how well our model predicted it shows correctly predicted /correctly predicted + how many the model predicted to be positive but where false.\n",
    "\n",
    "                   formula = TP/TP+FP\n",
    "F1 score - gives us a mean of precision and recall, a sumarization of how well it did in respect to recall and precision."
   ]
  },
  {
   "cell_type": "code",
   "execution_count": 10,
   "metadata": {},
   "outputs": [],
   "source": [
    "#Make my predictions\n",
    "rf_y_prediction = rf.predict(X_test)"
   ]
  },
  {
   "cell_type": "code",
   "execution_count": 11,
   "metadata": {},
   "outputs": [],
   "source": [
    "rf_roc_auc = roc_auc_score(y_test, rf.predict(X_test))"
   ]
  },
  {
   "cell_type": "code",
   "execution_count": 12,
   "metadata": {},
   "outputs": [
    {
     "name": "stdout",
     "output_type": "stream",
     "text": [
      "              precision    recall  f1-score   support\n",
      "\n",
      " non_default       0.84      0.94      0.89      7040\n",
      "     default       0.64      0.37      0.47      1960\n",
      "\n",
      "    accuracy                           0.82      9000\n",
      "   macro avg       0.74      0.66      0.68      9000\n",
      "weighted avg       0.80      0.82      0.80      9000\n",
      "\n"
     ]
    }
   ],
   "source": [
    "print(classification_report(y_test, rf_y_prediction,\n",
    "                            target_names=[\"non_default\", \"default\"]))"
   ]
  },
  {
   "cell_type": "code",
   "execution_count": 13,
   "metadata": {},
   "outputs": [],
   "source": [
    "def plot_confusion_matrix(cm, classes,\n",
    "                          normalize=False,\n",
    "                          title='Confusion matrix',\n",
    "                          cmap=plt.cm.Blues):\n",
    "    \"\"\"\n",
    "    This function prints and plots the confusion matrix.\n",
    "    Normalization can be applied by setting `normalize=True`.\n",
    "    \"\"\"\n",
    "    if normalize:\n",
    "        cm = cm.astype('float') / cm.sum(axis=1)[:, np.newaxis]\n",
    "        print(\"Normalized confusion matrix\")\n",
    "    else:\n",
    "        print('Confusion matrix, without normalization')\n",
    "\n",
    "    print(cm)\n",
    "\n",
    "    plt.imshow(cm, interpolation='nearest', cmap=cmap)\n",
    "    plt.title(title)\n",
    "    plt.colorbar()\n",
    "    tick_marks = np.arange(len(classes))\n",
    "    plt.xticks(tick_marks, classes, rotation=45)\n",
    "    plt.yticks(tick_marks, classes)\n",
    "\n",
    "    fmt = '.2f' if normalize else 'd'\n",
    "    thresh = cm.max() / 2.\n",
    "    for i, j in itertools.product(range(cm.shape[0]), range(cm.shape[1])):\n",
    "        plt.text(j, i, format(cm[i, j], fmt),\n",
    "                 horizontalalignment=\"center\",\n",
    "                 color=\"white\" if cm[i, j] > thresh else \"black\")\n",
    "\n",
    "    plt.tight_layout()\n",
    "    plt.ylabel('True label')\n",
    "    plt.xlabel('Predicted label')"
   ]
  },
  {
   "cell_type": "code",
   "execution_count": 14,
   "metadata": {},
   "outputs": [
    {
     "name": "stdout",
     "output_type": "stream",
     "text": [
      "Confusion matrix, without normalization\n",
      "[[6641  399]\n",
      " [1241  719]]\n",
      "Normalized confusion matrix\n",
      "[[0.94 0.06]\n",
      " [0.63 0.37]]\n"
     ]
    },
    {
     "data": {
      "image/png": "[encoded data removed]",
      "text/plain": [
       "<Figure size 432x288 with 2 Axes>"
      ]
     },
     "metadata": {
      "needs_background": "light"
     },
     "output_type": "display_data"
    },
    {
     "data": {
      "image/png": "[encoded data removed]",
      "text/plain": [
       "<Figure size 432x288 with 2 Axes>"
      ]
     },
     "metadata": {
      "needs_background": "light"
     },
     "output_type": "display_data"
    }
   ],
   "source": [
    "# Compute confusion matrix\n",
    "cnf_matrix = confusion_matrix(y_test, rf_y_prediction)\n",
    "np.set_printoptions(precision=2)\n",
    "\n",
    "# Plot non-normalized confusion matrix\n",
    "plt.figure()\n",
    "plot_confusion_matrix(cnf_matrix, classes=['non_default', 'default'],\n",
    "                      title='Confusion matrix, without normalization')\n",
    "\n",
    "# Plot normalized confusion matrix\n",
    "plt.figure()\n",
    "plot_confusion_matrix(cnf_matrix, classes=['non_default', 'default'], normalize=True,\n",
    "                      title='Normalized confusion matrix')\n",
    "\n",
    "plt.show()"
   ]
  },
  {
   "cell_type": "markdown",
   "metadata": {},
   "source": [
    "Explanation of this confusion matrix\n",
    "In our confusion matrix, the non-default classification has a total of 2,158 points and defualt clssification has a total of 7,742 points.\n",
    "\n",
    "It correctly identified 7239 points as default and 503 points as non-default.\n",
    "\n",
    "Non_default classification incorectly predicted 1480 points as default and correctly classified 678 points as Non defualt."
   ]
  },
  {
   "cell_type": "markdown",
   "metadata": {},
   "source": [
    "## Launch Neural Network Model"
   ]
  },
  {
   "cell_type": "code",
   "execution_count": 15,
   "metadata": {},
   "outputs": [],
   "source": [
    "X_scaler = StandardScaler().fit(X_train)"
   ]
  },
  {
   "cell_type": "code",
   "execution_count": 16,
   "metadata": {},
   "outputs": [],
   "source": [
    "X_train_scaled = X_scaler.transform(X_train)\n",
    "X_test_scaled = X_scaler.transform(X_test)"
   ]
  },
  {
   "cell_type": "code",
   "execution_count": 17,
   "metadata": {},
   "outputs": [],
   "source": [
    "y_train_categorical = to_categorical(y_train)\n",
    "y_test_categorical = to_categorical(y_test)"
   ]
  },
  {
   "cell_type": "code",
   "execution_count": 18,
   "metadata": {},
   "outputs": [
    {
     "name": "stderr",
     "output_type": "stream",
     "text": [
      "WARNING: Logging before flag parsing goes to stderr.\n",
      "W1214 13:37:31.738304 21476 module_wrapper.py:139] From C:\\Users\\heine\\Anaconda3\\lib\\site-packages\\keras\\backend\\tensorflow_backend.py:74: The name tf.get_default_graph is deprecated. Please use tf.compat.v1.get_default_graph instead.\n",
      "\n"
     ]
    }
   ],
   "source": [
    "nn_model = Sequential()"
   ]
  },
  {
   "cell_type": "code",
   "execution_count": 19,
   "metadata": {},
   "outputs": [
    {
     "name": "stderr",
     "output_type": "stream",
     "text": [
      "W1214 13:37:31.762239 21476 module_wrapper.py:139] From C:\\Users\\heine\\Anaconda3\\lib\\site-packages\\keras\\backend\\tensorflow_backend.py:517: The name tf.placeholder is deprecated. Please use tf.compat.v1.placeholder instead.\n",
      "\n",
      "W1214 13:37:31.778198 21476 module_wrapper.py:139] From C:\\Users\\heine\\Anaconda3\\lib\\site-packages\\keras\\backend\\tensorflow_backend.py:4138: The name tf.random_uniform is deprecated. Please use tf.random.uniform instead.\n",
      "\n"
     ]
    }
   ],
   "source": [
    "nn_model.add(Dense(units = 50, activation ='relu', input_dim=34))\n",
    "nn_model.add(Dense(units = 20, activation ='relu')) #second hidden layer"
   ]
  },
  {
   "cell_type": "code",
   "execution_count": 20,
   "metadata": {},
   "outputs": [],
   "source": [
    "\n",
    "nn_model.add(Dense(units = 2, activation = 'softmax'))"
   ]
  },
  {
   "cell_type": "code",
   "execution_count": 21,
   "metadata": {},
   "outputs": [
    {
     "name": "stdout",
     "output_type": "stream",
     "text": [
      "_________________________________________________________________\n",
      "Layer (type)                 Output Shape              Param #   \n",
      "=================================================================\n",
      "dense_1 (Dense)              (None, 50)                1750      \n",
      "_________________________________________________________________\n",
      "dense_2 (Dense)              (None, 20)                1020      \n",
      "_________________________________________________________________\n",
      "dense_3 (Dense)              (None, 2)                 42        \n",
      "=================================================================\n",
      "Total params: 2,812\n",
      "Trainable params: 2,812\n",
      "Non-trainable params: 0\n",
      "_________________________________________________________________\n"
     ]
    }
   ],
   "source": [
    "nn_model.summary()"
   ]
  },
  {
   "cell_type": "code",
   "execution_count": 22,
   "metadata": {},
   "outputs": [
    {
     "name": "stderr",
     "output_type": "stream",
     "text": [
      "W1214 13:37:31.855989 21476 module_wrapper.py:139] From C:\\Users\\heine\\Anaconda3\\lib\\site-packages\\keras\\optimizers.py:790: The name tf.train.Optimizer is deprecated. Please use tf.compat.v1.train.Optimizer instead.\n",
      "\n",
      "W1214 13:37:31.883913 21476 module_wrapper.py:139] From C:\\Users\\heine\\Anaconda3\\lib\\site-packages\\keras\\backend\\tensorflow_backend.py:3295: The name tf.log is deprecated. Please use tf.math.log instead.\n",
      "\n"
     ]
    }
   ],
   "source": [
    "#compile the model\n",
    "nn_model.compile(optimizer = 'adam' ,\n",
    "             loss = 'categorical_crossentropy',\n",
    "             metrics =['accuracy'])"
   ]
  },
  {
   "cell_type": "code",
   "execution_count": 23,
   "metadata": {},
   "outputs": [
    {
     "name": "stderr",
     "output_type": "stream",
     "text": [
      "W1214 13:37:32.033558 21476 deprecation.py:323] From C:\\Users\\heine\\Anaconda3\\lib\\site-packages\\tensorflow_core\\python\\ops\\math_grad.py:1424: where (from tensorflow.python.ops.array_ops) is deprecated and will be removed in a future version.\n",
      "Instructions for updating:\n",
      "Use tf.where in 2.0, which has the same broadcast rule as np.where\n",
      "W1214 13:37:32.098369 21476 module_wrapper.py:139] From C:\\Users\\heine\\Anaconda3\\lib\\site-packages\\keras\\backend\\tensorflow_backend.py:986: The name tf.assign_add is deprecated. Please use tf.compat.v1.assign_add instead.\n",
      "\n",
      "W1214 13:37:32.213068 21476 module_wrapper.py:139] From C:\\Users\\heine\\Anaconda3\\lib\\site-packages\\keras\\backend\\tensorflow_backend.py:973: The name tf.assign is deprecated. Please use tf.compat.v1.assign instead.\n",
      "\n",
      "W1214 13:37:32.290826 21476 module_wrapper.py:139] From C:\\Users\\heine\\Anaconda3\\lib\\site-packages\\keras\\backend\\tensorflow_backend.py:2741: The name tf.Session is deprecated. Please use tf.compat.v1.Session instead.\n",
      "\n",
      "W1214 13:37:32.295813 21476 module_wrapper.py:139] From C:\\Users\\heine\\Anaconda3\\lib\\site-packages\\keras\\backend\\tensorflow_backend.py:174: The name tf.get_default_session is deprecated. Please use tf.compat.v1.get_default_session instead.\n",
      "\n",
      "W1214 13:37:32.297884 21476 module_wrapper.py:139] From C:\\Users\\heine\\Anaconda3\\lib\\site-packages\\keras\\backend\\tensorflow_backend.py:181: The name tf.ConfigProto is deprecated. Please use tf.compat.v1.ConfigProto instead.\n",
      "\n",
      "W1214 13:37:32.396543 21476 module_wrapper.py:139] From C:\\Users\\heine\\Anaconda3\\lib\\site-packages\\keras\\backend\\tensorflow_backend.py:190: The name tf.global_variables is deprecated. Please use tf.compat.v1.global_variables instead.\n",
      "\n",
      "W1214 13:37:32.398538 21476 module_wrapper.py:139] From C:\\Users\\heine\\Anaconda3\\lib\\site-packages\\keras\\backend\\tensorflow_backend.py:199: The name tf.is_variable_initialized is deprecated. Please use tf.compat.v1.is_variable_initialized instead.\n",
      "\n"
     ]
    },
    {
     "name": "stdout",
     "output_type": "stream",
     "text": [
      "Epoch 1/100\n"
     ]
    },
    {
     "name": "stderr",
     "output_type": "stream",
     "text": [
      "W1214 13:37:32.506295 21476 module_wrapper.py:139] From C:\\Users\\heine\\Anaconda3\\lib\\site-packages\\keras\\backend\\tensorflow_backend.py:206: The name tf.variables_initializer is deprecated. Please use tf.compat.v1.variables_initializer instead.\n",
      "\n"
     ]
    },
    {
     "name": "stdout",
     "output_type": "stream",
     "text": [
      " - 2s - loss: 0.4768 - acc: 0.8012\n",
      "Epoch 2/100\n",
      " - 1s - loss: 0.4455 - acc: 0.8164\n",
      "Epoch 3/100\n",
      " - 1s - loss: 0.4359 - acc: 0.8173\n",
      "Epoch 4/100\n",
      " - 1s - loss: 0.4311 - acc: 0.8199\n",
      "Epoch 5/100\n",
      " - 1s - loss: 0.4274 - acc: 0.8215\n",
      "Epoch 6/100\n",
      " - 1s - loss: 0.4248 - acc: 0.8197\n",
      "Epoch 7/100\n",
      " - 1s - loss: 0.4233 - acc: 0.8217\n",
      "Epoch 8/100\n",
      " - 1s - loss: 0.4207 - acc: 0.8222\n",
      "Epoch 9/100\n",
      " - 1s - loss: 0.4192 - acc: 0.8232\n",
      "Epoch 10/100\n",
      " - 1s - loss: 0.4177 - acc: 0.8247\n",
      "Epoch 11/100\n",
      " - 1s - loss: 0.4157 - acc: 0.8240\n",
      "Epoch 12/100\n",
      " - 1s - loss: 0.4141 - acc: 0.8253\n",
      "Epoch 13/100\n",
      " - 1s - loss: 0.4133 - acc: 0.8244\n",
      "Epoch 14/100\n",
      " - 1s - loss: 0.4118 - acc: 0.8268\n",
      "Epoch 15/100\n",
      " - 1s - loss: 0.4103 - acc: 0.8265\n",
      "Epoch 16/100\n",
      " - 1s - loss: 0.4090 - acc: 0.8264\n",
      "Epoch 17/100\n",
      " - 1s - loss: 0.4077 - acc: 0.8264\n",
      "Epoch 18/100\n",
      " - 1s - loss: 0.4071 - acc: 0.8273\n",
      "Epoch 19/100\n",
      " - 1s - loss: 0.4065 - acc: 0.8273\n",
      "Epoch 20/100\n",
      " - 1s - loss: 0.4046 - acc: 0.8287\n",
      "Epoch 21/100\n",
      " - 1s - loss: 0.4033 - acc: 0.8292\n",
      "Epoch 22/100\n",
      " - 1s - loss: 0.4024 - acc: 0.8297\n",
      "Epoch 23/100\n",
      " - 1s - loss: 0.4033 - acc: 0.8279\n",
      "Epoch 24/100\n",
      " - 1s - loss: 0.4011 - acc: 0.8299\n",
      "Epoch 25/100\n",
      " - 1s - loss: 0.4003 - acc: 0.8305\n",
      "Epoch 26/100\n",
      " - 1s - loss: 0.3987 - acc: 0.8310\n",
      "Epoch 27/100\n",
      " - 1s - loss: 0.3988 - acc: 0.8297\n",
      "Epoch 28/100\n",
      " - 1s - loss: 0.3974 - acc: 0.8333\n",
      "Epoch 29/100\n",
      " - 1s - loss: 0.3961 - acc: 0.8309\n",
      "Epoch 30/100\n",
      " - 1s - loss: 0.3958 - acc: 0.8309\n",
      "Epoch 31/100\n",
      " - 1s - loss: 0.3957 - acc: 0.8321\n",
      "Epoch 32/100\n",
      " - 1s - loss: 0.3941 - acc: 0.8315\n",
      "Epoch 33/100\n",
      " - 1s - loss: 0.3932 - acc: 0.8322\n",
      "Epoch 34/100\n",
      " - 1s - loss: 0.3929 - acc: 0.8340\n",
      "Epoch 35/100\n",
      " - 1s - loss: 0.3934 - acc: 0.8331\n",
      "Epoch 36/100\n",
      " - 1s - loss: 0.3911 - acc: 0.8339\n",
      "Epoch 37/100\n",
      " - 1s - loss: 0.3906 - acc: 0.8347\n",
      "Epoch 38/100\n",
      " - 1s - loss: 0.3904 - acc: 0.8350\n",
      "Epoch 39/100\n",
      " - 1s - loss: 0.3890 - acc: 0.8336\n",
      "Epoch 40/100\n",
      " - 1s - loss: 0.3892 - acc: 0.8348\n",
      "Epoch 41/100\n",
      " - 1s - loss: 0.3880 - acc: 0.8349\n",
      "Epoch 42/100\n",
      " - 1s - loss: 0.3872 - acc: 0.8364\n",
      "Epoch 43/100\n",
      " - 1s - loss: 0.3865 - acc: 0.8364\n",
      "Epoch 44/100\n",
      " - 1s - loss: 0.3851 - acc: 0.8362\n",
      "Epoch 45/100\n",
      " - 1s - loss: 0.3859 - acc: 0.8332\n",
      "Epoch 46/100\n",
      " - 1s - loss: 0.3853 - acc: 0.8360\n",
      "Epoch 47/100\n",
      " - 1s - loss: 0.3838 - acc: 0.8364\n",
      "Epoch 48/100\n",
      " - 1s - loss: 0.3831 - acc: 0.8373\n",
      "Epoch 49/100\n",
      " - 1s - loss: 0.3829 - acc: 0.8362\n",
      "Epoch 50/100\n",
      " - 1s - loss: 0.3815 - acc: 0.8375\n",
      "Epoch 51/100\n",
      " - 1s - loss: 0.3819 - acc: 0.8370\n",
      "Epoch 52/100\n",
      " - 1s - loss: 0.3804 - acc: 0.8360\n",
      "Epoch 53/100\n",
      " - 1s - loss: 0.3797 - acc: 0.8380\n",
      "Epoch 54/100\n",
      " - 1s - loss: 0.3793 - acc: 0.8402\n",
      "Epoch 55/100\n",
      " - 1s - loss: 0.3795 - acc: 0.8387\n",
      "Epoch 56/100\n",
      " - 1s - loss: 0.3799 - acc: 0.8386\n",
      "Epoch 57/100\n",
      " - 1s - loss: 0.3782 - acc: 0.8395\n",
      "Epoch 58/100\n",
      " - 1s - loss: 0.3775 - acc: 0.8387\n",
      "Epoch 59/100\n",
      " - 1s - loss: 0.3764 - acc: 0.8406\n",
      "Epoch 60/100\n",
      " - 1s - loss: 0.3768 - acc: 0.8387\n",
      "Epoch 61/100\n",
      " - 1s - loss: 0.3773 - acc: 0.8398\n",
      "Epoch 62/100\n",
      " - 1s - loss: 0.3768 - acc: 0.8395\n",
      "Epoch 63/100\n",
      " - 1s - loss: 0.3747 - acc: 0.8388\n",
      "Epoch 64/100\n",
      " - 1s - loss: 0.3750 - acc: 0.8406\n",
      "Epoch 65/100\n",
      " - 1s - loss: 0.3743 - acc: 0.8410\n",
      "Epoch 66/100\n",
      " - 1s - loss: 0.3742 - acc: 0.8410\n",
      "Epoch 67/100\n",
      " - 1s - loss: 0.3738 - acc: 0.8415\n",
      "Epoch 68/100\n",
      " - 1s - loss: 0.3725 - acc: 0.8417\n",
      "Epoch 69/100\n",
      " - 1s - loss: 0.3739 - acc: 0.8409\n",
      "Epoch 70/100\n",
      " - 1s - loss: 0.3715 - acc: 0.8421\n",
      "Epoch 71/100\n",
      " - 1s - loss: 0.3721 - acc: 0.8407\n",
      "Epoch 72/100\n",
      " - 1s - loss: 0.3716 - acc: 0.8425\n",
      "Epoch 73/100\n",
      " - 1s - loss: 0.3722 - acc: 0.8433\n",
      "Epoch 74/100\n",
      " - 1s - loss: 0.3712 - acc: 0.8411\n",
      "Epoch 75/100\n",
      " - 1s - loss: 0.3698 - acc: 0.8431\n",
      "Epoch 76/100\n",
      " - 1s - loss: 0.3691 - acc: 0.8421\n",
      "Epoch 77/100\n",
      " - 1s - loss: 0.3693 - acc: 0.8419\n",
      "Epoch 78/100\n",
      " - 1s - loss: 0.3684 - acc: 0.8445\n",
      "Epoch 79/100\n",
      " - 1s - loss: 0.3681 - acc: 0.8438\n",
      "Epoch 80/100\n",
      " - 1s - loss: 0.3685 - acc: 0.8444\n",
      "Epoch 81/100\n",
      " - 1s - loss: 0.3696 - acc: 0.8430\n",
      "Epoch 82/100\n",
      " - 1s - loss: 0.3678 - acc: 0.8422\n",
      "Epoch 83/100\n",
      " - 1s - loss: 0.3678 - acc: 0.8431\n",
      "Epoch 84/100\n",
      " - 1s - loss: 0.3676 - acc: 0.8447\n",
      "Epoch 85/100\n",
      " - 1s - loss: 0.3670 - acc: 0.8440\n",
      "Epoch 86/100\n",
      " - 1s - loss: 0.3672 - acc: 0.8448\n",
      "Epoch 87/100\n",
      " - 1s - loss: 0.3647 - acc: 0.8429\n",
      "Epoch 88/100\n",
      " - 1s - loss: 0.3666 - acc: 0.8434\n",
      "Epoch 89/100\n",
      " - 1s - loss: 0.3665 - acc: 0.8436\n",
      "Epoch 90/100\n",
      " - 1s - loss: 0.3642 - acc: 0.8436\n",
      "Epoch 91/100\n",
      " - 1s - loss: 0.3647 - acc: 0.8450\n",
      "Epoch 92/100\n",
      " - 1s - loss: 0.3645 - acc: 0.8448\n",
      "Epoch 93/100\n",
      " - 1s - loss: 0.3636 - acc: 0.8441\n",
      "Epoch 94/100\n",
      " - 1s - loss: 0.3641 - acc: 0.8437\n",
      "Epoch 95/100\n",
      " - 1s - loss: 0.3638 - acc: 0.8468\n",
      "Epoch 96/100\n",
      " - 1s - loss: 0.3629 - acc: 0.8458\n",
      "Epoch 97/100\n",
      " - 1s - loss: 0.3614 - acc: 0.8471\n",
      "Epoch 98/100\n",
      " - 1s - loss: 0.3624 - acc: 0.8450\n",
      "Epoch 99/100\n",
      " - 1s - loss: 0.3618 - acc: 0.8460\n",
      "Epoch 100/100\n",
      " - 1s - loss: 0.3620 - acc: 0.8476\n"
     ]
    },
    {
     "data": {
      "text/plain": [
       "<keras.callbacks.History at 0x21654085ac8>"
      ]
     },
     "execution_count": 23,
     "metadata": {},
     "output_type": "execute_result"
    }
   ],
   "source": [
    "#train the model\n",
    "\n",
    "nn_model.fit(X_train_scaled, y_train_categorical, epochs=100,shuffle = True,verbose =2)"
   ]
  },
  {
   "cell_type": "code",
   "execution_count": 24,
   "metadata": {},
   "outputs": [
    {
     "name": "stdout",
     "output_type": "stream",
     "text": [
      "0.5140102035204569\n",
      "0.7903333333333333\n"
     ]
    }
   ],
   "source": [
    "model_loss, model_accuracy = nn_model.evaluate(X_test_scaled,y_test_categorical,verbose =2)\n",
    "print( model_loss )\n",
    "print (model_accuracy)"
   ]
  },
  {
   "cell_type": "code",
   "execution_count": 25,
   "metadata": {},
   "outputs": [],
   "source": [
    "nn_y_prediction = nn_model.predict_classes(X_test)"
   ]
  },
  {
   "cell_type": "code",
   "execution_count": 26,
   "metadata": {},
   "outputs": [],
   "source": [
    "nn_roc_auc = roc_auc_score(y_test, nn_model.predict_classes(X_test))"
   ]
  },
  {
   "cell_type": "code",
   "execution_count": 27,
   "metadata": {
    "scrolled": true
   },
   "outputs": [
    {
     "name": "stdout",
     "output_type": "stream",
     "text": [
      "              precision    recall  f1-score   support\n",
      "\n",
      " non_default       0.80      0.65      0.72      7040\n",
      "     default       0.25      0.42      0.31      1960\n",
      "\n",
      "    accuracy                           0.60      9000\n",
      "   macro avg       0.53      0.54      0.52      9000\n",
      "weighted avg       0.68      0.60      0.63      9000\n",
      "\n"
     ]
    }
   ],
   "source": [
    "print(classification_report(y_test, nn_y_prediction,\n",
    "                            target_names=['non_default', 'default']))"
   ]
  },
  {
   "cell_type": "code",
   "execution_count": 28,
   "metadata": {},
   "outputs": [
    {
     "name": "stdout",
     "output_type": "stream",
     "text": [
      "Confusion matrix, without normalization\n",
      "[[4555 2485]\n",
      " [1130  830]]\n",
      "Normalized confusion matrix\n",
      "[[0.65 0.35]\n",
      " [0.58 0.42]]\n"
     ]
    },
    {
     "data": {
      "image/png": "[encoded data removed]",
      "text/plain": [
       "<Figure size 432x288 with 2 Axes>"
      ]
     },
     "metadata": {
      "needs_background": "light"
     },
     "output_type": "display_data"
    },
    {
     "data": {
      "image/png": "[encoded data removed]",
      "text/plain": [
       "<Figure size 432x288 with 2 Axes>"
      ]
     },
     "metadata": {
      "needs_background": "light"
     },
     "output_type": "display_data"
    }
   ],
   "source": [
    "# Compute confusion matrix\n",
    "cnf_matrix = confusion_matrix(y_test, nn_y_prediction)\n",
    "np.set_printoptions(precision=2)\n",
    "\n",
    "# Plot non-normalized confusion matrix\n",
    "plt.figure()\n",
    "plot_confusion_matrix(cnf_matrix, classes=['non_default', 'default'],\n",
    "                      title='Confusion matrix, without normalization')\n",
    "\n",
    "# Plot normalized confusion matrix\n",
    "plt.figure()\n",
    "plot_confusion_matrix(cnf_matrix, classes=['non_default', 'default'], normalize=True,\n",
    "                      title='Normalized confusion matrix')\n",
    "\n",
    "plt.show()"
   ]
  },
  {
   "cell_type": "markdown",
   "metadata": {},
   "source": [
    "## Logistic Regression Model "
   ]
  },
  {
   "cell_type": "code",
   "execution_count": 29,
   "metadata": {},
   "outputs": [
    {
     "data": {
      "text/plain": [
       "LogisticRegression(C=1.0, class_weight=None, dual=False, fit_intercept=True,\n",
       "                   intercept_scaling=1, l1_ratio=None, max_iter=100,\n",
       "                   multi_class='warn', n_jobs=None, penalty='l2',\n",
       "                   random_state=None, solver='warn', tol=0.0001, verbose=0,\n",
       "                   warm_start=False)"
      ]
     },
     "execution_count": 29,
     "metadata": {},
     "output_type": "execute_result"
    }
   ],
   "source": [
    "#creating logistic regression model\n",
    "classifier = LogisticRegression()\n",
    "classifier"
   ]
  },
  {
   "cell_type": "code",
   "execution_count": 30,
   "metadata": {},
   "outputs": [
    {
     "name": "stderr",
     "output_type": "stream",
     "text": [
      "C:\\Users\\heine\\Anaconda3\\lib\\site-packages\\sklearn\\linear_model\\logistic.py:432: FutureWarning: Default solver will be changed to 'lbfgs' in 0.22. Specify a solver to silence this warning.\n",
      "  FutureWarning)\n"
     ]
    },
    {
     "data": {
      "text/plain": [
       "LogisticRegression(C=1.0, class_weight=None, dual=False, fit_intercept=True,\n",
       "                   intercept_scaling=1, l1_ratio=None, max_iter=100,\n",
       "                   multi_class='warn', n_jobs=None, penalty='l2',\n",
       "                   random_state=None, solver='warn', tol=0.0001, verbose=0,\n",
       "                   warm_start=False)"
      ]
     },
     "execution_count": 30,
     "metadata": {},
     "output_type": "execute_result"
    }
   ],
   "source": [
    "#fitting the model\n",
    "classifier.fit(X_train, y_train) "
   ]
  },
  {
   "cell_type": "code",
   "execution_count": 31,
   "metadata": {},
   "outputs": [],
   "source": [
    "log_y_prediction = classifier.predict(X_test)"
   ]
  },
  {
   "cell_type": "code",
   "execution_count": 32,
   "metadata": {},
   "outputs": [],
   "source": [
    "log_roc_auc = roc_auc_score(y_test, classifier.predict(X_test))"
   ]
  },
  {
   "cell_type": "code",
   "execution_count": 33,
   "metadata": {},
   "outputs": [
    {
     "name": "stdout",
     "output_type": "stream",
     "text": [
      "              precision    recall  f1-score   support\n",
      "\n",
      " non_default       0.78      1.00      0.88      7040\n",
      "     default       0.00      0.00      0.00      1960\n",
      "\n",
      "    accuracy                           0.78      9000\n",
      "   macro avg       0.39      0.50      0.44      9000\n",
      "weighted avg       0.61      0.78      0.69      9000\n",
      "\n"
     ]
    },
    {
     "name": "stderr",
     "output_type": "stream",
     "text": [
      "C:\\Users\\heine\\Anaconda3\\lib\\site-packages\\sklearn\\metrics\\classification.py:1437: UndefinedMetricWarning: Precision and F-score are ill-defined and being set to 0.0 in labels with no predicted samples.\n",
      "  'precision', 'predicted', average, warn_for)\n"
     ]
    }
   ],
   "source": [
    "print(classification_report(y_test, log_y_prediction,\n",
    "                            target_names=['non_default', 'default' ]))"
   ]
  },
  {
   "cell_type": "code",
   "execution_count": 34,
   "metadata": {},
   "outputs": [
    {
     "name": "stdout",
     "output_type": "stream",
     "text": [
      "Confusion matrix, without normalization\n",
      "[[7040    0]\n",
      " [1960    0]]\n",
      "Normalized confusion matrix\n",
      "[[1. 0.]\n",
      " [1. 0.]]\n"
     ]
    },
    {
     "data": {
      "image/png": "[encoded data removed]",
      "text/plain": [
       "<Figure size 432x288 with 2 Axes>"
      ]
     },
     "metadata": {
      "needs_background": "light"
     },
     "output_type": "display_data"
    },
    {
     "data": {
      "image/png": "[encoded data removed]",
      "text/plain": [
       "<Figure size 432x288 with 2 Axes>"
      ]
     },
     "metadata": {
      "needs_background": "light"
     },
     "output_type": "display_data"
    }
   ],
   "source": [
    "cnf_matrix = confusion_matrix(y_test, log_y_prediction)\n",
    "np.set_printoptions(precision=2)\n",
    "\n",
    "# Plot non-normalized confusion matrix\n",
    "plt.figure()\n",
    "plot_confusion_matrix(cnf_matrix, classes=['non_default', 'default'],\n",
    "                      title='Confusion matrix, without normalization')\n",
    "\n",
    "# Plot normalized confusion matrix\n",
    "plt.figure()\n",
    "plot_confusion_matrix(cnf_matrix, classes=['non_default', 'default'], normalize=True,\n",
    "                      title='Normalized confusion matrix')\n",
    "\n",
    "plt.show()"
   ]
  },
  {
   "cell_type": "code",
   "execution_count": 35,
   "metadata": {},
   "outputs": [
    {
     "data": {
      "image/png": "[encoded data removed]",
      "text/plain": [
       "<Figure size 432x288 with 1 Axes>"
      ]
     },
     "metadata": {
      "needs_background": "light"
     },
     "output_type": "display_data"
    }
   ],
   "source": [
    "fpr, tpr, thresholds = roc_curve(y_test, classifier.predict_proba(X_test)[:,1])\n",
    "rf_fpr, rf_tpr, rf_thresholds = roc_curve(y_test, rf.predict_proba(X_test)[:,1])\n",
    "nn_fpr, nn_tpr, nn_thresholds = roc_curve(y_test, nn_model.predict_proba(X_test)[:,1])\n",
    "\n",
    "plt.figure()\n",
    "\n",
    "# Plot Logistic Regression ROC\n",
    "plt.plot(fpr, tpr, label='Logistic Regression (area = %0.2f)' % log_roc_auc)\n",
    "\n",
    "# Plot Random Forest ROC\n",
    "plt.plot(rf_fpr, rf_tpr, label='Random Forest (area = %0.2f)' % rf_roc_auc)\n",
    "\n",
    "# Plot Decision Tree ROC\n",
    "plt.plot(nn_fpr, nn_tpr, label='Neural Network (area = %0.2f)' % nn_roc_auc)\n",
    "\n",
    "# Plot Base Rate ROC\n",
    "plt.plot([0,1], [0,1],label='Base Rate' 'k--')\n",
    "\n",
    "plt.xlim([0.0, 1.0])\n",
    "plt.ylim([0.0, 1.05])\n",
    "plt.xlabel('False Positive Rate')\n",
    "plt.ylabel('True Positive Rate')\n",
    "plt.title('ROC Graph')\n",
    "plt.legend(loc=\"lower right\")\n",
    "plt.savefig('.\\\\ROC.png')\n",
    "plt.show()"
   ]
  },
  {
   "cell_type": "code",
   "execution_count": null,
   "metadata": {
    "collapsed": true,
    "jupyter": {
     "outputs_hidden": true
    }
   },
   "outputs": [],
   "source": []
  }
 ],
 "metadata": {
  "kernelspec": {
   "display_name": "Python 3",
   "language": "python",
   "name": "python3"
  },
  "language_info": {
   "codemirror_mode": {
    "name": "ipython",
    "version": 3
   },
   "file_extension": ".py",
   "mimetype": "text/x-python",
   "name": "python",
   "nbconvert_exporter": "python",
   "pygments_lexer": "ipython3",
   "version": "3.7.6"
  }
 },
 "nbformat": 4,
 "nbformat_minor": 4
}
