{
  "nbformat": 4,
  "nbformat_minor": 0,
  "metadata": {
    "kernelspec": {
      "display_name": "Python 3",
      "language": "python",
      "name": "python3"
    },
    "language_info": {
      "codemirror_mode": {
        "name": "ipython",
        "version": 3
      },
      "file_extension": ".py",
      "mimetype": "text/x-python",
      "name": "python",
      "nbconvert_exporter": "python",
      "pygments_lexer": "ipython3",
      "version": "3.7.6"
    },
    "colab": {
      "name": "3-NeuralNetwork3.ipynb",
      "provenance": [],
      "include_colab_link": true
    },
    "accelerator": "GPU"
  },
  "cells": [
    {
      "cell_type": "markdown",
      "metadata": {
        "id": "view-in-github",
        "colab_type": "text"
      },
      "source": [
        "<a href=\"https://colab.research.google.com/github/JSJeong-me/JBNU-2021/blob/main/Predictive_Analytics/decision_tree/3_NeuralNetwork3.ipynb\" target=\"_parent\"><img src=\"https://colab.research.google.com/assets/colab-badge.svg\" alt=\"Open In Colab\"/></a>"
      ]
    },
    {
      "cell_type": "code",
      "metadata": {
        "id": "9O4CaO5rioRx"
      },
      "source": [
        "from sklearn.model_selection import train_test_split\n",
        "import pandas as pd\n",
        "import numpy as np\n",
        "from sklearn.preprocessing import StandardScaler\n",
        "from tensorflow.keras.utils import to_categorical\n",
        "from keras.models import Sequential\n",
        "from keras.layers import Dense"
      ],
      "execution_count": 2,
      "outputs": []
    },
    {
      "cell_type": "code",
      "metadata": {
        "id": "TsqPeZs_ioR9"
      },
      "source": [
        "#df = pd.read_csv(\".\\\\Data_USD.csv\", header=None,skiprows=1)\n",
        "df = pd.read_csv(\"./Data_USD.csv\")\n",
        "df.head().to_csv(\"./test.csv\")"
      ],
      "execution_count": 5,
      "outputs": []
    },
    {
      "cell_type": "code",
      "metadata": {
        "id": "xnV3GbmnioR_"
      },
      "source": [
        "T=df.groupby(\"SEX\") "
      ],
      "execution_count": null,
      "outputs": []
    },
    {
      "cell_type": "code",
      "metadata": {
        "id": "sR_JL84AioSA",
        "outputId": "dfa35560-d206-4ba0-8651-b9c89ae66d3e"
      },
      "source": [
        "T.describe()"
      ],
      "execution_count": null,
      "outputs": [
        {
          "output_type": "execute_result",
          "data": {
            "text/html": [
              "<div>\n",
              "<style scoped>\n",
              "    .dataframe tbody tr th:only-of-type {\n",
              "        vertical-align: middle;\n",
              "    }\n",
              "\n",
              "    .dataframe tbody tr th {\n",
              "        vertical-align: top;\n",
              "    }\n",
              "\n",
              "    .dataframe thead tr th {\n",
              "        text-align: left;\n",
              "    }\n",
              "\n",
              "    .dataframe thead tr:last-of-type th {\n",
              "        text-align: right;\n",
              "    }\n",
              "</style>\n",
              "<table border=\"1\" class=\"dataframe\">\n",
              "  <thead>\n",
              "    <tr>\n",
              "      <th></th>\n",
              "      <th colspan=\"8\" halign=\"left\">LIMIT_BAL_US</th>\n",
              "      <th colspan=\"2\" halign=\"left\">EDUCATION</th>\n",
              "      <th>...</th>\n",
              "      <th colspan=\"2\" halign=\"left\">CREDIT_UTILIZATION</th>\n",
              "      <th colspan=\"8\" halign=\"left\">DEFAULT_PAYMENT_NEXT_MO</th>\n",
              "    </tr>\n",
              "    <tr>\n",
              "      <th></th>\n",
              "      <th>count</th>\n",
              "      <th>mean</th>\n",
              "      <th>std</th>\n",
              "      <th>min</th>\n",
              "      <th>25%</th>\n",
              "      <th>50%</th>\n",
              "      <th>75%</th>\n",
              "      <th>max</th>\n",
              "      <th>count</th>\n",
              "      <th>mean</th>\n",
              "      <th>...</th>\n",
              "      <th>75%</th>\n",
              "      <th>max</th>\n",
              "      <th>count</th>\n",
              "      <th>mean</th>\n",
              "      <th>std</th>\n",
              "      <th>min</th>\n",
              "      <th>25%</th>\n",
              "      <th>50%</th>\n",
              "      <th>75%</th>\n",
              "      <th>max</th>\n",
              "    </tr>\n",
              "    <tr>\n",
              "      <th>SEX</th>\n",
              "      <th></th>\n",
              "      <th></th>\n",
              "      <th></th>\n",
              "      <th></th>\n",
              "      <th></th>\n",
              "      <th></th>\n",
              "      <th></th>\n",
              "      <th></th>\n",
              "      <th></th>\n",
              "      <th></th>\n",
              "      <th></th>\n",
              "      <th></th>\n",
              "      <th></th>\n",
              "      <th></th>\n",
              "      <th></th>\n",
              "      <th></th>\n",
              "      <th></th>\n",
              "      <th></th>\n",
              "      <th></th>\n",
              "      <th></th>\n",
              "      <th></th>\n",
              "    </tr>\n",
              "  </thead>\n",
              "  <tbody>\n",
              "    <tr>\n",
              "      <th>1</th>\n",
              "      <td>11888.0</td>\n",
              "      <td>5933.433651</td>\n",
              "      <td>4943.946037</td>\n",
              "      <td>362.857143</td>\n",
              "      <td>1814.285714</td>\n",
              "      <td>4717.142857</td>\n",
              "      <td>8708.571429</td>\n",
              "      <td>29028.57143</td>\n",
              "      <td>11888.0</td>\n",
              "      <td>1.839250</td>\n",
              "      <td>...</td>\n",
              "      <td>0.867975</td>\n",
              "      <td>4.1406</td>\n",
              "      <td>11888.0</td>\n",
              "      <td>0.241672</td>\n",
              "      <td>0.428115</td>\n",
              "      <td>0.0</td>\n",
              "      <td>0.0</td>\n",
              "      <td>0.0</td>\n",
              "      <td>0.0</td>\n",
              "      <td>1.0</td>\n",
              "    </tr>\n",
              "    <tr>\n",
              "      <th>2</th>\n",
              "      <td>18112.0</td>\n",
              "      <td>6171.708764</td>\n",
              "      <td>4544.124514</td>\n",
              "      <td>362.857143</td>\n",
              "      <td>2540.000000</td>\n",
              "      <td>5442.857143</td>\n",
              "      <td>8708.571429</td>\n",
              "      <td>36285.71429</td>\n",
              "      <td>18112.0</td>\n",
              "      <td>1.862246</td>\n",
              "      <td>...</td>\n",
              "      <td>0.792862</td>\n",
              "      <td>6.4553</td>\n",
              "      <td>18112.0</td>\n",
              "      <td>0.207763</td>\n",
              "      <td>0.405717</td>\n",
              "      <td>0.0</td>\n",
              "      <td>0.0</td>\n",
              "      <td>0.0</td>\n",
              "      <td>0.0</td>\n",
              "      <td>1.0</td>\n",
              "    </tr>\n",
              "  </tbody>\n",
              "</table>\n",
              "<p>2 rows × 80 columns</p>\n",
              "</div>"
            ],
            "text/plain": [
              "    LIMIT_BAL_US                                                     \\\n",
              "           count         mean          std         min          25%   \n",
              "SEX                                                                   \n",
              "1        11888.0  5933.433651  4943.946037  362.857143  1814.285714   \n",
              "2        18112.0  6171.708764  4544.124514  362.857143  2540.000000   \n",
              "\n",
              "                                           EDUCATION            ...  \\\n",
              "             50%          75%          max     count      mean  ...   \n",
              "SEX                                                             ...   \n",
              "1    4717.142857  8708.571429  29028.57143   11888.0  1.839250  ...   \n",
              "2    5442.857143  8708.571429  36285.71429   18112.0  1.862246  ...   \n",
              "\n",
              "    CREDIT_UTILIZATION         DEFAULT_PAYMENT_NEXT_MO                      \\\n",
              "                   75%     max                   count      mean       std   \n",
              "SEX                                                                          \n",
              "1             0.867975  4.1406                 11888.0  0.241672  0.428115   \n",
              "2             0.792862  6.4553                 18112.0  0.207763  0.405717   \n",
              "\n",
              "                              \n",
              "     min  25%  50%  75%  max  \n",
              "SEX                           \n",
              "1    0.0  0.0  0.0  0.0  1.0  \n",
              "2    0.0  0.0  0.0  0.0  1.0  \n",
              "\n",
              "[2 rows x 80 columns]"
            ]
          },
          "metadata": {
            "tags": []
          },
          "execution_count": 4
        }
      ]
    },
    {
      "cell_type": "code",
      "metadata": {
        "id": "WXNgtiu-ioSC",
        "outputId": "e5bf279e-d09e-4b0b-dea0-929b5ba6453f"
      },
      "source": [
        "df.tail()"
      ],
      "execution_count": null,
      "outputs": [
        {
          "output_type": "execute_result",
          "data": {
            "text/html": [
              "<div>\n",
              "<style scoped>\n",
              "    .dataframe tbody tr th:only-of-type {\n",
              "        vertical-align: middle;\n",
              "    }\n",
              "\n",
              "    .dataframe tbody tr th {\n",
              "        vertical-align: top;\n",
              "    }\n",
              "\n",
              "    .dataframe thead th {\n",
              "        text-align: right;\n",
              "    }\n",
              "</style>\n",
              "<table border=\"1\" class=\"dataframe\">\n",
              "  <thead>\n",
              "    <tr style=\"text-align: right;\">\n",
              "      <th></th>\n",
              "      <th>LIMIT_BAL_US</th>\n",
              "      <th>SEX</th>\n",
              "      <th>EDUCATION</th>\n",
              "      <th>MARRIAGE</th>\n",
              "      <th>AGE</th>\n",
              "      <th>PAY_SCORE_AVG</th>\n",
              "      <th>BILL_AVG_US</th>\n",
              "      <th>PAY_AMT_AVG_US</th>\n",
              "      <th>PAY_TO_BILL</th>\n",
              "      <th>CREDIT_UTILIZATION</th>\n",
              "      <th>DEFAULT_PAYMENT_NEXT_MO</th>\n",
              "    </tr>\n",
              "  </thead>\n",
              "  <tbody>\n",
              "    <tr>\n",
              "      <th>29995</th>\n",
              "      <td>7982.857143</td>\n",
              "      <td>1</td>\n",
              "      <td>3</td>\n",
              "      <td>1</td>\n",
              "      <td>39</td>\n",
              "      <td>0.00</td>\n",
              "      <td>4386.634429</td>\n",
              "      <td>257.326190</td>\n",
              "      <td>0.06</td>\n",
              "      <td>0.858855</td>\n",
              "      <td>0</td>\n",
              "    </tr>\n",
              "    <tr>\n",
              "      <th>29996</th>\n",
              "      <td>5442.857143</td>\n",
              "      <td>1</td>\n",
              "      <td>3</td>\n",
              "      <td>2</td>\n",
              "      <td>43</td>\n",
              "      <td>-0.67</td>\n",
              "      <td>128.100667</td>\n",
              "      <td>87.630000</td>\n",
              "      <td>0.68</td>\n",
              "      <td>0.011220</td>\n",
              "      <td>0</td>\n",
              "    </tr>\n",
              "    <tr>\n",
              "      <th>29997</th>\n",
              "      <td>1088.571429</td>\n",
              "      <td>1</td>\n",
              "      <td>2</td>\n",
              "      <td>2</td>\n",
              "      <td>37</td>\n",
              "      <td>1.33</td>\n",
              "      <td>426.332952</td>\n",
              "      <td>189.290476</td>\n",
              "      <td>0.44</td>\n",
              "      <td>0.118833</td>\n",
              "      <td>1</td>\n",
              "    </tr>\n",
              "    <tr>\n",
              "      <th>29998</th>\n",
              "      <td>2902.857143</td>\n",
              "      <td>1</td>\n",
              "      <td>3</td>\n",
              "      <td>1</td>\n",
              "      <td>41</td>\n",
              "      <td>-0.17</td>\n",
              "      <td>1612.361762</td>\n",
              "      <td>890.094619</td>\n",
              "      <td>0.55</td>\n",
              "      <td>-0.020563</td>\n",
              "      <td>1</td>\n",
              "    </tr>\n",
              "    <tr>\n",
              "      <th>29999</th>\n",
              "      <td>1814.285714</td>\n",
              "      <td>1</td>\n",
              "      <td>2</td>\n",
              "      <td>1</td>\n",
              "      <td>46</td>\n",
              "      <td>0.00</td>\n",
              "      <td>1396.238000</td>\n",
              "      <td>50.243619</td>\n",
              "      <td>0.04</td>\n",
              "      <td>0.958580</td>\n",
              "      <td>1</td>\n",
              "    </tr>\n",
              "  </tbody>\n",
              "</table>\n",
              "</div>"
            ],
            "text/plain": [
              "       LIMIT_BAL_US  SEX  EDUCATION  MARRIAGE  AGE  PAY_SCORE_AVG  \\\n",
              "29995   7982.857143    1          3         1   39           0.00   \n",
              "29996   5442.857143    1          3         2   43          -0.67   \n",
              "29997   1088.571429    1          2         2   37           1.33   \n",
              "29998   2902.857143    1          3         1   41          -0.17   \n",
              "29999   1814.285714    1          2         1   46           0.00   \n",
              "\n",
              "       BILL_AVG_US  PAY_AMT_AVG_US  PAY_TO_BILL  CREDIT_UTILIZATION  \\\n",
              "29995  4386.634429      257.326190         0.06            0.858855   \n",
              "29996   128.100667       87.630000         0.68            0.011220   \n",
              "29997   426.332952      189.290476         0.44            0.118833   \n",
              "29998  1612.361762      890.094619         0.55           -0.020563   \n",
              "29999  1396.238000       50.243619         0.04            0.958580   \n",
              "\n",
              "       DEFAULT_PAYMENT_NEXT_MO  \n",
              "29995                        0  \n",
              "29996                        0  \n",
              "29997                        1  \n",
              "29998                        1  \n",
              "29999                        1  "
            ]
          },
          "metadata": {
            "tags": []
          },
          "execution_count": 5
        }
      ]
    },
    {
      "cell_type": "code",
      "metadata": {
        "colab": {
          "base_uri": "https://localhost:8080/"
        },
        "id": "UjIN46r8ioSE",
        "outputId": "d56db0cd-f359-41f1-d075-01b3571ea8b6"
      },
      "source": [
        "# X = df.drop('Y_Value',axis =1).values\n",
        "# y = df['Y_Value'].values\n",
        "X = df.drop('DEFAULT_PAYMENT_NEXT_MO',axis =1).values\n",
        "X[2999,0]"
      ],
      "execution_count": 6,
      "outputs": [
        {
          "output_type": "execute_result",
          "data": {
            "text/plain": [
              "1814.285714"
            ]
          },
          "metadata": {
            "tags": []
          },
          "execution_count": 6
        }
      ]
    },
    {
      "cell_type": "code",
      "metadata": {
        "id": "SqMDbgoaioSG",
        "outputId": "9a064849-bbbe-48e3-e614-000957c34744"
      },
      "source": [
        "X.shape"
      ],
      "execution_count": null,
      "outputs": [
        {
          "output_type": "execute_result",
          "data": {
            "text/plain": [
              "(30000, 10)"
            ]
          },
          "metadata": {
            "tags": []
          },
          "execution_count": 7
        }
      ]
    },
    {
      "cell_type": "code",
      "metadata": {
        "id": "_xqGs1XEioSH"
      },
      "source": [
        "y = df['DEFAULT_PAYMENT_NEXT_MO'].values\n",
        "#y.reshape(-1,1)"
      ],
      "execution_count": 7,
      "outputs": []
    },
    {
      "cell_type": "code",
      "metadata": {
        "id": "ArSqIijeioSJ",
        "outputId": "7d7dad85-2f45-4698-b9ab-575d58a53a2f"
      },
      "source": [
        "#print(X.shape)\n",
        "X.shape"
      ],
      "execution_count": null,
      "outputs": [
        {
          "output_type": "execute_result",
          "data": {
            "text/plain": [
              "(30000, 10)"
            ]
          },
          "metadata": {
            "tags": []
          },
          "execution_count": 9
        }
      ]
    },
    {
      "cell_type": "code",
      "metadata": {
        "id": "bPNIxpvGioSL",
        "outputId": "aeffe2d6-211d-4ae6-bdfe-4e99b92b816f"
      },
      "source": [
        "#print(y.shape)\n",
        "y.shape"
      ],
      "execution_count": null,
      "outputs": [
        {
          "output_type": "execute_result",
          "data": {
            "text/plain": [
              "(30000,)"
            ]
          },
          "metadata": {
            "tags": []
          },
          "execution_count": 10
        }
      ]
    },
    {
      "cell_type": "code",
      "metadata": {
        "id": "uqum7Yb8ioSN"
      },
      "source": [
        "X_train, X_test, y_train, y_test = train_test_split (X,y,test_size=0.3, random_state=42)"
      ],
      "execution_count": 8,
      "outputs": []
    },
    {
      "cell_type": "code",
      "metadata": {
        "colab": {
          "base_uri": "https://localhost:8080/"
        },
        "id": "WDbLf5AoioSO",
        "outputId": "42e2a03c-2471-41b0-941b-4b760601dabf"
      },
      "source": [
        "y_test.T"
      ],
      "execution_count": 9,
      "outputs": [
        {
          "output_type": "execute_result",
          "data": {
            "text/plain": [
              "array([0, 0, 0, ..., 0, 0, 0])"
            ]
          },
          "metadata": {
            "tags": []
          },
          "execution_count": 9
        }
      ]
    },
    {
      "cell_type": "code",
      "metadata": {
        "id": "VN2izjRfioSP",
        "outputId": "12908d79-f703-447f-d6c3-71cfcceaf982"
      },
      "source": [
        "X_test.shape"
      ],
      "execution_count": null,
      "outputs": [
        {
          "output_type": "execute_result",
          "data": {
            "text/plain": [
              "(9000, 10)"
            ]
          },
          "metadata": {
            "tags": []
          },
          "execution_count": 13
        }
      ]
    },
    {
      "cell_type": "code",
      "metadata": {
        "id": "n-aBl_WUioSR"
      },
      "source": [
        "from sklearn.preprocessing import StandardScaler\n",
        "\n",
        "X_scaler = StandardScaler().fit(X_train)"
      ],
      "execution_count": 10,
      "outputs": []
    },
    {
      "cell_type": "code",
      "metadata": {
        "id": "iEBlwEOZioSS",
        "outputId": "73931d37-3347-4e07-e502-31cb5d1d5daa"
      },
      "source": [
        "X_scaler"
      ],
      "execution_count": null,
      "outputs": [
        {
          "output_type": "execute_result",
          "data": {
            "text/plain": [
              "StandardScaler(copy=True, with_mean=True, with_std=True)"
            ]
          },
          "metadata": {
            "tags": []
          },
          "execution_count": 15
        }
      ]
    },
    {
      "cell_type": "code",
      "metadata": {
        "id": "Yak7ATY7ioST"
      },
      "source": [
        "X_train_scaled = X_scaler.transform(X_train)\n",
        "X_test_scaled = X_scaler.transform(X_test)"
      ],
      "execution_count": 11,
      "outputs": []
    },
    {
      "cell_type": "code",
      "metadata": {
        "id": "LVv5uj-6ioSU"
      },
      "source": [
        "X_train_scaled"
      ],
      "execution_count": null,
      "outputs": []
    },
    {
      "cell_type": "code",
      "metadata": {
        "id": "qKxJOYSvioSV"
      },
      "source": [
        "y_train_categorical = to_categorical(y_train)\n",
        "y_test_categorical = to_categorical(y_test)"
      ],
      "execution_count": 18,
      "outputs": []
    },
    {
      "cell_type": "code",
      "metadata": {
        "id": "MTvVsHBLioSW"
      },
      "source": [
        "from keras.models import Sequential\n",
        "\n",
        "#instantiate\n",
        "model = Sequential()"
      ],
      "execution_count": 12,
      "outputs": []
    },
    {
      "cell_type": "code",
      "metadata": {
        "id": "-dzy3Op4ioSW"
      },
      "source": [
        "from keras.layers import Dense\n",
        "\n",
        "number_inputs = 10\n",
        "number_hidden = 30\n",
        "\n",
        "model.add(Dense(units = number_hidden, activation ='relu', input_dim=number_inputs))\n",
        "model.add(Dense(units = 35, activation ='relu')) #second hidden layer\n",
        "model.add(Dense(units = 25, activation ='relu')) #second hidden layer\n",
        "model.add(Dense(units = 15, activation ='relu')) #second hidden layer\n",
        "model.add(Dense(units = 5, activation ='relu')) #third hidden layer"
      ],
      "execution_count": 13,
      "outputs": []
    },
    {
      "cell_type": "code",
      "metadata": {
        "id": "E0EvKsMcioSY"
      },
      "source": [
        "number_classes =2 ## yes or no\n",
        "model.add(Dense(units = number_classes, activation = 'sigmoid'))"
      ],
      "execution_count": 14,
      "outputs": []
    },
    {
      "cell_type": "code",
      "metadata": {
        "id": "8e0fk_kuioSY"
      },
      "source": [
        "model.summary()"
      ],
      "execution_count": null,
      "outputs": []
    },
    {
      "cell_type": "code",
      "metadata": {
        "id": "em_LXZFvioSZ"
      },
      "source": [
        "#compile the model\n",
        "model.compile(optimizer = 'sgd' ,\n",
        "             loss = 'categorical_crossentropy',\n",
        "             metrics =['accuracy'])"
      ],
      "execution_count": 16,
      "outputs": []
    },
    {
      "cell_type": "code",
      "metadata": {
        "id": "KQPSvRy-ioSa"
      },
      "source": [
        "#train the model\n",
        "\n",
        "model.fit(X_train_scaled, y_train_categorical, epochs=100,shuffle = True,verbose =2)"
      ],
      "execution_count": null,
      "outputs": []
    },
    {
      "cell_type": "code",
      "metadata": {
        "id": "1OjCpUQKioSh"
      },
      "source": [
        "model.save(\"ccneuralnetwork.h5\")"
      ],
      "execution_count": null,
      "outputs": []
    },
    {
      "cell_type": "code",
      "metadata": {
        "colab": {
          "base_uri": "https://localhost:8080/"
        },
        "id": "XmzzURExioSi",
        "outputId": "6b1a314f-4008-402e-fb42-c2da9ea945a7"
      },
      "source": [
        "#quantify the model\n",
        "model_loss, model_accuracy = model.evaluate(X_test_scaled,y_test_categorical,verbose =2)\n",
        "print( model_loss )\n",
        "print (model_accuracy)"
      ],
      "execution_count": 20,
      "outputs": [
        {
          "output_type": "stream",
          "text": [
            "282/282 - 1s - loss: 0.4500 - accuracy: 0.8026\n",
            "0.45003268122673035\n",
            "0.8025555610656738\n"
          ],
          "name": "stdout"
        }
      ]
    },
    {
      "cell_type": "markdown",
      "metadata": {
        "id": "XcpVQ_A1ioSj"
      },
      "source": [
        "F1, Precision Recall, and Confusion Matrix"
      ]
    },
    {
      "cell_type": "code",
      "metadata": {
        "id": "QTTxmtNqioSk"
      },
      "source": [
        "from sklearn.metrics import precision_recall_fscore_support\n",
        "from sklearn.metrics import recall_score\n",
        "from sklearn.metrics import classification_report"
      ],
      "execution_count": 21,
      "outputs": []
    },
    {
      "cell_type": "code",
      "metadata": {
        "colab": {
          "base_uri": "https://localhost:8080/"
        },
        "id": "1DUIlyowioSl",
        "outputId": "960dad08-2fc9-4945-a4c7-5085acce089a"
      },
      "source": [
        "y_prediction = model.predict_classes(X_test)"
      ],
      "execution_count": 22,
      "outputs": [
        {
          "output_type": "stream",
          "text": [
            "/usr/local/lib/python3.7/dist-packages/keras/engine/sequential.py:450: UserWarning: `model.predict_classes()` is deprecated and will be removed after 2021-01-01. Please use instead:* `np.argmax(model.predict(x), axis=-1)`,   if your model does multi-class classification   (e.g. if it uses a `softmax` last-layer activation).* `(model.predict(x) > 0.5).astype(\"int32\")`,   if your model does binary classification   (e.g. if it uses a `sigmoid` last-layer activation).\n",
            "  warnings.warn('`model.predict_classes()` is deprecated and '\n"
          ],
          "name": "stderr"
        }
      ]
    },
    {
      "cell_type": "code",
      "metadata": {
        "id": "qDOfUw8aioSm"
      },
      "source": [
        "y_prediction.reshape(-1,1)"
      ],
      "execution_count": null,
      "outputs": []
    },
    {
      "cell_type": "code",
      "metadata": {
        "colab": {
          "base_uri": "https://localhost:8080/"
        },
        "id": "T5z3m76GioSn",
        "outputId": "e18fd02c-c245-407d-ac71-65ea060d56a2"
      },
      "source": [
        "print(\"Recall score:\"+ str(recall_score(y_test, y_prediction)))"
      ],
      "execution_count": 24,
      "outputs": [
        {
          "output_type": "stream",
          "text": [
            "Recall score:0.03010204081632653\n"
          ],
          "name": "stdout"
        }
      ]
    },
    {
      "cell_type": "code",
      "metadata": {
        "id": "Z9sALI4GioSn"
      },
      "source": [
        "print(classification_report(y_test, y_prediction,\n",
        "                            target_names=[\"default\", \"non_default\"]))"
      ],
      "execution_count": null,
      "outputs": []
    },
    {
      "cell_type": "code",
      "metadata": {
        "id": "a9xIwBsYioSo"
      },
      "source": [
        "import itertools\n",
        "import matplotlib.pyplot as plt\n",
        "from sklearn.metrics import confusion_matrix"
      ],
      "execution_count": 26,
      "outputs": []
    },
    {
      "cell_type": "code",
      "metadata": {
        "id": "hl3YjBwsioSp"
      },
      "source": [
        "def plot_confusion_matrix(cm, classes,\n",
        "                          normalize=False,\n",
        "                          title='Confusion matrix',\n",
        "                          cmap=plt.cm.Blues):\n",
        "    \"\"\"\n",
        "    This function prints and plots the confusion matrix.\n",
        "    Normalization can be applied by setting `normalize=True`.\n",
        "    \"\"\"\n",
        "    if normalize:\n",
        "        cm = cm.astype('float') / cm.sum(axis=1)[:, np.newaxis]\n",
        "        print(\"Normalized confusion matrix\")\n",
        "    else:\n",
        "        print('Confusion matrix, without normalization')\n",
        "\n",
        "    print(cm)\n",
        "\n",
        "    plt.imshow(cm, interpolation='nearest', cmap=cmap)\n",
        "    plt.title(title)\n",
        "    plt.colorbar()\n",
        "    tick_marks = np.arange(len(classes))\n",
        "    plt.xticks(tick_marks, classes, rotation=45)\n",
        "    plt.yticks(tick_marks, classes)\n",
        "\n",
        "    fmt = '.2f' if normalize else 'd'\n",
        "    thresh = cm.max() / 2.\n",
        "    for i, j in itertools.product(range(cm.shape[0]), range(cm.shape[1])):\n",
        "        plt.text(j, i, format(cm[i, j], fmt),\n",
        "                 horizontalalignment=\"center\",\n",
        "                 color=\"red\" if cm[i, j] > thresh else \"black\")\n",
        "\n",
        "    plt.tight_layout()\n",
        "    plt.ylabel('True label')\n",
        "    plt.xlabel('Predicted label')\n",
        "\n",
        "# Compute confusion matrix\n",
        "cnf_matrix = confusion_matrix(y_test, y_prediction)\n",
        "np.set_printoptions(precision=2)\n",
        "\n",
        "# Plot non-normalized confusion matrix\n",
        "plt.figure()\n",
        "plot_confusion_matrix(cnf_matrix, classes=['Defualt', 'Non_default'],\n",
        "                      title='Confusion matrix, without normalization')\n",
        "\n",
        "# Plot normalized confusion matrix\n",
        "plt.figure()\n",
        "plot_confusion_matrix(cnf_matrix, classes=['Defualt', 'Non_default'], normalize=True,\n",
        "                      title='Normalized confusion matrix')\n",
        "\n",
        "plt.show()"
      ],
      "execution_count": null,
      "outputs": []
    },
    {
      "cell_type": "code",
      "metadata": {
        "collapsed": true,
        "jupyter": {
          "outputs_hidden": true
        },
        "id": "Hv4enrynioSs"
      },
      "source": [
        ""
      ],
      "execution_count": null,
      "outputs": []
    }
  ]
}