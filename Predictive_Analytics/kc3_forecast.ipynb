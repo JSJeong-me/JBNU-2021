{
  "nbformat": 4,
  "nbformat_minor": 0,
  "metadata": {
    "kernelspec": {
      "display_name": "Python 3",
      "language": "python",
      "name": "python3"
    },
    "language_info": {
      "codemirror_mode": {
        "name": "ipython",
        "version": 3
      },
      "file_extension": ".py",
      "mimetype": "text/x-python",
      "name": "python",
      "nbconvert_exporter": "python",
      "pygments_lexer": "ipython3",
      "version": "3.8.3"
    },
    "colab": {
      "name": "kc3_forecast.ipynb",
      "provenance": [],
      "include_colab_link": true
    }
  },
  "cells": [
    {
      "cell_type": "markdown",
      "metadata": {
        "id": "view-in-github",
        "colab_type": "text"
      },
      "source": [
        "<a href=\"https://colab.research.google.com/github/JSJeong-me/JBNU-2021/blob/main/Predictive_Analytics/kc3_forecast.ipynb\" target=\"_parent\"><img src=\"https://colab.research.google.com/assets/colab-badge.svg\" alt=\"Open In Colab\"/></a>"
      ]
    },
    {
      "cell_type": "code",
      "metadata": {
        "id": "-vsUR2yDbmct",
        "outputId": "0653d2b2-acb8-4111-d97c-bfb8d7bcfeff"
      },
      "source": [
        "# check prophet version\n",
        "import fbprophet\n",
        "# print version number\n",
        "print('Prophet %s' % fbprophet.__version__)"
      ],
      "execution_count": null,
      "outputs": [
        {
          "output_type": "stream",
          "text": [
            "Prophet 0.7.1\n"
          ],
          "name": "stdout"
        }
      ]
    },
    {
      "cell_type": "code",
      "metadata": {
        "id": "F1CyOXYpbmcy"
      },
      "source": [
        "# load the car sales dataset\n",
        "#from pandas import read_csv\n",
        "import pandas as pd\n",
        "# load data\n",
        "#path = 'https://raw.githubusercontent.com/jbrownlee/Datasets/master/monthly-car-sales.csv'\n",
        "#df = read_csv(path, header=0)\n",
        "\n",
        "df=pd.read_excel('Total_final.xlsx', index_col='TS', parse_dates=True, dtype={'Value':float})"
      ],
      "execution_count": null,
      "outputs": []
    },
    {
      "cell_type": "code",
      "metadata": {
        "id": "Re2uW_8wbmc1",
        "outputId": "dda6e7bb-ff9a-4604-f31d-ceed106478a0"
      },
      "source": [
        "df.drop(['Unnamed: 0','Unnamed: 0.1', 'Time', 'Max Value','Date'], axis=1, inplace=True)\n",
        "# summarize shape\n",
        "print(df.shape)\n",
        "# show first few rows\n",
        "print(df.head())"
      ],
      "execution_count": null,
      "outputs": [
        {
          "output_type": "stream",
          "text": [
            "(32255, 1)\n",
            "                     Value\n",
            "TS                        \n",
            "2019-10-01 00:15:00  830.4\n",
            "2019-10-01 00:30:00  821.7\n",
            "2019-10-01 00:45:00  821.1\n",
            "2019-10-01 01:00:00  825.0\n",
            "2019-10-01 01:15:00  819.0\n"
          ],
          "name": "stdout"
        }
      ]
    },
    {
      "cell_type": "code",
      "metadata": {
        "id": "ca9qAciMbmc2"
      },
      "source": [
        "print(df.tail())"
      ],
      "execution_count": null,
      "outputs": []
    },
    {
      "cell_type": "code",
      "metadata": {
        "id": "gXgFwkqjbmc2",
        "outputId": "c9494ed5-5698-40f2-8492-8dd1f00a2db1"
      },
      "source": [
        "from matplotlib import pyplot\n",
        "\n",
        "df.plot()\n",
        "pyplot.show()"
      ],
      "execution_count": null,
      "outputs": [
        {
          "output_type": "display_data",
          "data": {
            "image/png": "[encoded data removed]",
            "text/plain": [
              "<Figure size 432x288 with 1 Axes>"
            ]
          },
          "metadata": {
            "tags": [],
            "needs_background": "light"
          }
        }
      ]
    },
    {
      "cell_type": "code",
      "metadata": {
        "id": "Zz-eEByLbmc3"
      },
      "source": [
        "'''\n",
        "# load and plot the car sales dataset\n",
        "from pandas import read_csv\n",
        "from matplotlib import pyplot\n",
        "# load data\n",
        "path = 'https://raw.githubusercontent.com/jbrownlee/Datasets/master/monthly-car-sales.csv'\n",
        "df = read_csv(path, header=0)\n",
        "# plot the time series\n",
        "df.plot()\n",
        "pyplot.show()\n",
        "'''"
      ],
      "execution_count": null,
      "outputs": []
    },
    {
      "cell_type": "code",
      "metadata": {
        "id": "4FnDKNHObmc4"
      },
      "source": [
        "df_day=df.resample(rule='1H').sum()\n",
        "df_day=df_day.reset_index()\n",
        "#df_day.columns\n",
        "df_day.rename(columns={'TS':'ds','Value':'y'},inplace=True)"
      ],
      "execution_count": null,
      "outputs": []
    },
    {
      "cell_type": "code",
      "metadata": {
        "id": "rMAa9ZS5bmc5"
      },
      "source": [
        "df_day.head()"
      ],
      "execution_count": null,
      "outputs": []
    },
    {
      "cell_type": "code",
      "metadata": {
        "id": "HAtDIFxfbmc5",
        "outputId": "53ea7a50-d61f-4a3e-e4f0-d8fdbaa10e8a"
      },
      "source": [
        "df_day.tail()"
      ],
      "execution_count": null,
      "outputs": [
        {
          "output_type": "execute_result",
          "data": {
            "text/html": [
              "<div>\n",
              "<style scoped>\n",
              "    .dataframe tbody tr th:only-of-type {\n",
              "        vertical-align: middle;\n",
              "    }\n",
              "\n",
              "    .dataframe tbody tr th {\n",
              "        vertical-align: top;\n",
              "    }\n",
              "\n",
              "    .dataframe thead th {\n",
              "        text-align: right;\n",
              "    }\n",
              "</style>\n",
              "<table border=\"1\" class=\"dataframe\">\n",
              "  <thead>\n",
              "    <tr style=\"text-align: right;\">\n",
              "      <th></th>\n",
              "      <th>ds</th>\n",
              "      <th>y</th>\n",
              "    </tr>\n",
              "  </thead>\n",
              "  <tbody>\n",
              "    <tr>\n",
              "      <th>8059</th>\n",
              "      <td>2020-08-31 19:00:00</td>\n",
              "      <td>3306.9</td>\n",
              "    </tr>\n",
              "    <tr>\n",
              "      <th>8060</th>\n",
              "      <td>2020-08-31 20:00:00</td>\n",
              "      <td>3237.6</td>\n",
              "    </tr>\n",
              "    <tr>\n",
              "      <th>8061</th>\n",
              "      <td>2020-08-31 21:00:00</td>\n",
              "      <td>3195.9</td>\n",
              "    </tr>\n",
              "    <tr>\n",
              "      <th>8062</th>\n",
              "      <td>2020-08-31 22:00:00</td>\n",
              "      <td>3160.2</td>\n",
              "    </tr>\n",
              "    <tr>\n",
              "      <th>8063</th>\n",
              "      <td>2020-08-31 23:00:00</td>\n",
              "      <td>3156.9</td>\n",
              "    </tr>\n",
              "  </tbody>\n",
              "</table>\n",
              "</div>"
            ],
            "text/plain": [
              "                      ds       y\n",
              "8059 2020-08-31 19:00:00  3306.9\n",
              "8060 2020-08-31 20:00:00  3237.6\n",
              "8061 2020-08-31 21:00:00  3195.9\n",
              "8062 2020-08-31 22:00:00  3160.2\n",
              "8063 2020-08-31 23:00:00  3156.9"
            ]
          },
          "metadata": {
            "tags": []
          },
          "execution_count": 26
        }
      ]
    },
    {
      "cell_type": "code",
      "metadata": {
        "id": "4qtWJ7A1bmc6"
      },
      "source": [
        "df_day.describe()"
      ],
      "execution_count": null,
      "outputs": []
    },
    {
      "cell_type": "code",
      "metadata": {
        "id": "tSis961Ubmc6"
      },
      "source": [
        ""
      ],
      "execution_count": null,
      "outputs": []
    },
    {
      "cell_type": "code",
      "metadata": {
        "id": "gugU23jhbmc7"
      },
      "source": [
        "df_day=df.resample(rule='D').sum()\n",
        "df_day=df_day.reset_index()\n",
        "#df_day.columns\n",
        "df_day.rename(columns={'TS':'ds','Value':'y'},inplace=True)"
      ],
      "execution_count": null,
      "outputs": []
    },
    {
      "cell_type": "code",
      "metadata": {
        "id": "hvHEw_V2bmc7",
        "outputId": "46e8cb92-5693-4857-bd62-150213202266"
      },
      "source": [
        "df_day.tail(10)"
      ],
      "execution_count": null,
      "outputs": [
        {
          "output_type": "execute_result",
          "data": {
            "text/html": [
              "<div>\n",
              "<style scoped>\n",
              "    .dataframe tbody tr th:only-of-type {\n",
              "        vertical-align: middle;\n",
              "    }\n",
              "\n",
              "    .dataframe tbody tr th {\n",
              "        vertical-align: top;\n",
              "    }\n",
              "\n",
              "    .dataframe thead th {\n",
              "        text-align: right;\n",
              "    }\n",
              "</style>\n",
              "<table border=\"1\" class=\"dataframe\">\n",
              "  <thead>\n",
              "    <tr style=\"text-align: right;\">\n",
              "      <th></th>\n",
              "      <th>ds</th>\n",
              "      <th>y</th>\n",
              "    </tr>\n",
              "  </thead>\n",
              "  <tbody>\n",
              "    <tr>\n",
              "      <th>326</th>\n",
              "      <td>2020-08-22</td>\n",
              "      <td>77932.2</td>\n",
              "    </tr>\n",
              "    <tr>\n",
              "      <th>327</th>\n",
              "      <td>2020-08-23</td>\n",
              "      <td>76946.4</td>\n",
              "    </tr>\n",
              "    <tr>\n",
              "      <th>328</th>\n",
              "      <td>2020-08-24</td>\n",
              "      <td>78667.5</td>\n",
              "    </tr>\n",
              "    <tr>\n",
              "      <th>329</th>\n",
              "      <td>2020-08-25</td>\n",
              "      <td>77802.3</td>\n",
              "    </tr>\n",
              "    <tr>\n",
              "      <th>330</th>\n",
              "      <td>2020-08-26</td>\n",
              "      <td>77648.1</td>\n",
              "    </tr>\n",
              "    <tr>\n",
              "      <th>331</th>\n",
              "      <td>2020-08-27</td>\n",
              "      <td>79910.1</td>\n",
              "    </tr>\n",
              "    <tr>\n",
              "      <th>332</th>\n",
              "      <td>2020-08-28</td>\n",
              "      <td>78551.1</td>\n",
              "    </tr>\n",
              "    <tr>\n",
              "      <th>333</th>\n",
              "      <td>2020-08-29</td>\n",
              "      <td>78011.7</td>\n",
              "    </tr>\n",
              "    <tr>\n",
              "      <th>334</th>\n",
              "      <td>2020-08-30</td>\n",
              "      <td>77128.5</td>\n",
              "    </tr>\n",
              "    <tr>\n",
              "      <th>335</th>\n",
              "      <td>2020-08-31</td>\n",
              "      <td>77797.2</td>\n",
              "    </tr>\n",
              "  </tbody>\n",
              "</table>\n",
              "</div>"
            ],
            "text/plain": [
              "            ds        y\n",
              "326 2020-08-22  77932.2\n",
              "327 2020-08-23  76946.4\n",
              "328 2020-08-24  78667.5\n",
              "329 2020-08-25  77802.3\n",
              "330 2020-08-26  77648.1\n",
              "331 2020-08-27  79910.1\n",
              "332 2020-08-28  78551.1\n",
              "333 2020-08-29  78011.7\n",
              "334 2020-08-30  77128.5\n",
              "335 2020-08-31  77797.2"
            ]
          },
          "metadata": {
            "tags": []
          },
          "execution_count": 29
        }
      ]
    },
    {
      "cell_type": "code",
      "metadata": {
        "id": "Pz418J7rbmc8"
      },
      "source": [
        "from fbprophet import Prophet\n",
        "from pandas import to_datetime"
      ],
      "execution_count": null,
      "outputs": []
    },
    {
      "cell_type": "code",
      "metadata": {
        "id": "MFUwCsCYbmc8"
      },
      "source": [
        "'''\n",
        "# fit prophet model on the car sales dataset\n",
        "from pandas import read_csv\n",
        "\n",
        "from fbprophet import Prophet\n",
        "# load data\n",
        "path = 'https://raw.githubusercontent.com/jbrownlee/Datasets/master/monthly-car-sales.csv'\n",
        "df = read_csv(path, header=0)\n",
        "'''\n",
        "# prepare expected column names\n",
        "df_day.columns = ['ds', 'y']\n",
        "df_day['ds']= to_datetime(df_day['ds'])\n",
        "# define the model\n",
        "model = Prophet()"
      ],
      "execution_count": null,
      "outputs": []
    },
    {
      "cell_type": "code",
      "metadata": {
        "id": "Tf3HNecMbmc9",
        "outputId": "b934c924-966e-4f20-89bd-1abacabb2ed8"
      },
      "source": [
        "# fit the model\n",
        "model.fit(df_day)"
      ],
      "execution_count": null,
      "outputs": [
        {
          "output_type": "stream",
          "text": [
            "INFO:fbprophet:Disabling yearly seasonality. Run prophet with yearly_seasonality=True to override this.\n",
            "INFO:fbprophet:Disabling daily seasonality. Run prophet with daily_seasonality=True to override this.\n"
          ],
          "name": "stderr"
        },
        {
          "output_type": "execute_result",
          "data": {
            "text/plain": [
              "<fbprophet.forecaster.Prophet at 0x1ea72518850>"
            ]
          },
          "metadata": {
            "tags": []
          },
          "execution_count": 32
        }
      ]
    },
    {
      "cell_type": "markdown",
      "metadata": {
        "id": "lHBJDA4Nbmc9"
      },
      "source": [
        "INFO:fbprophet:Disabling weekly seasonality. Run prophet with weekly_seasonality=True to override this.\n",
        "INFO:fbprophet:Disabling daily seasonality. Run prophet with daily_seasonality=True to override this.\n",
        "Initial log joint probability = -4.39613\n",
        "    Iter      log prob        ||dx||      ||grad||       alpha      alpha0  # evals  Notes\n",
        "      99       270.121    0.00413718       75.7289           1           1      120\n",
        "    Iter      log prob        ||dx||      ||grad||       alpha      alpha0  # evals  Notes\n",
        "     179       270.265    0.00019681       84.1622   2.169e-06       0.001      273  LS failed, Hessian reset\n",
        "     199       270.283   1.38947e-05       87.8642      0.3402           1      299\n",
        "    Iter      log prob        ||dx||      ||grad||       alpha      alpha0  # evals  Notes\n",
        "     240       270.296    1.6343e-05       89.9117   1.953e-07       0.001      381  LS failed, Hessian reset\n",
        "     299         270.3   4.73573e-08       74.9719      0.3914           1      455\n",
        "    Iter      log prob        ||dx||      ||grad||       alpha      alpha0  # evals  Notes\n",
        "     300         270.3   8.25604e-09       74.4478      0.3522      0.3522      456\n",
        "Optimization terminated normally:\n",
        "  Convergence detected: absolute parameter change was below tolerance"
      ]
    },
    {
      "cell_type": "code",
      "metadata": {
        "id": "7LCZ6Ym4bmc-"
      },
      "source": [
        "'''# make an in-sample forecast\n",
        "from pandas import read_csv\n",
        "from pandas import to_datetime\n",
        "from pandas import DataFrame\n",
        "from fbprophet import Prophet\n",
        "from matplotlib import pyplot\n",
        "# load data\n",
        "path = 'https://raw.githubusercontent.com/jbrownlee/Datasets/master/monthly-car-sales.csv'\n",
        "df = read_csv(path, header=0)\n",
        "# prepare expected column names\n",
        "df.columns = ['ds', 'y']\n",
        "df['ds']= to_datetime(df['ds'])\n",
        "# define the model\n",
        "model = Prophet()\n",
        "# fit the model\n",
        "model.fit(df)\n",
        "'''\n",
        "# define the period for which we want a prediction\n"
      ],
      "execution_count": null,
      "outputs": []
    },
    {
      "cell_type": "code",
      "metadata": {
        "id": "cf1hX-JTbmc_"
      },
      "source": [
        "from pandas import DataFrame\n",
        "\n",
        "future = list()"
      ],
      "execution_count": null,
      "outputs": []
    },
    {
      "cell_type": "code",
      "metadata": {
        "id": "GOJGW-zvbmc_"
      },
      "source": [
        "for i in range(1, 7):\n",
        "\tdate = '2020-09-%02d' % i\n",
        "\tfuture.append([date])"
      ],
      "execution_count": null,
      "outputs": []
    },
    {
      "cell_type": "code",
      "metadata": {
        "id": "zyxzOcvkbmdA"
      },
      "source": [
        "future = DataFrame(future)\n",
        "future.columns = ['ds']\n",
        "future['ds']= to_datetime(future['ds'])\n",
        "# use the model to make a forecast\n",
        "forecast = model.predict(future)"
      ],
      "execution_count": null,
      "outputs": []
    },
    {
      "cell_type": "code",
      "metadata": {
        "id": "UjMiiKD7bmdA",
        "outputId": "b8feb2b0-d208-4890-937a-422065374748"
      },
      "source": [
        "# summarize the forecast\n",
        "print(forecast[['ds', 'yhat', 'yhat_lower', 'yhat_upper']].head())\n",
        "# plot forecast\n",
        "model.plot(forecast)\n",
        "pyplot.show()"
      ],
      "execution_count": null,
      "outputs": [
        {
          "output_type": "stream",
          "text": [
            "          ds          yhat    yhat_lower    yhat_upper\n",
            "0 2020-09-01  79099.474160  77364.475573  80934.907789\n",
            "1 2020-09-02  79213.062757  77315.913277  81054.258323\n",
            "2 2020-09-03  79200.906666  77308.362910  80909.267197\n",
            "3 2020-09-04  79175.813901  77334.492487  80929.686214\n",
            "4 2020-09-05  79110.802639  77374.122996  80897.030794\n"
          ],
          "name": "stdout"
        },
        {
          "output_type": "display_data",
          "data": {
            "image/png": "[encoded data removed]",
            "text/plain": [
              "<Figure size 720x432 with 1 Axes>"
            ]
          },
          "metadata": {
            "tags": []
          }
        }
      ]
    },
    {
      "cell_type": "code",
      "metadata": {
        "id": "_9c0bU54bmdB"
      },
      "source": [
        "'''\n",
        "# make an out-of-sample forecast\n",
        "from pandas import read_csv\n",
        "from pandas import to_datetime\n",
        "from pandas import DataFrame\n",
        "from fbprophet import Prophet\n",
        "from matplotlib import pyplot\n",
        "# load data\n",
        "path = 'https://raw.githubusercontent.com/jbrownlee/Datasets/master/monthly-car-sales.csv'\n",
        "df = read_csv(path, header=0)\n",
        "# prepare expected column names\n",
        "df.columns = ['ds', 'y']\n",
        "df['ds']= to_datetime(df['ds'])\n",
        "# define the model\n",
        "model = Prophet()\n",
        "# fit the model\n",
        "model.fit(df)\n",
        "# define the period for which we want a prediction\n",
        "future = list()\n",
        "for i in range(1, 13):\n",
        "\tdate = '1969-%02d' % i\n",
        "\tfuture.append([date])\n",
        "future = DataFrame(future)\n",
        "future.columns = ['ds']\n",
        "future['ds']= to_datetime(future['ds'])\n",
        "# use the model to make a forecast\n",
        "forecast = model.predict(future)\n",
        "# summarize the forecast\n",
        "print(forecast[['ds', 'yhat', 'yhat_lower', 'yhat_upper']].head())\n",
        "# plot forecast\n",
        "model.plot(forecast)\n",
        "pyplot.show()\n",
        "'''"
      ],
      "execution_count": null,
      "outputs": []
    },
    {
      "cell_type": "code",
      "metadata": {
        "id": "w6iFeQm2bmdC",
        "outputId": "e0bf713c-f23f-41a0-9e30-644a3e2cbce7"
      },
      "source": [
        "# evaluate prophet time series forecasting model on hold out dataset\n",
        "from pandas import read_csv\n",
        "from pandas import to_datetime\n",
        "from pandas import DataFrame\n",
        "from fbprophet import Prophet\n",
        "from sklearn.metrics import mean_absolute_error\n",
        "from matplotlib import pyplot\n",
        "# load data\n",
        "#path = 'https://raw.githubusercontent.com/jbrownlee/Datasets/master/monthly-car-sales.csv'\n",
        "#df = read_csv(path, header=0)\n",
        "# prepare expected column names\n",
        "#df.columns = ['ds', 'y']\n",
        "#df['ds']= to_datetime(df['ds'])\n",
        "# create test dataset, remove last 12 months\n",
        "train = df_day.drop(df_day.index[-7:])\n",
        "print(train.tail())\n",
        "# define the model\n",
        "model = Prophet()\n",
        "# fit the model\n",
        "model.fit(train)\n",
        "# define the period for which we want a prediction\n",
        "future = list()\n",
        "for i in range(14, 21):\n",
        "\tdate = '2020-09-%02d' % i\n",
        "\tfuture.append([date])\n",
        "future = DataFrame(future)\n",
        "future.columns = ['ds']\n",
        "future['ds'] = to_datetime(future['ds'])\n",
        "# use the model to make a forecast\n",
        "forecast = model.predict(future)\n",
        "# calculate MAE between expected and predicted values for december\n",
        "y_true = df_day['y'][-7:].values\n",
        "y_pred = forecast['yhat'].values\n",
        "mae = mean_absolute_error(y_true, y_pred)\n",
        "print('MAE: %.3f' % mae)\n",
        "# plot expected vs actual\n",
        "pyplot.plot(y_true, label='Actual')\n",
        "pyplot.plot(y_pred, label='Predicted')\n",
        "pyplot.legend()\n",
        "pyplot.show()"
      ],
      "execution_count": null,
      "outputs": [
        {
          "output_type": "stream",
          "text": [
            "INFO:fbprophet:Disabling yearly seasonality. Run prophet with yearly_seasonality=True to override this.\n",
            "INFO:fbprophet:Disabling daily seasonality. Run prophet with daily_seasonality=True to override this.\n"
          ],
          "name": "stderr"
        },
        {
          "output_type": "stream",
          "text": [
            "            ds        y\n",
            "324 2020-08-20  79549.5\n",
            "325 2020-08-21  79953.0\n",
            "326 2020-08-22  77932.2\n",
            "327 2020-08-23  76946.4\n",
            "328 2020-08-24  78667.5\n",
            "MAE: 1940.026\n"
          ],
          "name": "stdout"
        },
        {
          "output_type": "display_data",
          "data": {
            "image/png": "[encoded data removed]",
            "text/plain": [
              "<Figure size 432x288 with 1 Axes>"
            ]
          },
          "metadata": {
            "tags": [],
            "needs_background": "light"
          }
        }
      ]
    },
    {
      "cell_type": "code",
      "metadata": {
        "id": "2BWIpcrRbmdD"
      },
      "source": [
        "future"
      ],
      "execution_count": null,
      "outputs": []
    },
    {
      "cell_type": "code",
      "metadata": {
        "id": "1m7oVV2GbmdE"
      },
      "source": [
        ""
      ],
      "execution_count": null,
      "outputs": []
    },
    {
      "cell_type": "code",
      "metadata": {
        "id": "szCLHj7zbmdE"
      },
      "source": [
        "y_true"
      ],
      "execution_count": null,
      "outputs": []
    },
    {
      "cell_type": "code",
      "metadata": {
        "id": "LmWp-zkdbmdF"
      },
      "source": [
        "forecast.yhat"
      ],
      "execution_count": null,
      "outputs": []
    },
    {
      "cell_type": "code",
      "metadata": {
        "id": "h1bTwlxQbmdF"
      },
      "source": [
        "forecast"
      ],
      "execution_count": null,
      "outputs": []
    },
    {
      "cell_type": "code",
      "metadata": {
        "id": "Qpp55OlabmdF"
      },
      "source": [
        ""
      ],
      "execution_count": null,
      "outputs": []
    }
  ]
}