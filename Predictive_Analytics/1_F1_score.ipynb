{
  "nbformat": 4,
  "nbformat_minor": 0,
  "metadata": {
    "kernelspec": {
      "display_name": "Python 3",
      "language": "python",
      "name": "python3"
    },
    "language_info": {
      "codemirror_mode": {
        "name": "ipython",
        "version": 3
      },
      "file_extension": ".py",
      "mimetype": "text/x-python",
      "name": "python",
      "nbconvert_exporter": "python",
      "pygments_lexer": "ipython3",
      "version": "3.7.6"
    },
    "colab": {
      "name": "1-F1_score.ipynb",
      "provenance": [],
      "include_colab_link": true
    }
  },
  "cells": [
    {
      "cell_type": "markdown",
      "metadata": {
        "id": "view-in-github",
        "colab_type": "text"
      },
      "source": [
        "<a href=\"https://colab.research.google.com/github/JSJeong-me/JBNU-2021/blob/main/Predictive_Analytics/1_F1_score.ipynb\" target=\"_parent\"><img src=\"https://colab.research.google.com/assets/colab-badge.svg\" alt=\"Open In Colab\"/></a>"
      ]
    },
    {
      "cell_type": "markdown",
      "metadata": {
        "id": "doQ1AutreMMe"
      },
      "source": [
        "### Caculate F1_Score"
      ]
    },
    {
      "cell_type": "code",
      "metadata": {
        "id": "OfIRoGuTeMMg"
      },
      "source": [
        "import numpy as np\n",
        "\n",
        "import sklearn.metrics as metrics"
      ],
      "execution_count": null,
      "outputs": []
    },
    {
      "cell_type": "code",
      "metadata": {
        "id": "y1205_cfeMMh"
      },
      "source": [
        "y = np.array([1,1,1,1,0,0]) #0은 정상(실력자), 1은 음치\n",
        "\n",
        "p = np.array([1,1,0,0,0,0]) #나의 예측"
      ],
      "execution_count": null,
      "outputs": []
    },
    {
      "cell_type": "code",
      "metadata": {
        "id": "qesVAxMxeMMi",
        "outputId": "2f2467c8-fb27-4936-8901-1df90ac03352"
      },
      "source": [
        "y"
      ],
      "execution_count": null,
      "outputs": [
        {
          "output_type": "execute_result",
          "data": {
            "text/plain": [
              "array([1, 1, 1, 1, 0, 0])"
            ]
          },
          "metadata": {
            "tags": []
          },
          "execution_count": 3
        }
      ]
    },
    {
      "cell_type": "code",
      "metadata": {
        "id": "cM2xpCXWeMMj",
        "outputId": "ece81280-fb17-489b-998c-f79ff4f49de1"
      },
      "source": [
        "y.shape"
      ],
      "execution_count": null,
      "outputs": [
        {
          "output_type": "execute_result",
          "data": {
            "text/plain": [
              "(6,)"
            ]
          },
          "metadata": {
            "tags": []
          },
          "execution_count": 4
        }
      ]
    },
    {
      "cell_type": "markdown",
      "metadata": {
        "id": "lx-GUItTeMMj"
      },
      "source": [
        "accuracy = np.mean(np.equal(y,p))\n",
        "right = np.sum(y * p == 1)\n",
        "precision = right / np.sum(p)\n",
        "recall = right / np.sum(y)\n",
        "f1 = 2 * precision*recall/(precision+recall)\n",
        "\n",
        "print('accuracy',accuracy)\n",
        "print('precision', precision)\n",
        "print('recall', recall)\n",
        "print('f1_Score', f1)"
      ]
    },
    {
      "cell_type": "markdown",
      "metadata": {
        "id": "i5UUjPpVeMMj"
      },
      "source": [
        "### Method"
      ]
    },
    {
      "cell_type": "code",
      "metadata": {
        "id": "_M7Th20aeMMk",
        "outputId": "7a469b44-e627-4fec-aad3-385cf89b3824"
      },
      "source": [
        "print('accuracy', metrics.accuracy_score(y,p) )\n",
        "\n",
        "print('precision', metrics.precision_score(y,p) )\n",
        "\n",
        "print('recall', metrics.recall_score(y,p) )\n",
        "\n",
        "print('f1', metrics.f1_score(y,p) )\n",
        "\n",
        "print(metrics.classification_report(y,p))\n",
        "\n",
        "print(metrics.confusion_matrix(y,p))"
      ],
      "execution_count": null,
      "outputs": [
        {
          "output_type": "stream",
          "text": [
            "accuracy 0.6666666666666666\n",
            "precision 1.0\n",
            "recall 0.5\n",
            "f1 0.6666666666666666\n",
            "              precision    recall  f1-score   support\n",
            "\n",
            "           0       0.50      1.00      0.67         2\n",
            "           1       1.00      0.50      0.67         4\n",
            "\n",
            "    accuracy                           0.67         6\n",
            "   macro avg       0.75      0.75      0.67         6\n",
            "weighted avg       0.83      0.67      0.67         6\n",
            "\n",
            "[[2 0]\n",
            " [2 2]]\n"
          ],
          "name": "stdout"
        }
      ]
    },
    {
      "cell_type": "code",
      "metadata": {
        "id": "JUo7wIRzeMMk"
      },
      "source": [
        ""
      ],
      "execution_count": null,
      "outputs": []
    },
    {
      "cell_type": "code",
      "metadata": {
        "id": "Fe6z466yeMMl"
      },
      "source": [
        ""
      ],
      "execution_count": null,
      "outputs": []
    }
  ]
}